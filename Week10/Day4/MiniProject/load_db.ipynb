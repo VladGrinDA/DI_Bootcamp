{
 "cells": [
  {
   "cell_type": "code",
   "execution_count": 5,
   "metadata": {},
   "outputs": [
    {
     "name": "stderr",
     "output_type": "stream",
     "text": [
      "A subdirectory or file datasets already exists.\n"
     ]
    },
    {
     "name": "stderr",
     "output_type": "stream",
     "text": [
      "\n",
      "  0%|          | 0.00/42.6M [00:00<?, ?B/s]\n",
      "  2%|▏         | 1.00M/42.6M [00:00<00:38, 1.14MB/s]\n",
      "  5%|▍         | 2.00M/42.6M [00:01<00:18, 2.28MB/s]\n",
      "  9%|▉         | 4.00M/42.6M [00:01<00:08, 4.55MB/s]\n",
      " 14%|█▍        | 6.00M/42.6M [00:01<00:05, 6.82MB/s]\n",
      " 21%|██        | 9.00M/42.6M [00:01<00:03, 9.79MB/s]\n",
      " 28%|██▊       | 12.0M/42.6M [00:01<00:02, 12.7MB/s]\n",
      " 35%|███▌      | 15.0M/42.6M [00:01<00:01, 15.2MB/s]\n",
      " 40%|███▉      | 17.0M/42.6M [00:02<00:01, 14.3MB/s]\n",
      " 47%|████▋     | 20.0M/42.6M [00:02<00:01, 16.4MB/s]\n",
      " 52%|█████▏    | 22.0M/42.6M [00:02<00:01, 16.2MB/s]\n",
      " 56%|█████▋    | 24.0M/42.6M [00:02<00:01, 16.6MB/s]\n",
      " 63%|██████▎   | 27.0M/42.6M [00:02<00:00, 18.7MB/s]\n",
      " 68%|██████▊   | 29.0M/42.6M [00:02<00:00, 17.3MB/s]\n",
      " 73%|███████▎  | 31.0M/42.6M [00:02<00:00, 15.6MB/s]\n",
      " 77%|███████▋  | 33.0M/42.6M [00:03<00:00, 14.4MB/s]\n",
      " 84%|████████▍ | 36.0M/42.6M [00:03<00:00, 16.9MB/s]\n",
      " 91%|█████████▏| 39.0M/42.6M [00:03<00:00, 19.3MB/s]\n",
      " 98%|█████████▊| 42.0M/42.6M [00:03<00:00, 21.2MB/s]\n",
      "100%|██████████| 42.6M/42.6M [00:03<00:00, 12.9MB/s]\n"
     ]
    },
    {
     "name": "stdout",
     "output_type": "stream",
     "text": [
      "Dataset URL: https://www.kaggle.com/datasets/olistbr/brazilian-ecommerce\n",
      "License(s): CC-BY-NC-SA-4.0\n",
      "Downloading brazilian-ecommerce.zip to datasets\n",
      "\n"
     ]
    }
   ],
   "source": [
    "!mkdir datasets\n",
    "!kaggle datasets download olistbr/brazilian-ecommerce -p datasets"
   ]
  },
  {
   "cell_type": "code",
   "execution_count": 6,
   "metadata": {},
   "outputs": [
    {
     "data": {
      "text/plain": [
       "['brazilian-ecommerce.zip',\n",
       " 'olist_customers_dataset.csv',\n",
       " 'olist_geolocation_dataset.csv',\n",
       " 'olist_orders_dataset.csv',\n",
       " 'olist_order_items_dataset.csv',\n",
       " 'olist_order_payments_dataset.csv',\n",
       " 'olist_order_reviews_dataset.csv',\n",
       " 'olist_products_dataset.csv',\n",
       " 'olist_sellers_dataset.csv',\n",
       " 'product_category_name_translation.csv']"
      ]
     },
     "execution_count": 6,
     "metadata": {},
     "output_type": "execute_result"
    }
   ],
   "source": [
    "import zipfile\n",
    "import os\n",
    "\n",
    "ds_dir = 'datasets/'\n",
    "\n",
    "for file in os.listdir(ds_dir):\n",
    "    if file.endswith('.zip'):\n",
    "        with zipfile.ZipFile(f'{ds_dir}{file}', 'r') as f:\n",
    "            f.extractall(ds_dir)\n",
    "\n",
    "os.listdir(ds_dir)"
   ]
  },
  {
   "cell_type": "code",
   "execution_count": 10,
   "metadata": {},
   "outputs": [],
   "source": [
    "import pandas as pd\n",
    "from sqlalchemy import create_engine\n",
    "\n",
    "engine = create_engine('sqlite:///brazilian-ecommerce.db', echo=False)"
   ]
  },
  {
   "cell_type": "code",
   "execution_count": 12,
   "metadata": {},
   "outputs": [
    {
     "name": "stdout",
     "output_type": "stream",
     "text": [
      "Loading olist_customers_dataset.csv...\n",
      "Loading olist_geolocation_dataset.csv...\n",
      "Loading olist_orders_dataset.csv...\n",
      "Loading olist_order_items_dataset.csv...\n",
      "Loading olist_order_payments_dataset.csv...\n",
      "Loading olist_order_reviews_dataset.csv...\n",
      "Loading olist_products_dataset.csv...\n",
      "Loading olist_sellers_dataset.csv...\n",
      "Loading product_category_name_translation.csv...\n"
     ]
    }
   ],
   "source": [
    "with engine.connect() as conn:\n",
    "    for file in os.listdir(ds_dir):\n",
    "        if file.endswith('.csv'):\n",
    "            print(f'Loading {file}...')\n",
    "            df = pd.read_csv(f'{ds_dir}{file}')\n",
    "            df.to_sql(file.replace('.csv', ''), conn, if_exists='replace')\n"
   ]
  },
  {
   "cell_type": "code",
   "execution_count": 16,
   "metadata": {},
   "outputs": [
    {
     "data": {
      "text/plain": [
       "['olist_customers_dataset',\n",
       " 'olist_geolocation_dataset',\n",
       " 'olist_order_items_dataset',\n",
       " 'olist_order_payments_dataset',\n",
       " 'olist_order_reviews_dataset',\n",
       " 'olist_orders_dataset',\n",
       " 'olist_products_dataset',\n",
       " 'olist_sellers_dataset',\n",
       " 'product_category_name_translation']"
      ]
     },
     "execution_count": 16,
     "metadata": {},
     "output_type": "execute_result"
    }
   ],
   "source": [
    "from sqlalchemy import inspect\n",
    "\n",
    "# Get all table names using inspector\n",
    "inspector = inspect(engine)\n",
    "tables = inspector.get_table_names()\n",
    "tables\n",
    "\n"
   ]
  },
  {
   "cell_type": "code",
   "execution_count": null,
   "metadata": {},
   "outputs": [],
   "source": []
  }
 ],
 "metadata": {
  "kernelspec": {
   "display_name": "di_venv",
   "language": "python",
   "name": "python3"
  },
  "language_info": {
   "codemirror_mode": {
    "name": "ipython",
    "version": 3
   },
   "file_extension": ".py",
   "mimetype": "text/x-python",
   "name": "python",
   "nbconvert_exporter": "python",
   "pygments_lexer": "ipython3",
   "version": "3.12.3"
  }
 },
 "nbformat": 4,
 "nbformat_minor": 2
}
