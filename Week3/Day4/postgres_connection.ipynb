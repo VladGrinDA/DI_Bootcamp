{
 "cells": [
  {
   "cell_type": "code",
   "execution_count": 6,
   "metadata": {},
   "outputs": [],
   "source": [
    "import psycopg2\n",
    "import requests"
   ]
  },
  {
   "cell_type": "code",
   "execution_count": 5,
   "metadata": {},
   "outputs": [],
   "source": [
    "HOSTNAME = 'localhost'\n",
    "USERNAME = 'postgres'\n",
    "PASSWORD = 'vlad312312'\n",
    "DATABASE = 'dvdrental'"
   ]
  },
  {
   "cell_type": "code",
   "execution_count": 6,
   "metadata": {},
   "outputs": [
    {
     "data": {
      "text/plain": [
       "<connection object at 0x0000020AAA0E7CD0; dsn: 'user=postgres password=xxx dbname=dvdrental host=localhost', closed: 0>"
      ]
     },
     "execution_count": 6,
     "metadata": {},
     "output_type": "execute_result"
    }
   ],
   "source": [
    "conn = psycopg2.connect(\n",
    "    host=HOSTNAME,\n",
    "    user=USERNAME,\n",
    "    password=PASSWORD,\n",
    "    dbname=DATABASE\n",
    ")\n",
    "conn"
   ]
  },
  {
   "cell_type": "code",
   "execution_count": 8,
   "metadata": {},
   "outputs": [
    {
     "data": {
      "text/plain": [
       "<cursor object at 0x0000020AAA1A0660; closed: 0>"
      ]
     },
     "execution_count": 8,
     "metadata": {},
     "output_type": "execute_result"
    }
   ],
   "source": [
    "cur = conn.cursor()\n",
    "cur"
   ]
  },
  {
   "cell_type": "code",
   "execution_count": 9,
   "metadata": {},
   "outputs": [],
   "source": [
    "query = \"select * from customer limit 20;\"\n",
    "cur.execute(query)"
   ]
  },
  {
   "cell_type": "code",
   "execution_count": 10,
   "metadata": {},
   "outputs": [],
   "source": [
    "res = cur.fetchall()"
   ]
  },
  {
   "cell_type": "code",
   "execution_count": 11,
   "metadata": {},
   "outputs": [],
   "source": [
    "conn.close()"
   ]
  },
  {
   "cell_type": "code",
   "execution_count": 13,
   "metadata": {},
   "outputs": [
    {
     "name": "stdout",
     "output_type": "stream",
     "text": [
      "(524, 1, 'Jared', 'Ely', 'jared.ely@sakilacustomer.org', 530, True, datetime.date(2006, 2, 14), datetime.datetime(2013, 5, 26, 14, 49, 45, 738000), 1)\n",
      "(1, 1, 'Mary', 'Smith', 'mary.smith@sakilacustomer.org', 5, True, datetime.date(2006, 2, 14), datetime.datetime(2013, 5, 26, 14, 49, 45, 738000), 1)\n",
      "(2, 1, 'Patricia', 'Johnson', 'patricia.johnson@sakilacustomer.org', 6, True, datetime.date(2006, 2, 14), datetime.datetime(2013, 5, 26, 14, 49, 45, 738000), 1)\n",
      "(3, 1, 'Linda', 'Williams', 'linda.williams@sakilacustomer.org', 7, True, datetime.date(2006, 2, 14), datetime.datetime(2013, 5, 26, 14, 49, 45, 738000), 1)\n",
      "(4, 2, 'Barbara', 'Jones', 'barbara.jones@sakilacustomer.org', 8, True, datetime.date(2006, 2, 14), datetime.datetime(2013, 5, 26, 14, 49, 45, 738000), 1)\n",
      "(5, 1, 'Elizabeth', 'Brown', 'elizabeth.brown@sakilacustomer.org', 9, True, datetime.date(2006, 2, 14), datetime.datetime(2013, 5, 26, 14, 49, 45, 738000), 1)\n",
      "(6, 2, 'Jennifer', 'Davis', 'jennifer.davis@sakilacustomer.org', 10, True, datetime.date(2006, 2, 14), datetime.datetime(2013, 5, 26, 14, 49, 45, 738000), 1)\n",
      "(7, 1, 'Maria', 'Miller', 'maria.miller@sakilacustomer.org', 11, True, datetime.date(2006, 2, 14), datetime.datetime(2013, 5, 26, 14, 49, 45, 738000), 1)\n",
      "(8, 2, 'Susan', 'Wilson', 'susan.wilson@sakilacustomer.org', 12, True, datetime.date(2006, 2, 14), datetime.datetime(2013, 5, 26, 14, 49, 45, 738000), 1)\n",
      "(9, 2, 'Margaret', 'Moore', 'margaret.moore@sakilacustomer.org', 13, True, datetime.date(2006, 2, 14), datetime.datetime(2013, 5, 26, 14, 49, 45, 738000), 1)\n",
      "(10, 1, 'Dorothy', 'Taylor', 'dorothy.taylor@sakilacustomer.org', 14, True, datetime.date(2006, 2, 14), datetime.datetime(2013, 5, 26, 14, 49, 45, 738000), 1)\n",
      "(11, 2, 'Lisa', 'Anderson', 'lisa.anderson@sakilacustomer.org', 15, True, datetime.date(2006, 2, 14), datetime.datetime(2013, 5, 26, 14, 49, 45, 738000), 1)\n",
      "(12, 1, 'Nancy', 'Thomas', 'nancy.thomas@sakilacustomer.org', 16, True, datetime.date(2006, 2, 14), datetime.datetime(2013, 5, 26, 14, 49, 45, 738000), 1)\n",
      "(13, 2, 'Karen', 'Jackson', 'karen.jackson@sakilacustomer.org', 17, True, datetime.date(2006, 2, 14), datetime.datetime(2013, 5, 26, 14, 49, 45, 738000), 1)\n",
      "(14, 2, 'Betty', 'White', 'betty.white@sakilacustomer.org', 18, True, datetime.date(2006, 2, 14), datetime.datetime(2013, 5, 26, 14, 49, 45, 738000), 1)\n",
      "(15, 1, 'Helen', 'Harris', 'helen.harris@sakilacustomer.org', 19, True, datetime.date(2006, 2, 14), datetime.datetime(2013, 5, 26, 14, 49, 45, 738000), 1)\n",
      "(16, 2, 'Sandra', 'Martin', 'sandra.martin@sakilacustomer.org', 20, True, datetime.date(2006, 2, 14), datetime.datetime(2013, 5, 26, 14, 49, 45, 738000), 0)\n",
      "(17, 1, 'Donna', 'Thompson', 'donna.thompson@sakilacustomer.org', 21, True, datetime.date(2006, 2, 14), datetime.datetime(2013, 5, 26, 14, 49, 45, 738000), 1)\n",
      "(18, 2, 'Carol', 'Garcia', 'carol.garcia@sakilacustomer.org', 22, True, datetime.date(2006, 2, 14), datetime.datetime(2013, 5, 26, 14, 49, 45, 738000), 1)\n",
      "(19, 1, 'Ruth', 'Martinez', 'ruth.martinez@sakilacustomer.org', 23, True, datetime.date(2006, 2, 14), datetime.datetime(2013, 5, 26, 14, 49, 45, 738000), 1)\n"
     ]
    }
   ],
   "source": [
    "for item in res:\n",
    "    print(item)"
   ]
  },
  {
   "cell_type": "code",
   "execution_count": 5,
   "metadata": {},
   "outputs": [
    {
     "name": "stdout",
     "output_type": "stream",
     "text": [
      "[(1, 12312), (2, 88888)]\n"
     ]
    }
   ],
   "source": [
    "import psycopg2\n",
    "\n",
    "# 1. Connect to the database\n",
    "\n",
    "DB_NAME = \"hollywood\"\n",
    "USER = \"postgres\" \n",
    "PASSWORD = \"vlad312312\" \n",
    "HOST = \"localhost\"\n",
    "PORT = \"5432\" # or 5433\n",
    "\n",
    "def drop_table(table_name: str, if_exists=True):\n",
    "    \"\"\"delete table <table_name>\"\"\"\n",
    "    \n",
    "    query = f'''\n",
    "    drop table {\"if exists\" if if_exists else \"\"} {table_name}\n",
    "    '''\n",
    "    cursor.execute(query)\n",
    "    connection.commit()\n",
    "\n",
    "# 3. Write an SQL query\n",
    "def create_table(table_name: str): \n",
    "    \"\"\"create new table with id, num\"\"\"\n",
    "\n",
    "    query = f'''\n",
    "    create table {table_name}(\n",
    "        id serial primary key,\n",
    "        num integer not null\n",
    "    );\n",
    "    '''\n",
    "    cursor.execute(query) # execute the query\n",
    "    connection.commit() # make changes in the database\n",
    "\n",
    "def insert_into_table(table_name: str, num_value: int):\n",
    "\n",
    "    query = f'''\n",
    "    insert into {table_name}(num)\n",
    "    values\n",
    "    ({num_value})\n",
    "    '''\n",
    "    cursor.execute(query) # execute the query\n",
    "    connection.commit() # make changes in the database\n",
    "\n",
    "def select_all(table_name: str):\n",
    "\n",
    "    query = f'''\n",
    "    select * from {table_name};\n",
    "    '''\n",
    "\n",
    "    cursor.execute(query)\n",
    "    output = cursor.fetchall()\n",
    "    return output\n",
    "\n",
    "\n",
    "\n",
    "if __name__ == '__main__':\n",
    "\n",
    "    try:\n",
    "        connection = psycopg2.connect(\n",
    "            dbname = DB_NAME,\n",
    "            user = USER,\n",
    "            password = PASSWORD,\n",
    "            host = HOST,\n",
    "            port = PORT\n",
    "        )\n",
    "    except Exception as e:\n",
    "        print(f\"Error: {e}\")\n",
    "\n",
    "    # 2. Create a cursor object\n",
    "    cursor = connection.cursor()\n",
    "\n",
    "    table_name = 'new_table3'\n",
    "\n",
    "    drop_table(table_name)\n",
    "\n",
    "    create_table(table_name)\n",
    "\n",
    "    insert_into_table(table_name, 12312)\n",
    "    insert_into_table(table_name, 88888)\n",
    "\n",
    "    print(select_all(table_name))\n",
    "\n",
    "    # 4. Close database connection\n",
    "\n",
    "    connection.close()\n"
   ]
  },
  {
   "cell_type": "code",
   "execution_count": 10,
   "metadata": {},
   "outputs": [
    {
     "name": "stdout",
     "output_type": "stream",
     "text": [
      "<Response [200]>\n",
      "{'altSpellings': ['GS', 'South Georgia and the South Sandwich Islands'],\n",
      " 'area': 3903.0,\n",
      " 'capital': ['King Edward Point'],\n",
      " 'capitalInfo': {'latlng': [-54.28, -36.5]},\n",
      " 'car': {'side': 'right', 'signs': ['']},\n",
      " 'cca2': 'GS',\n",
      " 'cca3': 'SGS',\n",
      " 'ccn3': '239',\n",
      " 'coatOfArms': {},\n",
      " 'continents': ['Antarctica'],\n",
      " 'currencies': {'SHP': {'name': 'Saint Helena pound', 'symbol': '£'}},\n",
      " 'demonyms': {'eng': {'f': 'South Georgian South Sandwich Islander',\n",
      "                      'm': 'South Georgian South Sandwich Islander'}},\n",
      " 'flag': '🇬🇸',\n",
      " 'flags': {'png': 'https://flagcdn.com/w320/gs.png',\n",
      "           'svg': 'https://flagcdn.com/gs.svg'},\n",
      " 'idd': {'root': '+5', 'suffixes': ['00']},\n",
      " 'independent': False,\n",
      " 'landlocked': False,\n",
      " 'languages': {'eng': 'English'},\n",
      " 'latlng': [-54.5, -37.0],\n",
      " 'maps': {'googleMaps': 'https://goo.gl/maps/mJzdaBwKBbm2B81q9',\n",
      "          'openStreetMaps': 'https://www.openstreetmap.org/relation/1983629'},\n",
      " 'name': {'common': 'South Georgia',\n",
      "          'nativeName': {'eng': {'common': 'South Georgia',\n",
      "                                 'official': 'South Georgia and the South '\n",
      "                                             'Sandwich Islands'}},\n",
      "          'official': 'South Georgia and the South Sandwich Islands'},\n",
      " 'population': 30,\n",
      " 'region': 'Antarctic',\n",
      " 'startOfWeek': 'monday',\n",
      " 'status': 'officially-assigned',\n",
      " 'timezones': ['UTC-02:00'],\n",
      " 'tld': ['.gs'],\n",
      " 'translations': {'ara': {'common': 'جورجيا الجنوبية',\n",
      "                          'official': 'جورجيا الجنوبية وجزر ساندوتش الجنوبية'},\n",
      "                  'bre': {'common': 'Georgia ar Su hag Inizi Sandwich ar Su',\n",
      "                          'official': 'Georgia ar Su hag Inizi Sandwich ar Su'},\n",
      "                  'ces': {'common': 'Jižní Georgie a Jižní Sandwichovy ostrovy',\n",
      "                          'official': 'Jižní Georgie a Jižní Sandwichovy '\n",
      "                                      'ostrovy'},\n",
      "                  'cym': {'common': 'South Georgia',\n",
      "                          'official': 'South Georgia and the South Sandwich '\n",
      "                                      'Islands'},\n",
      "                  'deu': {'common': 'Südgeorgien und die Südlichen '\n",
      "                                    'Sandwichinseln',\n",
      "                          'official': 'Südgeorgien und die Südlichen '\n",
      "                                      'Sandwichinseln'},\n",
      "                  'est': {'common': 'Lõuna-Georgia ja Lõuna-Sandwichi saared',\n",
      "                          'official': 'Lõuna-Georgia ja Lõuna-Sandwichi '\n",
      "                                      'saared'},\n",
      "                  'fin': {'common': 'Etelä-Georgia ja Eteläiset Sandwichsaaret',\n",
      "                          'official': 'Etelä-Georgia ja Eteläiset '\n",
      "                                      'Sandwichsaaret'},\n",
      "                  'fra': {'common': 'Géorgie du Sud-et-les Îles Sandwich du '\n",
      "                                    'Sud',\n",
      "                          'official': 'Géorgie du Sud et les îles Sandwich du '\n",
      "                                      'Sud'},\n",
      "                  'hrv': {'common': 'Južna Georgija i otočje Južni Sandwich',\n",
      "                          'official': 'Južna Džordžija i Otoci Južni Sendvič'},\n",
      "                  'hun': {'common': 'Déli-Georgia és Déli-Sandwich-szigetek',\n",
      "                          'official': 'Déli-Georgia és Déli-Sandwich-szigetek'},\n",
      "                  'ita': {'common': 'Georgia del Sud e Isole Sandwich '\n",
      "                                    'Meridionali',\n",
      "                          'official': 'Georgia del Sud e isole Sandwich del '\n",
      "                                      'Sud'},\n",
      "                  'jpn': {'common': 'サウスジョージア・サウスサンドウィッチ諸島',\n",
      "                          'official': 'サウスジョージア·サウスサンドウィッチ諸島'},\n",
      "                  'kor': {'common': '조지아', 'official': '조지아'},\n",
      "                  'nld': {'common': 'Zuid-Georgia en Zuidelijke '\n",
      "                                    'Sandwicheilanden',\n",
      "                          'official': 'Zuid-Georgië en de Zuidelijke '\n",
      "                                      'Sandwich-eilanden'},\n",
      "                  'per': {'common': 'جزایر جورجیای جنوبی و ساندویچ جنوبی',\n",
      "                          'official': 'جزایر جورجیای جنوبی و ساندویچ جنوبی'},\n",
      "                  'pol': {'common': 'Georgia Południowa i Sandwich Południowy',\n",
      "                          'official': 'Georgia Południowa i Sandwich '\n",
      "                                      'Południowy'},\n",
      "                  'por': {'common': 'Ilhas Geórgia do Sul e Sandwich do Sul',\n",
      "                          'official': 'Geórgia do Sul e Sandwich do Sul'},\n",
      "                  'rus': {'common': 'Южная Георгия и Южные Сандвичевы острова',\n",
      "                          'official': 'Южная Георгия и Южные Сандвичевы '\n",
      "                                      'острова'},\n",
      "                  'slk': {'common': 'Južná Georgia a Južné Sandwichove ostrovy',\n",
      "                          'official': 'Južná Georgia a Južné Sandwichove '\n",
      "                                      'ostrovy'},\n",
      "                  'spa': {'common': 'Islas Georgias del Sur y Sandwich del Sur',\n",
      "                          'official': 'Georgia del Sur y las Islas Sandwich '\n",
      "                                      'del Sur'},\n",
      "                  'srp': {'common': 'Јужна Џорџија и Јужна Сендвичка Острва',\n",
      "                          'official': 'Јужна Џорџија и Јужна Сендвичка Острва'},\n",
      "                  'swe': {'common': 'Sydgeorgien', 'official': 'Sydgeorgien'},\n",
      "                  'tur': {'common': 'Güney Georgia ve Güney Sandwich Adaları',\n",
      "                          'official': 'Güney Georgia ve Güney Sandwich '\n",
      "                                      'Adaları'},\n",
      "                  'urd': {'common': 'جنوبی جارجیا',\n",
      "                          'official': 'جنوبی جارجیا و جزائر جنوبی سینڈوچ'},\n",
      "                  'zho': {'common': '南乔治亚', 'official': '南乔治亚岛和南桑威奇群岛'}},\n",
      " 'unMember': False}\n"
     ]
    }
   ],
   "source": [
    "from pprint import pprint\n",
    "\n",
    "countries_api = requests.get('https://restcountries.com/v3.1/all')\n",
    "print(countries_api)\n",
    "\n",
    "data = countries_api.json()\n",
    "pprint(data[0])"
   ]
  },
  {
   "cell_type": "code",
   "execution_count": null,
   "metadata": {},
   "outputs": [],
   "source": []
  }
 ],
 "metadata": {
  "kernelspec": {
   "display_name": "di_venv",
   "language": "python",
   "name": "python3"
  },
  "language_info": {
   "codemirror_mode": {
    "name": "ipython",
    "version": 3
   },
   "file_extension": ".py",
   "mimetype": "text/x-python",
   "name": "python",
   "nbconvert_exporter": "python",
   "pygments_lexer": "ipython3",
   "version": "3.12.3"
  }
 },
 "nbformat": 4,
 "nbformat_minor": 2
}
