{
 "cells": [
  {
   "cell_type": "markdown",
   "metadata": {},
   "source": [
    "## Exercise 1: Duplicate Detection and Removal"
   ]
  },
  {
   "cell_type": "code",
   "execution_count": 2,
   "metadata": {},
   "outputs": [],
   "source": [
    "# Objective: Identify and remove duplicate entries in the Titanic dataset.\n",
    "\n",
    "# Load the Titanic dataset.\n",
    "# Identify if there are any duplicate rows based on all columns.\n",
    "# Remove any duplicate rows found in the dataset.\n",
    "# Verify the removal of duplicates by checking the number of rows before and after the duplicate removal."
   ]
  },
  {
   "cell_type": "code",
   "execution_count": 21,
   "metadata": {},
   "outputs": [
    {
     "name": "stdout",
     "output_type": "stream",
     "text": [
      "Requirement already satisfied: kaggle in c:\\users\\vlad\\developers_institute\\practice\\di_venv\\lib\\site-packages (1.6.17)\n",
      "Requirement already satisfied: six>=1.10 in c:\\users\\vlad\\developers_institute\\practice\\di_venv\\lib\\site-packages (from kaggle) (1.16.0)\n",
      "Requirement already satisfied: certifi>=2023.7.22 in c:\\users\\vlad\\developers_institute\\practice\\di_venv\\lib\\site-packages (from kaggle) (2024.7.4)\n",
      "Requirement already satisfied: python-dateutil in c:\\users\\vlad\\developers_institute\\practice\\di_venv\\lib\\site-packages (from kaggle) (2.9.0.post0)\n",
      "Requirement already satisfied: requests in c:\\users\\vlad\\developers_institute\\practice\\di_venv\\lib\\site-packages (from kaggle) (2.32.3)\n",
      "Requirement already satisfied: tqdm in c:\\users\\vlad\\developers_institute\\practice\\di_venv\\lib\\site-packages (from kaggle) (4.66.5)\n",
      "Requirement already satisfied: python-slugify in c:\\users\\vlad\\developers_institute\\practice\\di_venv\\lib\\site-packages (from kaggle) (8.0.4)\n",
      "Requirement already satisfied: urllib3 in c:\\users\\vlad\\developers_institute\\practice\\di_venv\\lib\\site-packages (from kaggle) (2.2.2)\n",
      "Requirement already satisfied: bleach in c:\\users\\vlad\\developers_institute\\practice\\di_venv\\lib\\site-packages (from kaggle) (6.1.0)\n",
      "Requirement already satisfied: webencodings in c:\\users\\vlad\\developers_institute\\practice\\di_venv\\lib\\site-packages (from bleach->kaggle) (0.5.1)\n",
      "Requirement already satisfied: text-unidecode>=1.3 in c:\\users\\vlad\\developers_institute\\practice\\di_venv\\lib\\site-packages (from python-slugify->kaggle) (1.3)\n",
      "Requirement already satisfied: charset-normalizer<4,>=2 in c:\\users\\vlad\\developers_institute\\practice\\di_venv\\lib\\site-packages (from requests->kaggle) (3.3.2)\n",
      "Requirement already satisfied: idna<4,>=2.5 in c:\\users\\vlad\\developers_institute\\practice\\di_venv\\lib\\site-packages (from requests->kaggle) (2.10)\n",
      "Requirement already satisfied: colorama in c:\\users\\vlad\\developers_institute\\practice\\di_venv\\lib\\site-packages (from tqdm->kaggle) (0.4.6)\n"
     ]
    },
    {
     "name": "stderr",
     "output_type": "stream",
     "text": [
      "\n",
      "[notice] A new release of pip is available: 24.0 -> 24.2\n",
      "[notice] To update, run: python.exe -m pip install --upgrade pip\n"
     ]
    },
    {
     "name": "stdout",
     "output_type": "stream",
     "text": [
      "Collecting scikit-learn\n",
      "  Downloading scikit_learn-1.5.1-cp312-cp312-win_amd64.whl.metadata (12 kB)\n",
      "Requirement already satisfied: numpy>=1.19.5 in c:\\users\\vlad\\developers_institute\\practice\\di_venv\\lib\\site-packages (from scikit-learn) (2.1.0)\n",
      "Requirement already satisfied: scipy>=1.6.0 in c:\\users\\vlad\\developers_institute\\practice\\di_venv\\lib\\site-packages (from scikit-learn) (1.14.1)\n",
      "Requirement already satisfied: joblib>=1.2.0 in c:\\users\\vlad\\developers_institute\\practice\\di_venv\\lib\\site-packages (from scikit-learn) (1.4.2)\n",
      "Collecting threadpoolctl>=3.1.0 (from scikit-learn)\n",
      "  Downloading threadpoolctl-3.5.0-py3-none-any.whl.metadata (13 kB)\n",
      "Downloading scikit_learn-1.5.1-cp312-cp312-win_amd64.whl (10.9 MB)\n",
      "   ---------------------------------------- 0.0/10.9 MB ? eta -:--:--\n",
      "   ---------------------------------------- 0.0/10.9 MB ? eta -:--:--\n",
      "   ---------------------------------------- 0.0/10.9 MB 445.2 kB/s eta 0:00:25\n",
      "   ---------------------------------------- 0.1/10.9 MB 657.6 kB/s eta 0:00:17\n",
      "   ---------------------------------------- 0.1/10.9 MB 804.6 kB/s eta 0:00:14\n",
      "    --------------------------------------- 0.3/10.9 MB 1.3 MB/s eta 0:00:09\n",
      "   - -------------------------------------- 0.4/10.9 MB 1.7 MB/s eta 0:00:07\n",
      "   -- ------------------------------------- 0.6/10.9 MB 2.3 MB/s eta 0:00:05\n",
      "   --- ------------------------------------ 1.1/10.9 MB 3.2 MB/s eta 0:00:04\n",
      "   ----- ---------------------------------- 1.4/10.9 MB 3.7 MB/s eta 0:00:03\n",
      "   -------- ------------------------------- 2.2/10.9 MB 5.2 MB/s eta 0:00:02\n",
      "   ------------ --------------------------- 3.4/10.9 MB 7.3 MB/s eta 0:00:02\n",
      "   ---------------- ----------------------- 4.4/10.9 MB 8.6 MB/s eta 0:00:01\n",
      "   ----------------------------- ---------- 8.0/10.9 MB 14.3 MB/s eta 0:00:01\n",
      "   -------------------------------------- - 10.4/10.9 MB 23.4 MB/s eta 0:00:01\n",
      "   ---------------------------------------- 10.9/10.9 MB 29.7 MB/s eta 0:00:00\n",
      "Downloading threadpoolctl-3.5.0-py3-none-any.whl (18 kB)\n",
      "Installing collected packages: threadpoolctl, scikit-learn\n",
      "Successfully installed scikit-learn-1.5.1 threadpoolctl-3.5.0\n"
     ]
    },
    {
     "name": "stderr",
     "output_type": "stream",
     "text": [
      "\n",
      "[notice] A new release of pip is available: 24.0 -> 24.2\n",
      "[notice] To update, run: python.exe -m pip install --upgrade pip\n"
     ]
    }
   ],
   "source": [
    "!pip install kaggle\n",
    "!pip install scikit-learn"
   ]
  },
  {
   "cell_type": "code",
   "execution_count": 12,
   "metadata": {},
   "outputs": [
    {
     "data": {
      "text/plain": [
       "'C:\\\\Users\\\\Vlad\\\\.kaggle'"
      ]
     },
     "execution_count": 12,
     "metadata": {},
     "output_type": "execute_result"
    }
   ],
   "source": [
    "import os\n",
    "\n",
    "os.environ['KAGGLE_CONFIG_DIR'] = r\"C:\\Users\\Vlad\\.kaggle\"\n",
    "os.environ['KAGGLE_CONFIG_DIR']"
   ]
  },
  {
   "cell_type": "code",
   "execution_count": 13,
   "metadata": {},
   "outputs": [
    {
     "name": "stdout",
     "output_type": "stream",
     "text": [
      "Downloading titanic.zip to c:\\Users\\Vlad\\developers_institute\\practice\\Week4\\Day4\\ExerciseXP\n",
      "\n"
     ]
    },
    {
     "name": "stderr",
     "output_type": "stream",
     "text": [
      "\n",
      "  0%|          | 0.00/34.1k [00:00<?, ?B/s]\n",
      "100%|██████████| 34.1k/34.1k [00:00<00:00, 717kB/s]\n"
     ]
    }
   ],
   "source": [
    "!kaggle competitions download -c titanic"
   ]
  },
  {
   "cell_type": "code",
   "execution_count": 14,
   "metadata": {},
   "outputs": [],
   "source": [
    "import zipfile\n",
    "\n",
    "with zipfile.ZipFile(\"titanic.zip\", 'r') as f:\n",
    "    f.extractall(\".\")"
   ]
  },
  {
   "cell_type": "code",
   "execution_count": 249,
   "metadata": {},
   "outputs": [
    {
     "data": {
      "text/html": [
       "<div>\n",
       "<style scoped>\n",
       "    .dataframe tbody tr th:only-of-type {\n",
       "        vertical-align: middle;\n",
       "    }\n",
       "\n",
       "    .dataframe tbody tr th {\n",
       "        vertical-align: top;\n",
       "    }\n",
       "\n",
       "    .dataframe thead th {\n",
       "        text-align: right;\n",
       "    }\n",
       "</style>\n",
       "<table border=\"1\" class=\"dataframe\">\n",
       "  <thead>\n",
       "    <tr style=\"text-align: right;\">\n",
       "      <th></th>\n",
       "      <th>PassengerId</th>\n",
       "      <th>Survived</th>\n",
       "      <th>Pclass</th>\n",
       "      <th>Name</th>\n",
       "      <th>Sex</th>\n",
       "      <th>Age</th>\n",
       "      <th>SibSp</th>\n",
       "      <th>Parch</th>\n",
       "      <th>Ticket</th>\n",
       "      <th>Fare</th>\n",
       "      <th>Cabin</th>\n",
       "      <th>Embarked</th>\n",
       "    </tr>\n",
       "  </thead>\n",
       "  <tbody>\n",
       "    <tr>\n",
       "      <th>0</th>\n",
       "      <td>1</td>\n",
       "      <td>0</td>\n",
       "      <td>3</td>\n",
       "      <td>Braund, Mr. Owen Harris</td>\n",
       "      <td>male</td>\n",
       "      <td>22.0</td>\n",
       "      <td>1</td>\n",
       "      <td>0</td>\n",
       "      <td>A/5 21171</td>\n",
       "      <td>7.2500</td>\n",
       "      <td>NaN</td>\n",
       "      <td>S</td>\n",
       "    </tr>\n",
       "    <tr>\n",
       "      <th>1</th>\n",
       "      <td>2</td>\n",
       "      <td>1</td>\n",
       "      <td>1</td>\n",
       "      <td>Cumings, Mrs. John Bradley (Florence Briggs Th...</td>\n",
       "      <td>female</td>\n",
       "      <td>38.0</td>\n",
       "      <td>1</td>\n",
       "      <td>0</td>\n",
       "      <td>PC 17599</td>\n",
       "      <td>71.2833</td>\n",
       "      <td>C85</td>\n",
       "      <td>C</td>\n",
       "    </tr>\n",
       "    <tr>\n",
       "      <th>2</th>\n",
       "      <td>3</td>\n",
       "      <td>1</td>\n",
       "      <td>3</td>\n",
       "      <td>Heikkinen, Miss. Laina</td>\n",
       "      <td>female</td>\n",
       "      <td>26.0</td>\n",
       "      <td>0</td>\n",
       "      <td>0</td>\n",
       "      <td>STON/O2. 3101282</td>\n",
       "      <td>7.9250</td>\n",
       "      <td>NaN</td>\n",
       "      <td>S</td>\n",
       "    </tr>\n",
       "    <tr>\n",
       "      <th>3</th>\n",
       "      <td>4</td>\n",
       "      <td>1</td>\n",
       "      <td>1</td>\n",
       "      <td>Futrelle, Mrs. Jacques Heath (Lily May Peel)</td>\n",
       "      <td>female</td>\n",
       "      <td>35.0</td>\n",
       "      <td>1</td>\n",
       "      <td>0</td>\n",
       "      <td>113803</td>\n",
       "      <td>53.1000</td>\n",
       "      <td>C123</td>\n",
       "      <td>S</td>\n",
       "    </tr>\n",
       "    <tr>\n",
       "      <th>4</th>\n",
       "      <td>5</td>\n",
       "      <td>0</td>\n",
       "      <td>3</td>\n",
       "      <td>Allen, Mr. William Henry</td>\n",
       "      <td>male</td>\n",
       "      <td>35.0</td>\n",
       "      <td>0</td>\n",
       "      <td>0</td>\n",
       "      <td>373450</td>\n",
       "      <td>8.0500</td>\n",
       "      <td>NaN</td>\n",
       "      <td>S</td>\n",
       "    </tr>\n",
       "  </tbody>\n",
       "</table>\n",
       "</div>"
      ],
      "text/plain": [
       "   PassengerId  Survived  Pclass  \\\n",
       "0            1         0       3   \n",
       "1            2         1       1   \n",
       "2            3         1       3   \n",
       "3            4         1       1   \n",
       "4            5         0       3   \n",
       "\n",
       "                                                Name     Sex   Age  SibSp  \\\n",
       "0                            Braund, Mr. Owen Harris    male  22.0      1   \n",
       "1  Cumings, Mrs. John Bradley (Florence Briggs Th...  female  38.0      1   \n",
       "2                             Heikkinen, Miss. Laina  female  26.0      0   \n",
       "3       Futrelle, Mrs. Jacques Heath (Lily May Peel)  female  35.0      1   \n",
       "4                           Allen, Mr. William Henry    male  35.0      0   \n",
       "\n",
       "   Parch            Ticket     Fare Cabin Embarked  \n",
       "0      0         A/5 21171   7.2500   NaN        S  \n",
       "1      0          PC 17599  71.2833   C85        C  \n",
       "2      0  STON/O2. 3101282   7.9250   NaN        S  \n",
       "3      0            113803  53.1000  C123        S  \n",
       "4      0            373450   8.0500   NaN        S  "
      ]
     },
     "execution_count": 249,
     "metadata": {},
     "output_type": "execute_result"
    }
   ],
   "source": [
    "import pandas as pd\n",
    "\n",
    "df = pd.read_csv(\"train.csv\")\n",
    "df.head()"
   ]
  },
  {
   "cell_type": "code",
   "execution_count": 250,
   "metadata": {},
   "outputs": [
    {
     "data": {
      "text/html": [
       "<div>\n",
       "<style scoped>\n",
       "    .dataframe tbody tr th:only-of-type {\n",
       "        vertical-align: middle;\n",
       "    }\n",
       "\n",
       "    .dataframe tbody tr th {\n",
       "        vertical-align: top;\n",
       "    }\n",
       "\n",
       "    .dataframe thead th {\n",
       "        text-align: right;\n",
       "    }\n",
       "</style>\n",
       "<table border=\"1\" class=\"dataframe\">\n",
       "  <thead>\n",
       "    <tr style=\"text-align: right;\">\n",
       "      <th></th>\n",
       "      <th>PassengerId</th>\n",
       "      <th>Survived</th>\n",
       "      <th>Pclass</th>\n",
       "      <th>Name</th>\n",
       "      <th>Sex</th>\n",
       "      <th>Age</th>\n",
       "      <th>SibSp</th>\n",
       "      <th>Parch</th>\n",
       "      <th>Ticket</th>\n",
       "      <th>Fare</th>\n",
       "      <th>Cabin</th>\n",
       "      <th>Embarked</th>\n",
       "    </tr>\n",
       "  </thead>\n",
       "  <tbody>\n",
       "  </tbody>\n",
       "</table>\n",
       "</div>"
      ],
      "text/plain": [
       "Empty DataFrame\n",
       "Columns: [PassengerId, Survived, Pclass, Name, Sex, Age, SibSp, Parch, Ticket, Fare, Cabin, Embarked]\n",
       "Index: []"
      ]
     },
     "execution_count": 250,
     "metadata": {},
     "output_type": "execute_result"
    }
   ],
   "source": [
    "df[df.duplicated()]"
   ]
  },
  {
   "cell_type": "code",
   "execution_count": 251,
   "metadata": {},
   "outputs": [
    {
     "data": {
      "text/html": [
       "<div>\n",
       "<style scoped>\n",
       "    .dataframe tbody tr th:only-of-type {\n",
       "        vertical-align: middle;\n",
       "    }\n",
       "\n",
       "    .dataframe tbody tr th {\n",
       "        vertical-align: top;\n",
       "    }\n",
       "\n",
       "    .dataframe thead th {\n",
       "        text-align: right;\n",
       "    }\n",
       "</style>\n",
       "<table border=\"1\" class=\"dataframe\">\n",
       "  <thead>\n",
       "    <tr style=\"text-align: right;\">\n",
       "      <th></th>\n",
       "      <th>PassengerId</th>\n",
       "      <th>Survived</th>\n",
       "      <th>Pclass</th>\n",
       "      <th>Name</th>\n",
       "      <th>Sex</th>\n",
       "      <th>Age</th>\n",
       "      <th>SibSp</th>\n",
       "      <th>Parch</th>\n",
       "      <th>Ticket</th>\n",
       "      <th>Fare</th>\n",
       "      <th>Cabin</th>\n",
       "      <th>Embarked</th>\n",
       "    </tr>\n",
       "  </thead>\n",
       "  <tbody>\n",
       "  </tbody>\n",
       "</table>\n",
       "</div>"
      ],
      "text/plain": [
       "Empty DataFrame\n",
       "Columns: [PassengerId, Survived, Pclass, Name, Sex, Age, SibSp, Parch, Ticket, Fare, Cabin, Embarked]\n",
       "Index: []"
      ]
     },
     "execution_count": 251,
     "metadata": {},
     "output_type": "execute_result"
    }
   ],
   "source": [
    "df.drop_duplicates(inplace=True)\n",
    "# still no duplicates :)\n",
    "df[df.duplicated()]"
   ]
  },
  {
   "cell_type": "markdown",
   "metadata": {},
   "source": [
    "## Exercise 2: Handling Missing Values"
   ]
  },
  {
   "cell_type": "code",
   "execution_count": 252,
   "metadata": {},
   "outputs": [],
   "source": [
    "# Instructions\n",
    "# Identify columns in the Titanic dataset with missing values.\n",
    "# Explore different strategies for handling missing data, such as removal, imputation, and filling with a constant value.\n",
    "# Apply each strategy to different columns based on the nature of the data.\n",
    "# Hint: Review methods like dropna(), fillna(), and SimpleImputer from scikit-learn.\n",
    "\n"
   ]
  },
  {
   "cell_type": "code",
   "execution_count": 253,
   "metadata": {},
   "outputs": [
    {
     "data": {
      "text/plain": [
       "PassengerId      0\n",
       "Survived         0\n",
       "Pclass           0\n",
       "Name             0\n",
       "Sex              0\n",
       "Age            177\n",
       "SibSp            0\n",
       "Parch            0\n",
       "Ticket           0\n",
       "Fare             0\n",
       "Cabin          687\n",
       "Embarked         2\n",
       "dtype: int64"
      ]
     },
     "execution_count": 253,
     "metadata": {},
     "output_type": "execute_result"
    }
   ],
   "source": [
    "from sklearn.impute import SimpleImputer\n",
    "\n",
    "df.isnull().sum()"
   ]
  },
  {
   "cell_type": "code",
   "execution_count": 254,
   "metadata": {},
   "outputs": [],
   "source": [
    "df.dropna(subset=['Cabin'], inplace=True)"
   ]
  },
  {
   "cell_type": "code",
   "execution_count": 255,
   "metadata": {},
   "outputs": [],
   "source": [
    "\n",
    "age_imputer = SimpleImputer(strategy='mean')\n",
    "df['Age'] = age_imputer.fit_transform(df[['Age']])"
   ]
  },
  {
   "cell_type": "code",
   "execution_count": 256,
   "metadata": {},
   "outputs": [
    {
     "data": {
      "text/plain": [
       "0    S\n",
       "Name: Embarked, dtype: object"
      ]
     },
     "execution_count": 256,
     "metadata": {},
     "output_type": "execute_result"
    }
   ],
   "source": [
    "df['Embarked'].mode()"
   ]
  },
  {
   "cell_type": "code",
   "execution_count": 257,
   "metadata": {},
   "outputs": [],
   "source": [
    "df['Embarked'] = df['Embarked'].fillna(df['Embarked'].mode().values[0])"
   ]
  },
  {
   "cell_type": "code",
   "execution_count": 258,
   "metadata": {},
   "outputs": [
    {
     "data": {
      "text/plain": [
       "PassengerId    0\n",
       "Survived       0\n",
       "Pclass         0\n",
       "Name           0\n",
       "Sex            0\n",
       "Age            0\n",
       "SibSp          0\n",
       "Parch          0\n",
       "Ticket         0\n",
       "Fare           0\n",
       "Cabin          0\n",
       "Embarked       0\n",
       "dtype: int64"
      ]
     },
     "execution_count": 258,
     "metadata": {},
     "output_type": "execute_result"
    }
   ],
   "source": [
    "df.isnull().sum()"
   ]
  },
  {
   "cell_type": "markdown",
   "metadata": {},
   "source": [
    "##  Exercise 3: Feature Engineering"
   ]
  },
  {
   "cell_type": "code",
   "execution_count": 259,
   "metadata": {},
   "outputs": [],
   "source": [
    "# Instructions\n",
    "# Create new features, such as Family Size from SibSp and Parch, and Title extracted from the Name column.\n",
    "# Convert categorical variables into numerical form using techniques like one-hot encoding or label encoding.\n",
    "# Normalize or standardize numerical features if required.\n",
    "# Hint: Utilize Pandas for data manipulation and scikit-learn’s preprocessing module for encoding"
   ]
  },
  {
   "cell_type": "code",
   "execution_count": 260,
   "metadata": {},
   "outputs": [],
   "source": [
    "from sklearn.preprocessing import StandardScaler\n",
    "\n",
    "df['family_size'] = df['SibSp'] + df['Parch'] + 1"
   ]
  },
  {
   "cell_type": "code",
   "execution_count": 261,
   "metadata": {},
   "outputs": [
    {
     "data": {
      "text/plain": [
       "1      Cumings, Mrs. John Bradley (Florence Briggs Th...\n",
       "3           Futrelle, Mrs. Jacques Heath (Lily May Peel)\n",
       "6                                McCarthy, Mr. Timothy J\n",
       "10                       Sandstrom, Miss. Marguerite Rut\n",
       "11                              Bonnell, Miss. Elizabeth\n",
       "                             ...                        \n",
       "871     Beckwith, Mrs. Richard Leonard (Sallie Monypeny)\n",
       "872                             Carlsson, Mr. Frans Olof\n",
       "879        Potter, Mrs. Thomas Jr (Lily Alexenia Wilson)\n",
       "887                         Graham, Miss. Margaret Edith\n",
       "889                                Behr, Mr. Karl Howell\n",
       "Name: Name, Length: 204, dtype: object"
      ]
     },
     "execution_count": 261,
     "metadata": {},
     "output_type": "execute_result"
    }
   ],
   "source": [
    "df['Name']"
   ]
  },
  {
   "cell_type": "code",
   "execution_count": 262,
   "metadata": {},
   "outputs": [
    {
     "data": {
      "text/plain": [
       "1       Mrs\n",
       "3       Mrs\n",
       "6        Mr\n",
       "10     Miss\n",
       "11     Miss\n",
       "       ... \n",
       "871     Mrs\n",
       "872      Mr\n",
       "879     Mrs\n",
       "887    Miss\n",
       "889      Mr\n",
       "Name: Name, Length: 204, dtype: object"
      ]
     },
     "execution_count": 262,
     "metadata": {},
     "output_type": "execute_result"
    }
   ],
   "source": [
    "title_pattern = r', ([A-Za-z\\s]+)\\.'\n",
    "df['Name'].str.extract(title_pattern, expand=False)"
   ]
  },
  {
   "cell_type": "code",
   "execution_count": 263,
   "metadata": {},
   "outputs": [],
   "source": [
    "df['title'] = df['Name'].str.extract(title_pattern, expand=False)"
   ]
  },
  {
   "cell_type": "code",
   "execution_count": 264,
   "metadata": {},
   "outputs": [],
   "source": [
    "dummies = pd.get_dummies(df[['title', 'Embarked']], drop_first=True)\n",
    "df = pd.concat([df, dummies], axis=1)\n",
    "\n",
    "scaler = StandardScaler()\n",
    "df[['age_scaled', 'fare_scaled', 'family_size_scaled']] = scaler.transform(df[['Age', 'Fare', 'family_size']])\n"
   ]
  },
  {
   "cell_type": "code",
   "execution_count": 265,
   "metadata": {},
   "outputs": [
    {
     "data": {
      "text/plain": [
       "Index(['PassengerId', 'Survived', 'Pclass', 'Name', 'Sex', 'Age', 'SibSp',\n",
       "       'Parch', 'Ticket', 'Fare', 'Cabin', 'Embarked', 'family_size', 'title',\n",
       "       'title_Col', 'title_Dr', 'title_Lady', 'title_Major', 'title_Master',\n",
       "       'title_Miss', 'title_Mlle', 'title_Mme', 'title_Mr', 'title_Mrs',\n",
       "       'title_Sir', 'title_the Countess', 'Embarked_Q', 'Embarked_S',\n",
       "       'age_scaled', 'fare_scaled', 'family_size_scaled'],\n",
       "      dtype='object')"
      ]
     },
     "execution_count": 265,
     "metadata": {},
     "output_type": "execute_result"
    }
   ],
   "source": [
    "df.columns"
   ]
  },
  {
   "cell_type": "code",
   "execution_count": 266,
   "metadata": {},
   "outputs": [
    {
     "name": "stdout",
     "output_type": "stream",
     "text": [
      "title_Col                                     Name title\n",
      "647  Simonius-Blumer, Col. Oberst Alfons   Col\n",
      "title_Dr                             Name title\n",
      "245  Minahan, Dr. William Edward    Dr\n",
      "632    Stahelin-Maeglin, Dr. Max    Dr\n",
      "796  Leader, Dr. Alice (Farnham)    Dr\n",
      "title_Lady                                                   Name title\n",
      "556  Duff Gordon, Lady. (Lucille Christiana Sutherl...  Lady\n",
      "title_Major                                   Name  title\n",
      "449     Peuchen, Major. Arthur Godfrey  Major\n",
      "536  Butt, Major. Archibald Willingham  Major\n",
      "title_Master                                Name   title\n",
      "183       Becker, Master. Richard F  Master\n",
      "193      Navratil, Master. Michel M  Master\n",
      "305  Allison, Master. Hudson Trevor  Master\n",
      "340  Navratil, Master. Edmond Roger  Master\n",
      "445       Dodge, Master. Washington  Master\n",
      "title_Miss                                 Name title\n",
      "10   Sandstrom, Miss. Marguerite Rut  Miss\n",
      "11          Bonnell, Miss. Elizabeth  Miss\n",
      "61               Icard, Miss. Amelie  Miss\n",
      "88        Fortune, Miss. Mabel Helen  Miss\n",
      "123              Webber, Miss. Susan  Miss\n",
      "title_Mlle                                                  Name title\n",
      "641                              Sagesser, Mlle. Emma  Mlle\n",
      "710  Mayne, Mlle. Berthe Antonine (\"Mrs de Villiers\")  Mlle\n",
      "title_Mme                               Name title\n",
      "369  Aubart, Mme. Leontine Pauline   Mme\n",
      "title_Mr                               Name title\n",
      "6          McCarthy, Mr. Timothy J    Mr\n",
      "21           Beesley, Mr. Lawrence    Mr\n",
      "23    Sloper, Mr. William Thompson    Mr\n",
      "27  Fortune, Mr. Charles Alexander    Mr\n",
      "54  Ostby, Mr. Engelhart Cornelius    Mr\n",
      "title_Mrs                                                  Name title\n",
      "1   Cumings, Mrs. John Bradley (Florence Briggs Th...   Mrs\n",
      "3        Futrelle, Mrs. Jacques Heath (Lily May Peel)   Mrs\n",
      "31     Spencer, Mrs. William Augustus (Marie Eugenie)   Mrs\n",
      "52           Harper, Mrs. Henry Sleeper (Myna Haxtun)   Mrs\n",
      "66                       Nye, Mrs. (Elizabeth Ramell)   Mrs\n",
      "title_Sir                                              Name title\n",
      "599  Duff Gordon, Sir. Cosmo Edmund (\"Mr Morgan\")   Sir\n",
      "title_the Countess                                                   Name         title\n",
      "759  Rothes, the Countess. of (Lucy Noel Martha Dye...  the Countess\n"
     ]
    }
   ],
   "source": [
    "for col in [c for c in df.columns if c.startswith('title_')]:\n",
    "    print(col, df.loc[df[col], ['Name', 'title']].head())"
   ]
  },
  {
   "cell_type": "markdown",
   "metadata": {},
   "source": [
    "## Exercise 4: Outlier Detection and Handling"
   ]
  },
  {
   "cell_type": "code",
   "execution_count": 267,
   "metadata": {},
   "outputs": [],
   "source": [
    "# Instructions\n",
    "# Use statistical methods to detect outliers in columns like Fare and Age.\n",
    "# Decide on a strategy to handle the identified outliers, such as capping, transformation, or removal.\n",
    "# Implement the chosen strategy and assess its impact on the dataset.\n",
    "# Hint: Explore methods like IQR (Interquartile Range) and Z-score for outlier detection."
   ]
  },
  {
   "cell_type": "code",
   "execution_count": 268,
   "metadata": {},
   "outputs": [],
   "source": [
    "q1 = df['Fare'].quantile(0.25)\n",
    "q3 = df['Fare'].quantile(0.75)\n",
    "iqr = q3 - q1\n",
    "lower_bound = q1 - 1.5 * iqr\n",
    "upper_bound = q3 + 1.5 * iqr\n",
    "# first create mask so we can apply it after calculating other statistics\n",
    "fare_outliers_mask = (df['Fare'] >= lower_bound) & (df['Fare'] <= upper_bound)"
   ]
  },
  {
   "cell_type": "code",
   "execution_count": 271,
   "metadata": {},
   "outputs": [
    {
     "data": {
      "text/plain": [
       "np.True_"
      ]
     },
     "execution_count": 271,
     "metadata": {},
     "output_type": "execute_result"
    }
   ],
   "source": [
    "# Age Z-Score\n",
    "import numpy as np\n",
    "\n",
    "# standartization the same formula as z-score\n",
    "th = 3\n",
    "df['zs_age'] = (df['Age'] - df['Age'].mean()) / df['Age'].std()\n",
    "np.all((df['age_scaled'] - df['zs_age']) < 1e-2) # we can confirm that "
   ]
  },
  {
   "cell_type": "code",
   "execution_count": 273,
   "metadata": {},
   "outputs": [],
   "source": [
    "age_zs_mask = df['Age'] < th"
   ]
  },
  {
   "cell_type": "code",
   "execution_count": null,
   "metadata": {},
   "outputs": [],
   "source": [
    "# apply mask where first or second is true\n",
    "df = df[fare_outliers_mask | age_zs_mask]"
   ]
  },
  {
   "cell_type": "code",
   "execution_count": 179,
   "metadata": {},
   "outputs": [
    {
     "data": {
      "text/plain": [
       "<Axes: >"
      ]
     },
     "execution_count": 179,
     "metadata": {},
     "output_type": "execute_result"
    },
    {
     "data": {
      "image/png": "[encoded data removed]",
      "text/plain": [
       "<Figure size 640x480 with 1 Axes>"
      ]
     },
     "metadata": {},
     "output_type": "display_data"
    }
   ],
   "source": [
    "df['Age'].hist()"
   ]
  },
  {
   "cell_type": "markdown",
   "metadata": {},
   "source": [
    "## Exercise 5: Data Standardization and Normalization"
   ]
  },
  {
   "cell_type": "code",
   "execution_count": 217,
   "metadata": {},
   "outputs": [],
   "source": [
    "# Instructions\n",
    "# Assess the scale and distribution of numerical columns in the dataset.\n",
    "# Apply standardization to features with a wide range of values.\n",
    "# Normalize data that requires a bounded range, like [0, 1].\n",
    "# Hint: Consider using StandardScaler and MinMaxScaler from scikit-learn’s preprocessing module."
   ]
  },
  {
   "cell_type": "code",
   "execution_count": 219,
   "metadata": {},
   "outputs": [
    {
     "data": {
      "text/html": [
       "<div>\n",
       "<style scoped>\n",
       "    .dataframe tbody tr th:only-of-type {\n",
       "        vertical-align: middle;\n",
       "    }\n",
       "\n",
       "    .dataframe tbody tr th {\n",
       "        vertical-align: top;\n",
       "    }\n",
       "\n",
       "    .dataframe thead th {\n",
       "        text-align: right;\n",
       "    }\n",
       "</style>\n",
       "<table border=\"1\" class=\"dataframe\">\n",
       "  <thead>\n",
       "    <tr style=\"text-align: right;\">\n",
       "      <th></th>\n",
       "      <th>PassengerId</th>\n",
       "      <th>Survived</th>\n",
       "      <th>Pclass</th>\n",
       "      <th>Age</th>\n",
       "      <th>SibSp</th>\n",
       "      <th>Parch</th>\n",
       "      <th>Fare</th>\n",
       "      <th>family_size</th>\n",
       "      <th>zs_age</th>\n",
       "    </tr>\n",
       "  </thead>\n",
       "  <tbody>\n",
       "    <tr>\n",
       "      <th>count</th>\n",
       "      <td>204.000000</td>\n",
       "      <td>204.000000</td>\n",
       "      <td>204.000000</td>\n",
       "      <td>2.040000e+02</td>\n",
       "      <td>204.000000</td>\n",
       "      <td>204.000000</td>\n",
       "      <td>2.040000e+02</td>\n",
       "      <td>2.040000e+02</td>\n",
       "      <td>2.040000e+02</td>\n",
       "    </tr>\n",
       "    <tr>\n",
       "      <th>mean</th>\n",
       "      <td>455.401961</td>\n",
       "      <td>0.666667</td>\n",
       "      <td>1.196078</td>\n",
       "      <td>1.654450e-16</td>\n",
       "      <td>0.441176</td>\n",
       "      <td>0.436275</td>\n",
       "      <td>3.265362e-18</td>\n",
       "      <td>8.707632e-18</td>\n",
       "      <td>0.000000e+00</td>\n",
       "    </tr>\n",
       "    <tr>\n",
       "      <th>std</th>\n",
       "      <td>251.379279</td>\n",
       "      <td>0.472564</td>\n",
       "      <td>0.525961</td>\n",
       "      <td>1.002460e+00</td>\n",
       "      <td>0.628918</td>\n",
       "      <td>0.729976</td>\n",
       "      <td>1.002460e+00</td>\n",
       "      <td>1.002460e+00</td>\n",
       "      <td>1.000000e+00</td>\n",
       "    </tr>\n",
       "    <tr>\n",
       "      <th>min</th>\n",
       "      <td>2.000000</td>\n",
       "      <td>0.000000</td>\n",
       "      <td>1.000000</td>\n",
       "      <td>-2.344332e+00</td>\n",
       "      <td>0.000000</td>\n",
       "      <td>0.000000</td>\n",
       "      <td>-1.026039e+00</td>\n",
       "      <td>-8.124705e-01</td>\n",
       "      <td>-2.338579e+00</td>\n",
       "    </tr>\n",
       "    <tr>\n",
       "      <th>25%</th>\n",
       "      <td>261.750000</td>\n",
       "      <td>0.000000</td>\n",
       "      <td>1.000000</td>\n",
       "      <td>-7.272408e-01</td>\n",
       "      <td>0.000000</td>\n",
       "      <td>0.000000</td>\n",
       "      <td>-6.291455e-01</td>\n",
       "      <td>-8.124705e-01</td>\n",
       "      <td>-7.254561e-01</td>\n",
       "    </tr>\n",
       "    <tr>\n",
       "      <th>50%</th>\n",
       "      <td>457.500000</td>\n",
       "      <td>1.000000</td>\n",
       "      <td>1.000000</td>\n",
       "      <td>0.000000e+00</td>\n",
       "      <td>0.000000</td>\n",
       "      <td>0.000000</td>\n",
       "      <td>-2.819146e-01</td>\n",
       "      <td>1.134735e-01</td>\n",
       "      <td>-1.650390e-16</td>\n",
       "    </tr>\n",
       "    <tr>\n",
       "      <th>75%</th>\n",
       "      <td>684.000000</td>\n",
       "      <td>1.000000</td>\n",
       "      <td>1.000000</td>\n",
       "      <td>7.501678e-01</td>\n",
       "      <td>1.000000</td>\n",
       "      <td>1.000000</td>\n",
       "      <td>1.776956e-01</td>\n",
       "      <td>1.134735e-01</td>\n",
       "      <td>7.483269e-01</td>\n",
       "    </tr>\n",
       "    <tr>\n",
       "      <th>max</th>\n",
       "      <td>890.000000</td>\n",
       "      <td>1.000000</td>\n",
       "      <td>3.000000</td>\n",
       "      <td>2.966281e+00</td>\n",
       "      <td>3.000000</td>\n",
       "      <td>4.000000</td>\n",
       "      <td>5.877812e+00</td>\n",
       "      <td>3.817250e+00</td>\n",
       "      <td>2.959002e+00</td>\n",
       "    </tr>\n",
       "  </tbody>\n",
       "</table>\n",
       "</div>"
      ],
      "text/plain": [
       "       PassengerId    Survived      Pclass           Age       SibSp  \\\n",
       "count   204.000000  204.000000  204.000000  2.040000e+02  204.000000   \n",
       "mean    455.401961    0.666667    1.196078  1.654450e-16    0.441176   \n",
       "std     251.379279    0.472564    0.525961  1.002460e+00    0.628918   \n",
       "min       2.000000    0.000000    1.000000 -2.344332e+00    0.000000   \n",
       "25%     261.750000    0.000000    1.000000 -7.272408e-01    0.000000   \n",
       "50%     457.500000    1.000000    1.000000  0.000000e+00    0.000000   \n",
       "75%     684.000000    1.000000    1.000000  7.501678e-01    1.000000   \n",
       "max     890.000000    1.000000    3.000000  2.966281e+00    3.000000   \n",
       "\n",
       "            Parch          Fare   family_size        zs_age  \n",
       "count  204.000000  2.040000e+02  2.040000e+02  2.040000e+02  \n",
       "mean     0.436275  3.265362e-18  8.707632e-18  0.000000e+00  \n",
       "std      0.729976  1.002460e+00  1.002460e+00  1.000000e+00  \n",
       "min      0.000000 -1.026039e+00 -8.124705e-01 -2.338579e+00  \n",
       "25%      0.000000 -6.291455e-01 -8.124705e-01 -7.254561e-01  \n",
       "50%      0.000000 -2.819146e-01  1.134735e-01 -1.650390e-16  \n",
       "75%      1.000000  1.776956e-01  1.134735e-01  7.483269e-01  \n",
       "max      4.000000  5.877812e+00  3.817250e+00  2.959002e+00  "
      ]
     },
     "execution_count": 219,
     "metadata": {},
     "output_type": "execute_result"
    }
   ],
   "source": [
    "df.describe()"
   ]
  },
  {
   "cell_type": "code",
   "execution_count": 275,
   "metadata": {},
   "outputs": [
    {
     "data": {
      "text/plain": [
       "1      0.468892\n",
       "3      0.430956\n",
       "6      0.671219\n",
       "10     0.038948\n",
       "11     0.721801\n",
       "         ...   \n",
       "871    0.582701\n",
       "872    0.405665\n",
       "879    0.696510\n",
       "887    0.228629\n",
       "889    0.317147\n",
       "Name: Age_norm, Length: 204, dtype: float64"
      ]
     },
     "execution_count": 275,
     "metadata": {},
     "output_type": "execute_result"
    }
   ],
   "source": [
    "from sklearn.preprocessing import MinMaxScaler\n",
    "\n",
    "scaler = MinMaxScaler()\n",
    "df['Age_norm'] = scaler.fit_transform(df[['Age']])\n",
    "\n",
    "df['Age_norm']"
   ]
  },
  {
   "cell_type": "markdown",
   "metadata": {},
   "source": [
    "## Exercise 6: Feature Encoding"
   ]
  },
  {
   "cell_type": "code",
   "execution_count": 222,
   "metadata": {},
   "outputs": [],
   "source": [
    "# Instructions\n",
    "# Identify categorical columns in the Titanic dataset, such as Sex and Embarked.\n",
    "# Use one-hot encoding for nominal variables and label encoding for ordinal variables.\n",
    "# Integrate the encoded features back into the main dataset.\n",
    "# Hint: Utilize pandas.get_dummies() for one-hot encoding and LabelEncoder from scikit-learn for label encoding."
   ]
  },
  {
   "cell_type": "code",
   "execution_count": 224,
   "metadata": {},
   "outputs": [
    {
     "data": {
      "text/html": [
       "<div>\n",
       "<style scoped>\n",
       "    .dataframe tbody tr th:only-of-type {\n",
       "        vertical-align: middle;\n",
       "    }\n",
       "\n",
       "    .dataframe tbody tr th {\n",
       "        vertical-align: top;\n",
       "    }\n",
       "\n",
       "    .dataframe thead th {\n",
       "        text-align: right;\n",
       "    }\n",
       "</style>\n",
       "<table border=\"1\" class=\"dataframe\">\n",
       "  <thead>\n",
       "    <tr style=\"text-align: right;\">\n",
       "      <th></th>\n",
       "      <th>Sex</th>\n",
       "      <th>Sex_label</th>\n",
       "      <th>Embarked</th>\n",
       "      <th>Embarked_label</th>\n",
       "    </tr>\n",
       "  </thead>\n",
       "  <tbody>\n",
       "    <tr>\n",
       "      <th>1</th>\n",
       "      <td>female</td>\n",
       "      <td>0</td>\n",
       "      <td>C</td>\n",
       "      <td>0</td>\n",
       "    </tr>\n",
       "    <tr>\n",
       "      <th>3</th>\n",
       "      <td>female</td>\n",
       "      <td>0</td>\n",
       "      <td>S</td>\n",
       "      <td>2</td>\n",
       "    </tr>\n",
       "    <tr>\n",
       "      <th>6</th>\n",
       "      <td>male</td>\n",
       "      <td>1</td>\n",
       "      <td>S</td>\n",
       "      <td>2</td>\n",
       "    </tr>\n",
       "    <tr>\n",
       "      <th>10</th>\n",
       "      <td>female</td>\n",
       "      <td>0</td>\n",
       "      <td>S</td>\n",
       "      <td>2</td>\n",
       "    </tr>\n",
       "    <tr>\n",
       "      <th>11</th>\n",
       "      <td>female</td>\n",
       "      <td>0</td>\n",
       "      <td>S</td>\n",
       "      <td>2</td>\n",
       "    </tr>\n",
       "  </tbody>\n",
       "</table>\n",
       "</div>"
      ],
      "text/plain": [
       "       Sex  Sex_label Embarked  Embarked_label\n",
       "1   female          0        C               0\n",
       "3   female          0        S               2\n",
       "6     male          1        S               2\n",
       "10  female          0        S               2\n",
       "11  female          0        S               2"
      ]
     },
     "execution_count": 224,
     "metadata": {},
     "output_type": "execute_result"
    }
   ],
   "source": [
    "from sklearn.preprocessing import LabelEncoder\n",
    "\n",
    "le = LabelEncoder()\n",
    "df['sex_label'] = le.fit_transform(df['Sex'])\n",
    "df['embarked_label'] = le.fit_transform(df['Embarked'])\n",
    "df[['Sex', 'sex_label', 'Embarked', 'embarked_label']].head()"
   ]
  },
  {
   "cell_type": "markdown",
   "metadata": {},
   "source": [
    "## Exercise 7: Data Transformation for Age Feature"
   ]
  },
  {
   "cell_type": "code",
   "execution_count": null,
   "metadata": {},
   "outputs": [],
   "source": [
    "# bCreate age groups (bins) from the Age column to categorize passengers into different age categories.\n",
    "# Apply one-hot encoding to the age groups to convert them into binary features.\n",
    "# Hint: Use pd.cut() for binning the Age column and pd.get_dummies() for one-hot encoding."
   ]
  },
  {
   "cell_type": "code",
   "execution_count": 276,
   "metadata": {},
   "outputs": [],
   "source": [
    "df['age_group'] = pd.cut(df['Age'], bins=[0, 12, 18, 35, 60, 100], labels=['Child', 'Teen', 'Young Adult', 'Adult', 'Senior'])\n",
    "\n",
    "df = pd.get_dummies(df, columns=['age_group'], drop_first=True)"
   ]
  },
  {
   "cell_type": "code",
   "execution_count": 277,
   "metadata": {},
   "outputs": [
    {
     "data": {
      "text/html": [
       "<div>\n",
       "<style scoped>\n",
       "    .dataframe tbody tr th:only-of-type {\n",
       "        vertical-align: middle;\n",
       "    }\n",
       "\n",
       "    .dataframe tbody tr th {\n",
       "        vertical-align: top;\n",
       "    }\n",
       "\n",
       "    .dataframe thead th {\n",
       "        text-align: right;\n",
       "    }\n",
       "</style>\n",
       "<table border=\"1\" class=\"dataframe\">\n",
       "  <thead>\n",
       "    <tr style=\"text-align: right;\">\n",
       "      <th></th>\n",
       "      <th>PassengerId</th>\n",
       "      <th>Survived</th>\n",
       "      <th>Pclass</th>\n",
       "      <th>Name</th>\n",
       "      <th>Sex</th>\n",
       "      <th>Age</th>\n",
       "      <th>SibSp</th>\n",
       "      <th>Parch</th>\n",
       "      <th>Ticket</th>\n",
       "      <th>Fare</th>\n",
       "      <th>...</th>\n",
       "      <th>Embarked_S</th>\n",
       "      <th>age_scaled</th>\n",
       "      <th>fare_scaled</th>\n",
       "      <th>family_size_scaled</th>\n",
       "      <th>zs_age</th>\n",
       "      <th>Age_norm</th>\n",
       "      <th>age_group_Teen</th>\n",
       "      <th>age_group_Young Adult</th>\n",
       "      <th>age_group_Adult</th>\n",
       "      <th>age_group_Senior</th>\n",
       "    </tr>\n",
       "  </thead>\n",
       "  <tbody>\n",
       "    <tr>\n",
       "      <th>1</th>\n",
       "      <td>2</td>\n",
       "      <td>1</td>\n",
       "      <td>1</td>\n",
       "      <td>Cumings, Mrs. John Bradley (Florence Briggs Th...</td>\n",
       "      <td>female</td>\n",
       "      <td>38.0</td>\n",
       "      <td>1</td>\n",
       "      <td>0</td>\n",
       "      <td>PC 17599</td>\n",
       "      <td>71.2833</td>\n",
       "      <td>...</td>\n",
       "      <td>False</td>\n",
       "      <td>0.145773</td>\n",
       "      <td>-0.065466</td>\n",
       "      <td>0.113474</td>\n",
       "      <td>0.145416</td>\n",
       "      <td>0.468892</td>\n",
       "      <td>False</td>\n",
       "      <td>False</td>\n",
       "      <td>True</td>\n",
       "      <td>False</td>\n",
       "    </tr>\n",
       "    <tr>\n",
       "      <th>3</th>\n",
       "      <td>4</td>\n",
       "      <td>1</td>\n",
       "      <td>1</td>\n",
       "      <td>Futrelle, Mrs. Jacques Heath (Lily May Peel)</td>\n",
       "      <td>female</td>\n",
       "      <td>35.0</td>\n",
       "      <td>1</td>\n",
       "      <td>0</td>\n",
       "      <td>113803</td>\n",
       "      <td>53.1000</td>\n",
       "      <td>...</td>\n",
       "      <td>True</td>\n",
       "      <td>-0.055691</td>\n",
       "      <td>-0.310494</td>\n",
       "      <td>0.113474</td>\n",
       "      <td>-0.055555</td>\n",
       "      <td>0.430956</td>\n",
       "      <td>False</td>\n",
       "      <td>True</td>\n",
       "      <td>False</td>\n",
       "      <td>False</td>\n",
       "    </tr>\n",
       "    <tr>\n",
       "      <th>6</th>\n",
       "      <td>7</td>\n",
       "      <td>0</td>\n",
       "      <td>1</td>\n",
       "      <td>McCarthy, Mr. Timothy J</td>\n",
       "      <td>male</td>\n",
       "      <td>54.0</td>\n",
       "      <td>0</td>\n",
       "      <td>0</td>\n",
       "      <td>17463</td>\n",
       "      <td>51.8625</td>\n",
       "      <td>...</td>\n",
       "      <td>True</td>\n",
       "      <td>1.220252</td>\n",
       "      <td>-0.327170</td>\n",
       "      <td>-0.812471</td>\n",
       "      <td>1.217258</td>\n",
       "      <td>0.671219</td>\n",
       "      <td>False</td>\n",
       "      <td>False</td>\n",
       "      <td>True</td>\n",
       "      <td>False</td>\n",
       "    </tr>\n",
       "    <tr>\n",
       "      <th>10</th>\n",
       "      <td>11</td>\n",
       "      <td>1</td>\n",
       "      <td>3</td>\n",
       "      <td>Sandstrom, Miss. Marguerite Rut</td>\n",
       "      <td>female</td>\n",
       "      <td>4.0</td>\n",
       "      <td>1</td>\n",
       "      <td>1</td>\n",
       "      <td>PP 9549</td>\n",
       "      <td>16.7000</td>\n",
       "      <td>...</td>\n",
       "      <td>True</td>\n",
       "      <td>-2.137494</td>\n",
       "      <td>-0.800999</td>\n",
       "      <td>1.039418</td>\n",
       "      <td>-2.132249</td>\n",
       "      <td>0.038948</td>\n",
       "      <td>False</td>\n",
       "      <td>False</td>\n",
       "      <td>False</td>\n",
       "      <td>False</td>\n",
       "    </tr>\n",
       "    <tr>\n",
       "      <th>11</th>\n",
       "      <td>12</td>\n",
       "      <td>1</td>\n",
       "      <td>1</td>\n",
       "      <td>Bonnell, Miss. Elizabeth</td>\n",
       "      <td>female</td>\n",
       "      <td>58.0</td>\n",
       "      <td>0</td>\n",
       "      <td>0</td>\n",
       "      <td>113783</td>\n",
       "      <td>26.5500</td>\n",
       "      <td>...</td>\n",
       "      <td>True</td>\n",
       "      <td>1.488872</td>\n",
       "      <td>-0.668266</td>\n",
       "      <td>-0.812471</td>\n",
       "      <td>1.485218</td>\n",
       "      <td>0.721801</td>\n",
       "      <td>False</td>\n",
       "      <td>False</td>\n",
       "      <td>True</td>\n",
       "      <td>False</td>\n",
       "    </tr>\n",
       "    <tr>\n",
       "      <th>...</th>\n",
       "      <td>...</td>\n",
       "      <td>...</td>\n",
       "      <td>...</td>\n",
       "      <td>...</td>\n",
       "      <td>...</td>\n",
       "      <td>...</td>\n",
       "      <td>...</td>\n",
       "      <td>...</td>\n",
       "      <td>...</td>\n",
       "      <td>...</td>\n",
       "      <td>...</td>\n",
       "      <td>...</td>\n",
       "      <td>...</td>\n",
       "      <td>...</td>\n",
       "      <td>...</td>\n",
       "      <td>...</td>\n",
       "      <td>...</td>\n",
       "      <td>...</td>\n",
       "      <td>...</td>\n",
       "      <td>...</td>\n",
       "      <td>...</td>\n",
       "    </tr>\n",
       "    <tr>\n",
       "      <th>871</th>\n",
       "      <td>872</td>\n",
       "      <td>1</td>\n",
       "      <td>1</td>\n",
       "      <td>Beckwith, Mrs. Richard Leonard (Sallie Monypeny)</td>\n",
       "      <td>female</td>\n",
       "      <td>47.0</td>\n",
       "      <td>1</td>\n",
       "      <td>1</td>\n",
       "      <td>11751</td>\n",
       "      <td>52.5542</td>\n",
       "      <td>...</td>\n",
       "      <td>True</td>\n",
       "      <td>0.750168</td>\n",
       "      <td>-0.317849</td>\n",
       "      <td>1.039418</td>\n",
       "      <td>0.748327</td>\n",
       "      <td>0.582701</td>\n",
       "      <td>False</td>\n",
       "      <td>False</td>\n",
       "      <td>True</td>\n",
       "      <td>False</td>\n",
       "    </tr>\n",
       "    <tr>\n",
       "      <th>872</th>\n",
       "      <td>873</td>\n",
       "      <td>0</td>\n",
       "      <td>1</td>\n",
       "      <td>Carlsson, Mr. Frans Olof</td>\n",
       "      <td>male</td>\n",
       "      <td>33.0</td>\n",
       "      <td>0</td>\n",
       "      <td>0</td>\n",
       "      <td>695</td>\n",
       "      <td>5.0000</td>\n",
       "      <td>...</td>\n",
       "      <td>True</td>\n",
       "      <td>-0.190001</td>\n",
       "      <td>-0.958662</td>\n",
       "      <td>-0.812471</td>\n",
       "      <td>-0.189535</td>\n",
       "      <td>0.405665</td>\n",
       "      <td>False</td>\n",
       "      <td>True</td>\n",
       "      <td>False</td>\n",
       "      <td>False</td>\n",
       "    </tr>\n",
       "    <tr>\n",
       "      <th>879</th>\n",
       "      <td>880</td>\n",
       "      <td>1</td>\n",
       "      <td>1</td>\n",
       "      <td>Potter, Mrs. Thomas Jr (Lily Alexenia Wilson)</td>\n",
       "      <td>female</td>\n",
       "      <td>56.0</td>\n",
       "      <td>0</td>\n",
       "      <td>1</td>\n",
       "      <td>11767</td>\n",
       "      <td>83.1583</td>\n",
       "      <td>...</td>\n",
       "      <td>False</td>\n",
       "      <td>1.354562</td>\n",
       "      <td>0.094554</td>\n",
       "      <td>0.113474</td>\n",
       "      <td>1.351238</td>\n",
       "      <td>0.696510</td>\n",
       "      <td>False</td>\n",
       "      <td>False</td>\n",
       "      <td>True</td>\n",
       "      <td>False</td>\n",
       "    </tr>\n",
       "    <tr>\n",
       "      <th>887</th>\n",
       "      <td>888</td>\n",
       "      <td>1</td>\n",
       "      <td>1</td>\n",
       "      <td>Graham, Miss. Margaret Edith</td>\n",
       "      <td>female</td>\n",
       "      <td>19.0</td>\n",
       "      <td>0</td>\n",
       "      <td>0</td>\n",
       "      <td>112053</td>\n",
       "      <td>30.0000</td>\n",
       "      <td>...</td>\n",
       "      <td>True</td>\n",
       "      <td>-1.130170</td>\n",
       "      <td>-0.621776</td>\n",
       "      <td>-0.812471</td>\n",
       "      <td>-1.127397</td>\n",
       "      <td>0.228629</td>\n",
       "      <td>False</td>\n",
       "      <td>True</td>\n",
       "      <td>False</td>\n",
       "      <td>False</td>\n",
       "    </tr>\n",
       "    <tr>\n",
       "      <th>889</th>\n",
       "      <td>890</td>\n",
       "      <td>1</td>\n",
       "      <td>1</td>\n",
       "      <td>Behr, Mr. Karl Howell</td>\n",
       "      <td>male</td>\n",
       "      <td>26.0</td>\n",
       "      <td>0</td>\n",
       "      <td>0</td>\n",
       "      <td>111369</td>\n",
       "      <td>30.0000</td>\n",
       "      <td>...</td>\n",
       "      <td>False</td>\n",
       "      <td>-0.660086</td>\n",
       "      <td>-0.621776</td>\n",
       "      <td>-0.812471</td>\n",
       "      <td>-0.658466</td>\n",
       "      <td>0.317147</td>\n",
       "      <td>False</td>\n",
       "      <td>True</td>\n",
       "      <td>False</td>\n",
       "      <td>False</td>\n",
       "    </tr>\n",
       "  </tbody>\n",
       "</table>\n",
       "<p>204 rows × 37 columns</p>\n",
       "</div>"
      ],
      "text/plain": [
       "     PassengerId  Survived  Pclass  \\\n",
       "1              2         1       1   \n",
       "3              4         1       1   \n",
       "6              7         0       1   \n",
       "10            11         1       3   \n",
       "11            12         1       1   \n",
       "..           ...       ...     ...   \n",
       "871          872         1       1   \n",
       "872          873         0       1   \n",
       "879          880         1       1   \n",
       "887          888         1       1   \n",
       "889          890         1       1   \n",
       "\n",
       "                                                  Name     Sex   Age  SibSp  \\\n",
       "1    Cumings, Mrs. John Bradley (Florence Briggs Th...  female  38.0      1   \n",
       "3         Futrelle, Mrs. Jacques Heath (Lily May Peel)  female  35.0      1   \n",
       "6                              McCarthy, Mr. Timothy J    male  54.0      0   \n",
       "10                     Sandstrom, Miss. Marguerite Rut  female   4.0      1   \n",
       "11                            Bonnell, Miss. Elizabeth  female  58.0      0   \n",
       "..                                                 ...     ...   ...    ...   \n",
       "871   Beckwith, Mrs. Richard Leonard (Sallie Monypeny)  female  47.0      1   \n",
       "872                           Carlsson, Mr. Frans Olof    male  33.0      0   \n",
       "879      Potter, Mrs. Thomas Jr (Lily Alexenia Wilson)  female  56.0      0   \n",
       "887                       Graham, Miss. Margaret Edith  female  19.0      0   \n",
       "889                              Behr, Mr. Karl Howell    male  26.0      0   \n",
       "\n",
       "     Parch    Ticket     Fare  ... Embarked_S age_scaled  fare_scaled  \\\n",
       "1        0  PC 17599  71.2833  ...      False   0.145773    -0.065466   \n",
       "3        0    113803  53.1000  ...       True  -0.055691    -0.310494   \n",
       "6        0     17463  51.8625  ...       True   1.220252    -0.327170   \n",
       "10       1   PP 9549  16.7000  ...       True  -2.137494    -0.800999   \n",
       "11       0    113783  26.5500  ...       True   1.488872    -0.668266   \n",
       "..     ...       ...      ...  ...        ...        ...          ...   \n",
       "871      1     11751  52.5542  ...       True   0.750168    -0.317849   \n",
       "872      0       695   5.0000  ...       True  -0.190001    -0.958662   \n",
       "879      1     11767  83.1583  ...      False   1.354562     0.094554   \n",
       "887      0    112053  30.0000  ...       True  -1.130170    -0.621776   \n",
       "889      0    111369  30.0000  ...      False  -0.660086    -0.621776   \n",
       "\n",
       "    family_size_scaled    zs_age  Age_norm  age_group_Teen  \\\n",
       "1             0.113474  0.145416  0.468892           False   \n",
       "3             0.113474 -0.055555  0.430956           False   \n",
       "6            -0.812471  1.217258  0.671219           False   \n",
       "10            1.039418 -2.132249  0.038948           False   \n",
       "11           -0.812471  1.485218  0.721801           False   \n",
       "..                 ...       ...       ...             ...   \n",
       "871           1.039418  0.748327  0.582701           False   \n",
       "872          -0.812471 -0.189535  0.405665           False   \n",
       "879           0.113474  1.351238  0.696510           False   \n",
       "887          -0.812471 -1.127397  0.228629           False   \n",
       "889          -0.812471 -0.658466  0.317147           False   \n",
       "\n",
       "     age_group_Young Adult  age_group_Adult  age_group_Senior  \n",
       "1                    False             True             False  \n",
       "3                     True            False             False  \n",
       "6                    False             True             False  \n",
       "10                   False            False             False  \n",
       "11                   False             True             False  \n",
       "..                     ...              ...               ...  \n",
       "871                  False             True             False  \n",
       "872                   True            False             False  \n",
       "879                  False             True             False  \n",
       "887                   True            False             False  \n",
       "889                   True            False             False  \n",
       "\n",
       "[204 rows x 37 columns]"
      ]
     },
     "execution_count": 277,
     "metadata": {},
     "output_type": "execute_result"
    }
   ],
   "source": [
    "df"
   ]
  }
 ],
 "metadata": {
  "kernelspec": {
   "display_name": "di_venv",
   "language": "python",
   "name": "python3"
  },
  "language_info": {
   "codemirror_mode": {
    "name": "ipython",
    "version": 3
   },
   "file_extension": ".py",
   "mimetype": "text/x-python",
   "name": "python",
   "nbconvert_exporter": "python",
   "pygments_lexer": "ipython3",
   "version": "3.12.3"
  }
 },
 "nbformat": 4,
 "nbformat_minor": 2
}
