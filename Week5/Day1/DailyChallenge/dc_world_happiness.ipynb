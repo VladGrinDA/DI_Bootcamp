{
 "cells": [
  {
   "cell_type": "markdown",
   "metadata": {},
   "source": [
    "## Daily Challenge: Exploring the World Happiness Report with Matplotlib"
   ]
  },
  {
   "cell_type": "code",
   "execution_count": 1,
   "metadata": {},
   "outputs": [],
   "source": [
    "# Load and Inspect Data:\n",
    "# Utilize pandas to load the World Happiness Report Dataset.\n",
    "# Examine the data to grasp its structure and contents of the year 2019."
   ]
  },
  {
   "cell_type": "code",
   "execution_count": 2,
   "metadata": {},
   "outputs": [
    {
     "data": {
      "text/plain": [
       "'C:\\\\Users\\\\Vlad\\\\.kaggle'"
      ]
     },
     "execution_count": 2,
     "metadata": {},
     "output_type": "execute_result"
    }
   ],
   "source": [
    "import os\n",
    "\n",
    "os.environ['KAGGLE_CONFIG_DIR'] = r'C:\\Users\\Vlad\\.kaggle'\n",
    "os.environ['KAGGLE_CONFIG_DIR']"
   ]
  },
  {
   "cell_type": "code",
   "execution_count": 3,
   "metadata": {},
   "outputs": [
    {
     "name": "stderr",
     "output_type": "stream",
     "text": [
      "�������� ��� 䠩� datasets 㦥 �������.\n"
     ]
    },
    {
     "name": "stdout",
     "output_type": "stream",
     "text": [
      "Dataset URL: https://www.kaggle.com/datasets/unsdsn/world-happiness\n",
      "License(s): CC0-1.0\n",
      "world-happiness.zip: Skipping, found more recently modified local copy (use --force to force download)\n"
     ]
    }
   ],
   "source": [
    "!mkdir datasets\n",
    "!kaggle datasets download unsdsn/world-happiness"
   ]
  },
  {
   "cell_type": "code",
   "execution_count": 4,
   "metadata": {},
   "outputs": [],
   "source": [
    "import zipfile\n",
    "\n",
    "with zipfile.ZipFile('world-happiness.zip', 'r') as f:\n",
    "    f.extractall('datasets/')"
   ]
  },
  {
   "cell_type": "code",
   "execution_count": 5,
   "metadata": {},
   "outputs": [
    {
     "data": {
      "text/html": [
       "<div>\n",
       "<style scoped>\n",
       "    .dataframe tbody tr th:only-of-type {\n",
       "        vertical-align: middle;\n",
       "    }\n",
       "\n",
       "    .dataframe tbody tr th {\n",
       "        vertical-align: top;\n",
       "    }\n",
       "\n",
       "    .dataframe thead th {\n",
       "        text-align: right;\n",
       "    }\n",
       "</style>\n",
       "<table border=\"1\" class=\"dataframe\">\n",
       "  <thead>\n",
       "    <tr style=\"text-align: right;\">\n",
       "      <th></th>\n",
       "      <th>Overall rank</th>\n",
       "      <th>Country or region</th>\n",
       "      <th>Score</th>\n",
       "      <th>GDP per capita</th>\n",
       "      <th>Social support</th>\n",
       "      <th>Healthy life expectancy</th>\n",
       "      <th>Freedom to make life choices</th>\n",
       "      <th>Generosity</th>\n",
       "      <th>Perceptions of corruption</th>\n",
       "    </tr>\n",
       "  </thead>\n",
       "  <tbody>\n",
       "    <tr>\n",
       "      <th>0</th>\n",
       "      <td>1</td>\n",
       "      <td>Finland</td>\n",
       "      <td>7.769</td>\n",
       "      <td>1.340</td>\n",
       "      <td>1.587</td>\n",
       "      <td>0.986</td>\n",
       "      <td>0.596</td>\n",
       "      <td>0.153</td>\n",
       "      <td>0.393</td>\n",
       "    </tr>\n",
       "    <tr>\n",
       "      <th>1</th>\n",
       "      <td>2</td>\n",
       "      <td>Denmark</td>\n",
       "      <td>7.600</td>\n",
       "      <td>1.383</td>\n",
       "      <td>1.573</td>\n",
       "      <td>0.996</td>\n",
       "      <td>0.592</td>\n",
       "      <td>0.252</td>\n",
       "      <td>0.410</td>\n",
       "    </tr>\n",
       "    <tr>\n",
       "      <th>2</th>\n",
       "      <td>3</td>\n",
       "      <td>Norway</td>\n",
       "      <td>7.554</td>\n",
       "      <td>1.488</td>\n",
       "      <td>1.582</td>\n",
       "      <td>1.028</td>\n",
       "      <td>0.603</td>\n",
       "      <td>0.271</td>\n",
       "      <td>0.341</td>\n",
       "    </tr>\n",
       "    <tr>\n",
       "      <th>3</th>\n",
       "      <td>4</td>\n",
       "      <td>Iceland</td>\n",
       "      <td>7.494</td>\n",
       "      <td>1.380</td>\n",
       "      <td>1.624</td>\n",
       "      <td>1.026</td>\n",
       "      <td>0.591</td>\n",
       "      <td>0.354</td>\n",
       "      <td>0.118</td>\n",
       "    </tr>\n",
       "    <tr>\n",
       "      <th>4</th>\n",
       "      <td>5</td>\n",
       "      <td>Netherlands</td>\n",
       "      <td>7.488</td>\n",
       "      <td>1.396</td>\n",
       "      <td>1.522</td>\n",
       "      <td>0.999</td>\n",
       "      <td>0.557</td>\n",
       "      <td>0.322</td>\n",
       "      <td>0.298</td>\n",
       "    </tr>\n",
       "  </tbody>\n",
       "</table>\n",
       "</div>"
      ],
      "text/plain": [
       "   Overall rank Country or region  Score  GDP per capita  Social support  \\\n",
       "0             1           Finland  7.769           1.340           1.587   \n",
       "1             2           Denmark  7.600           1.383           1.573   \n",
       "2             3            Norway  7.554           1.488           1.582   \n",
       "3             4           Iceland  7.494           1.380           1.624   \n",
       "4             5       Netherlands  7.488           1.396           1.522   \n",
       "\n",
       "   Healthy life expectancy  Freedom to make life choices  Generosity  \\\n",
       "0                    0.986                         0.596       0.153   \n",
       "1                    0.996                         0.592       0.252   \n",
       "2                    1.028                         0.603       0.271   \n",
       "3                    1.026                         0.591       0.354   \n",
       "4                    0.999                         0.557       0.322   \n",
       "\n",
       "   Perceptions of corruption  \n",
       "0                      0.393  \n",
       "1                      0.410  \n",
       "2                      0.341  \n",
       "3                      0.118  \n",
       "4                      0.298  "
      ]
     },
     "execution_count": 5,
     "metadata": {},
     "output_type": "execute_result"
    }
   ],
   "source": [
    "import pandas as pd\n",
    "\n",
    "df = pd.read_csv('datasets/2019.csv')\n",
    "\n",
    "df.head()"
   ]
  },
  {
   "cell_type": "code",
   "execution_count": 6,
   "metadata": {},
   "outputs": [
    {
     "name": "stdout",
     "output_type": "stream",
     "text": [
      "<class 'pandas.core.frame.DataFrame'>\n",
      "RangeIndex: 156 entries, 0 to 155\n",
      "Data columns (total 9 columns):\n",
      " #   Column                        Non-Null Count  Dtype  \n",
      "---  ------                        --------------  -----  \n",
      " 0   Overall rank                  156 non-null    int64  \n",
      " 1   Country or region             156 non-null    object \n",
      " 2   Score                         156 non-null    float64\n",
      " 3   GDP per capita                156 non-null    float64\n",
      " 4   Social support                156 non-null    float64\n",
      " 5   Healthy life expectancy       156 non-null    float64\n",
      " 6   Freedom to make life choices  156 non-null    float64\n",
      " 7   Generosity                    156 non-null    float64\n",
      " 8   Perceptions of corruption     156 non-null    float64\n",
      "dtypes: float64(7), int64(1), object(1)\n",
      "memory usage: 11.1+ KB\n"
     ]
    }
   ],
   "source": [
    "df.info()"
   ]
  },
  {
   "cell_type": "code",
   "execution_count": 7,
   "metadata": {},
   "outputs": [
    {
     "data": {
      "text/html": [
       "<div>\n",
       "<style scoped>\n",
       "    .dataframe tbody tr th:only-of-type {\n",
       "        vertical-align: middle;\n",
       "    }\n",
       "\n",
       "    .dataframe tbody tr th {\n",
       "        vertical-align: top;\n",
       "    }\n",
       "\n",
       "    .dataframe thead th {\n",
       "        text-align: right;\n",
       "    }\n",
       "</style>\n",
       "<table border=\"1\" class=\"dataframe\">\n",
       "  <thead>\n",
       "    <tr style=\"text-align: right;\">\n",
       "      <th></th>\n",
       "      <th>Overall rank</th>\n",
       "      <th>Country or region</th>\n",
       "      <th>Score</th>\n",
       "      <th>GDP per capita</th>\n",
       "      <th>Social support</th>\n",
       "      <th>Healthy life expectancy</th>\n",
       "      <th>Freedom to make life choices</th>\n",
       "      <th>Generosity</th>\n",
       "      <th>Perceptions of corruption</th>\n",
       "    </tr>\n",
       "  </thead>\n",
       "  <tbody>\n",
       "    <tr>\n",
       "      <th>count</th>\n",
       "      <td>156.000000</td>\n",
       "      <td>156</td>\n",
       "      <td>156.000000</td>\n",
       "      <td>156.000000</td>\n",
       "      <td>156.000000</td>\n",
       "      <td>156.000000</td>\n",
       "      <td>156.000000</td>\n",
       "      <td>156.000000</td>\n",
       "      <td>156.000000</td>\n",
       "    </tr>\n",
       "    <tr>\n",
       "      <th>unique</th>\n",
       "      <td>NaN</td>\n",
       "      <td>156</td>\n",
       "      <td>NaN</td>\n",
       "      <td>NaN</td>\n",
       "      <td>NaN</td>\n",
       "      <td>NaN</td>\n",
       "      <td>NaN</td>\n",
       "      <td>NaN</td>\n",
       "      <td>NaN</td>\n",
       "    </tr>\n",
       "    <tr>\n",
       "      <th>top</th>\n",
       "      <td>NaN</td>\n",
       "      <td>Finland</td>\n",
       "      <td>NaN</td>\n",
       "      <td>NaN</td>\n",
       "      <td>NaN</td>\n",
       "      <td>NaN</td>\n",
       "      <td>NaN</td>\n",
       "      <td>NaN</td>\n",
       "      <td>NaN</td>\n",
       "    </tr>\n",
       "    <tr>\n",
       "      <th>freq</th>\n",
       "      <td>NaN</td>\n",
       "      <td>1</td>\n",
       "      <td>NaN</td>\n",
       "      <td>NaN</td>\n",
       "      <td>NaN</td>\n",
       "      <td>NaN</td>\n",
       "      <td>NaN</td>\n",
       "      <td>NaN</td>\n",
       "      <td>NaN</td>\n",
       "    </tr>\n",
       "    <tr>\n",
       "      <th>mean</th>\n",
       "      <td>78.500000</td>\n",
       "      <td>NaN</td>\n",
       "      <td>5.407096</td>\n",
       "      <td>0.905147</td>\n",
       "      <td>1.208814</td>\n",
       "      <td>0.725244</td>\n",
       "      <td>0.392571</td>\n",
       "      <td>0.184846</td>\n",
       "      <td>0.110603</td>\n",
       "    </tr>\n",
       "    <tr>\n",
       "      <th>std</th>\n",
       "      <td>45.177428</td>\n",
       "      <td>NaN</td>\n",
       "      <td>1.113120</td>\n",
       "      <td>0.398389</td>\n",
       "      <td>0.299191</td>\n",
       "      <td>0.242124</td>\n",
       "      <td>0.143289</td>\n",
       "      <td>0.095254</td>\n",
       "      <td>0.094538</td>\n",
       "    </tr>\n",
       "    <tr>\n",
       "      <th>min</th>\n",
       "      <td>1.000000</td>\n",
       "      <td>NaN</td>\n",
       "      <td>2.853000</td>\n",
       "      <td>0.000000</td>\n",
       "      <td>0.000000</td>\n",
       "      <td>0.000000</td>\n",
       "      <td>0.000000</td>\n",
       "      <td>0.000000</td>\n",
       "      <td>0.000000</td>\n",
       "    </tr>\n",
       "    <tr>\n",
       "      <th>25%</th>\n",
       "      <td>39.750000</td>\n",
       "      <td>NaN</td>\n",
       "      <td>4.544500</td>\n",
       "      <td>0.602750</td>\n",
       "      <td>1.055750</td>\n",
       "      <td>0.547750</td>\n",
       "      <td>0.308000</td>\n",
       "      <td>0.108750</td>\n",
       "      <td>0.047000</td>\n",
       "    </tr>\n",
       "    <tr>\n",
       "      <th>50%</th>\n",
       "      <td>78.500000</td>\n",
       "      <td>NaN</td>\n",
       "      <td>5.379500</td>\n",
       "      <td>0.960000</td>\n",
       "      <td>1.271500</td>\n",
       "      <td>0.789000</td>\n",
       "      <td>0.417000</td>\n",
       "      <td>0.177500</td>\n",
       "      <td>0.085500</td>\n",
       "    </tr>\n",
       "    <tr>\n",
       "      <th>75%</th>\n",
       "      <td>117.250000</td>\n",
       "      <td>NaN</td>\n",
       "      <td>6.184500</td>\n",
       "      <td>1.232500</td>\n",
       "      <td>1.452500</td>\n",
       "      <td>0.881750</td>\n",
       "      <td>0.507250</td>\n",
       "      <td>0.248250</td>\n",
       "      <td>0.141250</td>\n",
       "    </tr>\n",
       "    <tr>\n",
       "      <th>max</th>\n",
       "      <td>156.000000</td>\n",
       "      <td>NaN</td>\n",
       "      <td>7.769000</td>\n",
       "      <td>1.684000</td>\n",
       "      <td>1.624000</td>\n",
       "      <td>1.141000</td>\n",
       "      <td>0.631000</td>\n",
       "      <td>0.566000</td>\n",
       "      <td>0.453000</td>\n",
       "    </tr>\n",
       "  </tbody>\n",
       "</table>\n",
       "</div>"
      ],
      "text/plain": [
       "        Overall rank Country or region       Score  GDP per capita  \\\n",
       "count     156.000000               156  156.000000      156.000000   \n",
       "unique           NaN               156         NaN             NaN   \n",
       "top              NaN           Finland         NaN             NaN   \n",
       "freq             NaN                 1         NaN             NaN   \n",
       "mean       78.500000               NaN    5.407096        0.905147   \n",
       "std        45.177428               NaN    1.113120        0.398389   \n",
       "min         1.000000               NaN    2.853000        0.000000   \n",
       "25%        39.750000               NaN    4.544500        0.602750   \n",
       "50%        78.500000               NaN    5.379500        0.960000   \n",
       "75%       117.250000               NaN    6.184500        1.232500   \n",
       "max       156.000000               NaN    7.769000        1.684000   \n",
       "\n",
       "        Social support  Healthy life expectancy  Freedom to make life choices  \\\n",
       "count       156.000000               156.000000                    156.000000   \n",
       "unique             NaN                      NaN                           NaN   \n",
       "top                NaN                      NaN                           NaN   \n",
       "freq               NaN                      NaN                           NaN   \n",
       "mean          1.208814                 0.725244                      0.392571   \n",
       "std           0.299191                 0.242124                      0.143289   \n",
       "min           0.000000                 0.000000                      0.000000   \n",
       "25%           1.055750                 0.547750                      0.308000   \n",
       "50%           1.271500                 0.789000                      0.417000   \n",
       "75%           1.452500                 0.881750                      0.507250   \n",
       "max           1.624000                 1.141000                      0.631000   \n",
       "\n",
       "        Generosity  Perceptions of corruption  \n",
       "count   156.000000                 156.000000  \n",
       "unique         NaN                        NaN  \n",
       "top            NaN                        NaN  \n",
       "freq           NaN                        NaN  \n",
       "mean      0.184846                   0.110603  \n",
       "std       0.095254                   0.094538  \n",
       "min       0.000000                   0.000000  \n",
       "25%       0.108750                   0.047000  \n",
       "50%       0.177500                   0.085500  \n",
       "75%       0.248250                   0.141250  \n",
       "max       0.566000                   0.453000  "
      ]
     },
     "execution_count": 7,
     "metadata": {},
     "output_type": "execute_result"
    }
   ],
   "source": [
    "df.describe(include='all')"
   ]
  },
  {
   "cell_type": "code",
   "execution_count": 8,
   "metadata": {},
   "outputs": [
    {
     "data": {
      "text/plain": [
       "Overall rank                    0\n",
       "Country or region               0\n",
       "Score                           0\n",
       "GDP per capita                  0\n",
       "Social support                  0\n",
       "Healthy life expectancy         0\n",
       "Freedom to make life choices    0\n",
       "Generosity                      0\n",
       "Perceptions of corruption       0\n",
       "dtype: int64"
      ]
     },
     "execution_count": 8,
     "metadata": {},
     "output_type": "execute_result"
    }
   ],
   "source": [
    "df.isnull().sum()\n"
   ]
  },
  {
   "cell_type": "code",
   "execution_count": 9,
   "metadata": {},
   "outputs": [
    {
     "data": {
      "image/png": "[encoded data removed]",
      "text/plain": [
       "<Figure size 1000x600 with 1 Axes>"
      ]
     },
     "metadata": {},
     "output_type": "display_data"
    }
   ],
   "source": [
    "\n",
    "# Social Support and Happiness:\n",
    "\n",
    "# Employ a Matplotlib scatter plot to investigate the relationship between ‘Social support’ and ‘Score’.\n",
    "# Regional Comparisons of GDP and Health:\n",
    "\n",
    "import matplotlib.pyplot as plt\n",
    "import numpy as np\n",
    "\n",
    "plt.figure(figsize=(10, 6))\n",
    "plt.scatter(df['Social support'], df['Score'], alpha=0.5)\n",
    "\n",
    "# Let's add a trend to better see the relationship\n",
    "z = np.polyfit(df['Social support'], df['Score'], 1)\n",
    "p = np.poly1d(z)\n",
    "x = np.linspace(df['Social support'].min(), df['Social support'].max(), 100)\n",
    "plt.plot(x, p(x), alpha=0.8, color='red', linestyle='--')\n",
    "\n",
    "plt.title('Relationship between Social Support and Happiness Score')\n",
    "plt.xlabel('Social Support')\n",
    "plt.ylabel('Happiness Score')\n",
    "plt.grid()\n",
    "plt.show()"
   ]
  },
  {
   "cell_type": "code",
   "execution_count": 10,
   "metadata": {},
   "outputs": [],
   "source": [
    "# Create a Matplotlib subplot that compares ‘GDP per Capita’ and ‘Healthy Life Expectancy’ across different regions.\n",
    "# Use a bar plot for ‘GDP per Capita’ and a line plot for ‘Healthy Life Expectancy’ on the same axes to observe how economic \n",
    "# strength relates to health outcomes in different regions."
   ]
  },
  {
   "cell_type": "code",
   "execution_count": 11,
   "metadata": {},
   "outputs": [],
   "source": [
    "# There are no regions in the dataset and I could't find simple working way to do it \n",
    "# using any python module (e.g. geopy). So I asked ChatGPT to generate it\n",
    "# It seemes that it is based on Maddison Project Database.\n",
    "\n",
    "region_mapping = {\n",
    "    'Western Europe': ['Finland', 'Denmark', 'Norway', 'Iceland', 'Netherlands', 'Switzerland', 'Sweden', 'Austria',\n",
    "                       'Ireland', 'Germany', 'Belgium', 'Luxembourg', 'United Kingdom', 'France', 'Spain', 'Portugal', \n",
    "                       'Italy', 'Malta', 'Greece', 'Croatia', 'Cyprus', 'Northern Cyprus'],\n",
    "    'North America and ANZ': ['Canada', 'United States', 'Australia', 'New Zealand'],\n",
    "    'Middle East and North Africa': ['Israel', 'United Arab Emirates', 'Saudi Arabia', 'Bahrain', 'Kuwait', 'Turkey',\n",
    "                                     'Qatar', 'Jordan', 'Morocco', 'Tunisia', 'Algeria', 'Lebanon', 'Egypt', 'Libya', \n",
    "                                     'Palestinian Territories', 'Iraq', 'Syria', 'Yemen', 'Iran'],\n",
    "    'Sub-Saharan Africa': ['South Africa', 'Nigeria', 'Kenya', 'Uganda', 'Zambia', 'Mauritius', 'Namibia', 'Ghana', \n",
    "                           'Cameroon', 'Ivory Coast', 'Senegal', 'Mali', 'Tanzania', 'Malawi', 'Benin', 'Congo (Brazzaville)',\n",
    "                           'Gabon', 'Somalia', 'Niger', 'Burkina Faso', 'Guinea', 'Gambia', 'Mauritania', 'Mozambique', \n",
    "                           'Congo (Kinshasa)', 'Sierra Leone', 'Chad', 'Ethiopia', 'Swaziland', 'Togo', 'Liberia', \n",
    "                           'Comoros', 'Madagascar', 'Lesotho', 'Burundi', 'Zimbabwe', 'Botswana', 'Rwanda', 'South Sudan', \n",
    "                           'Central African Republic'],\n",
    "    'Latin America and Caribbean': ['Mexico', 'Chile', 'Brazil', 'Argentina', 'Colombia', 'Uruguay', 'Panama', \n",
    "                                    'Costa Rica', 'Guatemala', 'Venezuela', 'Paraguay', 'Bolivia', 'El Salvador', \n",
    "                                    'Trinidad & Tobago', 'Ecuador', 'Jamaica', 'Honduras', 'Peru', 'Dominican Republic', \n",
    "                                    'Haiti', 'Nicaragua'],\n",
    "    'Central and Eastern Europe': ['Czech Republic', 'Slovakia', 'Hungary', 'Poland', 'Russia', 'Estonia', 'Lithuania',\n",
    "                                   'Latvia', 'Slovenia', 'Romania', 'Bulgaria', 'Serbia', 'Montenegro', 'Kosovo', \n",
    "                                   'Belarus', 'Bosnia and Herzegovina', 'North Macedonia', 'Ukraine', 'Moldova', \n",
    "                                   'Albania', 'Armenia', 'Georgia'],\n",
    "    'Southeast Asia': ['Singapore', 'Thailand', 'Malaysia', 'Indonesia', 'Philippines', 'Vietnam', 'Cambodia', 'Laos', \n",
    "                       'Myanmar'],\n",
    "    'East Asia': ['Japan', 'South Korea', 'Taiwan', 'China', 'Mongolia', 'Hong Kong'],\n",
    "    'South Asia': ['India', 'Pakistan', 'Sri Lanka', 'Bangladesh', 'Nepal', 'Bhutan', 'Afghanistan'],\n",
    "    'Central Asia': ['Kazakhstan', 'Uzbekistan', 'Tajikistan', 'Kyrgyzstan', 'Turkmenistan', 'Azerbaijan']\n",
    "}\n"
   ]
  },
  {
   "cell_type": "code",
   "execution_count": 12,
   "metadata": {},
   "outputs": [
    {
     "data": {
      "text/plain": [
       "[]"
      ]
     },
     "execution_count": 12,
     "metadata": {},
     "output_type": "execute_result"
    }
   ],
   "source": [
    "list(range(0))"
   ]
  },
  {
   "cell_type": "code",
   "execution_count": 13,
   "metadata": {},
   "outputs": [
    {
     "name": "stdout",
     "output_type": "stream",
     "text": [
      "default\n",
      "default\n"
     ]
    }
   ],
   "source": [
    "x = (i for i in range(0))\n",
    "\n",
    "for i in range(2):\n",
    "    print(next(x, 'default'))\n"
   ]
  },
  {
   "cell_type": "code",
   "execution_count": 14,
   "metadata": {},
   "outputs": [],
   "source": [
    "df['Region'] = df['Country or region'].apply(lambda x: next((key for key, values in region_mapping.items() if x in values), 'Other'))"
   ]
  },
  {
   "cell_type": "code",
   "execution_count": 15,
   "metadata": {},
   "outputs": [
    {
     "data": {
      "text/plain": [
       "array([], dtype=object)"
      ]
     },
     "execution_count": 15,
     "metadata": {},
     "output_type": "execute_result"
    }
   ],
   "source": [
    "df.loc[df['Region'] == 'Other', 'Country or region'].unique()"
   ]
  },
  {
   "cell_type": "code",
   "execution_count": 16,
   "metadata": {},
   "outputs": [
    {
     "data": {
      "text/plain": [
       "Region\n",
       "Sub-Saharan Africa              40\n",
       "Western Europe                  22\n",
       "Central and Eastern Europe      22\n",
       "Latin America and Caribbean     21\n",
       "Middle East and North Africa    19\n",
       "Southeast Asia                   9\n",
       "South Asia                       7\n",
       "East Asia                        6\n",
       "Central Asia                     6\n",
       "North America and ANZ            4\n",
       "Name: count, dtype: int64"
      ]
     },
     "execution_count": 16,
     "metadata": {},
     "output_type": "execute_result"
    }
   ],
   "source": [
    "df['Region'].value_counts()\n"
   ]
  },
  {
   "cell_type": "code",
   "execution_count": 17,
   "metadata": {},
   "outputs": [
    {
     "data": {
      "image/png": "[encoded data removed]",
      "text/plain": [
       "<Figure size 1200x600 with 2 Axes>"
      ]
     },
     "metadata": {},
     "output_type": "display_data"
    }
   ],
   "source": [
    "# Create a Matplotlib subplot that compares 'GDP per Capita' and 'Healthy Life Expectancy' across different regions.\n",
    "\n",
    "region_groups = df.groupby('Region', as_index=False).mean(numeric_only=True)\n",
    "\n",
    "plt.figure(figsize=(12, 6))\n",
    "\n",
    "# GDP per Capita\n",
    "plt.subplot(1, 2, 1)\n",
    "plt.bar(region_groups['Region'], region_groups['GDP per capita'])\n",
    "plt.title('Average GDP per Capita by Region')\n",
    "plt.xlabel('Region')\n",
    "plt.xticks(rotation=45, ha='right')\n",
    "plt.ylabel('GDP per capita')\n",
    "\n",
    "# Healthy Life Expectancy\n",
    "plt.subplot(1, 2, 2)\n",
    "plt.bar(region_groups['Region'], region_groups['Healthy life expectancy'])\n",
    "plt.title('Average Healthy Life Expectancy by Region')\n",
    "plt.xlabel('Region')\n",
    "plt.xticks(rotation=45, ha='right')\n",
    "plt.ylabel('Healthy life expectancy')\n",
    "\n",
    "plt.tight_layout()\n",
    "plt.show()\n"
   ]
  },
  {
   "cell_type": "code",
   "execution_count": 50,
   "metadata": {},
   "outputs": [
    {
     "name": "stdout",
     "output_type": "stream",
     "text": [
      "Collecting statsmodels\n",
      "  Downloading statsmodels-0.14.2-cp312-cp312-win_amd64.whl.metadata (9.5 kB)\n",
      "Requirement already satisfied: numpy>=1.22.3 in c:\\users\\vlad\\developers_institute\\practice\\di_venv\\lib\\site-packages (from statsmodels) (2.1.0)\n",
      "Requirement already satisfied: scipy!=1.9.2,>=1.8 in c:\\users\\vlad\\developers_institute\\practice\\di_venv\\lib\\site-packages (from statsmodels) (1.14.1)\n",
      "Requirement already satisfied: pandas!=2.1.0,>=1.4 in c:\\users\\vlad\\developers_institute\\practice\\di_venv\\lib\\site-packages (from statsmodels) (2.2.2)\n",
      "Collecting patsy>=0.5.6 (from statsmodels)\n",
      "  Downloading patsy-0.5.6-py2.py3-none-any.whl.metadata (3.5 kB)\n",
      "Requirement already satisfied: packaging>=21.3 in c:\\users\\vlad\\developers_institute\\practice\\di_venv\\lib\\site-packages (from statsmodels) (24.1)\n",
      "Requirement already satisfied: python-dateutil>=2.8.2 in c:\\users\\vlad\\developers_institute\\practice\\di_venv\\lib\\site-packages (from pandas!=2.1.0,>=1.4->statsmodels) (2.9.0.post0)\n",
      "Requirement already satisfied: pytz>=2020.1 in c:\\users\\vlad\\developers_institute\\practice\\di_venv\\lib\\site-packages (from pandas!=2.1.0,>=1.4->statsmodels) (2024.1)\n",
      "Requirement already satisfied: tzdata>=2022.7 in c:\\users\\vlad\\developers_institute\\practice\\di_venv\\lib\\site-packages (from pandas!=2.1.0,>=1.4->statsmodels) (2024.1)\n",
      "Requirement already satisfied: six in c:\\users\\vlad\\developers_institute\\practice\\di_venv\\lib\\site-packages (from patsy>=0.5.6->statsmodels) (1.16.0)\n",
      "Downloading statsmodels-0.14.2-cp312-cp312-win_amd64.whl (9.8 MB)\n",
      "   ---------------------------------------- 0.0/9.8 MB ? eta -:--:--\n",
      "   - -------------------------------------- 0.3/9.8 MB ? eta -:--:--\n",
      "   --------- ------------------------------ 2.4/9.8 MB 8.9 MB/s eta 0:00:01\n",
      "   ---------------------------------------- 9.8/9.8 MB 22.7 MB/s eta 0:00:00\n",
      "Downloading patsy-0.5.6-py2.py3-none-any.whl (233 kB)\n",
      "Installing collected packages: patsy, statsmodels\n",
      "Successfully installed patsy-0.5.6 statsmodels-0.14.2\n"
     ]
    }
   ],
   "source": [
    "# !pip install plotly\n",
    "# !pip install 'notebook>=5.3' 'ipywidgets>=7.5'\n",
    "!pip install statsmodels"
   ]
  },
  {
   "cell_type": "code",
   "execution_count": 22,
   "metadata": {},
   "outputs": [
    {
     "data": {
      "text/plain": [
       "Index(['Overall rank', 'Country or region', 'Score', 'GDP per capita',\n",
       "       'Social support', 'Healthy life expectancy',\n",
       "       'Freedom to make life choices', 'Generosity',\n",
       "       'Perceptions of corruption', 'Region'],\n",
       "      dtype='object')"
      ]
     },
     "execution_count": 22,
     "metadata": {},
     "output_type": "execute_result"
    }
   ],
   "source": [
    "df.columns"
   ]
  },
  {
   "cell_type": "code",
   "execution_count": 61,
   "metadata": {},
   "outputs": [
    {
     "data": {
      "application/vnd.plotly.v1+json": {
       "config": {
        "plotlyServerURL": "https://plot.ly"
       },
       "data": [
        {
         "hovertemplate": "<b>%{hovertext}</b><br><br>Region=Western Europe<br>GDP per capita=%{x}<br>Healthy life expectancy=%{y}<br>size=%{marker.size}<extra></extra>",
         "hovertext": [
          "Finland",
          "Denmark",
          "Norway",
          "Iceland",
          "Netherlands",
          "Switzerland",
          "Sweden",
          "Austria",
          "Luxembourg",
          "United Kingdom",
          "Ireland",
          "Germany",
          "Belgium",
          "Malta",
          "France",
          "Spain",
          "Italy",
          "Cyprus",
          "Northern Cyprus",
          "Portugal",
          "Croatia",
          "Greece"
         ],
         "legendgroup": "Western Europe",
         "marker": {
          "color": "#3366CC",
          "size": [
           100,
           96.56224572823433,
           95.62652563059399,
           94.4060211554109,
           94.28397070789258,
           94.12123677786819,
           91.33441822620017,
           89.3612693246542,
           86.18795768917819,
           85.45565500406835,
           84.78437754271764,
           84.05207485760779,
           82.79088689991863,
           78.78356387306752,
           76.05777054515866,
           71.21643612693246,
           68.55166802278274,
           64.95117982099268,
           58.27908868999185,
           57.77054515866556,
           52.4613506916192,
           49.51179820992676
          ],
          "sizemode": "area",
          "sizeref": 0.25,
          "symbol": "circle"
         },
         "mode": "markers",
         "name": "Western Europe",
         "orientation": "v",
         "showlegend": true,
         "type": "scatter",
         "x": [
          1.34,
          1.383,
          1.488,
          1.38,
          1.396,
          1.452,
          1.387,
          1.376,
          1.609,
          1.333,
          1.499,
          1.373,
          1.356,
          1.3,
          1.324,
          1.286,
          1.294,
          1.263,
          1.263,
          1.221,
          1.155,
          1.181
         ],
         "xaxis": "x",
         "y": [
          0.986,
          0.996,
          1.028,
          1.026,
          0.999,
          1.052,
          1.009,
          1.016,
          1.012,
          0.996,
          0.999,
          0.987,
          0.986,
          0.999,
          1.045,
          1.062,
          1.039,
          1.042,
          1.042,
          0.999,
          0.914,
          0.999
         ],
         "yaxis": "y"
        },
        {
         "hovertemplate": "<b>%{hovertext}</b><br><br>Region=North America and ANZ<br>GDP per capita=%{x}<br>Healthy life expectancy=%{y}<br>size=%{marker.size}<extra></extra>",
         "hovertext": [
          "New Zealand",
          "Canada",
          "Australia",
          "United States"
         ],
         "legendgroup": "North America and ANZ",
         "marker": {
          "color": "#DC3912",
          "size": [
           90.60211554109033,
           90.01220504475181,
           88.99511798209926,
           82.16029292107403
          ],
          "sizemode": "area",
          "sizeref": 0.25,
          "symbol": "circle"
         },
         "mode": "markers",
         "name": "North America and ANZ",
         "orientation": "v",
         "showlegend": true,
         "type": "scatter",
         "x": [
          1.303,
          1.365,
          1.372,
          1.433
         ],
         "xaxis": "x",
         "y": [
          1.026,
          1.039,
          1.036,
          0.874
         ],
         "yaxis": "y"
        },
        {
         "hovertemplate": "<b>%{hovertext}</b><br><br>Region=Latin America and Caribbean<br>GDP per capita=%{x}<br>Healthy life expectancy=%{y}<br>size=%{marker.size}<extra></extra>",
         "hovertext": [
          "Costa Rica",
          "Mexico",
          "Chile",
          "Guatemala",
          "Panama",
          "Brazil",
          "Uruguay",
          "El Salvador",
          "Trinidad & Tobago",
          "Colombia",
          "Nicaragua",
          "Argentina",
          "Ecuador",
          "Jamaica",
          "Honduras",
          "Bolivia",
          "Paraguay",
          "Peru",
          "Dominican Republic",
          "Venezuela",
          "Haiti"
         ],
         "legendgroup": "Latin America and Caribbean",
         "marker": {
          "color": "#FF9900",
          "size": [
           87.75427176566313,
           76.1187957689178,
           73.04719283970707,
           72.88445890968266,
           70.54515866558177,
           70.11798209926768,
           69.97558991049632,
           69.16192026037427,
           67.92107404393816,
           66.55817737998372,
           66.15134255492269,
           65.76484947111473,
           64.58502847843774,
           61.77786818551666,
           61.167615947925135,
           59.519934906427984,
           58.78763222131814,
           57.851912123677785,
           52.318958502847835,
           37.71358828315703,
           15.134255492270132
          ],
          "sizemode": "area",
          "sizeref": 0.25,
          "symbol": "circle"
         },
         "mode": "markers",
         "name": "Latin America and Caribbean",
         "orientation": "v",
         "showlegend": true,
         "type": "scatter",
         "x": [
          1.034,
          1.07,
          1.159,
          0.8,
          1.149,
          1.004,
          1.124,
          0.794,
          1.231,
          0.985,
          0.694,
          1.092,
          0.912,
          0.831,
          0.642,
          0.776,
          0.855,
          0.96,
          1.015,
          0.96,
          0.323
         ],
         "xaxis": "x",
         "y": [
          0.963,
          0.861,
          0.92,
          0.746,
          0.91,
          0.802,
          0.891,
          0.789,
          0.713,
          0.841,
          0.835,
          0.881,
          0.868,
          0.831,
          0.828,
          0.706,
          0.777,
          0.854,
          0.779,
          0.805,
          0.449
         ],
         "yaxis": "y"
        },
        {
         "hovertemplate": "<b>%{hovertext}</b><br><br>Region=Middle East and North Africa<br>GDP per capita=%{x}<br>Healthy life expectancy=%{y}<br>size=%{marker.size}<extra></extra>",
         "hovertext": [
          "Israel",
          "United Arab Emirates",
          "Saudi Arabia",
          "Qatar",
          "Bahrain",
          "Kuwait",
          "Libya",
          "Turkey",
          "Algeria",
          "Morocco",
          "Lebanon",
          "Jordan",
          "Palestinian Territories",
          "Iran",
          "Tunisia",
          "Iraq",
          "Egypt",
          "Syria",
          "Yemen"
         ],
         "legendgroup": "Middle East and North Africa",
         "marker": {
          "color": "#109618",
          "size": [
           87.18470301057769,
           80.7973962571196,
           71.64361269324652,
           71.62327095199348,
           68.06346623270952,
           64.44263628966638,
           54.35313262815297,
           51.26118795768917,
           47.96582587469487,
           47.90480065093571,
           47.68104149715215,
           41.76159479251423,
           37.48982912937346,
           34.47925142392188,
           32.709519934906425,
           32.22131814483319,
           26.70870626525631,
           12.388120423108216,
           10.720097640358007
          ],
          "sizemode": "area",
          "sizeref": 0.25,
          "symbol": "circle"
         },
         "mode": "markers",
         "name": "Middle East and North Africa",
         "orientation": "v",
         "showlegend": true,
         "type": "scatter",
         "x": [
          1.276,
          1.503,
          1.403,
          1.684,
          1.362,
          1.5,
          1.044,
          1.183,
          1.002,
          0.801,
          0.987,
          0.837,
          0.657,
          1.1,
          0.921,
          1.043,
          0.913,
          0.619,
          0.287
         ],
         "xaxis": "x",
         "y": [
          1.029,
          0.825,
          0.795,
          0.871,
          0.871,
          0.808,
          0.673,
          0.808,
          0.785,
          0.782,
          0.815,
          0.815,
          0.672,
          0.785,
          0.815,
          0.574,
          0.644,
          0.44,
          0.463
         ],
         "yaxis": "y"
        },
        {
         "hovertemplate": "<b>%{hovertext}</b><br><br>Region=Central and Eastern Europe<br>GDP per capita=%{x}<br>Healthy life expectancy=%{y}<br>size=%{marker.size}<extra></extra>",
         "hovertext": [
          "Czech Republic",
          "Slovakia",
          "Poland",
          "Lithuania",
          "Slovenia",
          "Kosovo",
          "Romania",
          "Latvia",
          "Estonia",
          "Hungary",
          "Russia",
          "Serbia",
          "Moldova",
          "Montenegro",
          "Bosnia and Herzegovina",
          "Belarus",
          "North Macedonia",
          "Bulgaria",
          "Albania",
          "Armenia",
          "Georgia",
          "Ukraine"
         ],
         "legendgroup": "Central and Eastern Europe",
         "marker": {
          "color": "#990099",
          "size": [
           81.346623270952,
           68.04312449145647,
           67.71765663140765,
           67.04637917005695,
           66.41578519121236,
           66.04963384865744,
           65.43938161106591,
           62.79495524816924,
           61.83889340927582,
           59.0927583401139,
           56.855166802278255,
           55.93978844589096,
           54.434499593165164,
           54.31244914564686,
           51.525630593978846,
           50.24410089503662,
           49.247355573637094,
           43.897477624084615,
           37.957689178193654,
           34.70301057770545,
           33.8893409275834,
           30.085435313262803
          ],
          "sizemode": "area",
          "sizeref": 0.25,
          "symbol": "circle"
         },
         "mode": "markers",
         "name": "Central and Eastern Europe",
         "orientation": "v",
         "showlegend": true,
         "type": "scatter",
         "x": [
          1.269,
          1.246,
          1.206,
          1.238,
          1.258,
          0.882,
          1.162,
          1.187,
          1.237,
          1.201,
          1.183,
          1.004,
          0.685,
          1.051,
          0.945,
          1.067,
          0.983,
          1.092,
          0.947,
          0.85,
          0.886,
          0.82
         ],
         "xaxis": "x",
         "y": [
          0.92,
          0.881,
          0.884,
          0.818,
          0.953,
          0.758,
          0.825,
          0.812,
          0.874,
          0.828,
          0.726,
          0.854,
          0.739,
          0.871,
          0.845,
          0.789,
          0.838,
          0.815,
          0.874,
          0.815,
          0.752,
          0.739
         ],
         "yaxis": "y"
        },
        {
         "hovertemplate": "<b>%{hovertext}</b><br><br>Region=East Asia<br>GDP per capita=%{x}<br>Healthy life expectancy=%{y}<br>size=%{marker.size}<extra></extra>",
         "hovertext": [
          "Taiwan",
          "South Korea",
          "Japan",
          "Hong Kong",
          "Mongolia",
          "China"
         ],
         "legendgroup": "East Asia",
         "marker": {
          "color": "#0099C6",
          "size": [
           73.08787632221316,
           61.879576891781916,
           61.69650122050447,
           52.420667209113084,
           49.47111472742066,
           47.55899104963384
          ],
          "sizemode": "area",
          "sizeref": 0.25,
          "symbol": "circle"
         },
         "mode": "markers",
         "name": "East Asia",
         "orientation": "v",
         "showlegend": true,
         "type": "scatter",
         "x": [
          1.368,
          1.301,
          1.327,
          1.438,
          0.948,
          1.029
         ],
         "xaxis": "x",
         "y": [
          0.914,
          1.036,
          1.088,
          1.122,
          0.667,
          0.893
         ],
         "yaxis": "y"
        },
        {
         "hovertemplate": "<b>%{hovertext}</b><br><br>Region=Southeast Asia<br>GDP per capita=%{x}<br>Healthy life expectancy=%{y}<br>size=%{marker.size}<extra></extra>",
         "hovertext": [
          "Singapore",
          "Thailand",
          "Philippines",
          "Malaysia",
          "Indonesia",
          "Vietnam",
          "Laos",
          "Cambodia",
          "Myanmar"
         ],
         "legendgroup": "Southeast Asia",
         "marker": {
          "color": "#DD4477",
          "size": [
           69.34499593165174,
           64.17819365337672,
           56.509357200976396,
           50.569568755085434,
           47.579332790886895,
           47.23352318958502,
           39.5240032546786,
           37.57119609438568,
           30.65500406834825
          ],
          "sizemode": "area",
          "sizeref": 0.25,
          "symbol": "circle"
         },
         "mode": "markers",
         "name": "Southeast Asia",
         "orientation": "v",
         "showlegend": true,
         "type": "scatter",
         "x": [
          1.572,
          1.05,
          0.807,
          1.221,
          0.931,
          0.741,
          0.764,
          0.574,
          0.71
         ],
         "xaxis": "x",
         "y": [
          1.141,
          0.828,
          0.657,
          0.828,
          0.66,
          0.851,
          0.551,
          0.637,
          0.555
         ],
         "yaxis": "y"
        },
        {
         "hovertemplate": "<b>%{hovertext}</b><br><br>Region=Central Asia<br>GDP per capita=%{x}<br>Healthy life expectancy=%{y}<br>size=%{marker.size}<extra></extra>",
         "hovertext": [
          "Uzbekistan",
          "Kazakhstan",
          "Tajikistan",
          "Kyrgyzstan",
          "Turkmenistan",
          "Azerbaijan"
         ],
         "legendgroup": "Central Asia",
         "marker": {
          "color": "#66AA00",
          "size": [
           67.55492270138323,
           60.13018714401952,
           53.17331163547598,
           48.982912937347436,
           48.69812855980471,
           47.90480065093571
          ],
          "sizemode": "area",
          "sizeref": 0.25,
          "symbol": "circle"
         },
         "mode": "markers",
         "name": "Central Asia",
         "orientation": "v",
         "showlegend": true,
         "type": "scatter",
         "x": [
          0.745,
          1.173,
          0.493,
          0.551,
          1.052,
          1.043
         ],
         "xaxis": "x",
         "y": [
          0.756,
          0.729,
          0.718,
          0.723,
          0.657,
          0.769
         ],
         "yaxis": "y"
        },
        {
         "hovertemplate": "<b>%{hovertext}</b><br><br>Region=Sub-Saharan Africa<br>GDP per capita=%{x}<br>Healthy life expectancy=%{y}<br>size=%{marker.size}<extra></extra>",
         "hovertext": [
          "Mauritius",
          "Nigeria",
          "Cameroon",
          "Ghana",
          "Ivory Coast",
          "Benin",
          "Congo (Brazzaville)",
          "Gabon",
          "South Africa",
          "Senegal",
          "Somalia",
          "Namibia",
          "Niger",
          "Burkina Faso",
          "Guinea",
          "Gambia",
          "Kenya",
          "Mauritania",
          "Mozambique",
          "Congo (Kinshasa)",
          "Mali",
          "Sierra Leone",
          "Chad",
          "Ethiopia",
          "Swaziland",
          "Uganda",
          "Zambia",
          "Togo",
          "Liberia",
          "Comoros",
          "Madagascar",
          "Lesotho",
          "Burundi",
          "Zimbabwe",
          "Botswana",
          "Malawi",
          "Rwanda",
          "Tanzania",
          "Central African Republic",
          "South Sudan"
         ],
         "legendgroup": "Sub-Saharan Africa",
         "marker": {
          "color": "#B82E2E",
          "size": [
           61.73718470301056,
           49.06427990235962,
           44.5687550854353,
           43.59235150528885,
           42.53458096013018,
           41.29373474369405,
           39.84947111472742,
           39.585028478437756,
           38.018714401952806,
           37.1847030105777,
           36.920260374288034,
           36.33034987794955,
           36.10659072416598,
           35.272579332790876,
           34.19446704637916,
           33.82831570382424,
           33.68592351505289,
           33.299430431244915,
           32.81122864117168,
           31.834825061025217,
           31.265256305939776,
           30.939788445890954,
           30.451586655817724,
           29.14971521562244,
           27.644426362896652,
           27.176566314076478,
           25.50854353132628,
           25.06102522375915,
           22.82343368592351,
           22.782750203417404,
           21.969080553295353,
           19.30431244914564,
           18.755085435313255,
           16.476810414971514,
           12.917005695687545,
           11.33034987794955,
           9.784377542717653,
           7.689178193653369,
           4.6786004882017895,
           0
          ],
          "sizemode": "area",
          "sizeref": 0.25,
          "symbol": "circle"
         },
         "mode": "markers",
         "name": "Sub-Saharan Africa",
         "orientation": "v",
         "showlegend": true,
         "type": "scatter",
         "x": [
          1.12,
          0.696,
          0.549,
          0.611,
          0.569,
          0.393,
          0.673,
          1.057,
          0.96,
          0.45,
          0,
          0.879,
          0.138,
          0.331,
          0.38,
          0.308,
          0.512,
          0.57,
          0.204,
          0.094,
          0.385,
          0.268,
          0.35,
          0.336,
          0.811,
          0.332,
          0.578,
          0.275,
          0.073,
          0.274,
          0.274,
          0.489,
          0.046,
          0.366,
          1.041,
          0.191,
          0.359,
          0.476,
          0.026,
          0.306
         ],
         "xaxis": "x",
         "y": [
          0.798,
          0.245,
          0.331,
          0.486,
          0.232,
          0.397,
          0.508,
          0.571,
          0.469,
          0.571,
          0.268,
          0.477,
          0.366,
          0.38,
          0.375,
          0.428,
          0.581,
          0.489,
          0.39,
          0.357,
          0.308,
          0.242,
          0.192,
          0.532,
          0,
          0.443,
          0.426,
          0.41,
          0.443,
          0.505,
          0.555,
          0.168,
          0.38,
          0.433,
          0.538,
          0.495,
          0.614,
          0.499,
          0.105,
          0.295
         ],
         "yaxis": "y"
        },
        {
         "hovertemplate": "<b>%{hovertext}</b><br><br>Region=South Asia<br>GDP per capita=%{x}<br>Healthy life expectancy=%{y}<br>size=%{marker.size}<extra></extra>",
         "hovertext": [
          "Pakistan",
          "Bhutan",
          "Nepal",
          "Bangladesh",
          "Sri Lanka",
          "India",
          "Afghanistan"
         ],
         "legendgroup": "South Asia",
         "marker": {
          "color": "#316395",
          "size": [
           56.95687550854351,
           45.34174125305125,
           41.9039869812856,
           32.607811228641175,
           30.777054515866542,
           23.637103336045552,
           7.119609438567934
          ],
          "sizemode": "area",
          "sizeref": 0.25,
          "symbol": "circle"
         },
         "mode": "markers",
         "name": "South Asia",
         "orientation": "v",
         "showlegend": true,
         "type": "scatter",
         "x": [
          0.677,
          0.813,
          0.446,
          0.562,
          0.949,
          0.755,
          0.35
         ],
         "xaxis": "x",
         "y": [
          0.535,
          0.604,
          0.677,
          0.723,
          0.831,
          0.588,
          0.361
         ],
         "yaxis": "y"
        },
        {
         "line": {
          "color": "red"
         },
         "mode": "lines",
         "name": "Trend Line",
         "type": "scatter",
         "x": [
          0,
          0.01701010101010101,
          0.03402020202020202,
          0.05103030303030303,
          0.06804040404040404,
          0.08505050505050504,
          0.10206060606060606,
          0.11907070707070708,
          0.13608080808080808,
          0.15309090909090908,
          0.17010101010101009,
          0.18711111111111112,
          0.20412121212121212,
          0.22113131313131312,
          0.23814141414141415,
          0.25515151515151513,
          0.27216161616161616,
          0.2891717171717172,
          0.30618181818181817,
          0.3231919191919192,
          0.34020202020202017,
          0.3572121212121212,
          0.37422222222222223,
          0.3912323232323232,
          0.40824242424242424,
          0.42525252525252527,
          0.44226262626262625,
          0.4592727272727273,
          0.4762828282828283,
          0.4932929292929293,
          0.5103030303030303,
          0.5273131313131313,
          0.5443232323232323,
          0.5613333333333334,
          0.5783434343434344,
          0.5953535353535353,
          0.6123636363636363,
          0.6293737373737374,
          0.6463838383838384,
          0.6633939393939394,
          0.6804040404040403,
          0.6974141414141414,
          0.7144242424242424,
          0.7314343434343434,
          0.7484444444444445,
          0.7654545454545455,
          0.7824646464646464,
          0.7994747474747474,
          0.8164848484848485,
          0.8334949494949495,
          0.8505050505050505,
          0.8675151515151515,
          0.8845252525252525,
          0.9015353535353535,
          0.9185454545454546,
          0.9355555555555556,
          0.9525656565656566,
          0.9695757575757575,
          0.9865858585858586,
          1.0035959595959596,
          1.0206060606060605,
          1.0376161616161617,
          1.0546262626262626,
          1.0716363636363637,
          1.0886464646464646,
          1.1056565656565656,
          1.1226666666666667,
          1.1396767676767676,
          1.1566868686868688,
          1.1736969696969697,
          1.1907070707070706,
          1.2077171717171717,
          1.2247272727272727,
          1.2417373737373738,
          1.2587474747474747,
          1.2757575757575756,
          1.2927676767676768,
          1.3097777777777777,
          1.3267878787878788,
          1.3437979797979798,
          1.3608080808080807,
          1.3778181818181818,
          1.3948282828282828,
          1.411838383838384,
          1.4288484848484848,
          1.445858585858586,
          1.4628686868686869,
          1.4798787878787878,
          1.496888888888889,
          1.5138989898989899,
          1.530909090909091,
          1.547919191919192,
          1.5649292929292928,
          1.581939393939394,
          1.598949494949495,
          1.615959595959596,
          1.632969696969697,
          1.6499797979797979,
          1.666989898989899,
          1.684
         ],
         "y": [
          0.26564776019525294,
          0.2742847746465917,
          0.2829217890979304,
          0.2915588035492692,
          0.30019581800060796,
          0.3088328324519467,
          0.31746984690328545,
          0.32610686135462424,
          0.334743875805963,
          0.34338089025730173,
          0.35201790470864047,
          0.36065491915997927,
          0.36929193361131796,
          0.37792894806265676,
          0.3865659625139955,
          0.39520297696533424,
          0.40383999141667304,
          0.4124770058680118,
          0.4211140203193505,
          0.42975103477068927,
          0.438388049222028,
          0.4470250636733668,
          0.45566207812470555,
          0.4642990925760443,
          0.47293610702738303,
          0.4815731214787218,
          0.4902101359300606,
          0.4988471503813993,
          0.5074841648327381,
          0.5161211792840767,
          0.5247581937354155,
          0.5333952081867543,
          0.5420322226380931,
          0.5506692370894318,
          0.5593062515407706,
          0.5679432659921093,
          0.5765802804434481,
          0.5852172948947869,
          0.5938543093461256,
          0.6024913237974644,
          0.6111283382488031,
          0.6197653527001419,
          0.6284023671514807,
          0.6370393816028194,
          0.6456763960541582,
          0.6543134105054969,
          0.6629504249568356,
          0.6715874394081744,
          0.6802244538595131,
          0.6888614683108519,
          0.6974984827621906,
          0.7061354972135294,
          0.7147725116648682,
          0.7234095261162069,
          0.7320465405675457,
          0.7406835550188844,
          0.7493205694702232,
          0.757957583921562,
          0.7665945983729007,
          0.7752316128242395,
          0.7838686272755782,
          0.792505641726917,
          0.8011426561782558,
          0.8097796706295946,
          0.8184166850809332,
          0.8270536995322719,
          0.8356907139836107,
          0.8443277284349495,
          0.8529647428862883,
          0.861601757337627,
          0.8702387717889657,
          0.8788757862403045,
          0.8875128006916433,
          0.8961498151429821,
          0.9047868295943208,
          0.9134238440456595,
          0.9220608584969983,
          0.9306978729483371,
          0.9393348873996759,
          0.9479719018510145,
          0.9566089163023532,
          0.965245930753692,
          0.9738829452050308,
          0.9825199596563696,
          0.9911569741077083,
          0.9997939885590471,
          1.0084310030103858,
          1.0170680174617246,
          1.0257050319130634,
          1.0343420463644022,
          1.0429790608157408,
          1.0516160752670796,
          1.0602530897184184,
          1.0688901041697572,
          1.077527118621096,
          1.0861641330724345,
          1.0948011475237733,
          1.1034381619751121,
          1.112075176426451,
          1.1207121908777897
         ]
        }
       ],
       "layout": {
        "height": 600,
        "legend": {
         "itemsizing": "constant",
         "title": {
          "text": "Region"
         },
         "tracegroupgap": 0
        },
        "margin": {
         "t": 60
        },
        "template": {
         "data": {
          "bar": [
           {
            "error_x": {
             "color": "#2a3f5f"
            },
            "error_y": {
             "color": "#2a3f5f"
            },
            "marker": {
             "line": {
              "color": "#E5ECF6",
              "width": 0.5
             },
             "pattern": {
              "fillmode": "overlay",
              "size": 10,
              "solidity": 0.2
             }
            },
            "type": "bar"
           }
          ],
          "barpolar": [
           {
            "marker": {
             "line": {
              "color": "#E5ECF6",
              "width": 0.5
             },
             "pattern": {
              "fillmode": "overlay",
              "size": 10,
              "solidity": 0.2
             }
            },
            "type": "barpolar"
           }
          ],
          "carpet": [
           {
            "aaxis": {
             "endlinecolor": "#2a3f5f",
             "gridcolor": "white",
             "linecolor": "white",
             "minorgridcolor": "white",
             "startlinecolor": "#2a3f5f"
            },
            "baxis": {
             "endlinecolor": "#2a3f5f",
             "gridcolor": "white",
             "linecolor": "white",
             "minorgridcolor": "white",
             "startlinecolor": "#2a3f5f"
            },
            "type": "carpet"
           }
          ],
          "choropleth": [
           {
            "colorbar": {
             "outlinewidth": 0,
             "ticks": ""
            },
            "type": "choropleth"
           }
          ],
          "contour": [
           {
            "colorbar": {
             "outlinewidth": 0,
             "ticks": ""
            },
            "colorscale": [
             [
              0,
              "#0d0887"
             ],
             [
              0.1111111111111111,
              "#46039f"
             ],
             [
              0.2222222222222222,
              "#7201a8"
             ],
             [
              0.3333333333333333,
              "#9c179e"
             ],
             [
              0.4444444444444444,
              "#bd3786"
             ],
             [
              0.5555555555555556,
              "#d8576b"
             ],
             [
              0.6666666666666666,
              "#ed7953"
             ],
             [
              0.7777777777777778,
              "#fb9f3a"
             ],
             [
              0.8888888888888888,
              "#fdca26"
             ],
             [
              1,
              "#f0f921"
             ]
            ],
            "type": "contour"
           }
          ],
          "contourcarpet": [
           {
            "colorbar": {
             "outlinewidth": 0,
             "ticks": ""
            },
            "type": "contourcarpet"
           }
          ],
          "heatmap": [
           {
            "colorbar": {
             "outlinewidth": 0,
             "ticks": ""
            },
            "colorscale": [
             [
              0,
              "#0d0887"
             ],
             [
              0.1111111111111111,
              "#46039f"
             ],
             [
              0.2222222222222222,
              "#7201a8"
             ],
             [
              0.3333333333333333,
              "#9c179e"
             ],
             [
              0.4444444444444444,
              "#bd3786"
             ],
             [
              0.5555555555555556,
              "#d8576b"
             ],
             [
              0.6666666666666666,
              "#ed7953"
             ],
             [
              0.7777777777777778,
              "#fb9f3a"
             ],
             [
              0.8888888888888888,
              "#fdca26"
             ],
             [
              1,
              "#f0f921"
             ]
            ],
            "type": "heatmap"
           }
          ],
          "heatmapgl": [
           {
            "colorbar": {
             "outlinewidth": 0,
             "ticks": ""
            },
            "colorscale": [
             [
              0,
              "#0d0887"
             ],
             [
              0.1111111111111111,
              "#46039f"
             ],
             [
              0.2222222222222222,
              "#7201a8"
             ],
             [
              0.3333333333333333,
              "#9c179e"
             ],
             [
              0.4444444444444444,
              "#bd3786"
             ],
             [
              0.5555555555555556,
              "#d8576b"
             ],
             [
              0.6666666666666666,
              "#ed7953"
             ],
             [
              0.7777777777777778,
              "#fb9f3a"
             ],
             [
              0.8888888888888888,
              "#fdca26"
             ],
             [
              1,
              "#f0f921"
             ]
            ],
            "type": "heatmapgl"
           }
          ],
          "histogram": [
           {
            "marker": {
             "pattern": {
              "fillmode": "overlay",
              "size": 10,
              "solidity": 0.2
             }
            },
            "type": "histogram"
           }
          ],
          "histogram2d": [
           {
            "colorbar": {
             "outlinewidth": 0,
             "ticks": ""
            },
            "colorscale": [
             [
              0,
              "#0d0887"
             ],
             [
              0.1111111111111111,
              "#46039f"
             ],
             [
              0.2222222222222222,
              "#7201a8"
             ],
             [
              0.3333333333333333,
              "#9c179e"
             ],
             [
              0.4444444444444444,
              "#bd3786"
             ],
             [
              0.5555555555555556,
              "#d8576b"
             ],
             [
              0.6666666666666666,
              "#ed7953"
             ],
             [
              0.7777777777777778,
              "#fb9f3a"
             ],
             [
              0.8888888888888888,
              "#fdca26"
             ],
             [
              1,
              "#f0f921"
             ]
            ],
            "type": "histogram2d"
           }
          ],
          "histogram2dcontour": [
           {
            "colorbar": {
             "outlinewidth": 0,
             "ticks": ""
            },
            "colorscale": [
             [
              0,
              "#0d0887"
             ],
             [
              0.1111111111111111,
              "#46039f"
             ],
             [
              0.2222222222222222,
              "#7201a8"
             ],
             [
              0.3333333333333333,
              "#9c179e"
             ],
             [
              0.4444444444444444,
              "#bd3786"
             ],
             [
              0.5555555555555556,
              "#d8576b"
             ],
             [
              0.6666666666666666,
              "#ed7953"
             ],
             [
              0.7777777777777778,
              "#fb9f3a"
             ],
             [
              0.8888888888888888,
              "#fdca26"
             ],
             [
              1,
              "#f0f921"
             ]
            ],
            "type": "histogram2dcontour"
           }
          ],
          "mesh3d": [
           {
            "colorbar": {
             "outlinewidth": 0,
             "ticks": ""
            },
            "type": "mesh3d"
           }
          ],
          "parcoords": [
           {
            "line": {
             "colorbar": {
              "outlinewidth": 0,
              "ticks": ""
             }
            },
            "type": "parcoords"
           }
          ],
          "pie": [
           {
            "automargin": true,
            "type": "pie"
           }
          ],
          "scatter": [
           {
            "fillpattern": {
             "fillmode": "overlay",
             "size": 10,
             "solidity": 0.2
            },
            "type": "scatter"
           }
          ],
          "scatter3d": [
           {
            "line": {
             "colorbar": {
              "outlinewidth": 0,
              "ticks": ""
             }
            },
            "marker": {
             "colorbar": {
              "outlinewidth": 0,
              "ticks": ""
             }
            },
            "type": "scatter3d"
           }
          ],
          "scattercarpet": [
           {
            "marker": {
             "colorbar": {
              "outlinewidth": 0,
              "ticks": ""
             }
            },
            "type": "scattercarpet"
           }
          ],
          "scattergeo": [
           {
            "marker": {
             "colorbar": {
              "outlinewidth": 0,
              "ticks": ""
             }
            },
            "type": "scattergeo"
           }
          ],
          "scattergl": [
           {
            "marker": {
             "colorbar": {
              "outlinewidth": 0,
              "ticks": ""
             }
            },
            "type": "scattergl"
           }
          ],
          "scattermapbox": [
           {
            "marker": {
             "colorbar": {
              "outlinewidth": 0,
              "ticks": ""
             }
            },
            "type": "scattermapbox"
           }
          ],
          "scatterpolar": [
           {
            "marker": {
             "colorbar": {
              "outlinewidth": 0,
              "ticks": ""
             }
            },
            "type": "scatterpolar"
           }
          ],
          "scatterpolargl": [
           {
            "marker": {
             "colorbar": {
              "outlinewidth": 0,
              "ticks": ""
             }
            },
            "type": "scatterpolargl"
           }
          ],
          "scatterternary": [
           {
            "marker": {
             "colorbar": {
              "outlinewidth": 0,
              "ticks": ""
             }
            },
            "type": "scatterternary"
           }
          ],
          "surface": [
           {
            "colorbar": {
             "outlinewidth": 0,
             "ticks": ""
            },
            "colorscale": [
             [
              0,
              "#0d0887"
             ],
             [
              0.1111111111111111,
              "#46039f"
             ],
             [
              0.2222222222222222,
              "#7201a8"
             ],
             [
              0.3333333333333333,
              "#9c179e"
             ],
             [
              0.4444444444444444,
              "#bd3786"
             ],
             [
              0.5555555555555556,
              "#d8576b"
             ],
             [
              0.6666666666666666,
              "#ed7953"
             ],
             [
              0.7777777777777778,
              "#fb9f3a"
             ],
             [
              0.8888888888888888,
              "#fdca26"
             ],
             [
              1,
              "#f0f921"
             ]
            ],
            "type": "surface"
           }
          ],
          "table": [
           {
            "cells": {
             "fill": {
              "color": "#EBF0F8"
             },
             "line": {
              "color": "white"
             }
            },
            "header": {
             "fill": {
              "color": "#C8D4E3"
             },
             "line": {
              "color": "white"
             }
            },
            "type": "table"
           }
          ]
         },
         "layout": {
          "annotationdefaults": {
           "arrowcolor": "#2a3f5f",
           "arrowhead": 0,
           "arrowwidth": 1
          },
          "autotypenumbers": "strict",
          "coloraxis": {
           "colorbar": {
            "outlinewidth": 0,
            "ticks": ""
           }
          },
          "colorscale": {
           "diverging": [
            [
             0,
             "#8e0152"
            ],
            [
             0.1,
             "#c51b7d"
            ],
            [
             0.2,
             "#de77ae"
            ],
            [
             0.3,
             "#f1b6da"
            ],
            [
             0.4,
             "#fde0ef"
            ],
            [
             0.5,
             "#f7f7f7"
            ],
            [
             0.6,
             "#e6f5d0"
            ],
            [
             0.7,
             "#b8e186"
            ],
            [
             0.8,
             "#7fbc41"
            ],
            [
             0.9,
             "#4d9221"
            ],
            [
             1,
             "#276419"
            ]
           ],
           "sequential": [
            [
             0,
             "#0d0887"
            ],
            [
             0.1111111111111111,
             "#46039f"
            ],
            [
             0.2222222222222222,
             "#7201a8"
            ],
            [
             0.3333333333333333,
             "#9c179e"
            ],
            [
             0.4444444444444444,
             "#bd3786"
            ],
            [
             0.5555555555555556,
             "#d8576b"
            ],
            [
             0.6666666666666666,
             "#ed7953"
            ],
            [
             0.7777777777777778,
             "#fb9f3a"
            ],
            [
             0.8888888888888888,
             "#fdca26"
            ],
            [
             1,
             "#f0f921"
            ]
           ],
           "sequentialminus": [
            [
             0,
             "#0d0887"
            ],
            [
             0.1111111111111111,
             "#46039f"
            ],
            [
             0.2222222222222222,
             "#7201a8"
            ],
            [
             0.3333333333333333,
             "#9c179e"
            ],
            [
             0.4444444444444444,
             "#bd3786"
            ],
            [
             0.5555555555555556,
             "#d8576b"
            ],
            [
             0.6666666666666666,
             "#ed7953"
            ],
            [
             0.7777777777777778,
             "#fb9f3a"
            ],
            [
             0.8888888888888888,
             "#fdca26"
            ],
            [
             1,
             "#f0f921"
            ]
           ]
          },
          "colorway": [
           "#636efa",
           "#EF553B",
           "#00cc96",
           "#ab63fa",
           "#FFA15A",
           "#19d3f3",
           "#FF6692",
           "#B6E880",
           "#FF97FF",
           "#FECB52"
          ],
          "font": {
           "color": "#2a3f5f"
          },
          "geo": {
           "bgcolor": "white",
           "lakecolor": "white",
           "landcolor": "#E5ECF6",
           "showlakes": true,
           "showland": true,
           "subunitcolor": "white"
          },
          "hoverlabel": {
           "align": "left"
          },
          "hovermode": "closest",
          "mapbox": {
           "style": "light"
          },
          "paper_bgcolor": "white",
          "plot_bgcolor": "#E5ECF6",
          "polar": {
           "angularaxis": {
            "gridcolor": "white",
            "linecolor": "white",
            "ticks": ""
           },
           "bgcolor": "#E5ECF6",
           "radialaxis": {
            "gridcolor": "white",
            "linecolor": "white",
            "ticks": ""
           }
          },
          "scene": {
           "xaxis": {
            "backgroundcolor": "#E5ECF6",
            "gridcolor": "white",
            "gridwidth": 2,
            "linecolor": "white",
            "showbackground": true,
            "ticks": "",
            "zerolinecolor": "white"
           },
           "yaxis": {
            "backgroundcolor": "#E5ECF6",
            "gridcolor": "white",
            "gridwidth": 2,
            "linecolor": "white",
            "showbackground": true,
            "ticks": "",
            "zerolinecolor": "white"
           },
           "zaxis": {
            "backgroundcolor": "#E5ECF6",
            "gridcolor": "white",
            "gridwidth": 2,
            "linecolor": "white",
            "showbackground": true,
            "ticks": "",
            "zerolinecolor": "white"
           }
          },
          "shapedefaults": {
           "line": {
            "color": "#2a3f5f"
           }
          },
          "ternary": {
           "aaxis": {
            "gridcolor": "white",
            "linecolor": "white",
            "ticks": ""
           },
           "baxis": {
            "gridcolor": "white",
            "linecolor": "white",
            "ticks": ""
           },
           "bgcolor": "#E5ECF6",
           "caxis": {
            "gridcolor": "white",
            "linecolor": "white",
            "ticks": ""
           }
          },
          "title": {
           "x": 0.05
          },
          "xaxis": {
           "automargin": true,
           "gridcolor": "white",
           "linecolor": "white",
           "ticks": "",
           "title": {
            "standoff": 15
           },
           "zerolinecolor": "white",
           "zerolinewidth": 2
          },
          "yaxis": {
           "automargin": true,
           "gridcolor": "white",
           "linecolor": "white",
           "ticks": "",
           "title": {
            "standoff": 15
           },
           "zerolinecolor": "white",
           "zerolinewidth": 2
          }
         }
        },
        "title": {
         "text": "GDP vs Healthy Life Expectancy by Country with Happiness Score"
        },
        "width": 900,
        "xaxis": {
         "anchor": "y",
         "domain": [
          0,
          1
         ],
         "title": {
          "text": "GDP per capita"
         }
        },
        "yaxis": {
         "anchor": "x",
         "domain": [
          0,
          1
         ],
         "title": {
          "text": "Healthy life expectancy"
         }
        }
       }
      }
     },
     "metadata": {},
     "output_type": "display_data"
    }
   ],
   "source": [
    "import plotly.express as px\n",
    "import plotly.graph_objects as go\n",
    "\n",
    "# Let's scale the Score to make differences more noticeable\n",
    "scaled_score = (df['Score'] - df['Score'].min()) / (df['Score'].max() - df['Score'].min()) * 100\n",
    "\n",
    "fig = px.scatter(df, x='GDP per capita', y='Healthy life expectancy',\n",
    "                 size=scaled_score, color='Region', hover_name='Country or region',\n",
    "                 color_discrete_sequence=px.colors.qualitative.G10, size_max=20)\n",
    "\n",
    "\n",
    "z = np.polyfit(df['GDP per capita'], df['Healthy life expectancy'], 1)\n",
    "p = np.poly1d(z)\n",
    "x = np.linspace(df['GDP per capita'].min(), df['GDP per capita'].max(), 100)\n",
    "fig.add_trace(go.Scatter(x=x, y=p(x), mode='lines',\n",
    "                         line=dict(color='red'),\n",
    "                         name='Trend Line'))\n",
    "\n",
    "\n",
    "\n",
    "fig.update_layout(width=900, height=600,\n",
    "                  title='GDP vs Healthy Life Expectancy by Country with Happiness Score')\n",
    "\n",
    "fig.show()"
   ]
  },
  {
   "cell_type": "code",
   "execution_count": 62,
   "metadata": {},
   "outputs": [
    {
     "data": {
      "application/vnd.plotly.v1+json": {
       "config": {
        "plotlyServerURL": "https://plot.ly"
       },
       "data": [
        {
         "hovertemplate": "Region=Central Asia<br>GDP per capita=%{x}<br>Healthy life expectancy=%{y}<br>size=%{marker.size}<extra></extra>",
         "legendgroup": "Central Asia",
         "marker": {
          "color": "#3366CC",
          "size": [
           42.68189509306257
          ],
          "sizemode": "area",
          "sizeref": 0.04,
          "symbol": "circle"
         },
         "mode": "markers",
         "name": "Central Asia",
         "orientation": "v",
         "showlegend": true,
         "type": "scatter",
         "x": [
          0.8428333333333334
         ],
         "xaxis": "x",
         "y": [
          0.7253333333333334
         ],
         "yaxis": "y"
        },
        {
         "hovertemplate": "Region=Central and Eastern Europe<br>GDP per capita=%{x}<br>Healthy life expectancy=%{y}<br>size=%{marker.size}<extra></extra>",
         "legendgroup": "Central and Eastern Europe",
         "marker": {
          "color": "#DC3912",
          "size": [
           44.38447825729658
          ],
          "sizemode": "area",
          "sizeref": 0.04,
          "symbol": "circle"
         },
         "mode": "markers",
         "name": "Central and Eastern Europe",
         "orientation": "v",
         "showlegend": true,
         "type": "scatter",
         "x": [
          1.063590909090909
         ],
         "xaxis": "x",
         "y": [
          0.8277272727272728
         ],
         "yaxis": "y"
        },
        {
         "hovertemplate": "Region=East Asia<br>GDP per capita=%{x}<br>Healthy life expectancy=%{y}<br>size=%{marker.size}<extra></extra>",
         "legendgroup": "East Asia",
         "marker": {
          "color": "#FF9900",
          "size": [
           48.285353359757046
          ],
          "sizemode": "area",
          "sizeref": 0.04,
          "symbol": "circle"
         },
         "mode": "markers",
         "name": "East Asia",
         "orientation": "v",
         "showlegend": true,
         "type": "scatter",
         "x": [
          1.2351666666666665
         ],
         "xaxis": "x",
         "y": [
          0.9533333333333335
         ],
         "yaxis": "y"
        },
        {
         "hovertemplate": "Region=Latin America and Caribbean<br>GDP per capita=%{x}<br>Healthy life expectancy=%{y}<br>size=%{marker.size}<extra></extra>",
         "legendgroup": "Latin America and Caribbean",
         "marker": {
          "color": "#109618",
          "size": [
           57.51959430597914
          ],
          "sizemode": "area",
          "sizeref": 0.04,
          "symbol": "circle"
         },
         "mode": "markers",
         "name": "Latin America and Caribbean",
         "orientation": "v",
         "showlegend": true,
         "type": "scatter",
         "x": [
          0.9242857142857143
         ],
         "xaxis": "x",
         "y": [
          0.8118571428571428
         ],
         "yaxis": "y"
        },
        {
         "hovertemplate": "Region=Middle East and North Africa<br>GDP per capita=%{x}<br>Healthy life expectancy=%{y}<br>size=%{marker.size}<extra></extra>",
         "legendgroup": "Middle East and North Africa",
         "marker": {
          "color": "#990099",
          "size": [
           32.57596829149571
          ],
          "sizemode": "area",
          "sizeref": 0.04,
          "symbol": "circle"
         },
         "mode": "markers",
         "name": "Middle East and North Africa",
         "orientation": "v",
         "showlegend": true,
         "type": "scatter",
         "x": [
          1.0590526315789475
         ],
         "xaxis": "x",
         "y": [
          0.7510526315789473
         ],
         "yaxis": "y"
        },
        {
         "hovertemplate": "Region=North America and ANZ<br>GDP per capita=%{x}<br>Healthy life expectancy=%{y}<br>size=%{marker.size}<extra></extra>",
         "legendgroup": "North America and ANZ",
         "marker": {
          "color": "#0099C6",
          "size": [
           100
          ],
          "sizemode": "area",
          "sizeref": 0.04,
          "symbol": "circle"
         },
         "mode": "markers",
         "name": "North America and ANZ",
         "orientation": "v",
         "showlegend": true,
         "type": "scatter",
         "x": [
          1.36825
         ],
         "xaxis": "x",
         "y": [
          0.99375
         ],
         "yaxis": "y"
        },
        {
         "hovertemplate": "Region=South Asia<br>GDP per capita=%{x}<br>Healthy life expectancy=%{y}<br>size=%{marker.size}<extra></extra>",
         "legendgroup": "South Asia",
         "marker": {
          "color": "#DD4477",
          "size": [
           7.885652696514227
          ],
          "sizemode": "area",
          "sizeref": 0.04,
          "symbol": "circle"
         },
         "mode": "markers",
         "name": "South Asia",
         "orientation": "v",
         "showlegend": true,
         "type": "scatter",
         "x": [
          0.6502857142857142
         ],
         "xaxis": "x",
         "y": [
          0.617
         ],
         "yaxis": "y"
        },
        {
         "hovertemplate": "Region=Southeast Asia<br>GDP per capita=%{x}<br>Healthy life expectancy=%{y}<br>size=%{marker.size}<extra></extra>",
         "legendgroup": "Southeast Asia",
         "marker": {
          "color": "#66AA00",
          "size": [
           33.85079850728972
          ],
          "sizemode": "area",
          "sizeref": 0.04,
          "symbol": "circle"
         },
         "mode": "markers",
         "name": "Southeast Asia",
         "orientation": "v",
         "showlegend": true,
         "type": "scatter",
         "x": [
          0.9300000000000002
         ],
         "xaxis": "x",
         "y": [
          0.7453333333333334
         ],
         "yaxis": "y"
        },
        {
         "hovertemplate": "Region=Sub-Saharan Africa<br>GDP per capita=%{x}<br>Healthy life expectancy=%{y}<br>size=%{marker.size}<extra></extra>",
         "legendgroup": "Sub-Saharan Africa",
         "marker": {
          "color": "#B82E2E",
          "size": [
           0
          ],
          "sizemode": "area",
          "sizeref": 0.04,
          "symbol": "circle"
         },
         "mode": "markers",
         "name": "Sub-Saharan Africa",
         "orientation": "v",
         "showlegend": true,
         "type": "scatter",
         "x": [
          0.44375
         ],
         "xaxis": "x",
         "y": [
          0.40754999999999997
         ],
         "yaxis": "y"
        },
        {
         "hovertemplate": "Region=Western Europe<br>GDP per capita=%{x}<br>Healthy life expectancy=%{y}<br>size=%{marker.size}<extra></extra>",
         "legendgroup": "Western Europe",
         "marker": {
          "color": "#316395",
          "size": [
           86.15676618770979
          ],
          "sizemode": "area",
          "sizeref": 0.04,
          "symbol": "circle"
         },
         "mode": "markers",
         "name": "Western Europe",
         "orientation": "v",
         "showlegend": true,
         "type": "scatter",
         "x": [
          1.3481363636363637
         ],
         "xaxis": "x",
         "y": [
          1.010590909090909
         ],
         "yaxis": "y"
        }
       ],
       "layout": {
        "height": 600,
        "legend": {
         "itemsizing": "constant",
         "title": {
          "text": "Region"
         },
         "tracegroupgap": 0
        },
        "margin": {
         "t": 60
        },
        "template": {
         "data": {
          "bar": [
           {
            "error_x": {
             "color": "#2a3f5f"
            },
            "error_y": {
             "color": "#2a3f5f"
            },
            "marker": {
             "line": {
              "color": "#E5ECF6",
              "width": 0.5
             },
             "pattern": {
              "fillmode": "overlay",
              "size": 10,
              "solidity": 0.2
             }
            },
            "type": "bar"
           }
          ],
          "barpolar": [
           {
            "marker": {
             "line": {
              "color": "#E5ECF6",
              "width": 0.5
             },
             "pattern": {
              "fillmode": "overlay",
              "size": 10,
              "solidity": 0.2
             }
            },
            "type": "barpolar"
           }
          ],
          "carpet": [
           {
            "aaxis": {
             "endlinecolor": "#2a3f5f",
             "gridcolor": "white",
             "linecolor": "white",
             "minorgridcolor": "white",
             "startlinecolor": "#2a3f5f"
            },
            "baxis": {
             "endlinecolor": "#2a3f5f",
             "gridcolor": "white",
             "linecolor": "white",
             "minorgridcolor": "white",
             "startlinecolor": "#2a3f5f"
            },
            "type": "carpet"
           }
          ],
          "choropleth": [
           {
            "colorbar": {
             "outlinewidth": 0,
             "ticks": ""
            },
            "type": "choropleth"
           }
          ],
          "contour": [
           {
            "colorbar": {
             "outlinewidth": 0,
             "ticks": ""
            },
            "colorscale": [
             [
              0,
              "#0d0887"
             ],
             [
              0.1111111111111111,
              "#46039f"
             ],
             [
              0.2222222222222222,
              "#7201a8"
             ],
             [
              0.3333333333333333,
              "#9c179e"
             ],
             [
              0.4444444444444444,
              "#bd3786"
             ],
             [
              0.5555555555555556,
              "#d8576b"
             ],
             [
              0.6666666666666666,
              "#ed7953"
             ],
             [
              0.7777777777777778,
              "#fb9f3a"
             ],
             [
              0.8888888888888888,
              "#fdca26"
             ],
             [
              1,
              "#f0f921"
             ]
            ],
            "type": "contour"
           }
          ],
          "contourcarpet": [
           {
            "colorbar": {
             "outlinewidth": 0,
             "ticks": ""
            },
            "type": "contourcarpet"
           }
          ],
          "heatmap": [
           {
            "colorbar": {
             "outlinewidth": 0,
             "ticks": ""
            },
            "colorscale": [
             [
              0,
              "#0d0887"
             ],
             [
              0.1111111111111111,
              "#46039f"
             ],
             [
              0.2222222222222222,
              "#7201a8"
             ],
             [
              0.3333333333333333,
              "#9c179e"
             ],
             [
              0.4444444444444444,
              "#bd3786"
             ],
             [
              0.5555555555555556,
              "#d8576b"
             ],
             [
              0.6666666666666666,
              "#ed7953"
             ],
             [
              0.7777777777777778,
              "#fb9f3a"
             ],
             [
              0.8888888888888888,
              "#fdca26"
             ],
             [
              1,
              "#f0f921"
             ]
            ],
            "type": "heatmap"
           }
          ],
          "heatmapgl": [
           {
            "colorbar": {
             "outlinewidth": 0,
             "ticks": ""
            },
            "colorscale": [
             [
              0,
              "#0d0887"
             ],
             [
              0.1111111111111111,
              "#46039f"
             ],
             [
              0.2222222222222222,
              "#7201a8"
             ],
             [
              0.3333333333333333,
              "#9c179e"
             ],
             [
              0.4444444444444444,
              "#bd3786"
             ],
             [
              0.5555555555555556,
              "#d8576b"
             ],
             [
              0.6666666666666666,
              "#ed7953"
             ],
             [
              0.7777777777777778,
              "#fb9f3a"
             ],
             [
              0.8888888888888888,
              "#fdca26"
             ],
             [
              1,
              "#f0f921"
             ]
            ],
            "type": "heatmapgl"
           }
          ],
          "histogram": [
           {
            "marker": {
             "pattern": {
              "fillmode": "overlay",
              "size": 10,
              "solidity": 0.2
             }
            },
            "type": "histogram"
           }
          ],
          "histogram2d": [
           {
            "colorbar": {
             "outlinewidth": 0,
             "ticks": ""
            },
            "colorscale": [
             [
              0,
              "#0d0887"
             ],
             [
              0.1111111111111111,
              "#46039f"
             ],
             [
              0.2222222222222222,
              "#7201a8"
             ],
             [
              0.3333333333333333,
              "#9c179e"
             ],
             [
              0.4444444444444444,
              "#bd3786"
             ],
             [
              0.5555555555555556,
              "#d8576b"
             ],
             [
              0.6666666666666666,
              "#ed7953"
             ],
             [
              0.7777777777777778,
              "#fb9f3a"
             ],
             [
              0.8888888888888888,
              "#fdca26"
             ],
             [
              1,
              "#f0f921"
             ]
            ],
            "type": "histogram2d"
           }
          ],
          "histogram2dcontour": [
           {
            "colorbar": {
             "outlinewidth": 0,
             "ticks": ""
            },
            "colorscale": [
             [
              0,
              "#0d0887"
             ],
             [
              0.1111111111111111,
              "#46039f"
             ],
             [
              0.2222222222222222,
              "#7201a8"
             ],
             [
              0.3333333333333333,
              "#9c179e"
             ],
             [
              0.4444444444444444,
              "#bd3786"
             ],
             [
              0.5555555555555556,
              "#d8576b"
             ],
             [
              0.6666666666666666,
              "#ed7953"
             ],
             [
              0.7777777777777778,
              "#fb9f3a"
             ],
             [
              0.8888888888888888,
              "#fdca26"
             ],
             [
              1,
              "#f0f921"
             ]
            ],
            "type": "histogram2dcontour"
           }
          ],
          "mesh3d": [
           {
            "colorbar": {
             "outlinewidth": 0,
             "ticks": ""
            },
            "type": "mesh3d"
           }
          ],
          "parcoords": [
           {
            "line": {
             "colorbar": {
              "outlinewidth": 0,
              "ticks": ""
             }
            },
            "type": "parcoords"
           }
          ],
          "pie": [
           {
            "automargin": true,
            "type": "pie"
           }
          ],
          "scatter": [
           {
            "fillpattern": {
             "fillmode": "overlay",
             "size": 10,
             "solidity": 0.2
            },
            "type": "scatter"
           }
          ],
          "scatter3d": [
           {
            "line": {
             "colorbar": {
              "outlinewidth": 0,
              "ticks": ""
             }
            },
            "marker": {
             "colorbar": {
              "outlinewidth": 0,
              "ticks": ""
             }
            },
            "type": "scatter3d"
           }
          ],
          "scattercarpet": [
           {
            "marker": {
             "colorbar": {
              "outlinewidth": 0,
              "ticks": ""
             }
            },
            "type": "scattercarpet"
           }
          ],
          "scattergeo": [
           {
            "marker": {
             "colorbar": {
              "outlinewidth": 0,
              "ticks": ""
             }
            },
            "type": "scattergeo"
           }
          ],
          "scattergl": [
           {
            "marker": {
             "colorbar": {
              "outlinewidth": 0,
              "ticks": ""
             }
            },
            "type": "scattergl"
           }
          ],
          "scattermapbox": [
           {
            "marker": {
             "colorbar": {
              "outlinewidth": 0,
              "ticks": ""
             }
            },
            "type": "scattermapbox"
           }
          ],
          "scatterpolar": [
           {
            "marker": {
             "colorbar": {
              "outlinewidth": 0,
              "ticks": ""
             }
            },
            "type": "scatterpolar"
           }
          ],
          "scatterpolargl": [
           {
            "marker": {
             "colorbar": {
              "outlinewidth": 0,
              "ticks": ""
             }
            },
            "type": "scatterpolargl"
           }
          ],
          "scatterternary": [
           {
            "marker": {
             "colorbar": {
              "outlinewidth": 0,
              "ticks": ""
             }
            },
            "type": "scatterternary"
           }
          ],
          "surface": [
           {
            "colorbar": {
             "outlinewidth": 0,
             "ticks": ""
            },
            "colorscale": [
             [
              0,
              "#0d0887"
             ],
             [
              0.1111111111111111,
              "#46039f"
             ],
             [
              0.2222222222222222,
              "#7201a8"
             ],
             [
              0.3333333333333333,
              "#9c179e"
             ],
             [
              0.4444444444444444,
              "#bd3786"
             ],
             [
              0.5555555555555556,
              "#d8576b"
             ],
             [
              0.6666666666666666,
              "#ed7953"
             ],
             [
              0.7777777777777778,
              "#fb9f3a"
             ],
             [
              0.8888888888888888,
              "#fdca26"
             ],
             [
              1,
              "#f0f921"
             ]
            ],
            "type": "surface"
           }
          ],
          "table": [
           {
            "cells": {
             "fill": {
              "color": "#EBF0F8"
             },
             "line": {
              "color": "white"
             }
            },
            "header": {
             "fill": {
              "color": "#C8D4E3"
             },
             "line": {
              "color": "white"
             }
            },
            "type": "table"
           }
          ]
         },
         "layout": {
          "annotationdefaults": {
           "arrowcolor": "#2a3f5f",
           "arrowhead": 0,
           "arrowwidth": 1
          },
          "autotypenumbers": "strict",
          "coloraxis": {
           "colorbar": {
            "outlinewidth": 0,
            "ticks": ""
           }
          },
          "colorscale": {
           "diverging": [
            [
             0,
             "#8e0152"
            ],
            [
             0.1,
             "#c51b7d"
            ],
            [
             0.2,
             "#de77ae"
            ],
            [
             0.3,
             "#f1b6da"
            ],
            [
             0.4,
             "#fde0ef"
            ],
            [
             0.5,
             "#f7f7f7"
            ],
            [
             0.6,
             "#e6f5d0"
            ],
            [
             0.7,
             "#b8e186"
            ],
            [
             0.8,
             "#7fbc41"
            ],
            [
             0.9,
             "#4d9221"
            ],
            [
             1,
             "#276419"
            ]
           ],
           "sequential": [
            [
             0,
             "#0d0887"
            ],
            [
             0.1111111111111111,
             "#46039f"
            ],
            [
             0.2222222222222222,
             "#7201a8"
            ],
            [
             0.3333333333333333,
             "#9c179e"
            ],
            [
             0.4444444444444444,
             "#bd3786"
            ],
            [
             0.5555555555555556,
             "#d8576b"
            ],
            [
             0.6666666666666666,
             "#ed7953"
            ],
            [
             0.7777777777777778,
             "#fb9f3a"
            ],
            [
             0.8888888888888888,
             "#fdca26"
            ],
            [
             1,
             "#f0f921"
            ]
           ],
           "sequentialminus": [
            [
             0,
             "#0d0887"
            ],
            [
             0.1111111111111111,
             "#46039f"
            ],
            [
             0.2222222222222222,
             "#7201a8"
            ],
            [
             0.3333333333333333,
             "#9c179e"
            ],
            [
             0.4444444444444444,
             "#bd3786"
            ],
            [
             0.5555555555555556,
             "#d8576b"
            ],
            [
             0.6666666666666666,
             "#ed7953"
            ],
            [
             0.7777777777777778,
             "#fb9f3a"
            ],
            [
             0.8888888888888888,
             "#fdca26"
            ],
            [
             1,
             "#f0f921"
            ]
           ]
          },
          "colorway": [
           "#636efa",
           "#EF553B",
           "#00cc96",
           "#ab63fa",
           "#FFA15A",
           "#19d3f3",
           "#FF6692",
           "#B6E880",
           "#FF97FF",
           "#FECB52"
          ],
          "font": {
           "color": "#2a3f5f"
          },
          "geo": {
           "bgcolor": "white",
           "lakecolor": "white",
           "landcolor": "#E5ECF6",
           "showlakes": true,
           "showland": true,
           "subunitcolor": "white"
          },
          "hoverlabel": {
           "align": "left"
          },
          "hovermode": "closest",
          "mapbox": {
           "style": "light"
          },
          "paper_bgcolor": "white",
          "plot_bgcolor": "#E5ECF6",
          "polar": {
           "angularaxis": {
            "gridcolor": "white",
            "linecolor": "white",
            "ticks": ""
           },
           "bgcolor": "#E5ECF6",
           "radialaxis": {
            "gridcolor": "white",
            "linecolor": "white",
            "ticks": ""
           }
          },
          "scene": {
           "xaxis": {
            "backgroundcolor": "#E5ECF6",
            "gridcolor": "white",
            "gridwidth": 2,
            "linecolor": "white",
            "showbackground": true,
            "ticks": "",
            "zerolinecolor": "white"
           },
           "yaxis": {
            "backgroundcolor": "#E5ECF6",
            "gridcolor": "white",
            "gridwidth": 2,
            "linecolor": "white",
            "showbackground": true,
            "ticks": "",
            "zerolinecolor": "white"
           },
           "zaxis": {
            "backgroundcolor": "#E5ECF6",
            "gridcolor": "white",
            "gridwidth": 2,
            "linecolor": "white",
            "showbackground": true,
            "ticks": "",
            "zerolinecolor": "white"
           }
          },
          "shapedefaults": {
           "line": {
            "color": "#2a3f5f"
           }
          },
          "ternary": {
           "aaxis": {
            "gridcolor": "white",
            "linecolor": "white",
            "ticks": ""
           },
           "baxis": {
            "gridcolor": "white",
            "linecolor": "white",
            "ticks": ""
           },
           "bgcolor": "#E5ECF6",
           "caxis": {
            "gridcolor": "white",
            "linecolor": "white",
            "ticks": ""
           }
          },
          "title": {
           "x": 0.05
          },
          "xaxis": {
           "automargin": true,
           "gridcolor": "white",
           "linecolor": "white",
           "ticks": "",
           "title": {
            "standoff": 15
           },
           "zerolinecolor": "white",
           "zerolinewidth": 2
          },
          "yaxis": {
           "automargin": true,
           "gridcolor": "white",
           "linecolor": "white",
           "ticks": "",
           "title": {
            "standoff": 15
           },
           "zerolinecolor": "white",
           "zerolinewidth": 2
          }
         }
        },
        "title": {
         "text": "GDP vs Healthy Life Expectancy by REgion with Happiness Score"
        },
        "width": 900,
        "xaxis": {
         "anchor": "y",
         "domain": [
          0,
          1
         ],
         "title": {
          "text": "GDP per capita"
         }
        },
        "yaxis": {
         "anchor": "x",
         "domain": [
          0,
          1
         ],
         "title": {
          "text": "Healthy life expectancy"
         }
        }
       }
      }
     },
     "metadata": {},
     "output_type": "display_data"
    }
   ],
   "source": [
    "scaled_score = (region_groups['Score'] - region_groups['Score'].min()) / (region_groups['Score'].max() - region_groups['Score'].min()) * 100\n",
    "\n",
    "fig = px.scatter(region_groups, x='GDP per capita', y='Healthy life expectancy',\n",
    "                 size=scaled_score, color='Region',\n",
    "                 color_discrete_sequence=px.colors.qualitative.G10, size_max=50)\n",
    "\n",
    "fig.update_layout(width=900, height=600,\n",
    "                  title='GDP vs Healthy Life Expectancy by REgion with Happiness Score')\n",
    "\n",
    "fig.show()"
   ]
  },
  {
   "cell_type": "code",
   "execution_count": 58,
   "metadata": {},
   "outputs": [
    {
     "data": {
      "image/png": "[encoded data removed]",
      "text/plain": [
       "<Figure size 1200x600 with 2 Axes>"
      ]
     },
     "metadata": {},
     "output_type": "display_data"
    }
   ],
   "source": [
    "import matplotlib.pyplot as plt\n",
    "\n",
    "sorted_data = region_groups.sort_values('GDP per capita', ascending=False)\n",
    "\n",
    "fig, ax1 = plt.subplots(figsize=(12, 6))\n",
    "\n",
    "ax1.bar(sorted_data['Region'], sorted_data['GDP per capita'])\n",
    "ax1.set_xlabel('Region')\n",
    "ax1.set_ylabel('GDP per Capita')\n",
    "ax1.tick_params(axis='y')\n",
    "\n",
    "plt.xticks(rotation=45, ha='right')\n",
    "\n",
    "# Create second y-axis\n",
    "ax2 = ax1.twinx()\n",
    "\n",
    "ax2.plot(sorted_data['Region'], sorted_data['Healthy life expectancy'], color='red', marker='o')\n",
    "ax2.set_ylabel('Healthy Life Expectancy')\n",
    "ax2.set_ylim(0, 1.2)\n",
    "ax2.tick_params(axis='y')\n",
    "\n",
    "plt.title('GDP per Capita vs Healthy Life Expectancy by Region')\n",
    "plt.tight_layout()\n",
    "\n",
    "plt.show()\n",
    "\n"
   ]
  },
  {
   "cell_type": "markdown",
   "metadata": {},
   "source": [
    "We see a patter where countries with higher GDP per capita have higher healthy life expectancy what is expected.\\\n",
    "We also can see some interesting cases that needs further investigation:\n",
    "- Latin America and Caribbean have higher healthy life expectancy than regions with similar GDP\n",
    "- Middle East and North Africa have healthy life expectancy on a similar level as regions with lower GDP\n",
    "\n",
    "\n"
   ]
  }
 ],
 "metadata": {
  "kernelspec": {
   "display_name": "di_venv",
   "language": "python",
   "name": "python3"
  },
  "language_info": {
   "codemirror_mode": {
    "name": "ipython",
    "version": 3
   },
   "file_extension": ".py",
   "mimetype": "text/x-python",
   "name": "python",
   "nbconvert_exporter": "python",
   "pygments_lexer": "ipython3",
   "version": "3.12.3"
  }
 },
 "nbformat": 4,
 "nbformat_minor": 2
}
