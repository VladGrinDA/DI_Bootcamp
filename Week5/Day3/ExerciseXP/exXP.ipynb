{
 "cells": [
  {
   "cell_type": "code",
   "execution_count": 4,
   "metadata": {},
   "outputs": [
    {
     "name": "stdout",
     "output_type": "stream",
     "text": [
      "True\n"
     ]
    }
   ],
   "source": [
    "### download and extract chinook sample DB\n",
    "import urllib.request\n",
    "import zipfile\n",
    "from functools import partial\n",
    "import os\n",
    "\n",
    "file_path = 'datasets/chinook.zip'\n",
    "print(os.path.exists(file_path))\n",
    "\n",
    "chinook_url = 'http://www.sqlitetutorial.net/wp-content/uploads/2018/03/chinook.zip'\n",
    "if not os.path.exists(file_path):\n",
    "    print('downloading chinook.zip ', end='')\n",
    "    with urllib.request.urlopen(chinook_url) as response:\n",
    "        with open('chinook.zip', 'wb') as f:\n",
    "            for data in iter(partial(response.read, 4*1024), b''):\n",
    "                print('.', end='', flush=True)\n",
    "                f.write(data)\n",
    "\n",
    "zipfile.ZipFile(file_path).extractall(os.path.dirname(file_path))\n",
    "assert os.path.exists(file_path.replace('.zip', '.db'))\n"
   ]
  },
  {
   "cell_type": "code",
   "execution_count": 7,
   "metadata": {},
   "outputs": [],
   "source": [
    "from IPython.display import display\n",
    "import pandas as pd\n",
    "import sqlalchemy as sa\n",
    "\n",
    "\n",
    "def sql(query):\n",
    "    print()\n",
    "    print(query)\n",
    "    print()\n",
    "\n",
    "def get_results(query):\n",
    "    global engine\n",
    "    q = query.statement if isinstance(query, sa.orm.query.Query) else query\n",
    "    return pd.read_sql(q, engine)\n",
    "\n",
    "def display_results(query):\n",
    "    df = get_results(query)\n",
    "    display(df)\n",
    "    sql(query)"
   ]
  },
  {
   "cell_type": "markdown",
   "metadata": {},
   "source": [
    "Exercise 1 \\\n",
    "open the database using sqlalchemy module interface. create an engine object in a variable named engine \\\n",
    "call the connect() method to obtain a connection and place in a variable named cur"
   ]
  },
  {
   "cell_type": "code",
   "execution_count": 10,
   "metadata": {},
   "outputs": [],
   "source": [
    "\n",
    "engine = sa.create_engine('sqlite:///datasets/chinook.db')\n",
    "conn = engine.connect()"
   ]
  },
  {
   "cell_type": "code",
   "execution_count": 12,
   "metadata": {},
   "outputs": [],
   "source": [
    "### useful: extract classes from the chinook database\n",
    "metadata = sa.MetaData()\n",
    "metadata.reflect(engine)\n",
    "\n",
    "## we need to do this once\n",
    "from sqlalchemy.ext.automap import automap_base\n",
    "\n",
    "# produce a set of mappings from this MetaData.\n",
    "Base = automap_base(metadata=metadata)\n",
    "\n",
    "# calling prepare() just sets up mapped classes and relationships.\n",
    "Base.prepare()\n",
    "\n",
    "# also prepare an orm session\n",
    "from sqlalchemy.orm import sessionmaker\n",
    "Session = sessionmaker(bind=engine)\n",
    "session = Session()"
   ]
  },
  {
   "cell_type": "markdown",
   "metadata": {},
   "source": [
    "Exercise 2 \\\n",
    "print out all the table names\n"
   ]
  },
  {
   "cell_type": "code",
   "execution_count": 14,
   "metadata": {},
   "outputs": [
    {
     "data": {
      "text/plain": [
       "dict_keys(['albums', 'artists', 'customers', 'employees', 'genres', 'invoice_items', 'tracks', 'media_types', 'invoices', 'playlist_track', 'playlists'])"
      ]
     },
     "execution_count": 14,
     "metadata": {},
     "output_type": "execute_result"
    }
   ],
   "source": [
    "metadata.tables.keys()\n"
   ]
  },
  {
   "cell_type": "markdown",
   "metadata": {},
   "source": [
    "Exercise 3 \\\n",
    "print out the first three tracks in the tracks table\n"
   ]
  },
  {
   "cell_type": "code",
   "execution_count": 32,
   "metadata": {},
   "outputs": [
    {
     "data": {
      "text/plain": [
       "['TrackId',\n",
       " 'Name',\n",
       " 'AlbumId',\n",
       " 'MediaTypeId',\n",
       " 'GenreId',\n",
       " 'Composer',\n",
       " 'Milliseconds',\n",
       " 'Bytes',\n",
       " 'UnitPrice']"
      ]
     },
     "execution_count": 32,
     "metadata": {},
     "output_type": "execute_result"
    }
   ],
   "source": [
    "tracks = sa.Table('tracks', metadata, autoload=True, autoload_with=engine)\n",
    "tracks.columns.keys()\n",
    "\n"
   ]
  },
  {
   "cell_type": "code",
   "execution_count": 18,
   "metadata": {},
   "outputs": [
    {
     "data": {
      "text/html": [
       "<div>\n",
       "<style scoped>\n",
       "    .dataframe tbody tr th:only-of-type {\n",
       "        vertical-align: middle;\n",
       "    }\n",
       "\n",
       "    .dataframe tbody tr th {\n",
       "        vertical-align: top;\n",
       "    }\n",
       "\n",
       "    .dataframe thead th {\n",
       "        text-align: right;\n",
       "    }\n",
       "</style>\n",
       "<table border=\"1\" class=\"dataframe\">\n",
       "  <thead>\n",
       "    <tr style=\"text-align: right;\">\n",
       "      <th></th>\n",
       "      <th>TrackId</th>\n",
       "      <th>Name</th>\n",
       "      <th>AlbumId</th>\n",
       "      <th>MediaTypeId</th>\n",
       "      <th>GenreId</th>\n",
       "      <th>Composer</th>\n",
       "      <th>Milliseconds</th>\n",
       "      <th>Bytes</th>\n",
       "      <th>UnitPrice</th>\n",
       "    </tr>\n",
       "  </thead>\n",
       "  <tbody>\n",
       "    <tr>\n",
       "      <th>0</th>\n",
       "      <td>1</td>\n",
       "      <td>For Those About To Rock (We Salute You)</td>\n",
       "      <td>1</td>\n",
       "      <td>1</td>\n",
       "      <td>1</td>\n",
       "      <td>Angus Young, Malcolm Young, Brian Johnson</td>\n",
       "      <td>343719</td>\n",
       "      <td>11170334</td>\n",
       "      <td>0.99</td>\n",
       "    </tr>\n",
       "    <tr>\n",
       "      <th>1</th>\n",
       "      <td>2</td>\n",
       "      <td>Balls to the Wall</td>\n",
       "      <td>2</td>\n",
       "      <td>2</td>\n",
       "      <td>1</td>\n",
       "      <td>None</td>\n",
       "      <td>342562</td>\n",
       "      <td>5510424</td>\n",
       "      <td>0.99</td>\n",
       "    </tr>\n",
       "    <tr>\n",
       "      <th>2</th>\n",
       "      <td>3</td>\n",
       "      <td>Fast As a Shark</td>\n",
       "      <td>3</td>\n",
       "      <td>2</td>\n",
       "      <td>1</td>\n",
       "      <td>F. Baltes, S. Kaufman, U. Dirkscneider &amp; W. Ho...</td>\n",
       "      <td>230619</td>\n",
       "      <td>3990994</td>\n",
       "      <td>0.99</td>\n",
       "    </tr>\n",
       "  </tbody>\n",
       "</table>\n",
       "</div>"
      ],
      "text/plain": [
       "   TrackId                                     Name  AlbumId  MediaTypeId  \\\n",
       "0        1  For Those About To Rock (We Salute You)        1            1   \n",
       "1        2                        Balls to the Wall        2            2   \n",
       "2        3                          Fast As a Shark        3            2   \n",
       "\n",
       "   GenreId                                           Composer  Milliseconds  \\\n",
       "0        1          Angus Young, Malcolm Young, Brian Johnson        343719   \n",
       "1        1                                               None        342562   \n",
       "2        1  F. Baltes, S. Kaufman, U. Dirkscneider & W. Ho...        230619   \n",
       "\n",
       "      Bytes  UnitPrice  \n",
       "0  11170334       0.99  \n",
       "1   5510424       0.99  \n",
       "2   3990994       0.99  "
      ]
     },
     "metadata": {},
     "output_type": "display_data"
    },
    {
     "name": "stdout",
     "output_type": "stream",
     "text": [
      "\n",
      "SELECT tracks.\"TrackId\", tracks.\"Name\", tracks.\"AlbumId\", tracks.\"MediaTypeId\", tracks.\"GenreId\", tracks.\"Composer\", tracks.\"Milliseconds\", tracks.\"Bytes\", tracks.\"UnitPrice\" \n",
      "FROM tracks\n",
      " LIMIT :param_1\n",
      "\n"
     ]
    }
   ],
   "source": [
    "query = sa.select(tracks).limit(3)\n",
    "display_results(query)"
   ]
  },
  {
   "cell_type": "markdown",
   "metadata": {},
   "source": [
    "Exercise 4 \\\n",
    "print out the track name and albums title of the first 20 tracks in the tracks table\n",
    "\n"
   ]
  },
  {
   "cell_type": "code",
   "execution_count": 29,
   "metadata": {},
   "outputs": [
    {
     "data": {
      "text/plain": [
       "['AlbumId', 'Title', 'ArtistId']"
      ]
     },
     "execution_count": 29,
     "metadata": {},
     "output_type": "execute_result"
    }
   ],
   "source": [
    "albums = sa.Table('albums', metadata, autoload=True, autoload_with=engine)\n",
    "albums.columns.keys()"
   ]
  },
  {
   "cell_type": "code",
   "execution_count": null,
   "metadata": {},
   "outputs": [],
   "source": [
    "\n",
    "\n",
    "query = sa.select(tracks.c.Name, albums.c.Title).limit(20)\n",
    "display_results(query)"
   ]
  },
  {
   "cell_type": "markdown",
   "metadata": {},
   "source": [
    "Exercise 5 \\\n",
    "print out the first 10 track sales from the invoice_items table \\\n",
    "for these first 10 sales, print what are the names of the track sold, and the quantity sold\n"
   ]
  },
  {
   "cell_type": "code",
   "execution_count": 30,
   "metadata": {},
   "outputs": [
    {
     "data": {
      "text/plain": [
       "['InvoiceLineId', 'InvoiceId', 'TrackId', 'UnitPrice', 'Quantity']"
      ]
     },
     "execution_count": 30,
     "metadata": {},
     "output_type": "execute_result"
    }
   ],
   "source": [
    "invoice_items = sa.Table('invoice_items', metadata, autoload=True, autoload_with=engine)\n",
    "invoice_items.columns.keys()"
   ]
  },
  {
   "cell_type": "code",
   "execution_count": 31,
   "metadata": {},
   "outputs": [
    {
     "data": {
      "text/html": [
       "<div>\n",
       "<style scoped>\n",
       "    .dataframe tbody tr th:only-of-type {\n",
       "        vertical-align: middle;\n",
       "    }\n",
       "\n",
       "    .dataframe tbody tr th {\n",
       "        vertical-align: top;\n",
       "    }\n",
       "\n",
       "    .dataframe thead th {\n",
       "        text-align: right;\n",
       "    }\n",
       "</style>\n",
       "<table border=\"1\" class=\"dataframe\">\n",
       "  <thead>\n",
       "    <tr style=\"text-align: right;\">\n",
       "      <th></th>\n",
       "      <th>Quantity</th>\n",
       "      <th>Name</th>\n",
       "    </tr>\n",
       "  </thead>\n",
       "  <tbody>\n",
       "    <tr>\n",
       "      <th>0</th>\n",
       "      <td>1</td>\n",
       "      <td>For Those About To Rock (We Salute You)</td>\n",
       "    </tr>\n",
       "    <tr>\n",
       "      <th>1</th>\n",
       "      <td>1</td>\n",
       "      <td>Balls to the Wall</td>\n",
       "    </tr>\n",
       "    <tr>\n",
       "      <th>2</th>\n",
       "      <td>1</td>\n",
       "      <td>Fast As a Shark</td>\n",
       "    </tr>\n",
       "    <tr>\n",
       "      <th>3</th>\n",
       "      <td>1</td>\n",
       "      <td>Restless and Wild</td>\n",
       "    </tr>\n",
       "    <tr>\n",
       "      <th>4</th>\n",
       "      <td>1</td>\n",
       "      <td>Princess of the Dawn</td>\n",
       "    </tr>\n",
       "    <tr>\n",
       "      <th>5</th>\n",
       "      <td>1</td>\n",
       "      <td>Put The Finger On You</td>\n",
       "    </tr>\n",
       "    <tr>\n",
       "      <th>6</th>\n",
       "      <td>1</td>\n",
       "      <td>Let's Get It Up</td>\n",
       "    </tr>\n",
       "    <tr>\n",
       "      <th>7</th>\n",
       "      <td>1</td>\n",
       "      <td>Inject The Venom</td>\n",
       "    </tr>\n",
       "    <tr>\n",
       "      <th>8</th>\n",
       "      <td>1</td>\n",
       "      <td>Snowballed</td>\n",
       "    </tr>\n",
       "    <tr>\n",
       "      <th>9</th>\n",
       "      <td>1</td>\n",
       "      <td>Evil Walks</td>\n",
       "    </tr>\n",
       "  </tbody>\n",
       "</table>\n",
       "</div>"
      ],
      "text/plain": [
       "   Quantity                                     Name\n",
       "0         1  For Those About To Rock (We Salute You)\n",
       "1         1                        Balls to the Wall\n",
       "2         1                          Fast As a Shark\n",
       "3         1                        Restless and Wild\n",
       "4         1                     Princess of the Dawn\n",
       "5         1                    Put The Finger On You\n",
       "6         1                          Let's Get It Up\n",
       "7         1                         Inject The Venom\n",
       "8         1                               Snowballed\n",
       "9         1                               Evil Walks"
      ]
     },
     "metadata": {},
     "output_type": "display_data"
    },
    {
     "name": "stdout",
     "output_type": "stream",
     "text": [
      "\n",
      "SELECT invoice_items.\"Quantity\", tracks.\"Name\" \n",
      "FROM invoice_items, tracks\n",
      " LIMIT :param_1\n",
      "\n"
     ]
    }
   ],
   "source": [
    "\n",
    "query = sa.select(invoice_items.c.Quantity, tracks.c.Name).limit(10)\n",
    "display_results(query)"
   ]
  },
  {
   "cell_type": "markdown",
   "metadata": {},
   "source": [
    "\n",
    "Exercise 6 \\\n",
    "print the names of top 10 tracks sold, and how many they times they were sold\n"
   ]
  },
  {
   "cell_type": "code",
   "execution_count": 36,
   "metadata": {},
   "outputs": [
    {
     "data": {
      "text/html": [
       "<div>\n",
       "<style scoped>\n",
       "    .dataframe tbody tr th:only-of-type {\n",
       "        vertical-align: middle;\n",
       "    }\n",
       "\n",
       "    .dataframe tbody tr th {\n",
       "        vertical-align: top;\n",
       "    }\n",
       "\n",
       "    .dataframe thead th {\n",
       "        text-align: right;\n",
       "    }\n",
       "</style>\n",
       "<table border=\"1\" class=\"dataframe\">\n",
       "  <thead>\n",
       "    <tr style=\"text-align: right;\">\n",
       "      <th></th>\n",
       "      <th>Name</th>\n",
       "      <th>TotalSold</th>\n",
       "    </tr>\n",
       "  </thead>\n",
       "  <tbody>\n",
       "    <tr>\n",
       "      <th>0</th>\n",
       "      <td>Wrathchild</td>\n",
       "      <td>11200</td>\n",
       "    </tr>\n",
       "    <tr>\n",
       "      <th>1</th>\n",
       "      <td>The Trooper</td>\n",
       "      <td>11200</td>\n",
       "    </tr>\n",
       "    <tr>\n",
       "      <th>2</th>\n",
       "      <td>The Number Of The Beast</td>\n",
       "      <td>11200</td>\n",
       "    </tr>\n",
       "    <tr>\n",
       "      <th>3</th>\n",
       "      <td>Iron Maiden</td>\n",
       "      <td>11200</td>\n",
       "    </tr>\n",
       "    <tr>\n",
       "      <th>4</th>\n",
       "      <td>Hallowed Be Thy Name</td>\n",
       "      <td>11200</td>\n",
       "    </tr>\n",
       "    <tr>\n",
       "      <th>5</th>\n",
       "      <td>2 Minutes To Midnight</td>\n",
       "      <td>11200</td>\n",
       "    </tr>\n",
       "    <tr>\n",
       "      <th>6</th>\n",
       "      <td>The Evil That Men Do</td>\n",
       "      <td>8960</td>\n",
       "    </tr>\n",
       "    <tr>\n",
       "      <th>7</th>\n",
       "      <td>Sanctuary</td>\n",
       "      <td>8960</td>\n",
       "    </tr>\n",
       "    <tr>\n",
       "      <th>8</th>\n",
       "      <td>Running Free</td>\n",
       "      <td>8960</td>\n",
       "    </tr>\n",
       "    <tr>\n",
       "      <th>9</th>\n",
       "      <td>Fear Of The Dark</td>\n",
       "      <td>8960</td>\n",
       "    </tr>\n",
       "  </tbody>\n",
       "</table>\n",
       "</div>"
      ],
      "text/plain": [
       "                      Name  TotalSold\n",
       "0               Wrathchild      11200\n",
       "1              The Trooper      11200\n",
       "2  The Number Of The Beast      11200\n",
       "3              Iron Maiden      11200\n",
       "4     Hallowed Be Thy Name      11200\n",
       "5    2 Minutes To Midnight      11200\n",
       "6     The Evil That Men Do       8960\n",
       "7                Sanctuary       8960\n",
       "8             Running Free       8960\n",
       "9         Fear Of The Dark       8960"
      ]
     },
     "metadata": {},
     "output_type": "display_data"
    },
    {
     "name": "stdout",
     "output_type": "stream",
     "text": [
      "\n",
      "SELECT tracks.\"Name\", sum(invoice_items.\"Quantity\") AS \"TotalSold\" \n",
      "FROM tracks, invoice_items GROUP BY tracks.\"Name\" ORDER BY \"TotalSold\" DESC\n",
      " LIMIT :param_1\n",
      "\n"
     ]
    }
   ],
   "source": [
    "query = sa.select(tracks.c.Name, sa.func.sum(invoice_items.c.Quantity).label('TotalSold')) \\\n",
    "    .group_by(tracks.c.Name) \\\n",
    "    .order_by(sa.desc('TotalSold')).limit(10)\n",
    "display_results(query)\n"
   ]
  },
  {
   "cell_type": "markdown",
   "metadata": {},
   "source": [
    "Exercise 7 \\\n",
    "Who are the top 10 highest selling artists?\n",
    "\n"
   ]
  },
  {
   "cell_type": "code",
   "execution_count": 25,
   "metadata": {},
   "outputs": [
    {
     "data": {
      "text/plain": [
       "dict_keys(['albums', 'artists', 'customers', 'employees', 'genres', 'invoice_items', 'tracks', 'media_types', 'invoices', 'playlist_track', 'playlists'])"
      ]
     },
     "execution_count": 25,
     "metadata": {},
     "output_type": "execute_result"
    }
   ],
   "source": [
    "metadata.tables.keys()\n"
   ]
  },
  {
   "cell_type": "code",
   "execution_count": 38,
   "metadata": {},
   "outputs": [
    {
     "data": {
      "text/plain": [
       "['ArtistId', 'Name']"
      ]
     },
     "execution_count": 38,
     "metadata": {},
     "output_type": "execute_result"
    }
   ],
   "source": [
    "artists = sa.Table('artists', metadata, autoload_with=engine)\n",
    "artists.columns.keys()\n"
   ]
  },
  {
   "cell_type": "code",
   "execution_count": 39,
   "metadata": {},
   "outputs": [
    {
     "data": {
      "text/plain": [
       "['TrackId',\n",
       " 'Name',\n",
       " 'AlbumId',\n",
       " 'MediaTypeId',\n",
       " 'GenreId',\n",
       " 'Composer',\n",
       " 'Milliseconds',\n",
       " 'Bytes',\n",
       " 'UnitPrice']"
      ]
     },
     "execution_count": 39,
     "metadata": {},
     "output_type": "execute_result"
    }
   ],
   "source": [
    "tracks.columns.keys()\n"
   ]
  },
  {
   "cell_type": "code",
   "execution_count": 41,
   "metadata": {},
   "outputs": [
    {
     "data": {
      "text/html": [
       "<div>\n",
       "<style scoped>\n",
       "    .dataframe tbody tr th:only-of-type {\n",
       "        vertical-align: middle;\n",
       "    }\n",
       "\n",
       "    .dataframe tbody tr th {\n",
       "        vertical-align: top;\n",
       "    }\n",
       "\n",
       "    .dataframe thead th {\n",
       "        text-align: right;\n",
       "    }\n",
       "</style>\n",
       "<table border=\"1\" class=\"dataframe\">\n",
       "  <thead>\n",
       "    <tr style=\"text-align: right;\">\n",
       "      <th></th>\n",
       "      <th>ArtistId</th>\n",
       "      <th>Name</th>\n",
       "      <th>TotalSold</th>\n",
       "    </tr>\n",
       "  </thead>\n",
       "  <tbody>\n",
       "    <tr>\n",
       "      <th>0</th>\n",
       "      <td>90</td>\n",
       "      <td>Iron Maiden</td>\n",
       "      <td>140</td>\n",
       "    </tr>\n",
       "    <tr>\n",
       "      <th>1</th>\n",
       "      <td>150</td>\n",
       "      <td>U2</td>\n",
       "      <td>107</td>\n",
       "    </tr>\n",
       "    <tr>\n",
       "      <th>2</th>\n",
       "      <td>50</td>\n",
       "      <td>Metallica</td>\n",
       "      <td>91</td>\n",
       "    </tr>\n",
       "    <tr>\n",
       "      <th>3</th>\n",
       "      <td>22</td>\n",
       "      <td>Led Zeppelin</td>\n",
       "      <td>87</td>\n",
       "    </tr>\n",
       "    <tr>\n",
       "      <th>4</th>\n",
       "      <td>113</td>\n",
       "      <td>Os Paralamas Do Sucesso</td>\n",
       "      <td>45</td>\n",
       "    </tr>\n",
       "    <tr>\n",
       "      <th>5</th>\n",
       "      <td>58</td>\n",
       "      <td>Deep Purple</td>\n",
       "      <td>44</td>\n",
       "    </tr>\n",
       "    <tr>\n",
       "      <th>6</th>\n",
       "      <td>82</td>\n",
       "      <td>Faith No More</td>\n",
       "      <td>42</td>\n",
       "    </tr>\n",
       "    <tr>\n",
       "      <th>7</th>\n",
       "      <td>149</td>\n",
       "      <td>Lost</td>\n",
       "      <td>41</td>\n",
       "    </tr>\n",
       "    <tr>\n",
       "      <th>8</th>\n",
       "      <td>81</td>\n",
       "      <td>Eric Clapton</td>\n",
       "      <td>40</td>\n",
       "    </tr>\n",
       "    <tr>\n",
       "      <th>9</th>\n",
       "      <td>124</td>\n",
       "      <td>R.E.M.</td>\n",
       "      <td>39</td>\n",
       "    </tr>\n",
       "  </tbody>\n",
       "</table>\n",
       "</div>"
      ],
      "text/plain": [
       "   ArtistId                     Name  TotalSold\n",
       "0        90              Iron Maiden        140\n",
       "1       150                       U2        107\n",
       "2        50                Metallica         91\n",
       "3        22             Led Zeppelin         87\n",
       "4       113  Os Paralamas Do Sucesso         45\n",
       "5        58              Deep Purple         44\n",
       "6        82            Faith No More         42\n",
       "7       149                     Lost         41\n",
       "8        81             Eric Clapton         40\n",
       "9       124                   R.E.M.         39"
      ]
     },
     "metadata": {},
     "output_type": "display_data"
    },
    {
     "name": "stdout",
     "output_type": "stream",
     "text": [
      "\n",
      "SELECT artists.\"ArtistId\", artists.\"Name\", sum(invoice_items.\"Quantity\") AS \"TotalSold\" \n",
      "FROM invoice_items JOIN tracks ON invoice_items.\"TrackId\" = tracks.\"TrackId\" JOIN albums ON tracks.\"AlbumId\" = albums.\"AlbumId\" JOIN artists ON albums.\"ArtistId\" = artists.\"ArtistId\" GROUP BY artists.\"ArtistId\" ORDER BY \"TotalSold\" DESC\n",
      " LIMIT :param_1\n",
      "\n"
     ]
    }
   ],
   "source": [
    "query = sa.select(artists, sa.func.sum(invoice_items.c.Quantity).label('TotalSold')) \\\n",
    "    .join(tracks, invoice_items.c.TrackId == tracks.c.TrackId) \\\n",
    "    .join(albums, tracks.c.AlbumId == albums.c.AlbumId) \\\n",
    "    .join(artists, albums.c.ArtistId == artists.c.ArtistId) \\\n",
    "    .group_by(artists.c.ArtistId) \\\n",
    "    .order_by(sa.desc('TotalSold')).limit(10)\n",
    "display_results(query)"
   ]
  }
 ],
 "metadata": {
  "kernelspec": {
   "display_name": "di_venv",
   "language": "python",
   "name": "python3"
  },
  "language_info": {
   "codemirror_mode": {
    "name": "ipython",
    "version": 3
   },
   "file_extension": ".py",
   "mimetype": "text/x-python",
   "name": "python",
   "nbconvert_exporter": "python",
   "pygments_lexer": "ipython3",
   "version": "3.12.3"
  }
 },
 "nbformat": 4,
 "nbformat_minor": 2
}
