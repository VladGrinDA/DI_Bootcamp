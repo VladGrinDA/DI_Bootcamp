{
 "cells": [
  {
   "cell_type": "code",
   "execution_count": 1,
   "metadata": {},
   "outputs": [
    {
     "name": "stdout",
     "output_type": "stream",
     "text": [
      "Dataset URL: https://www.kaggle.com/datasets/groleo/european-football-database\n",
      "License(s): GPL-2.0\n",
      "Downloading european-football-database.zip to c:\\Users\\Vlad\\developers_institute\\practice\\Week5\\Day3\n",
      "\n"
     ]
    },
    {
     "name": "stderr",
     "output_type": "stream",
     "text": [
      "\n",
      "  0%|          | 0.00/1.84M [00:00<?, ?B/s]\n",
      " 54%|█████▍    | 1.00M/1.84M [00:00<00:00, 1.16MB/s]\n",
      "100%|██████████| 1.84M/1.84M [00:01<00:00, 2.16MB/s]\n",
      "100%|██████████| 1.84M/1.84M [00:01<00:00, 1.89MB/s]\n"
     ]
    }
   ],
   "source": [
    "!mkdir datasets\n",
    "!kaggle datasets download groleo/european-football-database"
   ]
  },
  {
   "cell_type": "code",
   "execution_count": 2,
   "metadata": {},
   "outputs": [],
   "source": [
    "import zipfile\n",
    "\n",
    "with zipfile.ZipFile('european-football-database.zip', 'r') as f:\n",
    "    f.extractall('datasets/')"
   ]
  },
  {
   "cell_type": "code",
   "execution_count": 7,
   "metadata": {},
   "outputs": [],
   "source": [
    "import sqlalchemy as db\n",
    "\n",
    "engine = db.create_engine(\"sqlite:///datasets/european_database.sqlite\")\n",
    "conn = engine.connect()"
   ]
  },
  {
   "cell_type": "code",
   "execution_count": 8,
   "metadata": {},
   "outputs": [
    {
     "name": "stdout",
     "output_type": "stream",
     "text": [
      "Available tables: dict_keys(['divisions', 'matchs'])\n"
     ]
    }
   ],
   "source": [
    "# Extracting the metadata\n",
    "metadata = db.MetaData()\n",
    "\n",
    "# Reflect the existing database to get the tables\n",
    "metadata.reflect(bind=engine)\n",
    "# Print all table names to verify the available tables\n",
    "print(\"Available tables:\", metadata.tables.keys())"
   ]
  },
  {
   "cell_type": "code",
   "execution_count": 9,
   "metadata": {},
   "outputs": [
    {
     "name": "stdout",
     "output_type": "stream",
     "text": [
      "Table('divisions', MetaData(), Column('division', TEXT(), table=<divisions>), Column('name', TEXT(), table=<divisions>), Column('country', TEXT(), table=<divisions>), schema=None)\n"
     ]
    }
   ],
   "source": [
    "# Check if 'divisions' table exists and create a Table object for it\n",
    "if 'divisions' in metadata.tables:\n",
    "    division= db.Table('divisions', metadata, autoload=True, autoload_with=engine)\n",
    "    # Print the metadata for the 'divisions' table\n",
    "    print(repr(division))\n",
    "else:\n",
    "    raise Exception(\"Table 'divisions' does not exist in the database.\")"
   ]
  },
  {
   "cell_type": "code",
   "execution_count": 10,
   "metadata": {},
   "outputs": [],
   "source": [
    "# Define the table structure for 'teams'\n",
    "teams = db.Table(\n",
    "    'teams', metadata,\n",
    "    db.Column('team_id', db.Integer, primary_key=True),\n",
    "    db.Column('team_name', db.Text, nullable=False),\n",
    "    db.Column('city', db.Text, nullable=False)\n",
    ")\n",
    "\n",
    "# Create the table in the database (if it does not already exist)\n",
    "metadata.create_all(engine)"
   ]
  },
  {
   "cell_type": "code",
   "execution_count": 11,
   "metadata": {},
   "outputs": [
    {
     "name": "stdout",
     "output_type": "stream",
     "text": [
      "Table('teams', MetaData(), Column('team_id', Integer(), table=<teams>, primary_key=True, nullable=False), Column('team_name', Text(), table=<teams>, nullable=False), Column('city', Text(), table=<teams>, nullable=False), schema=None)\n"
     ]
    }
   ],
   "source": [
    "# Verify that the 'teams' table exists and print its metadata\n",
    "if 'teams' in metadata.tables:\n",
    "    team = metadata.tables['teams']\n",
    "    print(repr(team))\n",
    "else:\n",
    "    raise Exception(\"Table 'teams' does not exist in the database.\")"
   ]
  },
  {
   "cell_type": "code",
   "execution_count": 12,
   "metadata": {},
   "outputs": [
    {
     "name": "stdout",
     "output_type": "stream",
     "text": [
      "Available tables: dict_keys(['divisions', 'matchs', 'teams'])\n"
     ]
    }
   ],
   "source": [
    "# Print all table names to verify the available tables\n",
    "print(\"Available tables:\", metadata.tables.keys())"
   ]
  },
  {
   "cell_type": "code",
   "execution_count": 18,
   "metadata": {},
   "outputs": [
    {
     "data": {
      "text/plain": [
       "['team_id', 'team_name', 'city']"
      ]
     },
     "execution_count": 18,
     "metadata": {},
     "output_type": "execute_result"
    }
   ],
   "source": [
    "metadata.tables['teams'].columns.keys()\n"
   ]
  },
  {
   "cell_type": "code",
   "execution_count": 19,
   "metadata": {},
   "outputs": [
    {
     "name": "stdout",
     "output_type": "stream",
     "text": [
      "Columns in 'divisions' table:\n",
      "division: TEXT\n",
      "name: TEXT\n",
      "country: TEXT\n",
      "\n",
      "Rows in 'divisions' table:\n",
      "('B1', 'Division 1A', 'Belgium')\n",
      "('D1', 'Bundesliga', 'Deutschland')\n",
      "('D2', '2. Bundesliga', 'Deutschland')\n",
      "('E0', 'Premier League', 'England')\n",
      "('E1', 'EFL Championship', 'England')\n",
      "('E2', 'EFL League One', 'England')\n",
      "('E3', 'EFL League Two', 'England')\n",
      "('EC', 'National League', 'England')\n",
      "('F1', 'Ligue 1', 'France')\n",
      "('F2', 'Ligue 2', 'France')\n",
      "('G1', 'Superleague', 'Greece')\n",
      "('I1', 'Seria A', 'Italy')\n",
      "('I2', 'Seria B', 'Italy')\n",
      "('N1', 'Eredivisie', 'Netherlands')\n",
      "('P1', 'Liga NOS', 'Portugal')\n",
      "('SC0', 'Scottish Premiership', 'Scotland')\n",
      "('SC1', 'Scottish Championship', 'Scotland')\n",
      "('SC2', 'Scottish League One', 'Scotland')\n",
      "('SP1', 'LaLiga', 'Spain')\n",
      "('SP2', 'LaLiga 2', 'Spain')\n",
      "('T1', 'Süper Lig', 'Turkey')\n"
     ]
    }
   ],
   "source": [
    "# Check if 'divisions' table exists and create a Table object for it\n",
    "if 'divisions' in metadata.tables:\n",
    "    division = metadata.tables['divisions']\n",
    "    # Print the column names and their types\n",
    "    print(\"Columns in 'divisions' table:\")\n",
    "    for column in division.columns:\n",
    "        print(f\"{column.name}: {column.type}\")\n",
    "     # Select all rows from the 'divisions' table\n",
    "\n",
    "    # Select all rows from the 'divisions' table\n",
    "    query = db.select(division)\n",
    "    result_proxy = conn.execute(query)\n",
    "\n",
    "    # Fetch all rows from the result proxy\n",
    "    rows = result_proxy.fetchall()\n",
    "\n",
    "    # Print the rows\n",
    "    print(\"\\nRows in 'divisions' table:\")\n",
    "    for row in rows:\n",
    "        print(row)\n",
    "else:\n",
    "    raise Exception(\"Table 'divisions' does not exist in the database.\")"
   ]
  },
  {
   "cell_type": "code",
   "execution_count": 20,
   "metadata": {},
   "outputs": [
    {
     "name": "stdout",
     "output_type": "stream",
     "text": [
      "SELECT divisions.division, divisions.name, divisions.country \n",
      "FROM divisions\n"
     ]
    }
   ],
   "source": [
    "query = division.select() #SELECT * FROM divisions\n",
    "print(query)"
   ]
  },
  {
   "cell_type": "code",
   "execution_count": 21,
   "metadata": {},
   "outputs": [
    {
     "name": "stdout",
     "output_type": "stream",
     "text": [
      "[('B1', 'Division 1A', 'Belgium'), ('D1', 'Bundesliga', 'Deutschland'), ('D2', '2. Bundesliga', 'Deutschland'), ('E0', 'Premier League', 'England'), ('E1', 'EFL Championship', 'England')]\n"
     ]
    }
   ],
   "source": [
    "exe = conn.execute(query) #executing the query\n",
    "result = exe.fetchmany(5) #extracting top 5 results\n",
    "print(result)"
   ]
  },
  {
   "cell_type": "code",
   "execution_count": 26,
   "metadata": {},
   "outputs": [],
   "source": [
    "engine = db.create_engine('sqlite:///datasets/datacamp.sqlite')\n",
    "conn = engine.connect()\n",
    "metadata = db.MetaData()\n",
    "\n",
    "Student = db.Table('Student', metadata,\n",
    "              db.Column('Id', db.Integer(),primary_key=True),\n",
    "              db.Column('Name', db.String(255), nullable=False),\n",
    "              db.Column('Major', db.String(255), default=\"Math\"),\n",
    "              db.Column('Pass', db.Boolean(), default=True)\n",
    "              )\n",
    "\n",
    "metadata.create_all(engine) "
   ]
  },
  {
   "cell_type": "code",
   "execution_count": 30,
   "metadata": {},
   "outputs": [
    {
     "name": "stdout",
     "output_type": "stream",
     "text": [
      "<sqlalchemy.engine.cursor.CursorResult object at 0x000002B004616890>\n",
      "\n",
      "Rows in 'Student' table:\n",
      "(1, 'Matthew', 'English', True)\n",
      "(2, 'Matthew', 'English', True)\n",
      "(3, 'Matthew', 'English', True)\n"
     ]
    }
   ],
   "source": [
    "# Insert a new row into the 'Student' table\n",
    "query = db.insert(Student).values(Name='Matthew', Major='English', Pass=True)\n",
    "result = conn.execute(query)\n",
    "print(result)\n",
    "\n",
    "# Fetch and print all rows from the 'Student' table to verify the insertion\n",
    "query = db.select(Student)\n",
    "result_proxy = conn.execute(query)\n",
    "rows = result_proxy.fetchall()\n",
    "print(\"\\nRows in 'Student' table:\")\n",
    "for row in rows:\n",
    "    print(row)"
   ]
  },
  {
   "cell_type": "code",
   "execution_count": 31,
   "metadata": {},
   "outputs": [],
   "source": [
    "query = db.insert(Student)\n",
    "values_list = [{'Name':'Nisha', 'Major':\"Science\", 'Pass':False},\n",
    "              {'Name':'Natasha', 'Major':\"Math\", 'Pass':True},\n",
    "              {'Name':'Ben', 'Major':\"English\", 'Pass':False}]\n",
    "Result = conn.execute(query, values_list)"
   ]
  },
  {
   "cell_type": "code",
   "execution_count": 33,
   "metadata": {},
   "outputs": [
    {
     "name": "stdout",
     "output_type": "stream",
     "text": [
      "[(1, 'Matthew', 'English', True), (2, 'Matthew', 'English', True), (3, 'Matthew', 'English', True), (4, 'Nisha', 'Science', False), (5, 'Natasha', 'Math', True), (6, 'Ben', 'English', False)]\n"
     ]
    }
   ],
   "source": [
    "output = conn.execute(db.select(Student)).fetchall()\n",
    "print(output)"
   ]
  },
  {
   "cell_type": "code",
   "execution_count": 36,
   "metadata": {},
   "outputs": [
    {
     "data": {
      "text/plain": [
       "dict_keys(['Student'])"
      ]
     },
     "execution_count": 36,
     "metadata": {},
     "output_type": "execute_result"
    }
   ],
   "source": [
    "metadata.tables.keys()\n"
   ]
  },
  {
   "cell_type": "code",
   "execution_count": 38,
   "metadata": {},
   "outputs": [
    {
     "name": "stdout",
     "output_type": "stream",
     "text": [
      "[(1, 'Matthew', 'English', 1), (2, 'Matthew', 'English', 1), (3, 'Matthew', 'English', 1), (4, 'Nisha', 'Science', 0), (5, 'Natasha', 'Math', 1), (6, 'Ben', 'English', 0)]\n"
     ]
    }
   ],
   "source": [
    "query = db.text('SELECT * FROM \"Student\"')\n",
    "output = conn.execute(query)\n",
    "print(output.fetchall())"
   ]
  },
  {
   "cell_type": "code",
   "execution_count": 40,
   "metadata": {},
   "outputs": [
    {
     "name": "stdout",
     "output_type": "stream",
     "text": [
      "[(1, 'Matthew', 'English', True), (2, 'Matthew', 'English', True), (3, 'Matthew', 'English', True), (6, 'Ben', 'English', False)]\n"
     ]
    }
   ],
   "source": [
    "query = Student.select().where(Student.c.Major == 'English')\n",
    "output = conn.execute(query)\n",
    "print(output.fetchall())"
   ]
  },
  {
   "cell_type": "code",
   "execution_count": 41,
   "metadata": {},
   "outputs": [
    {
     "name": "stdout",
     "output_type": "stream",
     "text": [
      "[(6, 'Ben', 'English', False)]\n"
     ]
    }
   ],
   "source": [
    "query = Student.select().where(db.and_(Student.c.Major == 'English', Student.c.Pass != True))\n",
    "output = conn.execute(query)\n",
    "print(output.fetchall())"
   ]
  },
  {
   "cell_type": "code",
   "execution_count": 42,
   "metadata": {},
   "outputs": [],
   "source": [
    "# You can copy and paste these commands to test the results on your own.\n",
    "\n",
    "# in : Student.select().where(Student.columns.Major.in_(['English','Math']))\n",
    "# and, or, not : Student.select().where(db.or_(Student.columns.Major == 'English', Student.columns.Pass = True))\n",
    "# order by : Student.select().order_by(db.desc(Student.columns.Name))\n",
    "# limit : Student.select().limit(3)\n",
    "# sum, avg, count, min, max : db.select([db.func.sum(Student.columns.Id)])\n",
    "# group by : db.select([db.func.sum(Student.columns.Id),Student.columns.Major]).group_by(Student.columns.Pass)\n",
    "# distinct : db.select([Student.columns.Major.distinct()])"
   ]
  },
  {
   "cell_type": "code",
   "execution_count": 46,
   "metadata": {},
   "outputs": [
    {
     "ename": "DuplicateColumnError",
     "evalue": "A column with name 'Grade' is already present in table 'Student'. Specify replace_existing=True to Table.append_column() to replace an existing column.",
     "output_type": "error",
     "traceback": [
      "\u001b[1;31m---------------------------------------------------------------------------\u001b[0m",
      "\u001b[1;31mDuplicateColumnError\u001b[0m                      Traceback (most recent call last)",
      "File \u001b[1;32mc:\\Users\\Vlad\\developers_institute\\practice\\di_venv\\Lib\\site-packages\\sqlalchemy\\sql\\schema.py:1233\u001b[0m, in \u001b[0;36mTable.append_column\u001b[1;34m(self, column, replace_existing)\u001b[0m\n\u001b[0;32m   1232\u001b[0m \u001b[38;5;28;01mtry\u001b[39;00m:\n\u001b[1;32m-> 1233\u001b[0m     \u001b[43mcolumn\u001b[49m\u001b[38;5;241;43m.\u001b[39;49m\u001b[43m_set_parent_with_dispatch\u001b[49m\u001b[43m(\u001b[49m\n\u001b[0;32m   1234\u001b[0m \u001b[43m        \u001b[49m\u001b[38;5;28;43mself\u001b[39;49m\u001b[43m,\u001b[49m\n\u001b[0;32m   1235\u001b[0m \u001b[43m        \u001b[49m\u001b[43mallow_replacements\u001b[49m\u001b[38;5;241;43m=\u001b[39;49m\u001b[43mreplace_existing\u001b[49m\u001b[43m,\u001b[49m\n\u001b[0;32m   1236\u001b[0m \u001b[43m        \u001b[49m\u001b[43mall_names\u001b[49m\u001b[38;5;241;43m=\u001b[39;49m\u001b[43m{\u001b[49m\u001b[43mc\u001b[49m\u001b[38;5;241;43m.\u001b[39;49m\u001b[43mname\u001b[49m\u001b[43m:\u001b[49m\u001b[43m \u001b[49m\u001b[43mc\u001b[49m\u001b[43m \u001b[49m\u001b[38;5;28;43;01mfor\u001b[39;49;00m\u001b[43m \u001b[49m\u001b[43mc\u001b[49m\u001b[43m \u001b[49m\u001b[38;5;129;43;01min\u001b[39;49;00m\u001b[43m \u001b[49m\u001b[38;5;28;43mself\u001b[39;49m\u001b[38;5;241;43m.\u001b[39;49m\u001b[43mc\u001b[49m\u001b[43m}\u001b[49m\u001b[43m,\u001b[49m\n\u001b[0;32m   1237\u001b[0m \u001b[43m    \u001b[49m\u001b[43m)\u001b[49m\n\u001b[0;32m   1238\u001b[0m \u001b[38;5;28;01mexcept\u001b[39;00m exc\u001b[38;5;241m.\u001b[39mDuplicateColumnError \u001b[38;5;28;01mas\u001b[39;00m de:\n",
      "File \u001b[1;32mc:\\Users\\Vlad\\developers_institute\\practice\\di_venv\\Lib\\site-packages\\sqlalchemy\\sql\\base.py:1324\u001b[0m, in \u001b[0;36mSchemaEventTarget._set_parent_with_dispatch\u001b[1;34m(self, parent, **kw)\u001b[0m\n\u001b[0;32m   1323\u001b[0m \u001b[38;5;28mself\u001b[39m\u001b[38;5;241m.\u001b[39mdispatch\u001b[38;5;241m.\u001b[39mbefore_parent_attach(\u001b[38;5;28mself\u001b[39m, parent)\n\u001b[1;32m-> 1324\u001b[0m \u001b[38;5;28;43mself\u001b[39;49m\u001b[38;5;241;43m.\u001b[39;49m\u001b[43m_set_parent\u001b[49m\u001b[43m(\u001b[49m\u001b[43mparent\u001b[49m\u001b[43m,\u001b[49m\u001b[43m \u001b[49m\u001b[38;5;241;43m*\u001b[39;49m\u001b[38;5;241;43m*\u001b[39;49m\u001b[43mkw\u001b[49m\u001b[43m)\u001b[49m\n\u001b[0;32m   1325\u001b[0m \u001b[38;5;28mself\u001b[39m\u001b[38;5;241m.\u001b[39mdispatch\u001b[38;5;241m.\u001b[39mafter_parent_attach(\u001b[38;5;28mself\u001b[39m, parent)\n",
      "File \u001b[1;32mc:\\Users\\Vlad\\developers_institute\\practice\\di_venv\\Lib\\site-packages\\sqlalchemy\\sql\\schema.py:2346\u001b[0m, in \u001b[0;36mColumn._set_parent\u001b[1;34m(self, parent, all_names, allow_replacements, **kw)\u001b[0m\n\u001b[0;32m   2345\u001b[0m \u001b[38;5;28;01mif\u001b[39;00m \u001b[38;5;129;01mnot\u001b[39;00m allow_replacements:\n\u001b[1;32m-> 2346\u001b[0m     \u001b[38;5;28;01mraise\u001b[39;00m exc\u001b[38;5;241m.\u001b[39mDuplicateColumnError(\n\u001b[0;32m   2347\u001b[0m         \u001b[38;5;124mf\u001b[39m\u001b[38;5;124m\"\u001b[39m\u001b[38;5;124mA column with \u001b[39m\u001b[38;5;132;01m{\u001b[39;00mconflicts_on\u001b[38;5;132;01m}\u001b[39;00m\u001b[38;5;124m \u001b[39m\u001b[38;5;124m\"\u001b[39m\n\u001b[0;32m   2348\u001b[0m         \u001b[38;5;124mf\u001b[39m\u001b[38;5;124m\"\"\"\u001b[39m\u001b[38;5;124m'\u001b[39m\u001b[38;5;132;01m{\u001b[39;00m\n\u001b[0;32m   2349\u001b[0m \u001b[38;5;250m            \u001b[39m\u001b[38;5;28mself\u001b[39m\u001b[38;5;241m.\u001b[39mkey\u001b[38;5;250m \u001b[39m\u001b[38;5;28;01mif\u001b[39;00m\u001b[38;5;250m \u001b[39mconflicts_on\u001b[38;5;250m \u001b[39m\u001b[38;5;241m==\u001b[39m\u001b[38;5;250m \u001b[39m\u001b[38;5;124m'\u001b[39m\u001b[38;5;124mkey\u001b[39m\u001b[38;5;124m'\u001b[39m\u001b[38;5;250m \u001b[39m\u001b[38;5;28;01melse\u001b[39;00m\u001b[38;5;250m \u001b[39m\u001b[38;5;28mself\u001b[39m\u001b[38;5;241m.\u001b[39mname\n\u001b[0;32m   2350\u001b[0m \u001b[38;5;250m        \u001b[39m\u001b[38;5;132;01m}\u001b[39;00m\u001b[38;5;124m'\u001b[39m\u001b[38;5;124m \u001b[39m\u001b[38;5;124m\"\"\"\u001b[39m\n\u001b[0;32m   2351\u001b[0m         \u001b[38;5;124mf\u001b[39m\u001b[38;5;124m\"\u001b[39m\u001b[38;5;124mis already present in table \u001b[39m\u001b[38;5;124m'\u001b[39m\u001b[38;5;132;01m{\u001b[39;00mtable\u001b[38;5;241m.\u001b[39mname\u001b[38;5;132;01m}\u001b[39;00m\u001b[38;5;124m'\u001b[39m\u001b[38;5;124m.\u001b[39m\u001b[38;5;124m\"\u001b[39m\n\u001b[0;32m   2352\u001b[0m     )\n\u001b[0;32m   2353\u001b[0m \u001b[38;5;28;01mfor\u001b[39;00m fk \u001b[38;5;129;01min\u001b[39;00m existing_col\u001b[38;5;241m.\u001b[39mforeign_keys:\n",
      "\u001b[1;31mDuplicateColumnError\u001b[0m: A column with name 'Grade' is already present in table 'Student'.",
      "\nThe above exception was the direct cause of the following exception:\n",
      "\u001b[1;31mDuplicateColumnError\u001b[0m                      Traceback (most recent call last)",
      "Cell \u001b[1;32mIn[46], line 3\u001b[0m\n\u001b[0;32m      1\u001b[0m \u001b[38;5;66;03m# Add a new column 'Grade' to the Student table\u001b[39;00m\n\u001b[0;32m      2\u001b[0m grade_column \u001b[38;5;241m=\u001b[39m db\u001b[38;5;241m.\u001b[39mColumn(\u001b[38;5;124m'\u001b[39m\u001b[38;5;124mGrade\u001b[39m\u001b[38;5;124m'\u001b[39m, db\u001b[38;5;241m.\u001b[39mFloat)\n\u001b[1;32m----> 3\u001b[0m \u001b[43mStudent\u001b[49m\u001b[38;5;241;43m.\u001b[39;49m\u001b[43mappend_column\u001b[49m\u001b[43m(\u001b[49m\u001b[43mgrade_column\u001b[49m\u001b[43m)\u001b[49m\n\u001b[0;32m      5\u001b[0m \u001b[38;5;66;03m# Update the table schema in the database\u001b[39;00m\n\u001b[0;32m      6\u001b[0m metadata\u001b[38;5;241m.\u001b[39mcreate_all(engine)\n",
      "File \u001b[1;32mc:\\Users\\Vlad\\developers_institute\\practice\\di_venv\\Lib\\site-packages\\sqlalchemy\\sql\\schema.py:1239\u001b[0m, in \u001b[0;36mTable.append_column\u001b[1;34m(self, column, replace_existing)\u001b[0m\n\u001b[0;32m   1233\u001b[0m     column\u001b[38;5;241m.\u001b[39m_set_parent_with_dispatch(\n\u001b[0;32m   1234\u001b[0m         \u001b[38;5;28mself\u001b[39m,\n\u001b[0;32m   1235\u001b[0m         allow_replacements\u001b[38;5;241m=\u001b[39mreplace_existing,\n\u001b[0;32m   1236\u001b[0m         all_names\u001b[38;5;241m=\u001b[39m{c\u001b[38;5;241m.\u001b[39mname: c \u001b[38;5;28;01mfor\u001b[39;00m c \u001b[38;5;129;01min\u001b[39;00m \u001b[38;5;28mself\u001b[39m\u001b[38;5;241m.\u001b[39mc},\n\u001b[0;32m   1237\u001b[0m     )\n\u001b[0;32m   1238\u001b[0m \u001b[38;5;28;01mexcept\u001b[39;00m exc\u001b[38;5;241m.\u001b[39mDuplicateColumnError \u001b[38;5;28;01mas\u001b[39;00m de:\n\u001b[1;32m-> 1239\u001b[0m     \u001b[38;5;28;01mraise\u001b[39;00m exc\u001b[38;5;241m.\u001b[39mDuplicateColumnError(\n\u001b[0;32m   1240\u001b[0m         \u001b[38;5;124mf\u001b[39m\u001b[38;5;124m\"\u001b[39m\u001b[38;5;132;01m{\u001b[39;00mde\u001b[38;5;241m.\u001b[39margs[\u001b[38;5;241m0\u001b[39m]\u001b[38;5;132;01m}\u001b[39;00m\u001b[38;5;124m Specify replace_existing=True to \u001b[39m\u001b[38;5;124m\"\u001b[39m\n\u001b[0;32m   1241\u001b[0m         \u001b[38;5;124m\"\u001b[39m\u001b[38;5;124mTable.append_column() to replace an \u001b[39m\u001b[38;5;124m\"\u001b[39m\n\u001b[0;32m   1242\u001b[0m         \u001b[38;5;124m\"\u001b[39m\u001b[38;5;124mexisting column.\u001b[39m\u001b[38;5;124m\"\u001b[39m\n\u001b[0;32m   1243\u001b[0m     ) \u001b[38;5;28;01mfrom\u001b[39;00m \u001b[38;5;21;01mde\u001b[39;00m\n",
      "\u001b[1;31mDuplicateColumnError\u001b[0m: A column with name 'Grade' is already present in table 'Student'. Specify replace_existing=True to Table.append_column() to replace an existing column."
     ]
    }
   ],
   "source": [
    "# Add a new column 'Grade' to the Student table\n",
    "grade_column = db.Column('Grade', db.Float)\n",
    "Student.append_column(grade_column)\n",
    "\n",
    "# Update the table schema in the database\n",
    "metadata.create_all(engine)\n"
   ]
  },
  {
   "cell_type": "code",
   "execution_count": 58,
   "metadata": {},
   "outputs": [],
   "source": [
    "metadata.reflect(engine)\n"
   ]
  },
  {
   "cell_type": "code",
   "execution_count": 65,
   "metadata": {},
   "outputs": [
    {
     "data": {
      "text/plain": [
       "['Id', 'Name', 'Major', 'Pass', 'Grade']"
      ]
     },
     "execution_count": 65,
     "metadata": {},
     "output_type": "execute_result"
    }
   ],
   "source": [
    "metadata.tables['Student'].c.keys()\n"
   ]
  },
  {
   "cell_type": "code",
   "execution_count": 59,
   "metadata": {},
   "outputs": [
    {
     "data": {
      "text/plain": [
       "['Id', 'Name', 'Major', 'Pass', 'Grade']"
      ]
     },
     "execution_count": 59,
     "metadata": {},
     "output_type": "execute_result"
    }
   ],
   "source": [
    "Student.columns.keys()\n"
   ]
  },
  {
   "cell_type": "code",
   "execution_count": 55,
   "metadata": {},
   "outputs": [
    {
     "name": "stdout",
     "output_type": "stream",
     "text": [
      "SELECT \"Student\".\"Id\", \"Student\".\"Name\", \"Student\".\"Major\", \"Student\".\"Pass\", \"Student\".\"Grade\" \n",
      "FROM \"Student\"\n"
     ]
    }
   ],
   "source": [
    "print(Student.select())"
   ]
  },
  {
   "cell_type": "code",
   "execution_count": 56,
   "metadata": {},
   "outputs": [
    {
     "data": {
      "text/plain": [
       "[(1, 'Matthew', 'English', True),\n",
       " (2, 'Matthew', 'English', True),\n",
       " (3, 'Matthew', 'English', True),\n",
       " (4, 'Nisha', 'Science', False),\n",
       " (5, 'Natasha', 'Math', True),\n",
       " (6, 'Ben', 'English', False)]"
      ]
     },
     "execution_count": 56,
     "metadata": {},
     "output_type": "execute_result"
    }
   ],
   "source": [
    "\n",
    "# Generate random grades for existing students\n",
    "import random\n",
    "\n",
    "# Fetch all existing students\n",
    "students = conn.execute(Student.select()).fetchall()\n",
    "\n",
    "students"
   ]
  },
  {
   "cell_type": "code",
   "execution_count": 57,
   "metadata": {},
   "outputs": [
    {
     "ename": "OperationalError",
     "evalue": "(sqlite3.OperationalError) no such column: Grade\n[SQL: UPDATE \"Student\" SET \"Grade\"=? WHERE \"Student\".\"Id\" = ?]\n[parameters: (25.97, 1)]\n(Background on this error at: https://sqlalche.me/e/20/e3q8)",
     "output_type": "error",
     "traceback": [
      "\u001b[1;31m---------------------------------------------------------------------------\u001b[0m",
      "\u001b[1;31mOperationalError\u001b[0m                          Traceback (most recent call last)",
      "File \u001b[1;32mc:\\Users\\Vlad\\developers_institute\\practice\\di_venv\\Lib\\site-packages\\sqlalchemy\\engine\\base.py:1967\u001b[0m, in \u001b[0;36mConnection._exec_single_context\u001b[1;34m(self, dialect, context, statement, parameters)\u001b[0m\n\u001b[0;32m   1966\u001b[0m     \u001b[38;5;28;01mif\u001b[39;00m \u001b[38;5;129;01mnot\u001b[39;00m evt_handled:\n\u001b[1;32m-> 1967\u001b[0m         \u001b[38;5;28;43mself\u001b[39;49m\u001b[38;5;241;43m.\u001b[39;49m\u001b[43mdialect\u001b[49m\u001b[38;5;241;43m.\u001b[39;49m\u001b[43mdo_execute\u001b[49m\u001b[43m(\u001b[49m\n\u001b[0;32m   1968\u001b[0m \u001b[43m            \u001b[49m\u001b[43mcursor\u001b[49m\u001b[43m,\u001b[49m\u001b[43m \u001b[49m\u001b[43mstr_statement\u001b[49m\u001b[43m,\u001b[49m\u001b[43m \u001b[49m\u001b[43meffective_parameters\u001b[49m\u001b[43m,\u001b[49m\u001b[43m \u001b[49m\u001b[43mcontext\u001b[49m\n\u001b[0;32m   1969\u001b[0m \u001b[43m        \u001b[49m\u001b[43m)\u001b[49m\n\u001b[0;32m   1971\u001b[0m \u001b[38;5;28;01mif\u001b[39;00m \u001b[38;5;28mself\u001b[39m\u001b[38;5;241m.\u001b[39m_has_events \u001b[38;5;129;01mor\u001b[39;00m \u001b[38;5;28mself\u001b[39m\u001b[38;5;241m.\u001b[39mengine\u001b[38;5;241m.\u001b[39m_has_events:\n",
      "File \u001b[1;32mc:\\Users\\Vlad\\developers_institute\\practice\\di_venv\\Lib\\site-packages\\sqlalchemy\\engine\\default.py:941\u001b[0m, in \u001b[0;36mDefaultDialect.do_execute\u001b[1;34m(self, cursor, statement, parameters, context)\u001b[0m\n\u001b[0;32m    940\u001b[0m \u001b[38;5;28;01mdef\u001b[39;00m \u001b[38;5;21mdo_execute\u001b[39m(\u001b[38;5;28mself\u001b[39m, cursor, statement, parameters, context\u001b[38;5;241m=\u001b[39m\u001b[38;5;28;01mNone\u001b[39;00m):\n\u001b[1;32m--> 941\u001b[0m     \u001b[43mcursor\u001b[49m\u001b[38;5;241;43m.\u001b[39;49m\u001b[43mexecute\u001b[49m\u001b[43m(\u001b[49m\u001b[43mstatement\u001b[49m\u001b[43m,\u001b[49m\u001b[43m \u001b[49m\u001b[43mparameters\u001b[49m\u001b[43m)\u001b[49m\n",
      "\u001b[1;31mOperationalError\u001b[0m: no such column: Grade",
      "\nThe above exception was the direct cause of the following exception:\n",
      "\u001b[1;31mOperationalError\u001b[0m                          Traceback (most recent call last)",
      "Cell \u001b[1;32mIn[57], line 9\u001b[0m\n\u001b[0;32m      3\u001b[0m     random_grade \u001b[38;5;241m=\u001b[39m \u001b[38;5;28mround\u001b[39m(random\u001b[38;5;241m.\u001b[39muniform(\u001b[38;5;241m0\u001b[39m, \u001b[38;5;241m100\u001b[39m), \u001b[38;5;241m2\u001b[39m)  \u001b[38;5;66;03m# Generate a random float between 0 and 100 with 2 decimal places\u001b[39;00m\n\u001b[0;32m      4\u001b[0m     update_stmt \u001b[38;5;241m=\u001b[39m (\n\u001b[0;32m      5\u001b[0m         Student\u001b[38;5;241m.\u001b[39mupdate()\n\u001b[0;32m      6\u001b[0m         \u001b[38;5;241m.\u001b[39mwhere(Student\u001b[38;5;241m.\u001b[39mc\u001b[38;5;241m.\u001b[39mId \u001b[38;5;241m==\u001b[39m student\u001b[38;5;241m.\u001b[39mId)\n\u001b[0;32m      7\u001b[0m         \u001b[38;5;241m.\u001b[39mvalues(Grade\u001b[38;5;241m=\u001b[39mrandom_grade)\n\u001b[0;32m      8\u001b[0m     )\n\u001b[1;32m----> 9\u001b[0m     \u001b[43mconn\u001b[49m\u001b[38;5;241;43m.\u001b[39;49m\u001b[43mexecute\u001b[49m\u001b[43m(\u001b[49m\u001b[43mupdate_stmt\u001b[49m\u001b[43m)\u001b[49m\n\u001b[0;32m     11\u001b[0m conn\u001b[38;5;241m.\u001b[39mcommit()\n\u001b[0;32m     13\u001b[0m \u001b[38;5;28mprint\u001b[39m(\u001b[38;5;124m\"\u001b[39m\u001b[38;5;124mGrade column added and random grades assigned to existing students.\u001b[39m\u001b[38;5;124m\"\u001b[39m)\n",
      "File \u001b[1;32mc:\\Users\\Vlad\\developers_institute\\practice\\di_venv\\Lib\\site-packages\\sqlalchemy\\engine\\base.py:1418\u001b[0m, in \u001b[0;36mConnection.execute\u001b[1;34m(self, statement, parameters, execution_options)\u001b[0m\n\u001b[0;32m   1416\u001b[0m     \u001b[38;5;28;01mraise\u001b[39;00m exc\u001b[38;5;241m.\u001b[39mObjectNotExecutableError(statement) \u001b[38;5;28;01mfrom\u001b[39;00m \u001b[38;5;21;01merr\u001b[39;00m\n\u001b[0;32m   1417\u001b[0m \u001b[38;5;28;01melse\u001b[39;00m:\n\u001b[1;32m-> 1418\u001b[0m     \u001b[38;5;28;01mreturn\u001b[39;00m \u001b[43mmeth\u001b[49m\u001b[43m(\u001b[49m\n\u001b[0;32m   1419\u001b[0m \u001b[43m        \u001b[49m\u001b[38;5;28;43mself\u001b[39;49m\u001b[43m,\u001b[49m\n\u001b[0;32m   1420\u001b[0m \u001b[43m        \u001b[49m\u001b[43mdistilled_parameters\u001b[49m\u001b[43m,\u001b[49m\n\u001b[0;32m   1421\u001b[0m \u001b[43m        \u001b[49m\u001b[43mexecution_options\u001b[49m\u001b[43m \u001b[49m\u001b[38;5;129;43;01mor\u001b[39;49;00m\u001b[43m \u001b[49m\u001b[43mNO_OPTIONS\u001b[49m\u001b[43m,\u001b[49m\n\u001b[0;32m   1422\u001b[0m \u001b[43m    \u001b[49m\u001b[43m)\u001b[49m\n",
      "File \u001b[1;32mc:\\Users\\Vlad\\developers_institute\\practice\\di_venv\\Lib\\site-packages\\sqlalchemy\\sql\\elements.py:515\u001b[0m, in \u001b[0;36mClauseElement._execute_on_connection\u001b[1;34m(self, connection, distilled_params, execution_options)\u001b[0m\n\u001b[0;32m    513\u001b[0m     \u001b[38;5;28;01mif\u001b[39;00m TYPE_CHECKING:\n\u001b[0;32m    514\u001b[0m         \u001b[38;5;28;01massert\u001b[39;00m \u001b[38;5;28misinstance\u001b[39m(\u001b[38;5;28mself\u001b[39m, Executable)\n\u001b[1;32m--> 515\u001b[0m     \u001b[38;5;28;01mreturn\u001b[39;00m \u001b[43mconnection\u001b[49m\u001b[38;5;241;43m.\u001b[39;49m\u001b[43m_execute_clauseelement\u001b[49m\u001b[43m(\u001b[49m\n\u001b[0;32m    516\u001b[0m \u001b[43m        \u001b[49m\u001b[38;5;28;43mself\u001b[39;49m\u001b[43m,\u001b[49m\u001b[43m \u001b[49m\u001b[43mdistilled_params\u001b[49m\u001b[43m,\u001b[49m\u001b[43m \u001b[49m\u001b[43mexecution_options\u001b[49m\n\u001b[0;32m    517\u001b[0m \u001b[43m    \u001b[49m\u001b[43m)\u001b[49m\n\u001b[0;32m    518\u001b[0m \u001b[38;5;28;01melse\u001b[39;00m:\n\u001b[0;32m    519\u001b[0m     \u001b[38;5;28;01mraise\u001b[39;00m exc\u001b[38;5;241m.\u001b[39mObjectNotExecutableError(\u001b[38;5;28mself\u001b[39m)\n",
      "File \u001b[1;32mc:\\Users\\Vlad\\developers_institute\\practice\\di_venv\\Lib\\site-packages\\sqlalchemy\\engine\\base.py:1640\u001b[0m, in \u001b[0;36mConnection._execute_clauseelement\u001b[1;34m(self, elem, distilled_parameters, execution_options)\u001b[0m\n\u001b[0;32m   1628\u001b[0m compiled_cache: Optional[CompiledCacheType] \u001b[38;5;241m=\u001b[39m execution_options\u001b[38;5;241m.\u001b[39mget(\n\u001b[0;32m   1629\u001b[0m     \u001b[38;5;124m\"\u001b[39m\u001b[38;5;124mcompiled_cache\u001b[39m\u001b[38;5;124m\"\u001b[39m, \u001b[38;5;28mself\u001b[39m\u001b[38;5;241m.\u001b[39mengine\u001b[38;5;241m.\u001b[39m_compiled_cache\n\u001b[0;32m   1630\u001b[0m )\n\u001b[0;32m   1632\u001b[0m compiled_sql, extracted_params, cache_hit \u001b[38;5;241m=\u001b[39m elem\u001b[38;5;241m.\u001b[39m_compile_w_cache(\n\u001b[0;32m   1633\u001b[0m     dialect\u001b[38;5;241m=\u001b[39mdialect,\n\u001b[0;32m   1634\u001b[0m     compiled_cache\u001b[38;5;241m=\u001b[39mcompiled_cache,\n\u001b[1;32m   (...)\u001b[0m\n\u001b[0;32m   1638\u001b[0m     linting\u001b[38;5;241m=\u001b[39m\u001b[38;5;28mself\u001b[39m\u001b[38;5;241m.\u001b[39mdialect\u001b[38;5;241m.\u001b[39mcompiler_linting \u001b[38;5;241m|\u001b[39m compiler\u001b[38;5;241m.\u001b[39mWARN_LINTING,\n\u001b[0;32m   1639\u001b[0m )\n\u001b[1;32m-> 1640\u001b[0m ret \u001b[38;5;241m=\u001b[39m \u001b[38;5;28;43mself\u001b[39;49m\u001b[38;5;241;43m.\u001b[39;49m\u001b[43m_execute_context\u001b[49m\u001b[43m(\u001b[49m\n\u001b[0;32m   1641\u001b[0m \u001b[43m    \u001b[49m\u001b[43mdialect\u001b[49m\u001b[43m,\u001b[49m\n\u001b[0;32m   1642\u001b[0m \u001b[43m    \u001b[49m\u001b[43mdialect\u001b[49m\u001b[38;5;241;43m.\u001b[39;49m\u001b[43mexecution_ctx_cls\u001b[49m\u001b[38;5;241;43m.\u001b[39;49m\u001b[43m_init_compiled\u001b[49m\u001b[43m,\u001b[49m\n\u001b[0;32m   1643\u001b[0m \u001b[43m    \u001b[49m\u001b[43mcompiled_sql\u001b[49m\u001b[43m,\u001b[49m\n\u001b[0;32m   1644\u001b[0m \u001b[43m    \u001b[49m\u001b[43mdistilled_parameters\u001b[49m\u001b[43m,\u001b[49m\n\u001b[0;32m   1645\u001b[0m \u001b[43m    \u001b[49m\u001b[43mexecution_options\u001b[49m\u001b[43m,\u001b[49m\n\u001b[0;32m   1646\u001b[0m \u001b[43m    \u001b[49m\u001b[43mcompiled_sql\u001b[49m\u001b[43m,\u001b[49m\n\u001b[0;32m   1647\u001b[0m \u001b[43m    \u001b[49m\u001b[43mdistilled_parameters\u001b[49m\u001b[43m,\u001b[49m\n\u001b[0;32m   1648\u001b[0m \u001b[43m    \u001b[49m\u001b[43melem\u001b[49m\u001b[43m,\u001b[49m\n\u001b[0;32m   1649\u001b[0m \u001b[43m    \u001b[49m\u001b[43mextracted_params\u001b[49m\u001b[43m,\u001b[49m\n\u001b[0;32m   1650\u001b[0m \u001b[43m    \u001b[49m\u001b[43mcache_hit\u001b[49m\u001b[38;5;241;43m=\u001b[39;49m\u001b[43mcache_hit\u001b[49m\u001b[43m,\u001b[49m\n\u001b[0;32m   1651\u001b[0m \u001b[43m\u001b[49m\u001b[43m)\u001b[49m\n\u001b[0;32m   1652\u001b[0m \u001b[38;5;28;01mif\u001b[39;00m has_events:\n\u001b[0;32m   1653\u001b[0m     \u001b[38;5;28mself\u001b[39m\u001b[38;5;241m.\u001b[39mdispatch\u001b[38;5;241m.\u001b[39mafter_execute(\n\u001b[0;32m   1654\u001b[0m         \u001b[38;5;28mself\u001b[39m,\n\u001b[0;32m   1655\u001b[0m         elem,\n\u001b[1;32m   (...)\u001b[0m\n\u001b[0;32m   1659\u001b[0m         ret,\n\u001b[0;32m   1660\u001b[0m     )\n",
      "File \u001b[1;32mc:\\Users\\Vlad\\developers_institute\\practice\\di_venv\\Lib\\site-packages\\sqlalchemy\\engine\\base.py:1846\u001b[0m, in \u001b[0;36mConnection._execute_context\u001b[1;34m(self, dialect, constructor, statement, parameters, execution_options, *args, **kw)\u001b[0m\n\u001b[0;32m   1844\u001b[0m     \u001b[38;5;28;01mreturn\u001b[39;00m \u001b[38;5;28mself\u001b[39m\u001b[38;5;241m.\u001b[39m_exec_insertmany_context(dialect, context)\n\u001b[0;32m   1845\u001b[0m \u001b[38;5;28;01melse\u001b[39;00m:\n\u001b[1;32m-> 1846\u001b[0m     \u001b[38;5;28;01mreturn\u001b[39;00m \u001b[38;5;28;43mself\u001b[39;49m\u001b[38;5;241;43m.\u001b[39;49m\u001b[43m_exec_single_context\u001b[49m\u001b[43m(\u001b[49m\n\u001b[0;32m   1847\u001b[0m \u001b[43m        \u001b[49m\u001b[43mdialect\u001b[49m\u001b[43m,\u001b[49m\u001b[43m \u001b[49m\u001b[43mcontext\u001b[49m\u001b[43m,\u001b[49m\u001b[43m \u001b[49m\u001b[43mstatement\u001b[49m\u001b[43m,\u001b[49m\u001b[43m \u001b[49m\u001b[43mparameters\u001b[49m\n\u001b[0;32m   1848\u001b[0m \u001b[43m    \u001b[49m\u001b[43m)\u001b[49m\n",
      "File \u001b[1;32mc:\\Users\\Vlad\\developers_institute\\practice\\di_venv\\Lib\\site-packages\\sqlalchemy\\engine\\base.py:1986\u001b[0m, in \u001b[0;36mConnection._exec_single_context\u001b[1;34m(self, dialect, context, statement, parameters)\u001b[0m\n\u001b[0;32m   1983\u001b[0m     result \u001b[38;5;241m=\u001b[39m context\u001b[38;5;241m.\u001b[39m_setup_result_proxy()\n\u001b[0;32m   1985\u001b[0m \u001b[38;5;28;01mexcept\u001b[39;00m \u001b[38;5;167;01mBaseException\u001b[39;00m \u001b[38;5;28;01mas\u001b[39;00m e:\n\u001b[1;32m-> 1986\u001b[0m     \u001b[38;5;28;43mself\u001b[39;49m\u001b[38;5;241;43m.\u001b[39;49m\u001b[43m_handle_dbapi_exception\u001b[49m\u001b[43m(\u001b[49m\n\u001b[0;32m   1987\u001b[0m \u001b[43m        \u001b[49m\u001b[43me\u001b[49m\u001b[43m,\u001b[49m\u001b[43m \u001b[49m\u001b[43mstr_statement\u001b[49m\u001b[43m,\u001b[49m\u001b[43m \u001b[49m\u001b[43meffective_parameters\u001b[49m\u001b[43m,\u001b[49m\u001b[43m \u001b[49m\u001b[43mcursor\u001b[49m\u001b[43m,\u001b[49m\u001b[43m \u001b[49m\u001b[43mcontext\u001b[49m\n\u001b[0;32m   1988\u001b[0m \u001b[43m    \u001b[49m\u001b[43m)\u001b[49m\n\u001b[0;32m   1990\u001b[0m \u001b[38;5;28;01mreturn\u001b[39;00m result\n",
      "File \u001b[1;32mc:\\Users\\Vlad\\developers_institute\\practice\\di_venv\\Lib\\site-packages\\sqlalchemy\\engine\\base.py:2355\u001b[0m, in \u001b[0;36mConnection._handle_dbapi_exception\u001b[1;34m(self, e, statement, parameters, cursor, context, is_sub_exec)\u001b[0m\n\u001b[0;32m   2353\u001b[0m \u001b[38;5;28;01melif\u001b[39;00m should_wrap:\n\u001b[0;32m   2354\u001b[0m     \u001b[38;5;28;01massert\u001b[39;00m sqlalchemy_exception \u001b[38;5;129;01mis\u001b[39;00m \u001b[38;5;129;01mnot\u001b[39;00m \u001b[38;5;28;01mNone\u001b[39;00m\n\u001b[1;32m-> 2355\u001b[0m     \u001b[38;5;28;01mraise\u001b[39;00m sqlalchemy_exception\u001b[38;5;241m.\u001b[39mwith_traceback(exc_info[\u001b[38;5;241m2\u001b[39m]) \u001b[38;5;28;01mfrom\u001b[39;00m \u001b[38;5;21;01me\u001b[39;00m\n\u001b[0;32m   2356\u001b[0m \u001b[38;5;28;01melse\u001b[39;00m:\n\u001b[0;32m   2357\u001b[0m     \u001b[38;5;28;01massert\u001b[39;00m exc_info[\u001b[38;5;241m1\u001b[39m] \u001b[38;5;129;01mis\u001b[39;00m \u001b[38;5;129;01mnot\u001b[39;00m \u001b[38;5;28;01mNone\u001b[39;00m\n",
      "File \u001b[1;32mc:\\Users\\Vlad\\developers_institute\\practice\\di_venv\\Lib\\site-packages\\sqlalchemy\\engine\\base.py:1967\u001b[0m, in \u001b[0;36mConnection._exec_single_context\u001b[1;34m(self, dialect, context, statement, parameters)\u001b[0m\n\u001b[0;32m   1965\u001b[0m                 \u001b[38;5;28;01mbreak\u001b[39;00m\n\u001b[0;32m   1966\u001b[0m     \u001b[38;5;28;01mif\u001b[39;00m \u001b[38;5;129;01mnot\u001b[39;00m evt_handled:\n\u001b[1;32m-> 1967\u001b[0m         \u001b[38;5;28;43mself\u001b[39;49m\u001b[38;5;241;43m.\u001b[39;49m\u001b[43mdialect\u001b[49m\u001b[38;5;241;43m.\u001b[39;49m\u001b[43mdo_execute\u001b[49m\u001b[43m(\u001b[49m\n\u001b[0;32m   1968\u001b[0m \u001b[43m            \u001b[49m\u001b[43mcursor\u001b[49m\u001b[43m,\u001b[49m\u001b[43m \u001b[49m\u001b[43mstr_statement\u001b[49m\u001b[43m,\u001b[49m\u001b[43m \u001b[49m\u001b[43meffective_parameters\u001b[49m\u001b[43m,\u001b[49m\u001b[43m \u001b[49m\u001b[43mcontext\u001b[49m\n\u001b[0;32m   1969\u001b[0m \u001b[43m        \u001b[49m\u001b[43m)\u001b[49m\n\u001b[0;32m   1971\u001b[0m \u001b[38;5;28;01mif\u001b[39;00m \u001b[38;5;28mself\u001b[39m\u001b[38;5;241m.\u001b[39m_has_events \u001b[38;5;129;01mor\u001b[39;00m \u001b[38;5;28mself\u001b[39m\u001b[38;5;241m.\u001b[39mengine\u001b[38;5;241m.\u001b[39m_has_events:\n\u001b[0;32m   1972\u001b[0m     \u001b[38;5;28mself\u001b[39m\u001b[38;5;241m.\u001b[39mdispatch\u001b[38;5;241m.\u001b[39mafter_cursor_execute(\n\u001b[0;32m   1973\u001b[0m         \u001b[38;5;28mself\u001b[39m,\n\u001b[0;32m   1974\u001b[0m         cursor,\n\u001b[1;32m   (...)\u001b[0m\n\u001b[0;32m   1978\u001b[0m         context\u001b[38;5;241m.\u001b[39mexecutemany,\n\u001b[0;32m   1979\u001b[0m     )\n",
      "File \u001b[1;32mc:\\Users\\Vlad\\developers_institute\\practice\\di_venv\\Lib\\site-packages\\sqlalchemy\\engine\\default.py:941\u001b[0m, in \u001b[0;36mDefaultDialect.do_execute\u001b[1;34m(self, cursor, statement, parameters, context)\u001b[0m\n\u001b[0;32m    940\u001b[0m \u001b[38;5;28;01mdef\u001b[39;00m \u001b[38;5;21mdo_execute\u001b[39m(\u001b[38;5;28mself\u001b[39m, cursor, statement, parameters, context\u001b[38;5;241m=\u001b[39m\u001b[38;5;28;01mNone\u001b[39;00m):\n\u001b[1;32m--> 941\u001b[0m     \u001b[43mcursor\u001b[49m\u001b[38;5;241;43m.\u001b[39;49m\u001b[43mexecute\u001b[49m\u001b[43m(\u001b[49m\u001b[43mstatement\u001b[49m\u001b[43m,\u001b[49m\u001b[43m \u001b[49m\u001b[43mparameters\u001b[49m\u001b[43m)\u001b[49m\n",
      "\u001b[1;31mOperationalError\u001b[0m: (sqlite3.OperationalError) no such column: Grade\n[SQL: UPDATE \"Student\" SET \"Grade\"=? WHERE \"Student\".\"Id\" = ?]\n[parameters: (25.97, 1)]\n(Background on this error at: https://sqlalche.me/e/20/e3q8)"
     ]
    }
   ],
   "source": [
    "\n",
    "# Update each student with a random grade\n",
    "for student in students:\n",
    "    random_grade = round(random.uniform(0, 100), 2)  # Generate a random float between 0 and 100 with 2 decimal places\n",
    "    update_stmt = (\n",
    "        Student.update()\n",
    "        .where(Student.c.Id == student.Id)\n",
    "        .values(Grade=random_grade)\n",
    "    )\n",
    "    conn.execute(update_stmt)\n",
    "\n",
    "conn.commit()\n",
    "\n",
    "print(\"Grade column added and random grades assigned to existing students.\")\n"
   ]
  },
  {
   "cell_type": "code",
   "execution_count": 44,
   "metadata": {},
   "outputs": [
    {
     "name": "stdout",
     "output_type": "stream",
     "text": [
      "[(True,)]\n"
     ]
    }
   ],
   "source": [
    "# Print the average grade of all the students that have English major.\n",
    "\n",
    "query = db.select(db.func.sum(Student.c.Pass)).where(Student.c.Major == 'English').group_by(Student.c.Major)\n",
    "output = conn.execute(query)\n",
    "print(output.fetchall())\n"
   ]
  }
 ],
 "metadata": {
  "kernelspec": {
   "display_name": "di_venv",
   "language": "python",
   "name": "python3"
  },
  "language_info": {
   "codemirror_mode": {
    "name": "ipython",
    "version": 3
   },
   "file_extension": ".py",
   "mimetype": "text/x-python",
   "name": "python",
   "nbconvert_exporter": "python",
   "pygments_lexer": "ipython3",
   "version": "3.12.3"
  }
 },
 "nbformat": 4,
 "nbformat_minor": 2
}
