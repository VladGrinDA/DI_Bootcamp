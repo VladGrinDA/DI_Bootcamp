{
 "cells": [
  {
   "cell_type": "markdown",
   "metadata": {},
   "source": [
    "## Daily Challenge: NumPy, Pandas, and Matplotlib Integration"
   ]
  },
  {
   "cell_type": "markdown",
   "metadata": {},
   "source": [
    "### 1. Data Preparation:\n",
    "\n",
    "Hint 1: Use np.random.uniform(low, high, size) to generate the temperature data. \\\n",
    "Hint 2: Create a DataFrame using pd.DataFrame(data, index, columns) with appropriate index and columns. \n",
    "\n",
    "Use NumPy to generate a synthetic dataset representing average monthly temperatures (in degrees Celsius) for 12 months across 10 different cities. The temperatures should range from -5 to 35 degrees. \n",
    "\n",
    "Convert this NumPy array into a Pandas DataFrame, adding city names as index and months as columns."
   ]
  },
  {
   "cell_type": "code",
   "execution_count": 1,
   "metadata": {},
   "outputs": [],
   "source": [
    "# !pip install geopy"
   ]
  },
  {
   "cell_type": "code",
   "execution_count": 2,
   "metadata": {},
   "outputs": [],
   "source": [
    "import numpy as np\n",
    "import pandas as pd\n",
    "\n",
    "#  Capitals of the world\n",
    "capitals = ['Tel Aviv', 'London', 'Paris', 'Berlin', 'Tokyo', 'Beijing', 'Moscow', 'Washington', 'Ottawa']\n",
    "\n",
    "months = pd.date_range(start='2024-01-01', end='2024-12-01', freq='MS').strftime('%B')"
   ]
  },
  {
   "cell_type": "code",
   "execution_count": 3,
   "metadata": {},
   "outputs": [
    {
     "data": {
      "text/plain": [
       "[Location(Tel-Aviv, Tel Aviv Subdistrict, Tel-Aviv District, Israel, (32.0852997, 34.7818064, 0.0)),\n",
       " Location(London, Greater London, England, United Kingdom, (51.4893335, -0.14405508452768728, 0.0)),\n",
       " Location(Paris, Ile-de-France, Metropolitan France, France, (48.8588897, 2.3200410217200766, 0.0)),\n",
       " Location(Berlin, Germany, (52.510885, 13.3989367, 0.0)),\n",
       " Location(Tokyo, Japan, (35.6821936, 139.762221, 0.0)),\n",
       " Location(Beijing, China, (40.190632, 116.412144, 0.0)),\n",
       " Location(Moscow, Central Federal District, Russia, (55.7505412, 37.6174782, 0.0)),\n",
       " Location(Washington, United States, (47.2868352, -120.212613, 0.0)),\n",
       " Location(Ottawa, Eastern Ontario, Ontario, Canada, (45.4208777, -75.6901106, 0.0))]"
      ]
     },
     "execution_count": 3,
     "metadata": {},
     "output_type": "execute_result"
    }
   ],
   "source": [
    "from geopy.geocoders import Nominatim\n",
    "\n",
    "# I used geopy to get latitude for futher temperature generation\n",
    "gl = Nominatim(user_agent=\"di_challenge\")\n",
    "capitals_coord= [gl.geocode(city, language='en', timeout=100) for city in capitals]\n",
    "\n",
    "capitals_coord"
   ]
  },
  {
   "cell_type": "code",
   "execution_count": 4,
   "metadata": {},
   "outputs": [],
   "source": [
    "import numpy as np\n",
    "import random\n",
    "\n",
    "# I thought that it would be interesting to try to generate temperature close to the actual\n",
    "# I decided to use latitude and month to account for the effect of seasonality and closeness to the equator\n",
    "# But it turns out that it is not that easy to find a good formula\n",
    "# Here is the best that I could come up with\n",
    "\n",
    "def generate_temperature(month, latitude, base_temp=0, mon_adj=8, lat_adj=11, temp_range=2):\n",
    "    # Assuming months close to Jan are the coldest and to July are the warmest\n",
    "    # We can use cosine function so that factor would approach -1 the closer month is to Jan and 1 for July\n",
    "    # We achieve this by scaling month so that period is 12 and then adding pi to shift the cosine function to the right\n",
    "    # I've researched how temp changes monthly througt the year and found that this approach gives good results\n",
    "    mon_scale = np.cos(((month - 1) * 2 * np.pi / 12) + np.pi)\n",
    "    \n",
    "    # Here we adjust for the latitude.\n",
    "    # So it will be 1 the closer it to the equator and -1 the closer it to the poles\n",
    "    lat_scale = np.cos(np.pi * abs(latitude) / 90)\n",
    "    \n",
    "    # So we use base temperature and adjust it for the month and latitude\n",
    "    adj_temp = base_temp + mon_scale * mon_adj  + lat_scale * lat_adj\n",
    "    \n",
    "    return np.random.uniform(adj_temp - temp_range, adj_temp + temp_range)"
   ]
  },
  {
   "cell_type": "code",
   "execution_count": 5,
   "metadata": {},
   "outputs": [
    {
     "data": {
      "application/vnd.plotly.v1+json": {
       "config": {
        "plotlyServerURL": "https://plot.ly"
       },
       "data": [
        {
         "line": {
          "color": "rgb(0, 21, 245)",
          "width": 2
         },
         "mode": "lines",
         "name": "Tel Aviv (32°) 12 10 26.98 4.89",
         "type": "scatter",
         "x": [
          1,
          2,
          3,
          4,
          5,
          6,
          7,
          8,
          9,
          10,
          11,
          12
         ],
         "y": [
          4.886639047113697,
          7.0827273719483745,
          13.616489426102488,
          18.16525951055622,
          23.053909041984973,
          26.450072987190552,
          26.981493139076647,
          23.511450752184658,
          20.18234510037661,
          16.878599866924098,
          11.811325493514072,
          8.138870232877625
         ]
        },
        {
         "line": {
          "color": "rgb(0, 21, 245)",
          "dash": "dash",
          "width": 2
         },
         "mode": "lines",
         "name": "Moscow (52°) 12 10 21.10 -0.39",
         "type": "scatter",
         "x": [
          1,
          2,
          3,
          4,
          5,
          6,
          7,
          8,
          9,
          10,
          11,
          12
         ],
         "y": [
          0.15922626250784377,
          -0.032355415239027074,
          5.938736971425714,
          10.827219556608744,
          12.616528811256508,
          17.381547812755244,
          21.098555115148493,
          19.446616321616133,
          13.521273712996447,
          11.123035326741062,
          5.449819004929938,
          -0.385976544873027
         ]
        },
        {
         "line": {
          "color": "rgb(2, 157, 250)",
          "width": 2
         },
         "mode": "lines",
         "name": "Tel Aviv (32°) 11 20 34.66 -4.21",
         "type": "scatter",
         "x": [
          1,
          2,
          3,
          4,
          5,
          6,
          7,
          8,
          9,
          10,
          11,
          12
         ],
         "y": [
          -4.210715867310221,
          0.20836890070241276,
          6.7300432731712,
          14.173214788028643,
          24.155435527816138,
          32.51010995323121,
          34.660605722590084,
          33.97205412930029,
          25.965070379350216,
          17.170975724196285,
          7.011662991693644,
          -3.173385990238888
         ]
        },
        {
         "line": {
          "color": "rgb(2, 157, 250)",
          "dash": "dash",
          "width": 2
         },
         "mode": "lines",
         "name": "Moscow (52°) 11 20 28.43 -13.54",
         "type": "scatter",
         "x": [
          1,
          2,
          3,
          4,
          5,
          6,
          7,
          8,
          9,
          10,
          11,
          12
         ],
         "y": [
          -13.539151977951546,
          -7.730400748563193,
          -1.4935250748103575,
          8.483773072870353,
          16.474501439486623,
          24.806838295726507,
          28.426430899448967,
          25.966040106442385,
          18.712324269166974,
          6.485935324238806,
          -0.7102046570426355,
          -9.624998940268963
         ]
        },
        {
         "line": {
          "color": "rgb(152, 255, 0)",
          "width": 2
         },
         "mode": "lines",
         "name": "Tel Aviv (32°) 8 9 22.52 3.10",
         "type": "scatter",
         "x": [
          1,
          2,
          3,
          4,
          5,
          6,
          7,
          8,
          9,
          10,
          11,
          12
         ],
         "y": [
          3.100587015137596,
          6.040697548951183,
          9.354564730860858,
          13.837360756555029,
          17.67086699543789,
          18.84651676705066,
          22.51931064549058,
          19.494906203946,
          18.676470006751956,
          12.98155571816017,
          8.40946471412034,
          4.66181816557588
         ]
        },
        {
         "line": {
          "color": "rgb(152, 255, 0)",
          "dash": "dash",
          "width": 2
         },
         "mode": "lines",
         "name": "Moscow (52°) 8 9 15.03 -5.36",
         "type": "scatter",
         "x": [
          1,
          2,
          3,
          4,
          5,
          6,
          7,
          8,
          9,
          10,
          11,
          12
         ],
         "y": [
          -5.359867782655296,
          -1.6257753303602898,
          2.4322268572462784,
          7.173245229663144,
          10.020939060093358,
          11.828497274010784,
          15.034930793161621,
          14.909946582879751,
          10.990966152940963,
          4.024174619968753,
          0.06105657921216334,
          -3.9783508190535444
         ]
        },
        {
         "line": {
          "color": "rgb(255, 155, 0)",
          "width": 2
         },
         "mode": "lines",
         "name": "Tel Aviv (32°) 10 13 27.53 2.38",
         "type": "scatter",
         "x": [
          1,
          2,
          3,
          4,
          5,
          6,
          7,
          8,
          9,
          10,
          11,
          12
         ],
         "y": [
          2.4570486233138644,
          2.384535515735527,
          9.036551712762819,
          16.385876511689847,
          22.565682244179236,
          27.342407762998675,
          27.530350978587734,
          25.58904284398423,
          21.35715525313105,
          12.936025443655986,
          7.938038535835654,
          2.7447710460257073
         ]
        },
        {
         "line": {
          "color": "rgb(255, 155, 0)",
          "dash": "dash",
          "width": 2
         },
         "mode": "lines",
         "name": "Moscow (52°) 10 13 22.15 -5.77",
         "type": "scatter",
         "x": [
          1,
          2,
          3,
          4,
          5,
          6,
          7,
          8,
          9,
          10,
          11,
          12
         ],
         "y": [
          -5.6926296951274065,
          -5.77418722116868,
          0.5292526822306791,
          8.865946840852807,
          15.658424318433672,
          19.036842124769493,
          22.15294768492962,
          17.36691238302265,
          15.258528486724018,
          8.568995992343272,
          1.1612623885832147,
          -3.459424598566377
         ]
        },
        {
         "line": {
          "color": "rgb(239, 237, 0)",
          "width": 2
         },
         "mode": "lines",
         "name": "Tel Aviv (32°) 7 8 19.51 3.56",
         "type": "scatter",
         "x": [
          1,
          2,
          3,
          4,
          5,
          6,
          7,
          8,
          9,
          10,
          11,
          12
         ],
         "y": [
          3.615373370255702,
          3.7254502844388884,
          8.291140635854228,
          13.38394274426921,
          17.447863553477934,
          18.910430769416646,
          19.513859941360504,
          17.213934570146872,
          14.267669729662755,
          10.662786901173885,
          6.632628750752937,
          3.5553654973752487
         ]
        },
        {
         "line": {
          "color": "rgb(239, 237, 0)",
          "dash": "dash",
          "width": 2
         },
         "mode": "lines",
         "name": "Moscow (52°) 7 8 13.72 -4.52",
         "type": "scatter",
         "x": [
          1,
          2,
          3,
          4,
          5,
          6,
          7,
          8,
          9,
          10,
          11,
          12
         ],
         "y": [
          -4.515929240380152,
          -0.8885877139912277,
          0.5473873938217606,
          3.4816812411483546,
          9.189479637451136,
          11.669797602872881,
          13.716061717885733,
          12.449889753633286,
          9.372135080169489,
          3.054617434397911,
          -1.0912530174859305,
          -1.1667189369280049
         ]
        },
        {
         "line": {
          "color": "rgb(117, 0, 114)",
          "width": 2
         },
         "mode": "lines",
         "name": "Tel Aviv (32°) 7 9 21.57 3.02",
         "type": "scatter",
         "x": [
          1,
          2,
          3,
          4,
          5,
          6,
          7,
          8,
          9,
          10,
          11,
          12
         ],
         "y": [
          3.177147074023829,
          3.020626727059517,
          7.930407896045178,
          13.04695851172585,
          18.28988202704094,
          19.31268311010173,
          21.574133243874297,
          20.881864866028018,
          14.71011157890687,
          11.262501444836523,
          8.206418511894388,
          5.614361476305957
         ]
        },
        {
         "line": {
          "color": "rgb(117, 0, 114)",
          "dash": "dash",
          "width": 2
         },
         "mode": "lines",
         "name": "Moscow (52°) 7 9 15.17 -4.19",
         "type": "scatter",
         "x": [
          1,
          2,
          3,
          4,
          5,
          6,
          7,
          8,
          9,
          10,
          11,
          12
         ],
         "y": [
          -4.187128065548093,
          -1.9985146710640431,
          -0.28372941864277745,
          5.673518541494238,
          7.65025809557954,
          11.724828456244836,
          15.1654114004556,
          13.42045544959013,
          10.560158136599949,
          6.1507489650396945,
          0.9879691966310942,
          -3.7179105960854857
         ]
        },
        {
         "line": {
          "color": "rgb(255, 4, 0)",
          "width": 2
         },
         "mode": "lines",
         "name": "Tel Aviv (32°) 4 10 20.18 -1.94",
         "type": "scatter",
         "x": [
          1,
          2,
          3,
          4,
          5,
          6,
          7,
          8,
          9,
          10,
          11,
          12
         ],
         "y": [
          -1.9397434168547263,
          -1.2394898646995571,
          4.743889976161716,
          6.999712107969854,
          14.690417621331754,
          16.49803074213394,
          20.17874330861208,
          18.167104251844975,
          14.155752773303686,
          10.18236036666509,
          2.87070315305494,
          0.6578598693466051
         ]
        },
        {
         "line": {
          "color": "rgb(255, 4, 0)",
          "dash": "dash",
          "width": 2
         },
         "mode": "lines",
         "name": "Moscow (52°) 4 10 11.32 -10.26",
         "type": "scatter",
         "x": [
          1,
          2,
          3,
          4,
          5,
          6,
          7,
          8,
          9,
          10,
          11,
          12
         ],
         "y": [
          -10.259388118369776,
          -7.2257344473039655,
          -4.28374194819396,
          2.2717630437038654,
          5.184960251568316,
          11.319295236890513,
          9.944669856514532,
          8.46424198055724,
          4.632980603989449,
          -0.35589436364177507,
          -2.324179309798112,
          -6.446706426516053
         ]
        },
        {
         "line": {
          "color": "rgb(0, 99, 255)",
          "width": 2
         },
         "mode": "lines",
         "name": "Tel Aviv (32°) 8 18 30.32 -4.28",
         "type": "scatter",
         "x": [
          1,
          2,
          3,
          4,
          5,
          6,
          7,
          8,
          9,
          10,
          11,
          12
         ],
         "y": [
          -4.279569141714532,
          -2.364977891244707,
          5.670548792186591,
          12.435292293064405,
          20.822884494993836,
          28.391962990369294,
          29.639805021473915,
          30.32390903479913,
          22.014433063011573,
          13.149034190258286,
          5.433291525151752,
          -1.9364456023488454
         ]
        },
        {
         "line": {
          "color": "rgb(0, 99, 255)",
          "dash": "dash",
          "width": 2
         },
         "mode": "lines",
         "name": "Moscow (52°) 8 18 22.48 -11.80",
         "type": "scatter",
         "x": [
          1,
          2,
          3,
          4,
          5,
          6,
          7,
          8,
          9,
          10,
          11,
          12
         ],
         "y": [
          -11.803708534698973,
          -8.934846233168047,
          -4.701013518481012,
          4.633691266261847,
          15.118247438461742,
          19.632390000332485,
          22.481772797412177,
          22.35967491880881,
          13.841395778349034,
          5.933812739219652,
          -2.7105353495991875,
          -10.569322201038833
         ]
        },
        {
         "line": {
          "color": "rgb(0, 117, 255)",
          "width": 2
         },
         "mode": "lines",
         "name": "Tel Aviv (32°) 10 17 31.07 -4.14",
         "type": "scatter",
         "x": [
          1,
          2,
          3,
          4,
          5,
          6,
          7,
          8,
          9,
          10,
          11,
          12
         ],
         "y": [
          -4.138235755744512,
          0.8711836812420359,
          8.307224862201139,
          14.055719930311788,
          23.104080798818263,
          28.548821673974228,
          31.074219356166164,
          30.99601674454968,
          22.497527596775836,
          14.555105380014284,
          5.9312487898019155,
          -1.8992332470075408
         ]
        },
        {
         "line": {
          "color": "rgb(0, 117, 255)",
          "dash": "dash",
          "width": 2
         },
         "mode": "lines",
         "name": "Moscow (52°) 10 17 25.46 -10.43",
         "type": "scatter",
         "x": [
          1,
          2,
          3,
          4,
          5,
          6,
          7,
          8,
          9,
          10,
          11,
          12
         ],
         "y": [
          -10.431382888934133,
          -6.221474720379186,
          -1.2705310774198377,
          8.640518425910239,
          15.085731844082456,
          22.582143975734063,
          25.456790516514573,
          20.846797431908403,
          16.038708679821717,
          5.396423251244416,
          -1.048372252312844,
          -6.577443445566833
         ]
        },
        {
         "line": {
          "color": "rgb(12, 181, 225)",
          "width": 2
         },
         "mode": "lines",
         "name": "Tel Aviv (32°) 2 11 16.65 -4.57",
         "type": "scatter",
         "x": [
          1,
          2,
          3,
          4,
          5,
          6,
          7,
          8,
          9,
          10,
          11,
          12
         ],
         "y": [
          -2.986711524136752,
          -4.5295219227855945,
          0.654427472392134,
          5.130181971656638,
          13.271653819482072,
          16.24450988988809,
          16.65193935290558,
          15.061987284303072,
          13.56971747055687,
          6.446274911650795,
          2.0181017975581135,
          -4.574482182953997
         ]
        },
        {
         "line": {
          "color": "rgb(12, 181, 225)",
          "dash": "dash",
          "width": 2
         },
         "mode": "lines",
         "name": "Moscow (52°) 2 11 11.34 -11.32",
         "type": "scatter",
         "x": [
          1,
          2,
          3,
          4,
          5,
          6,
          7,
          8,
          9,
          10,
          11,
          12
         ],
         "y": [
          -10.19176974158978,
          -11.317821278802985,
          -6.034679910756469,
          -2.0249644153599586,
          5.638783188456385,
          9.263886506068268,
          11.344176316779762,
          7.656728098504692,
          3.2955672188973315,
          -0.6435590731400684,
          -6.035608127626512,
          -8.692725661833672
         ]
        },
        {
         "line": {
          "color": "rgb(11, 178, 229)",
          "width": 2
         },
         "mode": "lines",
         "name": "Tel Aviv (32°) 10 10 25.28 4.70",
         "type": "scatter",
         "x": [
          1,
          2,
          3,
          4,
          5,
          6,
          7,
          8,
          9,
          10,
          11,
          12
         ],
         "y": [
          4.697995178463034,
          7.3699412438689835,
          10.178161822748084,
          13.618580956274938,
          17.832611281661862,
          22.399269427912376,
          25.284006377132236,
          22.147732776807583,
          19.554440683256576,
          13.249585380683927,
          9.843039030687239,
          7.936875945196055
         ]
        },
        {
         "line": {
          "color": "rgb(11, 178, 229)",
          "dash": "dash",
          "width": 2
         },
         "mode": "lines",
         "name": "Moscow (52°) 10 10 17.06 -3.31",
         "type": "scatter",
         "x": [
          1,
          2,
          3,
          4,
          5,
          6,
          7,
          8,
          9,
          10,
          11,
          12
         ],
         "y": [
          -2.7108275865274676,
          -3.311217670697978,
          2.4268949392217913,
          5.899132926768772,
          11.02730109929128,
          17.060285127230173,
          16.939172653741796,
          15.546376044468285,
          10.419660881677636,
          6.339075234435103,
          1.117541019680694,
          -0.9545910652970497
         ]
        }
       ],
       "layout": {
        "height": 600,
        "legend": {
         "xanchor": "left",
         "yanchor": "top"
        },
        "template": {
         "data": {
          "bar": [
           {
            "error_x": {
             "color": "#2a3f5f"
            },
            "error_y": {
             "color": "#2a3f5f"
            },
            "marker": {
             "line": {
              "color": "#E5ECF6",
              "width": 0.5
             },
             "pattern": {
              "fillmode": "overlay",
              "size": 10,
              "solidity": 0.2
             }
            },
            "type": "bar"
           }
          ],
          "barpolar": [
           {
            "marker": {
             "line": {
              "color": "#E5ECF6",
              "width": 0.5
             },
             "pattern": {
              "fillmode": "overlay",
              "size": 10,
              "solidity": 0.2
             }
            },
            "type": "barpolar"
           }
          ],
          "carpet": [
           {
            "aaxis": {
             "endlinecolor": "#2a3f5f",
             "gridcolor": "white",
             "linecolor": "white",
             "minorgridcolor": "white",
             "startlinecolor": "#2a3f5f"
            },
            "baxis": {
             "endlinecolor": "#2a3f5f",
             "gridcolor": "white",
             "linecolor": "white",
             "minorgridcolor": "white",
             "startlinecolor": "#2a3f5f"
            },
            "type": "carpet"
           }
          ],
          "choropleth": [
           {
            "colorbar": {
             "outlinewidth": 0,
             "ticks": ""
            },
            "type": "choropleth"
           }
          ],
          "contour": [
           {
            "colorbar": {
             "outlinewidth": 0,
             "ticks": ""
            },
            "colorscale": [
             [
              0,
              "#0d0887"
             ],
             [
              0.1111111111111111,
              "#46039f"
             ],
             [
              0.2222222222222222,
              "#7201a8"
             ],
             [
              0.3333333333333333,
              "#9c179e"
             ],
             [
              0.4444444444444444,
              "#bd3786"
             ],
             [
              0.5555555555555556,
              "#d8576b"
             ],
             [
              0.6666666666666666,
              "#ed7953"
             ],
             [
              0.7777777777777778,
              "#fb9f3a"
             ],
             [
              0.8888888888888888,
              "#fdca26"
             ],
             [
              1,
              "#f0f921"
             ]
            ],
            "type": "contour"
           }
          ],
          "contourcarpet": [
           {
            "colorbar": {
             "outlinewidth": 0,
             "ticks": ""
            },
            "type": "contourcarpet"
           }
          ],
          "heatmap": [
           {
            "colorbar": {
             "outlinewidth": 0,
             "ticks": ""
            },
            "colorscale": [
             [
              0,
              "#0d0887"
             ],
             [
              0.1111111111111111,
              "#46039f"
             ],
             [
              0.2222222222222222,
              "#7201a8"
             ],
             [
              0.3333333333333333,
              "#9c179e"
             ],
             [
              0.4444444444444444,
              "#bd3786"
             ],
             [
              0.5555555555555556,
              "#d8576b"
             ],
             [
              0.6666666666666666,
              "#ed7953"
             ],
             [
              0.7777777777777778,
              "#fb9f3a"
             ],
             [
              0.8888888888888888,
              "#fdca26"
             ],
             [
              1,
              "#f0f921"
             ]
            ],
            "type": "heatmap"
           }
          ],
          "heatmapgl": [
           {
            "colorbar": {
             "outlinewidth": 0,
             "ticks": ""
            },
            "colorscale": [
             [
              0,
              "#0d0887"
             ],
             [
              0.1111111111111111,
              "#46039f"
             ],
             [
              0.2222222222222222,
              "#7201a8"
             ],
             [
              0.3333333333333333,
              "#9c179e"
             ],
             [
              0.4444444444444444,
              "#bd3786"
             ],
             [
              0.5555555555555556,
              "#d8576b"
             ],
             [
              0.6666666666666666,
              "#ed7953"
             ],
             [
              0.7777777777777778,
              "#fb9f3a"
             ],
             [
              0.8888888888888888,
              "#fdca26"
             ],
             [
              1,
              "#f0f921"
             ]
            ],
            "type": "heatmapgl"
           }
          ],
          "histogram": [
           {
            "marker": {
             "pattern": {
              "fillmode": "overlay",
              "size": 10,
              "solidity": 0.2
             }
            },
            "type": "histogram"
           }
          ],
          "histogram2d": [
           {
            "colorbar": {
             "outlinewidth": 0,
             "ticks": ""
            },
            "colorscale": [
             [
              0,
              "#0d0887"
             ],
             [
              0.1111111111111111,
              "#46039f"
             ],
             [
              0.2222222222222222,
              "#7201a8"
             ],
             [
              0.3333333333333333,
              "#9c179e"
             ],
             [
              0.4444444444444444,
              "#bd3786"
             ],
             [
              0.5555555555555556,
              "#d8576b"
             ],
             [
              0.6666666666666666,
              "#ed7953"
             ],
             [
              0.7777777777777778,
              "#fb9f3a"
             ],
             [
              0.8888888888888888,
              "#fdca26"
             ],
             [
              1,
              "#f0f921"
             ]
            ],
            "type": "histogram2d"
           }
          ],
          "histogram2dcontour": [
           {
            "colorbar": {
             "outlinewidth": 0,
             "ticks": ""
            },
            "colorscale": [
             [
              0,
              "#0d0887"
             ],
             [
              0.1111111111111111,
              "#46039f"
             ],
             [
              0.2222222222222222,
              "#7201a8"
             ],
             [
              0.3333333333333333,
              "#9c179e"
             ],
             [
              0.4444444444444444,
              "#bd3786"
             ],
             [
              0.5555555555555556,
              "#d8576b"
             ],
             [
              0.6666666666666666,
              "#ed7953"
             ],
             [
              0.7777777777777778,
              "#fb9f3a"
             ],
             [
              0.8888888888888888,
              "#fdca26"
             ],
             [
              1,
              "#f0f921"
             ]
            ],
            "type": "histogram2dcontour"
           }
          ],
          "mesh3d": [
           {
            "colorbar": {
             "outlinewidth": 0,
             "ticks": ""
            },
            "type": "mesh3d"
           }
          ],
          "parcoords": [
           {
            "line": {
             "colorbar": {
              "outlinewidth": 0,
              "ticks": ""
             }
            },
            "type": "parcoords"
           }
          ],
          "pie": [
           {
            "automargin": true,
            "type": "pie"
           }
          ],
          "scatter": [
           {
            "fillpattern": {
             "fillmode": "overlay",
             "size": 10,
             "solidity": 0.2
            },
            "type": "scatter"
           }
          ],
          "scatter3d": [
           {
            "line": {
             "colorbar": {
              "outlinewidth": 0,
              "ticks": ""
             }
            },
            "marker": {
             "colorbar": {
              "outlinewidth": 0,
              "ticks": ""
             }
            },
            "type": "scatter3d"
           }
          ],
          "scattercarpet": [
           {
            "marker": {
             "colorbar": {
              "outlinewidth": 0,
              "ticks": ""
             }
            },
            "type": "scattercarpet"
           }
          ],
          "scattergeo": [
           {
            "marker": {
             "colorbar": {
              "outlinewidth": 0,
              "ticks": ""
             }
            },
            "type": "scattergeo"
           }
          ],
          "scattergl": [
           {
            "marker": {
             "colorbar": {
              "outlinewidth": 0,
              "ticks": ""
             }
            },
            "type": "scattergl"
           }
          ],
          "scattermapbox": [
           {
            "marker": {
             "colorbar": {
              "outlinewidth": 0,
              "ticks": ""
             }
            },
            "type": "scattermapbox"
           }
          ],
          "scatterpolar": [
           {
            "marker": {
             "colorbar": {
              "outlinewidth": 0,
              "ticks": ""
             }
            },
            "type": "scatterpolar"
           }
          ],
          "scatterpolargl": [
           {
            "marker": {
             "colorbar": {
              "outlinewidth": 0,
              "ticks": ""
             }
            },
            "type": "scatterpolargl"
           }
          ],
          "scatterternary": [
           {
            "marker": {
             "colorbar": {
              "outlinewidth": 0,
              "ticks": ""
             }
            },
            "type": "scatterternary"
           }
          ],
          "surface": [
           {
            "colorbar": {
             "outlinewidth": 0,
             "ticks": ""
            },
            "colorscale": [
             [
              0,
              "#0d0887"
             ],
             [
              0.1111111111111111,
              "#46039f"
             ],
             [
              0.2222222222222222,
              "#7201a8"
             ],
             [
              0.3333333333333333,
              "#9c179e"
             ],
             [
              0.4444444444444444,
              "#bd3786"
             ],
             [
              0.5555555555555556,
              "#d8576b"
             ],
             [
              0.6666666666666666,
              "#ed7953"
             ],
             [
              0.7777777777777778,
              "#fb9f3a"
             ],
             [
              0.8888888888888888,
              "#fdca26"
             ],
             [
              1,
              "#f0f921"
             ]
            ],
            "type": "surface"
           }
          ],
          "table": [
           {
            "cells": {
             "fill": {
              "color": "#EBF0F8"
             },
             "line": {
              "color": "white"
             }
            },
            "header": {
             "fill": {
              "color": "#C8D4E3"
             },
             "line": {
              "color": "white"
             }
            },
            "type": "table"
           }
          ]
         },
         "layout": {
          "annotationdefaults": {
           "arrowcolor": "#2a3f5f",
           "arrowhead": 0,
           "arrowwidth": 1
          },
          "autotypenumbers": "strict",
          "coloraxis": {
           "colorbar": {
            "outlinewidth": 0,
            "ticks": ""
           }
          },
          "colorscale": {
           "diverging": [
            [
             0,
             "#8e0152"
            ],
            [
             0.1,
             "#c51b7d"
            ],
            [
             0.2,
             "#de77ae"
            ],
            [
             0.3,
             "#f1b6da"
            ],
            [
             0.4,
             "#fde0ef"
            ],
            [
             0.5,
             "#f7f7f7"
            ],
            [
             0.6,
             "#e6f5d0"
            ],
            [
             0.7,
             "#b8e186"
            ],
            [
             0.8,
             "#7fbc41"
            ],
            [
             0.9,
             "#4d9221"
            ],
            [
             1,
             "#276419"
            ]
           ],
           "sequential": [
            [
             0,
             "#0d0887"
            ],
            [
             0.1111111111111111,
             "#46039f"
            ],
            [
             0.2222222222222222,
             "#7201a8"
            ],
            [
             0.3333333333333333,
             "#9c179e"
            ],
            [
             0.4444444444444444,
             "#bd3786"
            ],
            [
             0.5555555555555556,
             "#d8576b"
            ],
            [
             0.6666666666666666,
             "#ed7953"
            ],
            [
             0.7777777777777778,
             "#fb9f3a"
            ],
            [
             0.8888888888888888,
             "#fdca26"
            ],
            [
             1,
             "#f0f921"
            ]
           ],
           "sequentialminus": [
            [
             0,
             "#0d0887"
            ],
            [
             0.1111111111111111,
             "#46039f"
            ],
            [
             0.2222222222222222,
             "#7201a8"
            ],
            [
             0.3333333333333333,
             "#9c179e"
            ],
            [
             0.4444444444444444,
             "#bd3786"
            ],
            [
             0.5555555555555556,
             "#d8576b"
            ],
            [
             0.6666666666666666,
             "#ed7953"
            ],
            [
             0.7777777777777778,
             "#fb9f3a"
            ],
            [
             0.8888888888888888,
             "#fdca26"
            ],
            [
             1,
             "#f0f921"
            ]
           ]
          },
          "colorway": [
           "#636efa",
           "#EF553B",
           "#00cc96",
           "#ab63fa",
           "#FFA15A",
           "#19d3f3",
           "#FF6692",
           "#B6E880",
           "#FF97FF",
           "#FECB52"
          ],
          "font": {
           "color": "#2a3f5f"
          },
          "geo": {
           "bgcolor": "white",
           "lakecolor": "white",
           "landcolor": "#E5ECF6",
           "showlakes": true,
           "showland": true,
           "subunitcolor": "white"
          },
          "hoverlabel": {
           "align": "left"
          },
          "hovermode": "closest",
          "mapbox": {
           "style": "light"
          },
          "paper_bgcolor": "white",
          "plot_bgcolor": "#E5ECF6",
          "polar": {
           "angularaxis": {
            "gridcolor": "white",
            "linecolor": "white",
            "ticks": ""
           },
           "bgcolor": "#E5ECF6",
           "radialaxis": {
            "gridcolor": "white",
            "linecolor": "white",
            "ticks": ""
           }
          },
          "scene": {
           "xaxis": {
            "backgroundcolor": "#E5ECF6",
            "gridcolor": "white",
            "gridwidth": 2,
            "linecolor": "white",
            "showbackground": true,
            "ticks": "",
            "zerolinecolor": "white"
           },
           "yaxis": {
            "backgroundcolor": "#E5ECF6",
            "gridcolor": "white",
            "gridwidth": 2,
            "linecolor": "white",
            "showbackground": true,
            "ticks": "",
            "zerolinecolor": "white"
           },
           "zaxis": {
            "backgroundcolor": "#E5ECF6",
            "gridcolor": "white",
            "gridwidth": 2,
            "linecolor": "white",
            "showbackground": true,
            "ticks": "",
            "zerolinecolor": "white"
           }
          },
          "shapedefaults": {
           "line": {
            "color": "#2a3f5f"
           }
          },
          "ternary": {
           "aaxis": {
            "gridcolor": "white",
            "linecolor": "white",
            "ticks": ""
           },
           "baxis": {
            "gridcolor": "white",
            "linecolor": "white",
            "ticks": ""
           },
           "bgcolor": "#E5ECF6",
           "caxis": {
            "gridcolor": "white",
            "linecolor": "white",
            "ticks": ""
           }
          },
          "title": {
           "x": 0.05
          },
          "xaxis": {
           "automargin": true,
           "gridcolor": "white",
           "linecolor": "white",
           "ticks": "",
           "title": {
            "standoff": 15
           },
           "zerolinecolor": "white",
           "zerolinewidth": 2
          },
          "yaxis": {
           "automargin": true,
           "gridcolor": "white",
           "linecolor": "white",
           "ticks": "",
           "title": {
            "standoff": 15
           },
           "zerolinecolor": "white",
           "zerolinewidth": 2
          }
         }
        },
        "width": 1200
       }
      }
     },
     "metadata": {},
     "output_type": "display_data"
    }
   ],
   "source": [
    "import plotly.graph_objects as go\n",
    "import random\n",
    "import plotly.colors as colors\n",
    "\n",
    "# Here I tried to find best values for monthly and latitude adjustments\n",
    "# But if i set up weather limit close to actual weather, it is impossible \n",
    "# to find corresponding values for mon_adj and lat_adj\n",
    "\n",
    "months_num = list(range(1, 13))\n",
    "fig = go.Figure()\n",
    "plots = 0\n",
    "\n",
    "for _ in range(1000):\n",
    "    max_temp = 30\n",
    "    mon_adj = random.randint(1, max_temp)\n",
    "    lat_adj = random.randint(1, max_temp)\n",
    "    tel_aviv_temps = [generate_temperature(i, 32, mon_adj, lat_adj) for i in months_num]\n",
    "    moscow_temps = [generate_temperature(i, 52, mon_adj, lat_adj) for i in months_num]\n",
    "    \n",
    "    tel_aviv_max = np.max(tel_aviv_temps)\n",
    "    tel_aviv_min = np.min(tel_aviv_temps)\n",
    "    moscow_max = np.max(moscow_temps)\n",
    "    moscow_min = np.min(moscow_temps)\n",
    "    \n",
    "    if tel_aviv_min > -5 and moscow_max > 10 and tel_aviv_max < 35 and moscow_min < 0:\n",
    "        color = colors.sample_colorscale(colors.PLOTLY_SCALES['Rainbow'], random.random())[0]\n",
    "\n",
    "        fig.add_trace(go.Scatter(x=months_num, y=tel_aviv_temps, mode='lines', \n",
    "                                name=f'Tel Aviv (32°) {mon_adj} {lat_adj} {tel_aviv_max:.2f} {tel_aviv_min:.2f}', line=dict(color=color, width=2)))\n",
    "        fig.add_trace(go.Scatter(x=months_num, y=moscow_temps, mode='lines', \n",
    "                             name=f'Moscow (52°) {mon_adj} {lat_adj} {moscow_max:.2f} {moscow_min:.2f}', line=dict(color=color, dash='dash', width=2)))\n",
    "        plots += 1\n",
    "        if plots > 10:\n",
    "            break\n",
    "    \n",
    "fig.update_layout(\n",
    "    legend=dict(xanchor='left', yanchor='top'),\n",
    "    width=1200,\n",
    "    height=600,\n",
    ")\n",
    "\n",
    "fig.show()\n",
    "\n",
    "# Good values\n",
    "# 8 20\n",
    "# 9 22\n",
    "# 10 17\n",
    "# 8 11\n"
   ]
  },
  {
   "cell_type": "code",
   "execution_count": 6,
   "metadata": {},
   "outputs": [
    {
     "name": "stdout",
     "output_type": "stream",
     "text": [
      "Help on Location in module geopy.location object:\n",
      "\n",
      "class Location(builtins.object)\n",
      " |  Location(address, point, raw)\n",
      " |\n",
      " |  Contains a parsed geocoder response. Can be iterated over as\n",
      " |  ``(location<String>, (latitude<float>, longitude<Float))``.\n",
      " |  Or one can access the properties ``address``, ``latitude``,\n",
      " |  ``longitude``, or ``raw``. The last\n",
      " |  is a dictionary of the geocoder's response for this item.\n",
      " |\n",
      " |  Methods defined here:\n",
      " |\n",
      " |  __eq__(self, other)\n",
      " |      Return self==value.\n",
      " |\n",
      " |  __getitem__(self, index)\n",
      " |      Backwards compatibility with geopy<0.98 tuples.\n",
      " |\n",
      " |  __getstate__(self)\n",
      " |      Helper for pickle.\n",
      " |\n",
      " |  __init__(self, address, point, raw)\n",
      " |      Initialize self.  See help(type(self)) for accurate signature.\n",
      " |\n",
      " |  __iter__(self)\n",
      " |\n",
      " |  __len__(self)\n",
      " |\n",
      " |  __ne__(self, other)\n",
      " |      Return self!=value.\n",
      " |\n",
      " |  __repr__(self)\n",
      " |      Return repr(self).\n",
      " |\n",
      " |  __setstate__(self, state)\n",
      " |\n",
      " |  __str__(self)\n",
      " |      Return str(self).\n",
      " |\n",
      " |  ----------------------------------------------------------------------\n",
      " |  Readonly properties defined here:\n",
      " |\n",
      " |  address\n",
      " |      Location as a formatted string returned by the geocoder or constructed\n",
      " |      by geopy, depending on the service.\n",
      " |\n",
      " |      :rtype: str\n",
      " |\n",
      " |  altitude\n",
      " |      Location's altitude.\n",
      " |\n",
      " |      .. note::\n",
      " |          Geocoding services usually don't consider altitude neither in\n",
      " |          requests nor in responses, so almost always the value of this\n",
      " |          property would be zero.\n",
      " |\n",
      " |      :rtype: float\n",
      " |\n",
      " |  latitude\n",
      " |      Location's latitude.\n",
      " |\n",
      " |      :rtype: float\n",
      " |\n",
      " |  longitude\n",
      " |      Location's longitude.\n",
      " |\n",
      " |      :rtype: float\n",
      " |\n",
      " |  point\n",
      " |      :class:`geopy.point.Point` instance representing the location's\n",
      " |      latitude, longitude, and altitude.\n",
      " |\n",
      " |      :rtype: :class:`geopy.point.Point`\n",
      " |\n",
      " |  raw\n",
      " |      Location's raw, unparsed geocoder response. For details on this,\n",
      " |      consult the service's documentation.\n",
      " |\n",
      " |      :rtype: dict\n",
      " |\n",
      " |  ----------------------------------------------------------------------\n",
      " |  Data and other attributes defined here:\n",
      " |\n",
      " |  __hash__ = None\n",
      "\n"
     ]
    }
   ],
   "source": [
    "help(capitals_coord[0])"
   ]
  },
  {
   "cell_type": "code",
   "execution_count": 7,
   "metadata": {},
   "outputs": [
    {
     "data": {
      "text/plain": [
       "{'place_id': 374285331,\n",
       " 'licence': 'Data © OpenStreetMap contributors, ODbL 1.0. http://osm.org/copyright',\n",
       " 'osm_type': 'relation',\n",
       " 'osm_id': 1382494,\n",
       " 'lat': '32.0852997',\n",
       " 'lon': '34.7818064',\n",
       " 'class': 'boundary',\n",
       " 'type': 'administrative',\n",
       " 'place_rank': 16,\n",
       " 'importance': 0.6499881947160822,\n",
       " 'addresstype': 'city',\n",
       " 'name': 'Tel-Aviv',\n",
       " 'display_name': 'Tel-Aviv, Tel Aviv Subdistrict, Tel-Aviv District, Israel',\n",
       " 'boundingbox': ['32.0293437', '32.1469766', '34.7391310', '34.8522617']}"
      ]
     },
     "execution_count": 7,
     "metadata": {},
     "output_type": "execute_result"
    }
   ],
   "source": [
    "capitals_coord[0].raw\n"
   ]
  },
  {
   "cell_type": "code",
   "execution_count": 8,
   "metadata": {},
   "outputs": [
    {
     "data": {
      "text/html": [
       "<div>\n",
       "<style scoped>\n",
       "    .dataframe tbody tr th:only-of-type {\n",
       "        vertical-align: middle;\n",
       "    }\n",
       "\n",
       "    .dataframe tbody tr th {\n",
       "        vertical-align: top;\n",
       "    }\n",
       "\n",
       "    .dataframe thead th {\n",
       "        text-align: right;\n",
       "    }\n",
       "</style>\n",
       "<table border=\"1\" class=\"dataframe\">\n",
       "  <thead>\n",
       "    <tr style=\"text-align: right;\">\n",
       "      <th></th>\n",
       "      <th>month</th>\n",
       "      <th>mon_num</th>\n",
       "    </tr>\n",
       "  </thead>\n",
       "  <tbody>\n",
       "    <tr>\n",
       "      <th>0</th>\n",
       "      <td>January</td>\n",
       "      <td>1</td>\n",
       "    </tr>\n",
       "    <tr>\n",
       "      <th>1</th>\n",
       "      <td>February</td>\n",
       "      <td>2</td>\n",
       "    </tr>\n",
       "    <tr>\n",
       "      <th>2</th>\n",
       "      <td>March</td>\n",
       "      <td>3</td>\n",
       "    </tr>\n",
       "    <tr>\n",
       "      <th>3</th>\n",
       "      <td>April</td>\n",
       "      <td>4</td>\n",
       "    </tr>\n",
       "    <tr>\n",
       "      <th>4</th>\n",
       "      <td>May</td>\n",
       "      <td>5</td>\n",
       "    </tr>\n",
       "    <tr>\n",
       "      <th>5</th>\n",
       "      <td>June</td>\n",
       "      <td>6</td>\n",
       "    </tr>\n",
       "    <tr>\n",
       "      <th>6</th>\n",
       "      <td>July</td>\n",
       "      <td>7</td>\n",
       "    </tr>\n",
       "    <tr>\n",
       "      <th>7</th>\n",
       "      <td>August</td>\n",
       "      <td>8</td>\n",
       "    </tr>\n",
       "    <tr>\n",
       "      <th>8</th>\n",
       "      <td>September</td>\n",
       "      <td>9</td>\n",
       "    </tr>\n",
       "    <tr>\n",
       "      <th>9</th>\n",
       "      <td>October</td>\n",
       "      <td>10</td>\n",
       "    </tr>\n",
       "    <tr>\n",
       "      <th>10</th>\n",
       "      <td>November</td>\n",
       "      <td>11</td>\n",
       "    </tr>\n",
       "    <tr>\n",
       "      <th>11</th>\n",
       "      <td>December</td>\n",
       "      <td>12</td>\n",
       "    </tr>\n",
       "  </tbody>\n",
       "</table>\n",
       "</div>"
      ],
      "text/plain": [
       "        month  mon_num\n",
       "0     January        1\n",
       "1    February        2\n",
       "2       March        3\n",
       "3       April        4\n",
       "4         May        5\n",
       "5        June        6\n",
       "6        July        7\n",
       "7      August        8\n",
       "8   September        9\n",
       "9     October       10\n",
       "10   November       11\n",
       "11   December       12"
      ]
     },
     "execution_count": 8,
     "metadata": {},
     "output_type": "execute_result"
    }
   ],
   "source": [
    "months_df = pd.DataFrame({'month': months, 'mon_num': range(1, 13)})\n",
    "months_df"
   ]
  },
  {
   "cell_type": "code",
   "execution_count": 9,
   "metadata": {},
   "outputs": [
    {
     "data": {
      "text/html": [
       "<div>\n",
       "<style scoped>\n",
       "    .dataframe tbody tr th:only-of-type {\n",
       "        vertical-align: middle;\n",
       "    }\n",
       "\n",
       "    .dataframe tbody tr th {\n",
       "        vertical-align: top;\n",
       "    }\n",
       "\n",
       "    .dataframe thead th {\n",
       "        text-align: right;\n",
       "    }\n",
       "</style>\n",
       "<table border=\"1\" class=\"dataframe\">\n",
       "  <thead>\n",
       "    <tr style=\"text-align: right;\">\n",
       "      <th></th>\n",
       "      <th>city</th>\n",
       "      <th>latitude</th>\n",
       "      <th>longitude</th>\n",
       "      <th>country</th>\n",
       "    </tr>\n",
       "  </thead>\n",
       "  <tbody>\n",
       "    <tr>\n",
       "      <th>0</th>\n",
       "      <td>Tel-Aviv</td>\n",
       "      <td>32.085300</td>\n",
       "      <td>34.781806</td>\n",
       "      <td>Israel</td>\n",
       "    </tr>\n",
       "    <tr>\n",
       "      <th>1</th>\n",
       "      <td>London</td>\n",
       "      <td>51.489334</td>\n",
       "      <td>-0.144055</td>\n",
       "      <td>United Kingdom</td>\n",
       "    </tr>\n",
       "    <tr>\n",
       "      <th>2</th>\n",
       "      <td>Paris</td>\n",
       "      <td>48.858890</td>\n",
       "      <td>2.320041</td>\n",
       "      <td>France</td>\n",
       "    </tr>\n",
       "    <tr>\n",
       "      <th>3</th>\n",
       "      <td>Berlin</td>\n",
       "      <td>52.510885</td>\n",
       "      <td>13.398937</td>\n",
       "      <td>Germany</td>\n",
       "    </tr>\n",
       "    <tr>\n",
       "      <th>4</th>\n",
       "      <td>Tokyo</td>\n",
       "      <td>35.682194</td>\n",
       "      <td>139.762221</td>\n",
       "      <td>Japan</td>\n",
       "    </tr>\n",
       "    <tr>\n",
       "      <th>5</th>\n",
       "      <td>Beijing</td>\n",
       "      <td>40.190632</td>\n",
       "      <td>116.412144</td>\n",
       "      <td>China</td>\n",
       "    </tr>\n",
       "    <tr>\n",
       "      <th>6</th>\n",
       "      <td>Moscow</td>\n",
       "      <td>55.750541</td>\n",
       "      <td>37.617478</td>\n",
       "      <td>Russia</td>\n",
       "    </tr>\n",
       "    <tr>\n",
       "      <th>7</th>\n",
       "      <td>Washington</td>\n",
       "      <td>47.286835</td>\n",
       "      <td>-120.212613</td>\n",
       "      <td>United States</td>\n",
       "    </tr>\n",
       "    <tr>\n",
       "      <th>8</th>\n",
       "      <td>Ottawa</td>\n",
       "      <td>45.420878</td>\n",
       "      <td>-75.690111</td>\n",
       "      <td>Canada</td>\n",
       "    </tr>\n",
       "  </tbody>\n",
       "</table>\n",
       "</div>"
      ],
      "text/plain": [
       "         city   latitude   longitude          country\n",
       "0    Tel-Aviv  32.085300   34.781806           Israel\n",
       "1      London  51.489334   -0.144055   United Kingdom\n",
       "2       Paris  48.858890    2.320041           France\n",
       "3      Berlin  52.510885   13.398937          Germany\n",
       "4       Tokyo  35.682194  139.762221            Japan\n",
       "5     Beijing  40.190632  116.412144            China\n",
       "6      Moscow  55.750541   37.617478           Russia\n",
       "7  Washington  47.286835 -120.212613    United States\n",
       "8      Ottawa  45.420878  -75.690111           Canada"
      ]
     },
     "execution_count": 9,
     "metadata": {},
     "output_type": "execute_result"
    }
   ],
   "source": [
    "city_df = pd.DataFrame({\n",
    "    'city': [city.raw['name'] for city in capitals_coord],\n",
    "    'latitude': [city.latitude for city in capitals_coord],\n",
    "    'longitude': [city.longitude for city in capitals_coord],\n",
    "    'country': [city.raw['display_name'].split(',')[-1] for city in capitals_coord]\n",
    "})\n",
    "\n",
    "city_df\n",
    "\n"
   ]
  },
  {
   "cell_type": "code",
   "execution_count": 10,
   "metadata": {},
   "outputs": [
    {
     "data": {
      "text/html": [
       "<div>\n",
       "<style scoped>\n",
       "    .dataframe tbody tr th:only-of-type {\n",
       "        vertical-align: middle;\n",
       "    }\n",
       "\n",
       "    .dataframe tbody tr th {\n",
       "        vertical-align: top;\n",
       "    }\n",
       "\n",
       "    .dataframe thead th {\n",
       "        text-align: right;\n",
       "    }\n",
       "</style>\n",
       "<table border=\"1\" class=\"dataframe\">\n",
       "  <thead>\n",
       "    <tr style=\"text-align: right;\">\n",
       "      <th></th>\n",
       "      <th>month</th>\n",
       "      <th>mon_num</th>\n",
       "      <th>city</th>\n",
       "      <th>latitude</th>\n",
       "      <th>longitude</th>\n",
       "      <th>country</th>\n",
       "      <th>temperature</th>\n",
       "    </tr>\n",
       "  </thead>\n",
       "  <tbody>\n",
       "    <tr>\n",
       "      <th>0</th>\n",
       "      <td>January</td>\n",
       "      <td>1</td>\n",
       "      <td>Tel-Aviv</td>\n",
       "      <td>32.085300</td>\n",
       "      <td>34.781806</td>\n",
       "      <td>Israel</td>\n",
       "      <td>-1.614218</td>\n",
       "    </tr>\n",
       "    <tr>\n",
       "      <th>1</th>\n",
       "      <td>January</td>\n",
       "      <td>1</td>\n",
       "      <td>London</td>\n",
       "      <td>51.489334</td>\n",
       "      <td>-0.144055</td>\n",
       "      <td>United Kingdom</td>\n",
       "      <td>-10.392227</td>\n",
       "    </tr>\n",
       "    <tr>\n",
       "      <th>2</th>\n",
       "      <td>January</td>\n",
       "      <td>1</td>\n",
       "      <td>Paris</td>\n",
       "      <td>48.858890</td>\n",
       "      <td>2.320041</td>\n",
       "      <td>France</td>\n",
       "      <td>-8.806396</td>\n",
       "    </tr>\n",
       "    <tr>\n",
       "      <th>3</th>\n",
       "      <td>January</td>\n",
       "      <td>1</td>\n",
       "      <td>Berlin</td>\n",
       "      <td>52.510885</td>\n",
       "      <td>13.398937</td>\n",
       "      <td>Germany</td>\n",
       "      <td>-10.437891</td>\n",
       "    </tr>\n",
       "    <tr>\n",
       "      <th>4</th>\n",
       "      <td>January</td>\n",
       "      <td>1</td>\n",
       "      <td>Tokyo</td>\n",
       "      <td>35.682194</td>\n",
       "      <td>139.762221</td>\n",
       "      <td>Japan</td>\n",
       "      <td>-4.023190</td>\n",
       "    </tr>\n",
       "    <tr>\n",
       "      <th>...</th>\n",
       "      <td>...</td>\n",
       "      <td>...</td>\n",
       "      <td>...</td>\n",
       "      <td>...</td>\n",
       "      <td>...</td>\n",
       "      <td>...</td>\n",
       "      <td>...</td>\n",
       "    </tr>\n",
       "    <tr>\n",
       "      <th>103</th>\n",
       "      <td>December</td>\n",
       "      <td>12</td>\n",
       "      <td>Tokyo</td>\n",
       "      <td>35.682194</td>\n",
       "      <td>139.762221</td>\n",
       "      <td>Japan</td>\n",
       "      <td>-4.075463</td>\n",
       "    </tr>\n",
       "    <tr>\n",
       "      <th>104</th>\n",
       "      <td>December</td>\n",
       "      <td>12</td>\n",
       "      <td>Beijing</td>\n",
       "      <td>40.190632</td>\n",
       "      <td>116.412144</td>\n",
       "      <td>China</td>\n",
       "      <td>-6.100851</td>\n",
       "    </tr>\n",
       "    <tr>\n",
       "      <th>105</th>\n",
       "      <td>December</td>\n",
       "      <td>12</td>\n",
       "      <td>Moscow</td>\n",
       "      <td>55.750541</td>\n",
       "      <td>37.617478</td>\n",
       "      <td>Russia</td>\n",
       "      <td>-11.637483</td>\n",
       "    </tr>\n",
       "    <tr>\n",
       "      <th>106</th>\n",
       "      <td>December</td>\n",
       "      <td>12</td>\n",
       "      <td>Washington</td>\n",
       "      <td>47.286835</td>\n",
       "      <td>-120.212613</td>\n",
       "      <td>United States</td>\n",
       "      <td>-6.627022</td>\n",
       "    </tr>\n",
       "    <tr>\n",
       "      <th>107</th>\n",
       "      <td>December</td>\n",
       "      <td>12</td>\n",
       "      <td>Ottawa</td>\n",
       "      <td>45.420878</td>\n",
       "      <td>-75.690111</td>\n",
       "      <td>Canada</td>\n",
       "      <td>-7.910544</td>\n",
       "    </tr>\n",
       "  </tbody>\n",
       "</table>\n",
       "<p>108 rows × 7 columns</p>\n",
       "</div>"
      ],
      "text/plain": [
       "        month  mon_num        city   latitude   longitude          country  \\\n",
       "0     January        1    Tel-Aviv  32.085300   34.781806           Israel   \n",
       "1     January        1      London  51.489334   -0.144055   United Kingdom   \n",
       "2     January        1       Paris  48.858890    2.320041           France   \n",
       "3     January        1      Berlin  52.510885   13.398937          Germany   \n",
       "4     January        1       Tokyo  35.682194  139.762221            Japan   \n",
       "..        ...      ...         ...        ...         ...              ...   \n",
       "103  December       12       Tokyo  35.682194  139.762221            Japan   \n",
       "104  December       12     Beijing  40.190632  116.412144            China   \n",
       "105  December       12      Moscow  55.750541   37.617478           Russia   \n",
       "106  December       12  Washington  47.286835 -120.212613    United States   \n",
       "107  December       12      Ottawa  45.420878  -75.690111           Canada   \n",
       "\n",
       "     temperature  \n",
       "0      -1.614218  \n",
       "1     -10.392227  \n",
       "2      -8.806396  \n",
       "3     -10.437891  \n",
       "4      -4.023190  \n",
       "..           ...  \n",
       "103    -4.075463  \n",
       "104    -6.100851  \n",
       "105   -11.637483  \n",
       "106    -6.627022  \n",
       "107    -7.910544  \n",
       "\n",
       "[108 rows x 7 columns]"
      ]
     },
     "execution_count": 10,
     "metadata": {},
     "output_type": "execute_result"
    }
   ],
   "source": [
    "city_temp = pd.merge(months_df, city_df, how='cross')\n",
    "\n",
    "city_temp['temperature'] = city_temp.apply(lambda x: generate_temperature(x['mon_num'], x['latitude']), axis=1)\n",
    "\n",
    "city_temp"
   ]
  },
  {
   "cell_type": "code",
   "execution_count": 11,
   "metadata": {},
   "outputs": [
    {
     "data": {
      "text/html": [
       "<div>\n",
       "<style scoped>\n",
       "    .dataframe tbody tr th:only-of-type {\n",
       "        vertical-align: middle;\n",
       "    }\n",
       "\n",
       "    .dataframe tbody tr th {\n",
       "        vertical-align: top;\n",
       "    }\n",
       "\n",
       "    .dataframe thead th {\n",
       "        text-align: right;\n",
       "    }\n",
       "</style>\n",
       "<table border=\"1\" class=\"dataframe\">\n",
       "  <thead>\n",
       "    <tr style=\"text-align: right;\">\n",
       "      <th></th>\n",
       "      <th>country</th>\n",
       "      <th>latitude</th>\n",
       "      <th>longitude</th>\n",
       "      <th>April</th>\n",
       "      <th>August</th>\n",
       "      <th>December</th>\n",
       "      <th>February</th>\n",
       "      <th>January</th>\n",
       "      <th>July</th>\n",
       "      <th>June</th>\n",
       "      <th>March</th>\n",
       "      <th>May</th>\n",
       "      <th>November</th>\n",
       "      <th>October</th>\n",
       "      <th>September</th>\n",
       "    </tr>\n",
       "    <tr>\n",
       "      <th>city</th>\n",
       "      <th></th>\n",
       "      <th></th>\n",
       "      <th></th>\n",
       "      <th></th>\n",
       "      <th></th>\n",
       "      <th></th>\n",
       "      <th></th>\n",
       "      <th></th>\n",
       "      <th></th>\n",
       "      <th></th>\n",
       "      <th></th>\n",
       "      <th></th>\n",
       "      <th></th>\n",
       "      <th></th>\n",
       "      <th></th>\n",
       "    </tr>\n",
       "  </thead>\n",
       "  <tbody>\n",
       "    <tr>\n",
       "      <th>Beijing</th>\n",
       "      <td>China</td>\n",
       "      <td>40.190632</td>\n",
       "      <td>116.412144</td>\n",
       "      <td>1.525956</td>\n",
       "      <td>10.274253</td>\n",
       "      <td>-6.100851</td>\n",
       "      <td>-6.701318</td>\n",
       "      <td>-7.966636</td>\n",
       "      <td>8.582163</td>\n",
       "      <td>9.650098</td>\n",
       "      <td>-3.434638</td>\n",
       "      <td>4.338819</td>\n",
       "      <td>-3.667594</td>\n",
       "      <td>2.651695</td>\n",
       "      <td>6.581024</td>\n",
       "    </tr>\n",
       "    <tr>\n",
       "      <th>Berlin</th>\n",
       "      <td>Germany</td>\n",
       "      <td>52.510885</td>\n",
       "      <td>13.398937</td>\n",
       "      <td>-1.160277</td>\n",
       "      <td>2.688950</td>\n",
       "      <td>-8.360735</td>\n",
       "      <td>-10.624344</td>\n",
       "      <td>-10.437891</td>\n",
       "      <td>7.127933</td>\n",
       "      <td>3.915893</td>\n",
       "      <td>-6.503271</td>\n",
       "      <td>2.314219</td>\n",
       "      <td>-6.901084</td>\n",
       "      <td>-4.775165</td>\n",
       "      <td>1.798344</td>\n",
       "    </tr>\n",
       "    <tr>\n",
       "      <th>London</th>\n",
       "      <td>United Kingdom</td>\n",
       "      <td>51.489334</td>\n",
       "      <td>-0.144055</td>\n",
       "      <td>-0.910395</td>\n",
       "      <td>3.548651</td>\n",
       "      <td>-9.903182</td>\n",
       "      <td>-9.526874</td>\n",
       "      <td>-10.392227</td>\n",
       "      <td>3.973568</td>\n",
       "      <td>3.746567</td>\n",
       "      <td>-5.171293</td>\n",
       "      <td>1.660261</td>\n",
       "      <td>-7.156269</td>\n",
       "      <td>-0.609587</td>\n",
       "      <td>2.579724</td>\n",
       "    </tr>\n",
       "    <tr>\n",
       "      <th>Moscow</th>\n",
       "      <td>Russia</td>\n",
       "      <td>55.750541</td>\n",
       "      <td>37.617478</td>\n",
       "      <td>-2.509506</td>\n",
       "      <td>4.771368</td>\n",
       "      <td>-11.637483</td>\n",
       "      <td>-12.477948</td>\n",
       "      <td>-10.502272</td>\n",
       "      <td>5.832503</td>\n",
       "      <td>1.508958</td>\n",
       "      <td>-8.117082</td>\n",
       "      <td>1.570913</td>\n",
       "      <td>-8.581225</td>\n",
       "      <td>-5.783271</td>\n",
       "      <td>-1.692571</td>\n",
       "    </tr>\n",
       "    <tr>\n",
       "      <th>Ottawa</th>\n",
       "      <td>Canada</td>\n",
       "      <td>45.420878</td>\n",
       "      <td>-75.690111</td>\n",
       "      <td>0.556766</td>\n",
       "      <td>6.681072</td>\n",
       "      <td>-7.910544</td>\n",
       "      <td>-9.045722</td>\n",
       "      <td>-6.904456</td>\n",
       "      <td>8.326830</td>\n",
       "      <td>7.945948</td>\n",
       "      <td>-3.008475</td>\n",
       "      <td>4.986711</td>\n",
       "      <td>-2.417545</td>\n",
       "      <td>-1.277278</td>\n",
       "      <td>3.739482</td>\n",
       "    </tr>\n",
       "    <tr>\n",
       "      <th>Paris</th>\n",
       "      <td>France</td>\n",
       "      <td>48.858890</td>\n",
       "      <td>2.320041</td>\n",
       "      <td>0.029848</td>\n",
       "      <td>4.451577</td>\n",
       "      <td>-6.460807</td>\n",
       "      <td>-9.238933</td>\n",
       "      <td>-8.806396</td>\n",
       "      <td>5.846569</td>\n",
       "      <td>4.265259</td>\n",
       "      <td>-7.182633</td>\n",
       "      <td>3.206103</td>\n",
       "      <td>-5.676701</td>\n",
       "      <td>-2.070002</td>\n",
       "      <td>3.723502</td>\n",
       "    </tr>\n",
       "    <tr>\n",
       "      <th>Tel-Aviv</th>\n",
       "      <td>Israel</td>\n",
       "      <td>32.085300</td>\n",
       "      <td>34.781806</td>\n",
       "      <td>6.120886</td>\n",
       "      <td>11.001116</td>\n",
       "      <td>-3.599407</td>\n",
       "      <td>-1.965023</td>\n",
       "      <td>-1.614218</td>\n",
       "      <td>11.365447</td>\n",
       "      <td>10.456939</td>\n",
       "      <td>-1.195732</td>\n",
       "      <td>10.334666</td>\n",
       "      <td>2.576738</td>\n",
       "      <td>6.264899</td>\n",
       "      <td>8.172682</td>\n",
       "    </tr>\n",
       "    <tr>\n",
       "      <th>Tokyo</th>\n",
       "      <td>Japan</td>\n",
       "      <td>35.682194</td>\n",
       "      <td>139.762221</td>\n",
       "      <td>4.230169</td>\n",
       "      <td>10.626718</td>\n",
       "      <td>-4.075463</td>\n",
       "      <td>-4.703622</td>\n",
       "      <td>-4.023190</td>\n",
       "      <td>12.702997</td>\n",
       "      <td>11.069263</td>\n",
       "      <td>-0.150159</td>\n",
       "      <td>7.260753</td>\n",
       "      <td>-0.555226</td>\n",
       "      <td>4.994650</td>\n",
       "      <td>8.428650</td>\n",
       "    </tr>\n",
       "    <tr>\n",
       "      <th>Washington</th>\n",
       "      <td>United States</td>\n",
       "      <td>47.286835</td>\n",
       "      <td>-120.212613</td>\n",
       "      <td>-2.027047</td>\n",
       "      <td>5.909458</td>\n",
       "      <td>-6.627022</td>\n",
       "      <td>-8.332875</td>\n",
       "      <td>-9.823370</td>\n",
       "      <td>6.096781</td>\n",
       "      <td>7.946186</td>\n",
       "      <td>-6.393337</td>\n",
       "      <td>1.820516</td>\n",
       "      <td>-3.775081</td>\n",
       "      <td>-2.773141</td>\n",
       "      <td>3.356560</td>\n",
       "    </tr>\n",
       "  </tbody>\n",
       "</table>\n",
       "</div>"
      ],
      "text/plain": [
       "                    country   latitude   longitude     April     August  \\\n",
       "city                                                                      \n",
       "Beijing               China  40.190632  116.412144  1.525956  10.274253   \n",
       "Berlin              Germany  52.510885   13.398937 -1.160277   2.688950   \n",
       "London       United Kingdom  51.489334   -0.144055 -0.910395   3.548651   \n",
       "Moscow               Russia  55.750541   37.617478 -2.509506   4.771368   \n",
       "Ottawa               Canada  45.420878  -75.690111  0.556766   6.681072   \n",
       "Paris                France  48.858890    2.320041  0.029848   4.451577   \n",
       "Tel-Aviv             Israel  32.085300   34.781806  6.120886  11.001116   \n",
       "Tokyo                 Japan  35.682194  139.762221  4.230169  10.626718   \n",
       "Washington    United States  47.286835 -120.212613 -2.027047   5.909458   \n",
       "\n",
       "             December   February    January       July       June     March  \\\n",
       "city                                                                          \n",
       "Beijing     -6.100851  -6.701318  -7.966636   8.582163   9.650098 -3.434638   \n",
       "Berlin      -8.360735 -10.624344 -10.437891   7.127933   3.915893 -6.503271   \n",
       "London      -9.903182  -9.526874 -10.392227   3.973568   3.746567 -5.171293   \n",
       "Moscow     -11.637483 -12.477948 -10.502272   5.832503   1.508958 -8.117082   \n",
       "Ottawa      -7.910544  -9.045722  -6.904456   8.326830   7.945948 -3.008475   \n",
       "Paris       -6.460807  -9.238933  -8.806396   5.846569   4.265259 -7.182633   \n",
       "Tel-Aviv    -3.599407  -1.965023  -1.614218  11.365447  10.456939 -1.195732   \n",
       "Tokyo       -4.075463  -4.703622  -4.023190  12.702997  11.069263 -0.150159   \n",
       "Washington  -6.627022  -8.332875  -9.823370   6.096781   7.946186 -6.393337   \n",
       "\n",
       "                  May  November   October  September  \n",
       "city                                                  \n",
       "Beijing      4.338819 -3.667594  2.651695   6.581024  \n",
       "Berlin       2.314219 -6.901084 -4.775165   1.798344  \n",
       "London       1.660261 -7.156269 -0.609587   2.579724  \n",
       "Moscow       1.570913 -8.581225 -5.783271  -1.692571  \n",
       "Ottawa       4.986711 -2.417545 -1.277278   3.739482  \n",
       "Paris        3.206103 -5.676701 -2.070002   3.723502  \n",
       "Tel-Aviv    10.334666  2.576738  6.264899   8.172682  \n",
       "Tokyo        7.260753 -0.555226  4.994650   8.428650  \n",
       "Washington   1.820516 -3.775081 -2.773141   3.356560  "
      ]
     },
     "execution_count": 11,
     "metadata": {},
     "output_type": "execute_result"
    }
   ],
   "source": [
    "city_mon_temp = pd.pivot_table(city_temp, values='temperature', index=['city', 'country', 'latitude', 'longitude'], columns='month', aggfunc='first')\n",
    "\n",
    "city_mon_temp = city_mon_temp.reset_index()\n",
    "city_mon_temp = city_mon_temp.set_index('city')\n",
    "city_mon_temp.columns = city_mon_temp.columns.values\n",
    "\n",
    "city_mon_temp"
   ]
  },
  {
   "cell_type": "markdown",
   "metadata": {},
   "source": [
    "### 2. Data Analysis:\n",
    "\n",
    "Hint 1: Calculate the annual average temperature using DataFrame.mean(axis). \\\n",
    "Hint 2: Find the city with the highest and lowest average temperature using idxmax() and idxmin() methods.\n",
    "\n",
    "Calculate the annual average temperature for each city.\n",
    "\n",
    "Identify the city with the highest and lowest average temperature for the year."
   ]
  },
  {
   "cell_type": "code",
   "execution_count": 12,
   "metadata": {},
   "outputs": [
    {
     "data": {
      "text/html": [
       "<div>\n",
       "<style scoped>\n",
       "    .dataframe tbody tr th:only-of-type {\n",
       "        vertical-align: middle;\n",
       "    }\n",
       "\n",
       "    .dataframe tbody tr th {\n",
       "        vertical-align: top;\n",
       "    }\n",
       "\n",
       "    .dataframe thead th {\n",
       "        text-align: right;\n",
       "    }\n",
       "</style>\n",
       "<table border=\"1\" class=\"dataframe\">\n",
       "  <thead>\n",
       "    <tr style=\"text-align: right;\">\n",
       "      <th></th>\n",
       "      <th>country</th>\n",
       "      <th>latitude</th>\n",
       "      <th>longitude</th>\n",
       "      <th>April</th>\n",
       "      <th>August</th>\n",
       "      <th>December</th>\n",
       "      <th>February</th>\n",
       "      <th>January</th>\n",
       "      <th>July</th>\n",
       "      <th>June</th>\n",
       "      <th>March</th>\n",
       "      <th>May</th>\n",
       "      <th>November</th>\n",
       "      <th>October</th>\n",
       "      <th>September</th>\n",
       "      <th>avg_temp</th>\n",
       "    </tr>\n",
       "    <tr>\n",
       "      <th>city</th>\n",
       "      <th></th>\n",
       "      <th></th>\n",
       "      <th></th>\n",
       "      <th></th>\n",
       "      <th></th>\n",
       "      <th></th>\n",
       "      <th></th>\n",
       "      <th></th>\n",
       "      <th></th>\n",
       "      <th></th>\n",
       "      <th></th>\n",
       "      <th></th>\n",
       "      <th></th>\n",
       "      <th></th>\n",
       "      <th></th>\n",
       "      <th></th>\n",
       "    </tr>\n",
       "  </thead>\n",
       "  <tbody>\n",
       "    <tr>\n",
       "      <th>Beijing</th>\n",
       "      <td>China</td>\n",
       "      <td>40.190632</td>\n",
       "      <td>116.412144</td>\n",
       "      <td>1.525956</td>\n",
       "      <td>10.274253</td>\n",
       "      <td>-6.100851</td>\n",
       "      <td>-6.701318</td>\n",
       "      <td>-7.966636</td>\n",
       "      <td>8.582163</td>\n",
       "      <td>9.650098</td>\n",
       "      <td>-3.434638</td>\n",
       "      <td>4.338819</td>\n",
       "      <td>-3.667594</td>\n",
       "      <td>2.651695</td>\n",
       "      <td>6.581024</td>\n",
       "      <td>1.311081</td>\n",
       "    </tr>\n",
       "    <tr>\n",
       "      <th>Berlin</th>\n",
       "      <td>Germany</td>\n",
       "      <td>52.510885</td>\n",
       "      <td>13.398937</td>\n",
       "      <td>-1.160277</td>\n",
       "      <td>2.688950</td>\n",
       "      <td>-8.360735</td>\n",
       "      <td>-10.624344</td>\n",
       "      <td>-10.437891</td>\n",
       "      <td>7.127933</td>\n",
       "      <td>3.915893</td>\n",
       "      <td>-6.503271</td>\n",
       "      <td>2.314219</td>\n",
       "      <td>-6.901084</td>\n",
       "      <td>-4.775165</td>\n",
       "      <td>1.798344</td>\n",
       "      <td>-2.576452</td>\n",
       "    </tr>\n",
       "    <tr>\n",
       "      <th>London</th>\n",
       "      <td>United Kingdom</td>\n",
       "      <td>51.489334</td>\n",
       "      <td>-0.144055</td>\n",
       "      <td>-0.910395</td>\n",
       "      <td>3.548651</td>\n",
       "      <td>-9.903182</td>\n",
       "      <td>-9.526874</td>\n",
       "      <td>-10.392227</td>\n",
       "      <td>3.973568</td>\n",
       "      <td>3.746567</td>\n",
       "      <td>-5.171293</td>\n",
       "      <td>1.660261</td>\n",
       "      <td>-7.156269</td>\n",
       "      <td>-0.609587</td>\n",
       "      <td>2.579724</td>\n",
       "      <td>-2.346755</td>\n",
       "    </tr>\n",
       "    <tr>\n",
       "      <th>Moscow</th>\n",
       "      <td>Russia</td>\n",
       "      <td>55.750541</td>\n",
       "      <td>37.617478</td>\n",
       "      <td>-2.509506</td>\n",
       "      <td>4.771368</td>\n",
       "      <td>-11.637483</td>\n",
       "      <td>-12.477948</td>\n",
       "      <td>-10.502272</td>\n",
       "      <td>5.832503</td>\n",
       "      <td>1.508958</td>\n",
       "      <td>-8.117082</td>\n",
       "      <td>1.570913</td>\n",
       "      <td>-8.581225</td>\n",
       "      <td>-5.783271</td>\n",
       "      <td>-1.692571</td>\n",
       "      <td>-3.968135</td>\n",
       "    </tr>\n",
       "    <tr>\n",
       "      <th>Ottawa</th>\n",
       "      <td>Canada</td>\n",
       "      <td>45.420878</td>\n",
       "      <td>-75.690111</td>\n",
       "      <td>0.556766</td>\n",
       "      <td>6.681072</td>\n",
       "      <td>-7.910544</td>\n",
       "      <td>-9.045722</td>\n",
       "      <td>-6.904456</td>\n",
       "      <td>8.326830</td>\n",
       "      <td>7.945948</td>\n",
       "      <td>-3.008475</td>\n",
       "      <td>4.986711</td>\n",
       "      <td>-2.417545</td>\n",
       "      <td>-1.277278</td>\n",
       "      <td>3.739482</td>\n",
       "      <td>0.139399</td>\n",
       "    </tr>\n",
       "    <tr>\n",
       "      <th>Paris</th>\n",
       "      <td>France</td>\n",
       "      <td>48.858890</td>\n",
       "      <td>2.320041</td>\n",
       "      <td>0.029848</td>\n",
       "      <td>4.451577</td>\n",
       "      <td>-6.460807</td>\n",
       "      <td>-9.238933</td>\n",
       "      <td>-8.806396</td>\n",
       "      <td>5.846569</td>\n",
       "      <td>4.265259</td>\n",
       "      <td>-7.182633</td>\n",
       "      <td>3.206103</td>\n",
       "      <td>-5.676701</td>\n",
       "      <td>-2.070002</td>\n",
       "      <td>3.723502</td>\n",
       "      <td>-1.492718</td>\n",
       "    </tr>\n",
       "    <tr>\n",
       "      <th>Tel-Aviv</th>\n",
       "      <td>Israel</td>\n",
       "      <td>32.085300</td>\n",
       "      <td>34.781806</td>\n",
       "      <td>6.120886</td>\n",
       "      <td>11.001116</td>\n",
       "      <td>-3.599407</td>\n",
       "      <td>-1.965023</td>\n",
       "      <td>-1.614218</td>\n",
       "      <td>11.365447</td>\n",
       "      <td>10.456939</td>\n",
       "      <td>-1.195732</td>\n",
       "      <td>10.334666</td>\n",
       "      <td>2.576738</td>\n",
       "      <td>6.264899</td>\n",
       "      <td>8.172682</td>\n",
       "      <td>4.826583</td>\n",
       "    </tr>\n",
       "    <tr>\n",
       "      <th>Tokyo</th>\n",
       "      <td>Japan</td>\n",
       "      <td>35.682194</td>\n",
       "      <td>139.762221</td>\n",
       "      <td>4.230169</td>\n",
       "      <td>10.626718</td>\n",
       "      <td>-4.075463</td>\n",
       "      <td>-4.703622</td>\n",
       "      <td>-4.023190</td>\n",
       "      <td>12.702997</td>\n",
       "      <td>11.069263</td>\n",
       "      <td>-0.150159</td>\n",
       "      <td>7.260753</td>\n",
       "      <td>-0.555226</td>\n",
       "      <td>4.994650</td>\n",
       "      <td>8.428650</td>\n",
       "      <td>3.817128</td>\n",
       "    </tr>\n",
       "    <tr>\n",
       "      <th>Washington</th>\n",
       "      <td>United States</td>\n",
       "      <td>47.286835</td>\n",
       "      <td>-120.212613</td>\n",
       "      <td>-2.027047</td>\n",
       "      <td>5.909458</td>\n",
       "      <td>-6.627022</td>\n",
       "      <td>-8.332875</td>\n",
       "      <td>-9.823370</td>\n",
       "      <td>6.096781</td>\n",
       "      <td>7.946186</td>\n",
       "      <td>-6.393337</td>\n",
       "      <td>1.820516</td>\n",
       "      <td>-3.775081</td>\n",
       "      <td>-2.773141</td>\n",
       "      <td>3.356560</td>\n",
       "      <td>-1.218531</td>\n",
       "    </tr>\n",
       "  </tbody>\n",
       "</table>\n",
       "</div>"
      ],
      "text/plain": [
       "                    country   latitude   longitude     April     August  \\\n",
       "city                                                                      \n",
       "Beijing               China  40.190632  116.412144  1.525956  10.274253   \n",
       "Berlin              Germany  52.510885   13.398937 -1.160277   2.688950   \n",
       "London       United Kingdom  51.489334   -0.144055 -0.910395   3.548651   \n",
       "Moscow               Russia  55.750541   37.617478 -2.509506   4.771368   \n",
       "Ottawa               Canada  45.420878  -75.690111  0.556766   6.681072   \n",
       "Paris                France  48.858890    2.320041  0.029848   4.451577   \n",
       "Tel-Aviv             Israel  32.085300   34.781806  6.120886  11.001116   \n",
       "Tokyo                 Japan  35.682194  139.762221  4.230169  10.626718   \n",
       "Washington    United States  47.286835 -120.212613 -2.027047   5.909458   \n",
       "\n",
       "             December   February    January       July       June     March  \\\n",
       "city                                                                          \n",
       "Beijing     -6.100851  -6.701318  -7.966636   8.582163   9.650098 -3.434638   \n",
       "Berlin      -8.360735 -10.624344 -10.437891   7.127933   3.915893 -6.503271   \n",
       "London      -9.903182  -9.526874 -10.392227   3.973568   3.746567 -5.171293   \n",
       "Moscow     -11.637483 -12.477948 -10.502272   5.832503   1.508958 -8.117082   \n",
       "Ottawa      -7.910544  -9.045722  -6.904456   8.326830   7.945948 -3.008475   \n",
       "Paris       -6.460807  -9.238933  -8.806396   5.846569   4.265259 -7.182633   \n",
       "Tel-Aviv    -3.599407  -1.965023  -1.614218  11.365447  10.456939 -1.195732   \n",
       "Tokyo       -4.075463  -4.703622  -4.023190  12.702997  11.069263 -0.150159   \n",
       "Washington  -6.627022  -8.332875  -9.823370   6.096781   7.946186 -6.393337   \n",
       "\n",
       "                  May  November   October  September  avg_temp  \n",
       "city                                                            \n",
       "Beijing      4.338819 -3.667594  2.651695   6.581024  1.311081  \n",
       "Berlin       2.314219 -6.901084 -4.775165   1.798344 -2.576452  \n",
       "London       1.660261 -7.156269 -0.609587   2.579724 -2.346755  \n",
       "Moscow       1.570913 -8.581225 -5.783271  -1.692571 -3.968135  \n",
       "Ottawa       4.986711 -2.417545 -1.277278   3.739482  0.139399  \n",
       "Paris        3.206103 -5.676701 -2.070002   3.723502 -1.492718  \n",
       "Tel-Aviv    10.334666  2.576738  6.264899   8.172682  4.826583  \n",
       "Tokyo        7.260753 -0.555226  4.994650   8.428650  3.817128  \n",
       "Washington   1.820516 -3.775081 -2.773141   3.356560 -1.218531  "
      ]
     },
     "execution_count": 12,
     "metadata": {},
     "output_type": "execute_result"
    }
   ],
   "source": [
    "cmt = city_mon_temp\n",
    "cmt['avg_temp'] = cmt[months].mean(axis=1)\n",
    "cmt"
   ]
  },
  {
   "cell_type": "code",
   "execution_count": 13,
   "metadata": {},
   "outputs": [
    {
     "name": "stdout",
     "output_type": "stream",
     "text": [
      "City with the highest average temperature of 4.83 is Tel-Aviv\n",
      "City with the lowest average temperature of -3.97 is Moscow\n"
     ]
    }
   ],
   "source": [
    "print(f'City with the highest average temperature of {cmt.loc[cmt.avg_temp.idxmax(), \"avg_temp\"]:.2f} '\n",
    "      f'is {cmt.avg_temp.idxmax()}')\n",
    "print(f'City with the lowest average temperature of {cmt.loc[cmt.avg_temp.idxmin(), \"avg_temp\"]:.2f} '\n",
    "      f'is {cmt.avg_temp.idxmin()}')"
   ]
  },
  {
   "cell_type": "markdown",
   "metadata": {},
   "source": [
    "### 3. Data Visualization"
   ]
  },
  {
   "cell_type": "code",
   "execution_count": 14,
   "metadata": {},
   "outputs": [
    {
     "data": {
      "application/vnd.jupyter.widget-view+json": {
       "model_id": "f03e820b33164a8c900be0527c348866",
       "version_major": 2,
       "version_minor": 0
      },
      "text/plain": [
       "VBox(children=(Dropdown(description='City:', options=('All', 'Tel-Aviv', 'London', 'Paris', 'Berlin', 'Tokyo',…"
      ]
     },
     "metadata": {},
     "output_type": "display_data"
    }
   ],
   "source": [
    "import plotly.graph_objects as go\n",
    "from ipywidgets import widgets\n",
    "from IPython.display import display\n",
    "import numpy as np\n",
    "\n",
    "\n",
    "fig = go.FigureWidget(go.Figure())\n",
    "\n",
    "city_val = widgets.Dropdown(\n",
    "    description='City:',\n",
    "    value='All',\n",
    "    options=np.append('All', city_temp.city.unique())\n",
    ")\n",
    "\n",
    "def update_plot(change):\n",
    "    city_name = city_val.value\n",
    "    if city_name == 'All':\n",
    "        temp_trends = city_temp\n",
    "    else:\n",
    "        temp_trends = city_temp[city_temp['city'] == city_name]\n",
    "\n",
    "    fig.data = []\n",
    "\n",
    "    for city in temp_trends.city.unique():\n",
    "        temp_trends_city = temp_trends[temp_trends.city==city]\n",
    "        fig.add_trace(go.Scatter(x=temp_trends_city['month'], y=temp_trends_city['temperature'], name=city, mode='lines', showlegend=True))\n",
    "    \n",
    "    # Horizontal line for average temperature\n",
    "    avg_temp = temp_trends['temperature'].mean()\n",
    "    fig.add_trace(go.Scatter(x=['January', 'December'], \n",
    "                             y=[avg_temp, avg_temp],\n",
    "                             name='Average', \n",
    "                             mode='lines', \n",
    "                             line=dict(color='black', dash='dash')))\n",
    "    fig.update_layout(\n",
    "        title=f'Temperature Trends in {city_name if city_name != \"All\" else \"All Cities\"}',\n",
    "        xaxis_title='Month',\n",
    "        yaxis_title='Temperature',\n",
    "        width=800, height=500\n",
    "    )\n",
    "\n",
    "\n",
    "city_val.observe(update_plot, names='value')\n",
    "\n",
    "display(widgets.VBox([city_val, fig]))\n",
    "\n",
    "update_plot(None)"
   ]
  },
  {
   "cell_type": "code",
   "execution_count": null,
   "metadata": {},
   "outputs": [],
   "source": []
  }
 ],
 "metadata": {
  "kernelspec": {
   "display_name": "di_venv",
   "language": "python",
   "name": "python3"
  },
  "language_info": {
   "codemirror_mode": {
    "name": "ipython",
    "version": 3
   },
   "file_extension": ".py",
   "mimetype": "text/x-python",
   "name": "python",
   "nbconvert_exporter": "python",
   "pygments_lexer": "ipython3",
   "version": "3.12.3"
  }
 },
 "nbformat": 4,
 "nbformat_minor": 2
}
