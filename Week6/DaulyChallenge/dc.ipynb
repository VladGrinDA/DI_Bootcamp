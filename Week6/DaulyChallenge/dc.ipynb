{
 "cells": [
  {
   "cell_type": "markdown",
   "metadata": {},
   "source": [
    "## Daily Challenge: NumPy, Pandas, and Matplotlib Integration"
   ]
  },
  {
   "cell_type": "markdown",
   "metadata": {},
   "source": [
    "### 1. Data Preparation:\n",
    "\n",
    "Hint 1: Use np.random.uniform(low, high, size) to generate the temperature data. \\\n",
    "Hint 2: Create a DataFrame using pd.DataFrame(data, index, columns) with appropriate index and columns. \n",
    "\n",
    "Use NumPy to generate a synthetic dataset representing average monthly temperatures (in degrees Celsius) for 12 months across 10 different cities. The temperatures should range from -5 to 35 degrees. \n",
    "\n",
    "Convert this NumPy array into a Pandas DataFrame, adding city names as index and months as columns."
   ]
  },
  {
   "cell_type": "code",
   "execution_count": 1257,
   "metadata": {},
   "outputs": [],
   "source": [
    "# !pip install geopy"
   ]
  },
  {
   "cell_type": "code",
   "execution_count": 1258,
   "metadata": {},
   "outputs": [],
   "source": [
    "import numpy as np\n",
    "import pandas as pd\n",
    "\n",
    "#  Capitals of the world\n",
    "capitals = ['Tel Aviv', 'London', 'Paris', 'Berlin', 'Tokyo', 'Beijing', 'Moscow', 'Washington', 'Ottawa']\n",
    "\n",
    "months = pd.date_range(start='2024-01-01', end='2024-12-01', freq='MS').strftime('%B')"
   ]
  },
  {
   "cell_type": "code",
   "execution_count": 1259,
   "metadata": {},
   "outputs": [
    {
     "data": {
      "text/plain": [
       "[Location(Tel-Aviv, Tel Aviv Subdistrict, Tel-Aviv District, Israel, (32.0852997, 34.7818064, 0.0)),\n",
       " Location(London, Greater London, England, United Kingdom, (51.4893335, -0.14405508452768728, 0.0)),\n",
       " Location(Paris, Ile-de-France, Metropolitan France, France, (48.8588897, 2.3200410217200766, 0.0)),\n",
       " Location(Berlin, Germany, (52.510885, 13.3989367, 0.0)),\n",
       " Location(Tokyo, Japan, (35.6821936, 139.762221, 0.0)),\n",
       " Location(Beijing, China, (40.190632, 116.412144, 0.0)),\n",
       " Location(Moscow, Central Federal District, Russia, (55.625578, 37.6063916, 0.0)),\n",
       " Location(Washington, United States, (47.2868352, -120.212613, 0.0)),\n",
       " Location(Ottawa, Eastern Ontario, Ontario, Canada, (45.4208777, -75.6901106, 0.0))]"
      ]
     },
     "execution_count": 1259,
     "metadata": {},
     "output_type": "execute_result"
    }
   ],
   "source": [
    "from geopy.geocoders import Nominatim\n",
    "\n",
    "# I used geopy to get latitude for futher temperature generation\n",
    "gl = Nominatim(user_agent=\"di_challenge\")\n",
    "capitals_coord= [gl.geocode(city, language='en', timeout=100) for city in capitals]\n",
    "\n",
    "capitals_coord"
   ]
  },
  {
   "cell_type": "code",
   "execution_count": 1260,
   "metadata": {},
   "outputs": [],
   "source": [
    "import numpy as np\n",
    "import random\n",
    "\n",
    "# I thought that it would be interesting to try to generate temperature close to the actual\n",
    "# I decided to use latitude and month to account for the effect of seasonality and closeness to the equator\n",
    "# But it turns out that it is not that easy to find a good formula\n",
    "# Here is the best that I could come up with\n",
    "\n",
    "def generate_temperature(month, latitude, base_temp=0, mon_adj=8, lat_adj=11, temp_range=2):\n",
    "    # Assuming months close to Jan are the coldest and to July are the warmest\n",
    "    # We can use cosine function so that factor would approach -1 the closer month is to Jan and 1 for July\n",
    "    # We achieve this by scaling month so that period is 12 and then adding pi to shift the cosine function to the right\n",
    "    # I've researched how temp changes monthly througt the year and found that this approach gives good results\n",
    "    mon_scale = np.cos(((month - 1) * 2 * np.pi / 12) + np.pi)\n",
    "    \n",
    "    # Here we adjust for the latitude.\n",
    "    # So it will be 1 the closer it to the equator and -1 the closer it to the poles\n",
    "    lat_scale = np.cos(np.pi * abs(latitude) / 90)\n",
    "    \n",
    "    # So we use base temperature and adjust it for the month and latitude\n",
    "    adj_temp = base_temp + mon_scale * mon_adj  + lat_scale * lat_adj\n",
    "    \n",
    "    return np.random.uniform(adj_temp - temp_range, adj_temp + temp_range)"
   ]
  },
  {
   "cell_type": "code",
   "execution_count": 1261,
   "metadata": {},
   "outputs": [
    {
     "data": {
      "application/vnd.plotly.v1+json": {
       "config": {
        "plotlyServerURL": "https://plot.ly"
       },
       "data": [
        {
         "line": {
          "color": "rgb(255, 85, 0)",
          "width": 2
         },
         "mode": "lines",
         "name": "Tel Aviv (32°) 11 13 28.63 2.79",
         "type": "scatter",
         "x": [
          1,
          2,
          3,
          4,
          5,
          6,
          7,
          8,
          9,
          10,
          11,
          12
         ],
         "y": [
          4.050933070868534,
          2.792448093951692,
          9.466046945244702,
          17.033045052207747,
          21.513570351255787,
          26.94794780608016,
          28.630095860293466,
          27.746058211551116,
          20.845031965854098,
          14.217123258948826,
          8.921888678063922,
          6.364650427472812
         ]
        },
        {
         "line": {
          "color": "rgb(255, 85, 0)",
          "dash": "dash",
          "width": 2
         },
         "mode": "lines",
         "name": "Moscow (52°) 11 13 21.90 -2.99",
         "type": "scatter",
         "x": [
          1,
          2,
          3,
          4,
          5,
          6,
          7,
          8,
          9,
          10,
          11,
          12
         ],
         "y": [
          -2.9852535978971315,
          -1.602325991854332,
          0.8506774409307578,
          9.381487053464111,
          14.314412968608817,
          19.019831239749237,
          21.899893443055852,
          19.94567654798603,
          14.526446743653194,
          9.019056621303617,
          2.3376690020874467,
          -1.7319828278806466
         ]
        },
        {
         "line": {
          "color": "rgb(255, 97, 0)",
          "width": 2
         },
         "mode": "lines",
         "name": "Tel Aviv (32°) 10 9 25.33 4.18",
         "type": "scatter",
         "x": [
          1,
          2,
          3,
          4,
          5,
          6,
          7,
          8,
          9,
          10,
          11,
          12
         ],
         "y": [
          4.184270198689585,
          5.472082498584969,
          11.824393750521423,
          15.339751014179761,
          18.47227831784767,
          22.900172510730247,
          25.326376836545542,
          23.72577583235547,
          19.963362536699723,
          14.727280192102002,
          8.822257730462162,
          8.23289965489538
         ]
        },
        {
         "line": {
          "color": "rgb(255, 97, 0)",
          "dash": "dash",
          "width": 2
         },
         "mode": "lines",
         "name": "Moscow (52°) 10 9 16.95 -2.63",
         "type": "scatter",
         "x": [
          1,
          2,
          3,
          4,
          5,
          6,
          7,
          8,
          9,
          10,
          11,
          12
         ],
         "y": [
          -2.625052349110592,
          -0.516022662697377,
          1.718195854180597,
          6.647419716511498,
          11.889057490300907,
          13.540111555752876,
          16.947567265201737,
          16.100943064832354,
          12.51426592736571,
          7.076115396301681,
          2.191881171382978,
          0.39136662880552997
         ]
        },
        {
         "line": {
          "color": "rgb(161, 253, 0)",
          "width": 2
         },
         "mode": "lines",
         "name": "Tel Aviv (32°) 8 11 24.70 3.34",
         "type": "scatter",
         "x": [
          1,
          2,
          3,
          4,
          5,
          6,
          7,
          8,
          9,
          10,
          11,
          12
         ],
         "y": [
          3.3366424190614024,
          4.02919449361398,
          5.789443575907345,
          13.363897067120025,
          19.54471269411706,
          23.63290209503435,
          24.69816130777863,
          22.75193471325075,
          18.050705244307935,
          12.238689766378856,
          6.880255804836955,
          3.761487555353025
         ]
        },
        {
         "line": {
          "color": "rgb(161, 253, 0)",
          "dash": "dash",
          "width": 2
         },
         "mode": "lines",
         "name": "Moscow (52°) 8 11 17.74 -5.31",
         "type": "scatter",
         "x": [
          1,
          2,
          3,
          4,
          5,
          6,
          7,
          8,
          9,
          10,
          11,
          12
         ],
         "y": [
          -3.7826448618508386,
          -5.308732402370856,
          -1.9013297380662189,
          6.016865640253363,
          12.048435645319575,
          14.617367903583785,
          17.741478663286152,
          14.172742258032084,
          9.32884686118156,
          4.007215410959722,
          1.1544823894907177,
          -4.5224816380890935
         ]
        },
        {
         "line": {
          "color": "rgb(255, 56, 0)",
          "width": 2
         },
         "mode": "lines",
         "name": "Tel Aviv (32°) 9 11 26.30 4.37",
         "type": "scatter",
         "x": [
          1,
          2,
          3,
          4,
          5,
          6,
          7,
          8,
          9,
          10,
          11,
          12
         ],
         "y": [
          4.7140198618888896,
          4.368857484857978,
          10.115796545715366,
          14.681538391726226,
          19.494374275875153,
          23.593213579763628,
          26.302103179633722,
          24.715438794016375,
          18.86319520710962,
          12.030375246554517,
          8.01740203401199,
          5.4927180608626855
         ]
        },
        {
         "line": {
          "color": "rgb(255, 56, 0)",
          "dash": "dash",
          "width": 2
         },
         "mode": "lines",
         "name": "Moscow (52°) 9 11 19.07 -4.03",
         "type": "scatter",
         "x": [
          1,
          2,
          3,
          4,
          5,
          6,
          7,
          8,
          9,
          10,
          11,
          12
         ],
         "y": [
          -3.7797192188479114,
          -1.8517892094165251,
          0.14917061107671703,
          5.241320032166889,
          11.961093088817924,
          14.983981913102848,
          19.065192544876084,
          15.134719605308439,
          13.10764927241627,
          6.220837904857515,
          -0.9253071599228107,
          -4.026304308607637
         ]
        },
        {
         "line": {
          "color": "rgb(221, 241, 0)",
          "width": 2
         },
         "mode": "lines",
         "name": "Tel Aviv (32°) 5 9 19.01 1.26",
         "type": "scatter",
         "x": [
          1,
          2,
          3,
          4,
          5,
          6,
          7,
          8,
          9,
          10,
          11,
          12
         ],
         "y": [
          1.2553119224052218,
          3.747062470492847,
          4.2698244532814495,
          11.807049273285104,
          15.370776933594932,
          19.014341320051308,
          17.1169987222259,
          16.220963564189198,
          13.899614675378144,
          8.069036183492564,
          4.725933172978721,
          1.3582237019613856
         ]
        },
        {
         "line": {
          "color": "rgb(221, 241, 0)",
          "dash": "dash",
          "width": 2
         },
         "mode": "lines",
         "name": "Moscow (52°) 5 9 11.49 -6.46",
         "type": "scatter",
         "x": [
          1,
          2,
          3,
          4,
          5,
          6,
          7,
          8,
          9,
          10,
          11,
          12
         ],
         "y": [
          -6.459865822748824,
          -3.6888230416536327,
          -0.5565682600119306,
          0.7134143638093797,
          5.1488483521437125,
          11.134291940964296,
          11.494254809372531,
          9.31814421214009,
          7.126051083332454,
          1.3454665197082838,
          -3.047981055389595,
          -6.125592861096662
         ]
        },
        {
         "line": {
          "color": "rgb(195, 246, 0)",
          "width": 2
         },
         "mode": "lines",
         "name": "Tel Aviv (32°) 10 12 24.88 1.45",
         "type": "scatter",
         "x": [
          1,
          2,
          3,
          4,
          5,
          6,
          7,
          8,
          9,
          10,
          11,
          12
         ],
         "y": [
          1.4483956538267466,
          4.293432010284803,
          6.956977490598568,
          14.348314589606048,
          19.949635311562968,
          23.870546997825617,
          24.877996352454318,
          23.615812678673166,
          19.645205539862694,
          14.789477591160082,
          7.6531142123091,
          4.646107634954868
         ]
        },
        {
         "line": {
          "color": "rgb(195, 246, 0)",
          "dash": "dash",
          "width": 2
         },
         "mode": "lines",
         "name": "Moscow (52°) 10 12 19.50 -4.74",
         "type": "scatter",
         "x": [
          1,
          2,
          3,
          4,
          5,
          6,
          7,
          8,
          9,
          10,
          11,
          12
         ],
         "y": [
          -4.720380955263403,
          -4.737689645293244,
          0.1690586002047314,
          7.998866979096507,
          13.878801151705641,
          16.000990277620172,
          19.50172880328908,
          16.25932971628617,
          13.550728685398976,
          7.248799085920317,
          -0.17742141360432928,
          -1.1784091310773528
         ]
        },
        {
         "line": {
          "color": "rgb(8, 171, 236)",
          "width": 2
         },
         "mode": "lines",
         "name": "Tel Aviv (32°) 13 13 29.44 4.09",
         "type": "scatter",
         "x": [
          1,
          2,
          3,
          4,
          5,
          6,
          7,
          8,
          9,
          10,
          11,
          12
         ],
         "y": [
          4.087145397813531,
          6.464934428637941,
          9.505423170277867,
          19.728970939345857,
          25.633207299859436,
          28.161416674578533,
          28.904143206951616,
          29.437752945657834,
          24.33732015163838,
          16.256695754270908,
          9.471166711095798,
          6.208512470581194
         ]
        },
        {
         "line": {
          "color": "rgb(8, 171, 236)",
          "dash": "dash",
          "width": 2
         },
         "mode": "lines",
         "name": "Moscow (52°) 13 13 24.66 -3.40",
         "type": "scatter",
         "x": [
          1,
          2,
          3,
          4,
          5,
          6,
          7,
          8,
          9,
          10,
          11,
          12
         ],
         "y": [
          -3.4013489790627203,
          -2.1854515881530063,
          5.009657712347533,
          8.824222549689512,
          18.423100655005346,
          22.20377385519865,
          24.66070268538864,
          21.36503520711419,
          15.61988329720355,
          11.08627888701251,
          5.612998517666278,
          -1.744932873848
         ]
        },
        {
         "line": {
          "color": "rgb(21, 202, 204)",
          "width": 2
         },
         "mode": "lines",
         "name": "Tel Aviv (32°) 10 19 34.82 -4.55",
         "type": "scatter",
         "x": [
          1,
          2,
          3,
          4,
          5,
          6,
          7,
          8,
          9,
          10,
          11,
          12
         ],
         "y": [
          -4.550518542435572,
          -0.3067644848641806,
          6.409986770219711,
          16.395839294154136,
          22.659121292329466,
          31.766672086328313,
          34.82219096057315,
          33.15148188589185,
          26.085627746577,
          14.516436214867374,
          4.204215592869259,
          -3.3754365208647488
         ]
        },
        {
         "line": {
          "color": "rgb(21, 202, 204)",
          "dash": "dash",
          "width": 2
         },
         "mode": "lines",
         "name": "Moscow (52°) 10 19 24.91 -11.06",
         "type": "scatter",
         "x": [
          1,
          2,
          3,
          4,
          5,
          6,
          7,
          8,
          9,
          10,
          11,
          12
         ],
         "y": [
          -10.508180465217134,
          -11.063195277352639,
          -2.3301751008166374,
          6.357984794385681,
          16.035865563883597,
          24.779744943019665,
          24.909787239098392,
          22.086304545101623,
          18.59170374351294,
          9.070495717370996,
          -3.522547771281056,
          -8.716351268692549
         ]
        },
        {
         "line": {
          "color": "rgb(0, 100, 255)",
          "width": 2
         },
         "mode": "lines",
         "name": "Tel Aviv (32°) 13 14 32.17 4.77",
         "type": "scatter",
         "x": [
          1,
          2,
          3,
          4,
          5,
          6,
          7,
          8,
          9,
          10,
          11,
          12
         ],
         "y": [
          5.282112151499639,
          6.98802021068908,
          10.312707896048465,
          17.32058112017774,
          24.874152881598874,
          31.439296019621974,
          32.16617520364103,
          31.412303247113623,
          23.34894428667979,
          17.606135645393298,
          10.159464730666436,
          4.770990078686248
         ]
        },
        {
         "line": {
          "color": "rgb(0, 100, 255)",
          "dash": "dash",
          "width": 2
         },
         "mode": "lines",
         "name": "Moscow (52°) 13 14 23.74 -4.92",
         "type": "scatter",
         "x": [
          1,
          2,
          3,
          4,
          5,
          6,
          7,
          8,
          9,
          10,
          11,
          12
         ],
         "y": [
          -4.918091777398866,
          -1.8584426243934447,
          2.9137663860711234,
          10.789833355802743,
          19.241859331903196,
          20.779706675694754,
          23.739271863618512,
          21.374286717630053,
          16.28526123167507,
          11.169635338850362,
          3.2277462289974452,
          -0.43495858909042573
         ]
        },
        {
         "line": {
          "color": "rgb(43, 0, 168)",
          "width": 2
         },
         "mode": "lines",
         "name": "Tel Aviv (32°) 9 14 29.71 0.28",
         "type": "scatter",
         "x": [
          1,
          2,
          3,
          4,
          5,
          6,
          7,
          8,
          9,
          10,
          11,
          12
         ],
         "y": [
          0.8131542226207955,
          0.28404902906529905,
          6.433049892211921,
          12.558606587212338,
          21.091957396393894,
          26.509846207552435,
          29.711333352736123,
          25.93052088816277,
          20.096671018841864,
          14.686767119255027,
          6.883695996396764,
          0.9891804554559473
         ]
        },
        {
         "line": {
          "color": "rgb(43, 0, 168)",
          "dash": "dash",
          "width": 2
         },
         "mode": "lines",
         "name": "Moscow (52°) 9 14 20.92 -7.30",
         "type": "scatter",
         "x": [
          1,
          2,
          3,
          4,
          5,
          6,
          7,
          8,
          9,
          10,
          11,
          12
         ],
         "y": [
          -6.643588532157514,
          -4.033061744821102,
          0.2554093621004929,
          8.172353420642564,
          14.41762378589268,
          18.909097592907273,
          20.917093283928622,
          16.50300527495577,
          12.025040488008283,
          8.202306593390174,
          -0.790237310884808,
          -7.299812839290513
         ]
        },
        {
         "line": {
          "color": "rgb(255, 206, 0)",
          "width": 2
         },
         "mode": "lines",
         "name": "Tel Aviv (32°) 9 14 26.87 -0.96",
         "type": "scatter",
         "x": [
          1,
          2,
          3,
          4,
          5,
          6,
          7,
          8,
          9,
          10,
          11,
          12
         ],
         "y": [
          -0.9563197724243477,
          -0.12413008966945505,
          8.740637897523737,
          15.344775256205416,
          18.919505643011206,
          26.305550106483143,
          26.87351475320505,
          26.803496039395345,
          19.489469163439402,
          13.385582895582855,
          4.944685841673089,
          3.2245548151607126
         ]
        },
        {
         "line": {
          "color": "rgb(255, 206, 0)",
          "dash": "dash",
          "width": 2
         },
         "mode": "lines",
         "name": "Moscow (52°) 9 14 21.57 -8.85",
         "type": "scatter",
         "x": [
          1,
          2,
          3,
          4,
          5,
          6,
          7,
          8,
          9,
          10,
          11,
          12
         ],
         "y": [
          -8.85411935339274,
          -5.1101604978724495,
          -0.5625785145977615,
          6.326713381856658,
          13.12814571942675,
          19.987632815491036,
          21.574928355003422,
          20.161400745047896,
          12.479293087651486,
          5.225551394670434,
          -1.3936725007200557,
          -7.455842091610844
         ]
        }
       ],
       "layout": {
        "height": 600,
        "legend": {
         "xanchor": "left",
         "yanchor": "top"
        },
        "template": {
         "data": {
          "bar": [
           {
            "error_x": {
             "color": "#2a3f5f"
            },
            "error_y": {
             "color": "#2a3f5f"
            },
            "marker": {
             "line": {
              "color": "#E5ECF6",
              "width": 0.5
             },
             "pattern": {
              "fillmode": "overlay",
              "size": 10,
              "solidity": 0.2
             }
            },
            "type": "bar"
           }
          ],
          "barpolar": [
           {
            "marker": {
             "line": {
              "color": "#E5ECF6",
              "width": 0.5
             },
             "pattern": {
              "fillmode": "overlay",
              "size": 10,
              "solidity": 0.2
             }
            },
            "type": "barpolar"
           }
          ],
          "carpet": [
           {
            "aaxis": {
             "endlinecolor": "#2a3f5f",
             "gridcolor": "white",
             "linecolor": "white",
             "minorgridcolor": "white",
             "startlinecolor": "#2a3f5f"
            },
            "baxis": {
             "endlinecolor": "#2a3f5f",
             "gridcolor": "white",
             "linecolor": "white",
             "minorgridcolor": "white",
             "startlinecolor": "#2a3f5f"
            },
            "type": "carpet"
           }
          ],
          "choropleth": [
           {
            "colorbar": {
             "outlinewidth": 0,
             "ticks": ""
            },
            "type": "choropleth"
           }
          ],
          "contour": [
           {
            "colorbar": {
             "outlinewidth": 0,
             "ticks": ""
            },
            "colorscale": [
             [
              0,
              "#0d0887"
             ],
             [
              0.1111111111111111,
              "#46039f"
             ],
             [
              0.2222222222222222,
              "#7201a8"
             ],
             [
              0.3333333333333333,
              "#9c179e"
             ],
             [
              0.4444444444444444,
              "#bd3786"
             ],
             [
              0.5555555555555556,
              "#d8576b"
             ],
             [
              0.6666666666666666,
              "#ed7953"
             ],
             [
              0.7777777777777778,
              "#fb9f3a"
             ],
             [
              0.8888888888888888,
              "#fdca26"
             ],
             [
              1,
              "#f0f921"
             ]
            ],
            "type": "contour"
           }
          ],
          "contourcarpet": [
           {
            "colorbar": {
             "outlinewidth": 0,
             "ticks": ""
            },
            "type": "contourcarpet"
           }
          ],
          "heatmap": [
           {
            "colorbar": {
             "outlinewidth": 0,
             "ticks": ""
            },
            "colorscale": [
             [
              0,
              "#0d0887"
             ],
             [
              0.1111111111111111,
              "#46039f"
             ],
             [
              0.2222222222222222,
              "#7201a8"
             ],
             [
              0.3333333333333333,
              "#9c179e"
             ],
             [
              0.4444444444444444,
              "#bd3786"
             ],
             [
              0.5555555555555556,
              "#d8576b"
             ],
             [
              0.6666666666666666,
              "#ed7953"
             ],
             [
              0.7777777777777778,
              "#fb9f3a"
             ],
             [
              0.8888888888888888,
              "#fdca26"
             ],
             [
              1,
              "#f0f921"
             ]
            ],
            "type": "heatmap"
           }
          ],
          "heatmapgl": [
           {
            "colorbar": {
             "outlinewidth": 0,
             "ticks": ""
            },
            "colorscale": [
             [
              0,
              "#0d0887"
             ],
             [
              0.1111111111111111,
              "#46039f"
             ],
             [
              0.2222222222222222,
              "#7201a8"
             ],
             [
              0.3333333333333333,
              "#9c179e"
             ],
             [
              0.4444444444444444,
              "#bd3786"
             ],
             [
              0.5555555555555556,
              "#d8576b"
             ],
             [
              0.6666666666666666,
              "#ed7953"
             ],
             [
              0.7777777777777778,
              "#fb9f3a"
             ],
             [
              0.8888888888888888,
              "#fdca26"
             ],
             [
              1,
              "#f0f921"
             ]
            ],
            "type": "heatmapgl"
           }
          ],
          "histogram": [
           {
            "marker": {
             "pattern": {
              "fillmode": "overlay",
              "size": 10,
              "solidity": 0.2
             }
            },
            "type": "histogram"
           }
          ],
          "histogram2d": [
           {
            "colorbar": {
             "outlinewidth": 0,
             "ticks": ""
            },
            "colorscale": [
             [
              0,
              "#0d0887"
             ],
             [
              0.1111111111111111,
              "#46039f"
             ],
             [
              0.2222222222222222,
              "#7201a8"
             ],
             [
              0.3333333333333333,
              "#9c179e"
             ],
             [
              0.4444444444444444,
              "#bd3786"
             ],
             [
              0.5555555555555556,
              "#d8576b"
             ],
             [
              0.6666666666666666,
              "#ed7953"
             ],
             [
              0.7777777777777778,
              "#fb9f3a"
             ],
             [
              0.8888888888888888,
              "#fdca26"
             ],
             [
              1,
              "#f0f921"
             ]
            ],
            "type": "histogram2d"
           }
          ],
          "histogram2dcontour": [
           {
            "colorbar": {
             "outlinewidth": 0,
             "ticks": ""
            },
            "colorscale": [
             [
              0,
              "#0d0887"
             ],
             [
              0.1111111111111111,
              "#46039f"
             ],
             [
              0.2222222222222222,
              "#7201a8"
             ],
             [
              0.3333333333333333,
              "#9c179e"
             ],
             [
              0.4444444444444444,
              "#bd3786"
             ],
             [
              0.5555555555555556,
              "#d8576b"
             ],
             [
              0.6666666666666666,
              "#ed7953"
             ],
             [
              0.7777777777777778,
              "#fb9f3a"
             ],
             [
              0.8888888888888888,
              "#fdca26"
             ],
             [
              1,
              "#f0f921"
             ]
            ],
            "type": "histogram2dcontour"
           }
          ],
          "mesh3d": [
           {
            "colorbar": {
             "outlinewidth": 0,
             "ticks": ""
            },
            "type": "mesh3d"
           }
          ],
          "parcoords": [
           {
            "line": {
             "colorbar": {
              "outlinewidth": 0,
              "ticks": ""
             }
            },
            "type": "parcoords"
           }
          ],
          "pie": [
           {
            "automargin": true,
            "type": "pie"
           }
          ],
          "scatter": [
           {
            "fillpattern": {
             "fillmode": "overlay",
             "size": 10,
             "solidity": 0.2
            },
            "type": "scatter"
           }
          ],
          "scatter3d": [
           {
            "line": {
             "colorbar": {
              "outlinewidth": 0,
              "ticks": ""
             }
            },
            "marker": {
             "colorbar": {
              "outlinewidth": 0,
              "ticks": ""
             }
            },
            "type": "scatter3d"
           }
          ],
          "scattercarpet": [
           {
            "marker": {
             "colorbar": {
              "outlinewidth": 0,
              "ticks": ""
             }
            },
            "type": "scattercarpet"
           }
          ],
          "scattergeo": [
           {
            "marker": {
             "colorbar": {
              "outlinewidth": 0,
              "ticks": ""
             }
            },
            "type": "scattergeo"
           }
          ],
          "scattergl": [
           {
            "marker": {
             "colorbar": {
              "outlinewidth": 0,
              "ticks": ""
             }
            },
            "type": "scattergl"
           }
          ],
          "scattermapbox": [
           {
            "marker": {
             "colorbar": {
              "outlinewidth": 0,
              "ticks": ""
             }
            },
            "type": "scattermapbox"
           }
          ],
          "scatterpolar": [
           {
            "marker": {
             "colorbar": {
              "outlinewidth": 0,
              "ticks": ""
             }
            },
            "type": "scatterpolar"
           }
          ],
          "scatterpolargl": [
           {
            "marker": {
             "colorbar": {
              "outlinewidth": 0,
              "ticks": ""
             }
            },
            "type": "scatterpolargl"
           }
          ],
          "scatterternary": [
           {
            "marker": {
             "colorbar": {
              "outlinewidth": 0,
              "ticks": ""
             }
            },
            "type": "scatterternary"
           }
          ],
          "surface": [
           {
            "colorbar": {
             "outlinewidth": 0,
             "ticks": ""
            },
            "colorscale": [
             [
              0,
              "#0d0887"
             ],
             [
              0.1111111111111111,
              "#46039f"
             ],
             [
              0.2222222222222222,
              "#7201a8"
             ],
             [
              0.3333333333333333,
              "#9c179e"
             ],
             [
              0.4444444444444444,
              "#bd3786"
             ],
             [
              0.5555555555555556,
              "#d8576b"
             ],
             [
              0.6666666666666666,
              "#ed7953"
             ],
             [
              0.7777777777777778,
              "#fb9f3a"
             ],
             [
              0.8888888888888888,
              "#fdca26"
             ],
             [
              1,
              "#f0f921"
             ]
            ],
            "type": "surface"
           }
          ],
          "table": [
           {
            "cells": {
             "fill": {
              "color": "#EBF0F8"
             },
             "line": {
              "color": "white"
             }
            },
            "header": {
             "fill": {
              "color": "#C8D4E3"
             },
             "line": {
              "color": "white"
             }
            },
            "type": "table"
           }
          ]
         },
         "layout": {
          "annotationdefaults": {
           "arrowcolor": "#2a3f5f",
           "arrowhead": 0,
           "arrowwidth": 1
          },
          "autotypenumbers": "strict",
          "coloraxis": {
           "colorbar": {
            "outlinewidth": 0,
            "ticks": ""
           }
          },
          "colorscale": {
           "diverging": [
            [
             0,
             "#8e0152"
            ],
            [
             0.1,
             "#c51b7d"
            ],
            [
             0.2,
             "#de77ae"
            ],
            [
             0.3,
             "#f1b6da"
            ],
            [
             0.4,
             "#fde0ef"
            ],
            [
             0.5,
             "#f7f7f7"
            ],
            [
             0.6,
             "#e6f5d0"
            ],
            [
             0.7,
             "#b8e186"
            ],
            [
             0.8,
             "#7fbc41"
            ],
            [
             0.9,
             "#4d9221"
            ],
            [
             1,
             "#276419"
            ]
           ],
           "sequential": [
            [
             0,
             "#0d0887"
            ],
            [
             0.1111111111111111,
             "#46039f"
            ],
            [
             0.2222222222222222,
             "#7201a8"
            ],
            [
             0.3333333333333333,
             "#9c179e"
            ],
            [
             0.4444444444444444,
             "#bd3786"
            ],
            [
             0.5555555555555556,
             "#d8576b"
            ],
            [
             0.6666666666666666,
             "#ed7953"
            ],
            [
             0.7777777777777778,
             "#fb9f3a"
            ],
            [
             0.8888888888888888,
             "#fdca26"
            ],
            [
             1,
             "#f0f921"
            ]
           ],
           "sequentialminus": [
            [
             0,
             "#0d0887"
            ],
            [
             0.1111111111111111,
             "#46039f"
            ],
            [
             0.2222222222222222,
             "#7201a8"
            ],
            [
             0.3333333333333333,
             "#9c179e"
            ],
            [
             0.4444444444444444,
             "#bd3786"
            ],
            [
             0.5555555555555556,
             "#d8576b"
            ],
            [
             0.6666666666666666,
             "#ed7953"
            ],
            [
             0.7777777777777778,
             "#fb9f3a"
            ],
            [
             0.8888888888888888,
             "#fdca26"
            ],
            [
             1,
             "#f0f921"
            ]
           ]
          },
          "colorway": [
           "#636efa",
           "#EF553B",
           "#00cc96",
           "#ab63fa",
           "#FFA15A",
           "#19d3f3",
           "#FF6692",
           "#B6E880",
           "#FF97FF",
           "#FECB52"
          ],
          "font": {
           "color": "#2a3f5f"
          },
          "geo": {
           "bgcolor": "white",
           "lakecolor": "white",
           "landcolor": "#E5ECF6",
           "showlakes": true,
           "showland": true,
           "subunitcolor": "white"
          },
          "hoverlabel": {
           "align": "left"
          },
          "hovermode": "closest",
          "mapbox": {
           "style": "light"
          },
          "paper_bgcolor": "white",
          "plot_bgcolor": "#E5ECF6",
          "polar": {
           "angularaxis": {
            "gridcolor": "white",
            "linecolor": "white",
            "ticks": ""
           },
           "bgcolor": "#E5ECF6",
           "radialaxis": {
            "gridcolor": "white",
            "linecolor": "white",
            "ticks": ""
           }
          },
          "scene": {
           "xaxis": {
            "backgroundcolor": "#E5ECF6",
            "gridcolor": "white",
            "gridwidth": 2,
            "linecolor": "white",
            "showbackground": true,
            "ticks": "",
            "zerolinecolor": "white"
           },
           "yaxis": {
            "backgroundcolor": "#E5ECF6",
            "gridcolor": "white",
            "gridwidth": 2,
            "linecolor": "white",
            "showbackground": true,
            "ticks": "",
            "zerolinecolor": "white"
           },
           "zaxis": {
            "backgroundcolor": "#E5ECF6",
            "gridcolor": "white",
            "gridwidth": 2,
            "linecolor": "white",
            "showbackground": true,
            "ticks": "",
            "zerolinecolor": "white"
           }
          },
          "shapedefaults": {
           "line": {
            "color": "#2a3f5f"
           }
          },
          "ternary": {
           "aaxis": {
            "gridcolor": "white",
            "linecolor": "white",
            "ticks": ""
           },
           "baxis": {
            "gridcolor": "white",
            "linecolor": "white",
            "ticks": ""
           },
           "bgcolor": "#E5ECF6",
           "caxis": {
            "gridcolor": "white",
            "linecolor": "white",
            "ticks": ""
           }
          },
          "title": {
           "x": 0.05
          },
          "xaxis": {
           "automargin": true,
           "gridcolor": "white",
           "linecolor": "white",
           "ticks": "",
           "title": {
            "standoff": 15
           },
           "zerolinecolor": "white",
           "zerolinewidth": 2
          },
          "yaxis": {
           "automargin": true,
           "gridcolor": "white",
           "linecolor": "white",
           "ticks": "",
           "title": {
            "standoff": 15
           },
           "zerolinecolor": "white",
           "zerolinewidth": 2
          }
         }
        },
        "width": 1200
       }
      }
     },
     "metadata": {},
     "output_type": "display_data"
    }
   ],
   "source": [
    "import plotly.graph_objects as go\n",
    "import random\n",
    "import plotly.colors as colors\n",
    "\n",
    "# Here I tried to find best values for monthly and latitude adjustments\n",
    "# But if i set up weather limit close to actual weather, it is impossible \n",
    "# to find corresponding values for mon_adj and lat_adj\n",
    "\n",
    "months_num = list(range(1, 13))\n",
    "fig = go.Figure()\n",
    "plots = 0\n",
    "\n",
    "for _ in range(1000):\n",
    "    max_temp = 30\n",
    "    mon_adj = random.randint(1, max_temp)\n",
    "    lat_adj = random.randint(1, max_temp)\n",
    "    tel_aviv_temps = [generate_temperature(i, 32, mon_adj, lat_adj) for i in months_num]\n",
    "    moscow_temps = [generate_temperature(i, 52, mon_adj, lat_adj) for i in months_num]\n",
    "    \n",
    "    tel_aviv_max = np.max(tel_aviv_temps)\n",
    "    tel_aviv_min = np.min(tel_aviv_temps)\n",
    "    moscow_max = np.max(moscow_temps)\n",
    "    moscow_min = np.min(moscow_temps)\n",
    "    \n",
    "    if tel_aviv_min > -5 and moscow_max > 10 and tel_aviv_max < 35 and moscow_min < 0:\n",
    "        color = colors.sample_colorscale(colors.PLOTLY_SCALES['Rainbow'], random.random())[0]\n",
    "\n",
    "        fig.add_trace(go.Scatter(x=months_num, y=tel_aviv_temps, mode='lines', \n",
    "                                name=f'Tel Aviv (32°) {mon_adj} {lat_adj} {tel_aviv_max:.2f} {tel_aviv_min:.2f}', line=dict(color=color, width=2)))\n",
    "        fig.add_trace(go.Scatter(x=months_num, y=moscow_temps, mode='lines', \n",
    "                             name=f'Moscow (52°) {mon_adj} {lat_adj} {moscow_max:.2f} {moscow_min:.2f}', line=dict(color=color, dash='dash', width=2)))\n",
    "        plots += 1\n",
    "        if plots > 10:\n",
    "            break\n",
    "    \n",
    "fig.update_layout(\n",
    "    legend=dict(xanchor='left', yanchor='top'),\n",
    "    width=1200,\n",
    "    height=600,\n",
    ")\n",
    "\n",
    "fig.show()\n",
    "\n",
    "# Good values\n",
    "# 8 20\n",
    "# 9 22\n",
    "# 10 17\n",
    "# 8 11\n"
   ]
  },
  {
   "cell_type": "code",
   "execution_count": 1262,
   "metadata": {},
   "outputs": [
    {
     "name": "stdout",
     "output_type": "stream",
     "text": [
      "Help on Location in module geopy.location object:\n",
      "\n",
      "class Location(builtins.object)\n",
      " |  Location(address, point, raw)\n",
      " |\n",
      " |  Contains a parsed geocoder response. Can be iterated over as\n",
      " |  ``(location<String>, (latitude<float>, longitude<Float))``.\n",
      " |  Or one can access the properties ``address``, ``latitude``,\n",
      " |  ``longitude``, or ``raw``. The last\n",
      " |  is a dictionary of the geocoder's response for this item.\n",
      " |\n",
      " |  Methods defined here:\n",
      " |\n",
      " |  __eq__(self, other)\n",
      " |      Return self==value.\n",
      " |\n",
      " |  __getitem__(self, index)\n",
      " |      Backwards compatibility with geopy<0.98 tuples.\n",
      " |\n",
      " |  __getstate__(self)\n",
      " |      Helper for pickle.\n",
      " |\n",
      " |  __init__(self, address, point, raw)\n",
      " |      Initialize self.  See help(type(self)) for accurate signature.\n",
      " |\n",
      " |  __iter__(self)\n",
      " |\n",
      " |  __len__(self)\n",
      " |\n",
      " |  __ne__(self, other)\n",
      " |      Return self!=value.\n",
      " |\n",
      " |  __repr__(self)\n",
      " |      Return repr(self).\n",
      " |\n",
      " |  __setstate__(self, state)\n",
      " |\n",
      " |  __str__(self)\n",
      " |      Return str(self).\n",
      " |\n",
      " |  ----------------------------------------------------------------------\n",
      " |  Readonly properties defined here:\n",
      " |\n",
      " |  address\n",
      " |      Location as a formatted string returned by the geocoder or constructed\n",
      " |      by geopy, depending on the service.\n",
      " |\n",
      " |      :rtype: str\n",
      " |\n",
      " |  altitude\n",
      " |      Location's altitude.\n",
      " |\n",
      " |      .. note::\n",
      " |          Geocoding services usually don't consider altitude neither in\n",
      " |          requests nor in responses, so almost always the value of this\n",
      " |          property would be zero.\n",
      " |\n",
      " |      :rtype: float\n",
      " |\n",
      " |  latitude\n",
      " |      Location's latitude.\n",
      " |\n",
      " |      :rtype: float\n",
      " |\n",
      " |  longitude\n",
      " |      Location's longitude.\n",
      " |\n",
      " |      :rtype: float\n",
      " |\n",
      " |  point\n",
      " |      :class:`geopy.point.Point` instance representing the location's\n",
      " |      latitude, longitude, and altitude.\n",
      " |\n",
      " |      :rtype: :class:`geopy.point.Point`\n",
      " |\n",
      " |  raw\n",
      " |      Location's raw, unparsed geocoder response. For details on this,\n",
      " |      consult the service's documentation.\n",
      " |\n",
      " |      :rtype: dict\n",
      " |\n",
      " |  ----------------------------------------------------------------------\n",
      " |  Data and other attributes defined here:\n",
      " |\n",
      " |  __hash__ = None\n",
      "\n"
     ]
    }
   ],
   "source": [
    "help(capitals_coord[0])"
   ]
  },
  {
   "cell_type": "code",
   "execution_count": 1263,
   "metadata": {},
   "outputs": [
    {
     "data": {
      "text/plain": [
       "{'place_id': 374285331,\n",
       " 'licence': 'Data © OpenStreetMap contributors, ODbL 1.0. http://osm.org/copyright',\n",
       " 'osm_type': 'relation',\n",
       " 'osm_id': 1382494,\n",
       " 'lat': '32.0852997',\n",
       " 'lon': '34.7818064',\n",
       " 'class': 'boundary',\n",
       " 'type': 'administrative',\n",
       " 'place_rank': 16,\n",
       " 'importance': 0.6499881947160822,\n",
       " 'addresstype': 'city',\n",
       " 'name': 'Tel-Aviv',\n",
       " 'display_name': 'Tel-Aviv, Tel Aviv Subdistrict, Tel-Aviv District, Israel',\n",
       " 'boundingbox': ['32.0293437', '32.1469766', '34.7391310', '34.8522617']}"
      ]
     },
     "execution_count": 1263,
     "metadata": {},
     "output_type": "execute_result"
    }
   ],
   "source": [
    "capitals_coord[0].raw\n"
   ]
  },
  {
   "cell_type": "code",
   "execution_count": 1264,
   "metadata": {},
   "outputs": [
    {
     "data": {
      "text/html": [
       "<div>\n",
       "<style scoped>\n",
       "    .dataframe tbody tr th:only-of-type {\n",
       "        vertical-align: middle;\n",
       "    }\n",
       "\n",
       "    .dataframe tbody tr th {\n",
       "        vertical-align: top;\n",
       "    }\n",
       "\n",
       "    .dataframe thead th {\n",
       "        text-align: right;\n",
       "    }\n",
       "</style>\n",
       "<table border=\"1\" class=\"dataframe\">\n",
       "  <thead>\n",
       "    <tr style=\"text-align: right;\">\n",
       "      <th></th>\n",
       "      <th>month</th>\n",
       "      <th>mon_num</th>\n",
       "    </tr>\n",
       "  </thead>\n",
       "  <tbody>\n",
       "    <tr>\n",
       "      <th>0</th>\n",
       "      <td>January</td>\n",
       "      <td>1</td>\n",
       "    </tr>\n",
       "    <tr>\n",
       "      <th>1</th>\n",
       "      <td>February</td>\n",
       "      <td>2</td>\n",
       "    </tr>\n",
       "    <tr>\n",
       "      <th>2</th>\n",
       "      <td>March</td>\n",
       "      <td>3</td>\n",
       "    </tr>\n",
       "    <tr>\n",
       "      <th>3</th>\n",
       "      <td>April</td>\n",
       "      <td>4</td>\n",
       "    </tr>\n",
       "    <tr>\n",
       "      <th>4</th>\n",
       "      <td>May</td>\n",
       "      <td>5</td>\n",
       "    </tr>\n",
       "    <tr>\n",
       "      <th>5</th>\n",
       "      <td>June</td>\n",
       "      <td>6</td>\n",
       "    </tr>\n",
       "    <tr>\n",
       "      <th>6</th>\n",
       "      <td>July</td>\n",
       "      <td>7</td>\n",
       "    </tr>\n",
       "    <tr>\n",
       "      <th>7</th>\n",
       "      <td>August</td>\n",
       "      <td>8</td>\n",
       "    </tr>\n",
       "    <tr>\n",
       "      <th>8</th>\n",
       "      <td>September</td>\n",
       "      <td>9</td>\n",
       "    </tr>\n",
       "    <tr>\n",
       "      <th>9</th>\n",
       "      <td>October</td>\n",
       "      <td>10</td>\n",
       "    </tr>\n",
       "    <tr>\n",
       "      <th>10</th>\n",
       "      <td>November</td>\n",
       "      <td>11</td>\n",
       "    </tr>\n",
       "    <tr>\n",
       "      <th>11</th>\n",
       "      <td>December</td>\n",
       "      <td>12</td>\n",
       "    </tr>\n",
       "  </tbody>\n",
       "</table>\n",
       "</div>"
      ],
      "text/plain": [
       "        month  mon_num\n",
       "0     January        1\n",
       "1    February        2\n",
       "2       March        3\n",
       "3       April        4\n",
       "4         May        5\n",
       "5        June        6\n",
       "6        July        7\n",
       "7      August        8\n",
       "8   September        9\n",
       "9     October       10\n",
       "10   November       11\n",
       "11   December       12"
      ]
     },
     "execution_count": 1264,
     "metadata": {},
     "output_type": "execute_result"
    }
   ],
   "source": [
    "months_df = pd.DataFrame({'month': months, 'mon_num': range(1, 13)})\n",
    "months_df"
   ]
  },
  {
   "cell_type": "code",
   "execution_count": 1265,
   "metadata": {},
   "outputs": [
    {
     "data": {
      "text/html": [
       "<div>\n",
       "<style scoped>\n",
       "    .dataframe tbody tr th:only-of-type {\n",
       "        vertical-align: middle;\n",
       "    }\n",
       "\n",
       "    .dataframe tbody tr th {\n",
       "        vertical-align: top;\n",
       "    }\n",
       "\n",
       "    .dataframe thead th {\n",
       "        text-align: right;\n",
       "    }\n",
       "</style>\n",
       "<table border=\"1\" class=\"dataframe\">\n",
       "  <thead>\n",
       "    <tr style=\"text-align: right;\">\n",
       "      <th></th>\n",
       "      <th>city</th>\n",
       "      <th>latitude</th>\n",
       "      <th>longitude</th>\n",
       "      <th>country</th>\n",
       "    </tr>\n",
       "  </thead>\n",
       "  <tbody>\n",
       "    <tr>\n",
       "      <th>0</th>\n",
       "      <td>Tel-Aviv</td>\n",
       "      <td>32.085300</td>\n",
       "      <td>34.781806</td>\n",
       "      <td>Israel</td>\n",
       "    </tr>\n",
       "    <tr>\n",
       "      <th>1</th>\n",
       "      <td>London</td>\n",
       "      <td>51.489334</td>\n",
       "      <td>-0.144055</td>\n",
       "      <td>United Kingdom</td>\n",
       "    </tr>\n",
       "    <tr>\n",
       "      <th>2</th>\n",
       "      <td>Paris</td>\n",
       "      <td>48.858890</td>\n",
       "      <td>2.320041</td>\n",
       "      <td>France</td>\n",
       "    </tr>\n",
       "    <tr>\n",
       "      <th>3</th>\n",
       "      <td>Berlin</td>\n",
       "      <td>52.510885</td>\n",
       "      <td>13.398937</td>\n",
       "      <td>Germany</td>\n",
       "    </tr>\n",
       "    <tr>\n",
       "      <th>4</th>\n",
       "      <td>Tokyo</td>\n",
       "      <td>35.682194</td>\n",
       "      <td>139.762221</td>\n",
       "      <td>Japan</td>\n",
       "    </tr>\n",
       "    <tr>\n",
       "      <th>5</th>\n",
       "      <td>Beijing</td>\n",
       "      <td>40.190632</td>\n",
       "      <td>116.412144</td>\n",
       "      <td>China</td>\n",
       "    </tr>\n",
       "    <tr>\n",
       "      <th>6</th>\n",
       "      <td>Moscow</td>\n",
       "      <td>55.625578</td>\n",
       "      <td>37.606392</td>\n",
       "      <td>Russia</td>\n",
       "    </tr>\n",
       "    <tr>\n",
       "      <th>7</th>\n",
       "      <td>Washington</td>\n",
       "      <td>47.286835</td>\n",
       "      <td>-120.212613</td>\n",
       "      <td>United States</td>\n",
       "    </tr>\n",
       "    <tr>\n",
       "      <th>8</th>\n",
       "      <td>Ottawa</td>\n",
       "      <td>45.420878</td>\n",
       "      <td>-75.690111</td>\n",
       "      <td>Canada</td>\n",
       "    </tr>\n",
       "  </tbody>\n",
       "</table>\n",
       "</div>"
      ],
      "text/plain": [
       "         city   latitude   longitude          country\n",
       "0    Tel-Aviv  32.085300   34.781806           Israel\n",
       "1      London  51.489334   -0.144055   United Kingdom\n",
       "2       Paris  48.858890    2.320041           France\n",
       "3      Berlin  52.510885   13.398937          Germany\n",
       "4       Tokyo  35.682194  139.762221            Japan\n",
       "5     Beijing  40.190632  116.412144            China\n",
       "6      Moscow  55.625578   37.606392           Russia\n",
       "7  Washington  47.286835 -120.212613    United States\n",
       "8      Ottawa  45.420878  -75.690111           Canada"
      ]
     },
     "execution_count": 1265,
     "metadata": {},
     "output_type": "execute_result"
    }
   ],
   "source": [
    "city_df = pd.DataFrame({\n",
    "    'city': [city.raw['name'] for city in capitals_coord],\n",
    "    'latitude': [city.latitude for city in capitals_coord],\n",
    "    'longitude': [city.longitude for city in capitals_coord],\n",
    "    'country': [city.raw['display_name'].split(',')[-1] for city in capitals_coord]\n",
    "})\n",
    "\n",
    "city_df\n",
    "\n"
   ]
  },
  {
   "cell_type": "code",
   "execution_count": 1266,
   "metadata": {},
   "outputs": [
    {
     "data": {
      "text/html": [
       "<div>\n",
       "<style scoped>\n",
       "    .dataframe tbody tr th:only-of-type {\n",
       "        vertical-align: middle;\n",
       "    }\n",
       "\n",
       "    .dataframe tbody tr th {\n",
       "        vertical-align: top;\n",
       "    }\n",
       "\n",
       "    .dataframe thead th {\n",
       "        text-align: right;\n",
       "    }\n",
       "</style>\n",
       "<table border=\"1\" class=\"dataframe\">\n",
       "  <thead>\n",
       "    <tr style=\"text-align: right;\">\n",
       "      <th></th>\n",
       "      <th>month</th>\n",
       "      <th>mon_num</th>\n",
       "      <th>city</th>\n",
       "      <th>latitude</th>\n",
       "      <th>longitude</th>\n",
       "      <th>country</th>\n",
       "      <th>temperature</th>\n",
       "    </tr>\n",
       "  </thead>\n",
       "  <tbody>\n",
       "    <tr>\n",
       "      <th>0</th>\n",
       "      <td>January</td>\n",
       "      <td>1</td>\n",
       "      <td>Tel-Aviv</td>\n",
       "      <td>32.085300</td>\n",
       "      <td>34.781806</td>\n",
       "      <td>Israel</td>\n",
       "      <td>-2.476982</td>\n",
       "    </tr>\n",
       "    <tr>\n",
       "      <th>1</th>\n",
       "      <td>January</td>\n",
       "      <td>1</td>\n",
       "      <td>London</td>\n",
       "      <td>51.489334</td>\n",
       "      <td>-0.144055</td>\n",
       "      <td>United Kingdom</td>\n",
       "      <td>-9.417952</td>\n",
       "    </tr>\n",
       "    <tr>\n",
       "      <th>2</th>\n",
       "      <td>January</td>\n",
       "      <td>1</td>\n",
       "      <td>Paris</td>\n",
       "      <td>48.858890</td>\n",
       "      <td>2.320041</td>\n",
       "      <td>France</td>\n",
       "      <td>-9.336071</td>\n",
       "    </tr>\n",
       "    <tr>\n",
       "      <th>3</th>\n",
       "      <td>January</td>\n",
       "      <td>1</td>\n",
       "      <td>Berlin</td>\n",
       "      <td>52.510885</td>\n",
       "      <td>13.398937</td>\n",
       "      <td>Germany</td>\n",
       "      <td>-9.200915</td>\n",
       "    </tr>\n",
       "    <tr>\n",
       "      <th>4</th>\n",
       "      <td>January</td>\n",
       "      <td>1</td>\n",
       "      <td>Tokyo</td>\n",
       "      <td>35.682194</td>\n",
       "      <td>139.762221</td>\n",
       "      <td>Japan</td>\n",
       "      <td>-3.645597</td>\n",
       "    </tr>\n",
       "    <tr>\n",
       "      <th>...</th>\n",
       "      <td>...</td>\n",
       "      <td>...</td>\n",
       "      <td>...</td>\n",
       "      <td>...</td>\n",
       "      <td>...</td>\n",
       "      <td>...</td>\n",
       "      <td>...</td>\n",
       "    </tr>\n",
       "    <tr>\n",
       "      <th>103</th>\n",
       "      <td>December</td>\n",
       "      <td>12</td>\n",
       "      <td>Tokyo</td>\n",
       "      <td>35.682194</td>\n",
       "      <td>139.762221</td>\n",
       "      <td>Japan</td>\n",
       "      <td>-2.698174</td>\n",
       "    </tr>\n",
       "    <tr>\n",
       "      <th>104</th>\n",
       "      <td>December</td>\n",
       "      <td>12</td>\n",
       "      <td>Beijing</td>\n",
       "      <td>40.190632</td>\n",
       "      <td>116.412144</td>\n",
       "      <td>China</td>\n",
       "      <td>-3.827470</td>\n",
       "    </tr>\n",
       "    <tr>\n",
       "      <th>105</th>\n",
       "      <td>December</td>\n",
       "      <td>12</td>\n",
       "      <td>Moscow</td>\n",
       "      <td>55.625578</td>\n",
       "      <td>37.606392</td>\n",
       "      <td>Russia</td>\n",
       "      <td>-9.333523</td>\n",
       "    </tr>\n",
       "    <tr>\n",
       "      <th>106</th>\n",
       "      <td>December</td>\n",
       "      <td>12</td>\n",
       "      <td>Washington</td>\n",
       "      <td>47.286835</td>\n",
       "      <td>-120.212613</td>\n",
       "      <td>United States</td>\n",
       "      <td>-8.199901</td>\n",
       "    </tr>\n",
       "    <tr>\n",
       "      <th>107</th>\n",
       "      <td>December</td>\n",
       "      <td>12</td>\n",
       "      <td>Ottawa</td>\n",
       "      <td>45.420878</td>\n",
       "      <td>-75.690111</td>\n",
       "      <td>Canada</td>\n",
       "      <td>-7.600876</td>\n",
       "    </tr>\n",
       "  </tbody>\n",
       "</table>\n",
       "<p>108 rows × 7 columns</p>\n",
       "</div>"
      ],
      "text/plain": [
       "        month  mon_num        city   latitude   longitude          country  \\\n",
       "0     January        1    Tel-Aviv  32.085300   34.781806           Israel   \n",
       "1     January        1      London  51.489334   -0.144055   United Kingdom   \n",
       "2     January        1       Paris  48.858890    2.320041           France   \n",
       "3     January        1      Berlin  52.510885   13.398937          Germany   \n",
       "4     January        1       Tokyo  35.682194  139.762221            Japan   \n",
       "..        ...      ...         ...        ...         ...              ...   \n",
       "103  December       12       Tokyo  35.682194  139.762221            Japan   \n",
       "104  December       12     Beijing  40.190632  116.412144            China   \n",
       "105  December       12      Moscow  55.625578   37.606392           Russia   \n",
       "106  December       12  Washington  47.286835 -120.212613    United States   \n",
       "107  December       12      Ottawa  45.420878  -75.690111           Canada   \n",
       "\n",
       "     temperature  \n",
       "0      -2.476982  \n",
       "1      -9.417952  \n",
       "2      -9.336071  \n",
       "3      -9.200915  \n",
       "4      -3.645597  \n",
       "..           ...  \n",
       "103    -2.698174  \n",
       "104    -3.827470  \n",
       "105    -9.333523  \n",
       "106    -8.199901  \n",
       "107    -7.600876  \n",
       "\n",
       "[108 rows x 7 columns]"
      ]
     },
     "execution_count": 1266,
     "metadata": {},
     "output_type": "execute_result"
    }
   ],
   "source": [
    "city_temp = pd.merge(months_df, city_df, how='cross')\n",
    "\n",
    "city_temp['temperature'] = city_temp.apply(lambda x: generate_temperature(x['mon_num'], x['latitude']), axis=1)\n",
    "\n",
    "city_temp"
   ]
  },
  {
   "cell_type": "code",
   "execution_count": 1267,
   "metadata": {},
   "outputs": [
    {
     "data": {
      "text/html": [
       "<div>\n",
       "<style scoped>\n",
       "    .dataframe tbody tr th:only-of-type {\n",
       "        vertical-align: middle;\n",
       "    }\n",
       "\n",
       "    .dataframe tbody tr th {\n",
       "        vertical-align: top;\n",
       "    }\n",
       "\n",
       "    .dataframe thead th {\n",
       "        text-align: right;\n",
       "    }\n",
       "</style>\n",
       "<table border=\"1\" class=\"dataframe\">\n",
       "  <thead>\n",
       "    <tr style=\"text-align: right;\">\n",
       "      <th></th>\n",
       "      <th>country</th>\n",
       "      <th>latitude</th>\n",
       "      <th>longitude</th>\n",
       "      <th>April</th>\n",
       "      <th>August</th>\n",
       "      <th>December</th>\n",
       "      <th>February</th>\n",
       "      <th>January</th>\n",
       "      <th>July</th>\n",
       "      <th>June</th>\n",
       "      <th>March</th>\n",
       "      <th>May</th>\n",
       "      <th>November</th>\n",
       "      <th>October</th>\n",
       "      <th>September</th>\n",
       "    </tr>\n",
       "    <tr>\n",
       "      <th>city</th>\n",
       "      <th></th>\n",
       "      <th></th>\n",
       "      <th></th>\n",
       "      <th></th>\n",
       "      <th></th>\n",
       "      <th></th>\n",
       "      <th></th>\n",
       "      <th></th>\n",
       "      <th></th>\n",
       "      <th></th>\n",
       "      <th></th>\n",
       "      <th></th>\n",
       "      <th></th>\n",
       "      <th></th>\n",
       "      <th></th>\n",
       "    </tr>\n",
       "  </thead>\n",
       "  <tbody>\n",
       "    <tr>\n",
       "      <th>Beijing</th>\n",
       "      <td>China</td>\n",
       "      <td>40.190632</td>\n",
       "      <td>116.412144</td>\n",
       "      <td>3.174105</td>\n",
       "      <td>7.372660</td>\n",
       "      <td>-3.827470</td>\n",
       "      <td>-3.670163</td>\n",
       "      <td>-6.172841</td>\n",
       "      <td>9.955631</td>\n",
       "      <td>7.413439</td>\n",
       "      <td>-0.598779</td>\n",
       "      <td>4.333658</td>\n",
       "      <td>-2.575694</td>\n",
       "      <td>1.660289</td>\n",
       "      <td>7.634195</td>\n",
       "    </tr>\n",
       "    <tr>\n",
       "      <th>Berlin</th>\n",
       "      <td>Germany</td>\n",
       "      <td>52.510885</td>\n",
       "      <td>13.398937</td>\n",
       "      <td>-4.485354</td>\n",
       "      <td>3.479256</td>\n",
       "      <td>-8.842996</td>\n",
       "      <td>-10.816701</td>\n",
       "      <td>-9.200915</td>\n",
       "      <td>6.269232</td>\n",
       "      <td>5.830473</td>\n",
       "      <td>-6.162276</td>\n",
       "      <td>1.501301</td>\n",
       "      <td>-5.078390</td>\n",
       "      <td>-1.035091</td>\n",
       "      <td>0.135086</td>\n",
       "    </tr>\n",
       "    <tr>\n",
       "      <th>London</th>\n",
       "      <td>United Kingdom</td>\n",
       "      <td>51.489334</td>\n",
       "      <td>-0.144055</td>\n",
       "      <td>-3.072178</td>\n",
       "      <td>6.122173</td>\n",
       "      <td>-7.769411</td>\n",
       "      <td>-9.935819</td>\n",
       "      <td>-9.417952</td>\n",
       "      <td>4.573928</td>\n",
       "      <td>3.836374</td>\n",
       "      <td>-4.698490</td>\n",
       "      <td>3.517860</td>\n",
       "      <td>-8.324724</td>\n",
       "      <td>-4.353192</td>\n",
       "      <td>-0.161731</td>\n",
       "    </tr>\n",
       "    <tr>\n",
       "      <th>Moscow</th>\n",
       "      <td>Russia</td>\n",
       "      <td>55.625578</td>\n",
       "      <td>37.606392</td>\n",
       "      <td>-4.246676</td>\n",
       "      <td>3.241165</td>\n",
       "      <td>-9.333523</td>\n",
       "      <td>-12.065838</td>\n",
       "      <td>-13.194758</td>\n",
       "      <td>3.703921</td>\n",
       "      <td>1.035776</td>\n",
       "      <td>-7.982611</td>\n",
       "      <td>-0.834694</td>\n",
       "      <td>-7.523729</td>\n",
       "      <td>-3.991322</td>\n",
       "      <td>-1.371775</td>\n",
       "    </tr>\n",
       "    <tr>\n",
       "      <th>Ottawa</th>\n",
       "      <td>Canada</td>\n",
       "      <td>45.420878</td>\n",
       "      <td>-75.690111</td>\n",
       "      <td>0.164935</td>\n",
       "      <td>7.946559</td>\n",
       "      <td>-7.600876</td>\n",
       "      <td>-8.376349</td>\n",
       "      <td>-6.933135</td>\n",
       "      <td>7.725352</td>\n",
       "      <td>5.042333</td>\n",
       "      <td>-5.357196</td>\n",
       "      <td>2.677773</td>\n",
       "      <td>-5.479742</td>\n",
       "      <td>-0.043262</td>\n",
       "      <td>2.413993</td>\n",
       "    </tr>\n",
       "    <tr>\n",
       "      <th>Paris</th>\n",
       "      <td>France</td>\n",
       "      <td>48.858890</td>\n",
       "      <td>2.320041</td>\n",
       "      <td>-0.170893</td>\n",
       "      <td>3.607206</td>\n",
       "      <td>-10.292447</td>\n",
       "      <td>-7.167650</td>\n",
       "      <td>-9.336071</td>\n",
       "      <td>5.823601</td>\n",
       "      <td>4.163301</td>\n",
       "      <td>-7.436644</td>\n",
       "      <td>3.483581</td>\n",
       "      <td>-5.650428</td>\n",
       "      <td>-3.014573</td>\n",
       "      <td>4.303305</td>\n",
       "    </tr>\n",
       "    <tr>\n",
       "      <th>Tel-Aviv</th>\n",
       "      <td>Israel</td>\n",
       "      <td>32.085300</td>\n",
       "      <td>34.781806</td>\n",
       "      <td>3.268228</td>\n",
       "      <td>10.462299</td>\n",
       "      <td>-0.596780</td>\n",
       "      <td>-2.674324</td>\n",
       "      <td>-2.476982</td>\n",
       "      <td>12.797251</td>\n",
       "      <td>12.936923</td>\n",
       "      <td>-0.594114</td>\n",
       "      <td>9.988766</td>\n",
       "      <td>2.082339</td>\n",
       "      <td>4.393573</td>\n",
       "      <td>10.367604</td>\n",
       "    </tr>\n",
       "    <tr>\n",
       "      <th>Tokyo</th>\n",
       "      <td>Japan</td>\n",
       "      <td>35.682194</td>\n",
       "      <td>139.762221</td>\n",
       "      <td>5.315523</td>\n",
       "      <td>9.721846</td>\n",
       "      <td>-2.698174</td>\n",
       "      <td>-2.278219</td>\n",
       "      <td>-3.645597</td>\n",
       "      <td>13.472659</td>\n",
       "      <td>8.948499</td>\n",
       "      <td>-0.106877</td>\n",
       "      <td>6.089017</td>\n",
       "      <td>1.012622</td>\n",
       "      <td>3.581652</td>\n",
       "      <td>8.992345</td>\n",
       "    </tr>\n",
       "    <tr>\n",
       "      <th>Washington</th>\n",
       "      <td>United States</td>\n",
       "      <td>47.286835</td>\n",
       "      <td>-120.212613</td>\n",
       "      <td>0.177238</td>\n",
       "      <td>5.069308</td>\n",
       "      <td>-8.199901</td>\n",
       "      <td>-7.352636</td>\n",
       "      <td>-10.497922</td>\n",
       "      <td>8.992161</td>\n",
       "      <td>4.390930</td>\n",
       "      <td>-5.512892</td>\n",
       "      <td>4.606305</td>\n",
       "      <td>-5.790065</td>\n",
       "      <td>-0.830845</td>\n",
       "      <td>2.556185</td>\n",
       "    </tr>\n",
       "  </tbody>\n",
       "</table>\n",
       "</div>"
      ],
      "text/plain": [
       "                    country   latitude   longitude     April     August  \\\n",
       "city                                                                      \n",
       "Beijing               China  40.190632  116.412144  3.174105   7.372660   \n",
       "Berlin              Germany  52.510885   13.398937 -4.485354   3.479256   \n",
       "London       United Kingdom  51.489334   -0.144055 -3.072178   6.122173   \n",
       "Moscow               Russia  55.625578   37.606392 -4.246676   3.241165   \n",
       "Ottawa               Canada  45.420878  -75.690111  0.164935   7.946559   \n",
       "Paris                France  48.858890    2.320041 -0.170893   3.607206   \n",
       "Tel-Aviv             Israel  32.085300   34.781806  3.268228  10.462299   \n",
       "Tokyo                 Japan  35.682194  139.762221  5.315523   9.721846   \n",
       "Washington    United States  47.286835 -120.212613  0.177238   5.069308   \n",
       "\n",
       "             December   February    January       July       June     March  \\\n",
       "city                                                                          \n",
       "Beijing     -3.827470  -3.670163  -6.172841   9.955631   7.413439 -0.598779   \n",
       "Berlin      -8.842996 -10.816701  -9.200915   6.269232   5.830473 -6.162276   \n",
       "London      -7.769411  -9.935819  -9.417952   4.573928   3.836374 -4.698490   \n",
       "Moscow      -9.333523 -12.065838 -13.194758   3.703921   1.035776 -7.982611   \n",
       "Ottawa      -7.600876  -8.376349  -6.933135   7.725352   5.042333 -5.357196   \n",
       "Paris      -10.292447  -7.167650  -9.336071   5.823601   4.163301 -7.436644   \n",
       "Tel-Aviv    -0.596780  -2.674324  -2.476982  12.797251  12.936923 -0.594114   \n",
       "Tokyo       -2.698174  -2.278219  -3.645597  13.472659   8.948499 -0.106877   \n",
       "Washington  -8.199901  -7.352636 -10.497922   8.992161   4.390930 -5.512892   \n",
       "\n",
       "                 May  November   October  September  \n",
       "city                                                 \n",
       "Beijing     4.333658 -2.575694  1.660289   7.634195  \n",
       "Berlin      1.501301 -5.078390 -1.035091   0.135086  \n",
       "London      3.517860 -8.324724 -4.353192  -0.161731  \n",
       "Moscow     -0.834694 -7.523729 -3.991322  -1.371775  \n",
       "Ottawa      2.677773 -5.479742 -0.043262   2.413993  \n",
       "Paris       3.483581 -5.650428 -3.014573   4.303305  \n",
       "Tel-Aviv    9.988766  2.082339  4.393573  10.367604  \n",
       "Tokyo       6.089017  1.012622  3.581652   8.992345  \n",
       "Washington  4.606305 -5.790065 -0.830845   2.556185  "
      ]
     },
     "execution_count": 1267,
     "metadata": {},
     "output_type": "execute_result"
    }
   ],
   "source": [
    "city_mon_temp = pd.pivot_table(city_temp, values='temperature', index=['city', 'country', 'latitude', 'longitude'], columns='month', aggfunc='first')\n",
    "\n",
    "city_mon_temp = city_mon_temp.reset_index()\n",
    "city_mon_temp = city_mon_temp.set_index('city')\n",
    "city_mon_temp.columns = city_mon_temp.columns.values\n",
    "\n",
    "city_mon_temp"
   ]
  },
  {
   "cell_type": "markdown",
   "metadata": {},
   "source": [
    "### 2. Data Analysis:\n",
    "\n",
    "Hint 1: Calculate the annual average temperature using DataFrame.mean(axis). \\\n",
    "Hint 2: Find the city with the highest and lowest average temperature using idxmax() and idxmin() methods.\n",
    "\n",
    "Calculate the annual average temperature for each city.\n",
    "\n",
    "Identify the city with the highest and lowest average temperature for the year."
   ]
  },
  {
   "cell_type": "code",
   "execution_count": 1268,
   "metadata": {},
   "outputs": [
    {
     "data": {
      "text/html": [
       "<div>\n",
       "<style scoped>\n",
       "    .dataframe tbody tr th:only-of-type {\n",
       "        vertical-align: middle;\n",
       "    }\n",
       "\n",
       "    .dataframe tbody tr th {\n",
       "        vertical-align: top;\n",
       "    }\n",
       "\n",
       "    .dataframe thead th {\n",
       "        text-align: right;\n",
       "    }\n",
       "</style>\n",
       "<table border=\"1\" class=\"dataframe\">\n",
       "  <thead>\n",
       "    <tr style=\"text-align: right;\">\n",
       "      <th></th>\n",
       "      <th>country</th>\n",
       "      <th>latitude</th>\n",
       "      <th>longitude</th>\n",
       "      <th>April</th>\n",
       "      <th>August</th>\n",
       "      <th>December</th>\n",
       "      <th>February</th>\n",
       "      <th>January</th>\n",
       "      <th>July</th>\n",
       "      <th>June</th>\n",
       "      <th>March</th>\n",
       "      <th>May</th>\n",
       "      <th>November</th>\n",
       "      <th>October</th>\n",
       "      <th>September</th>\n",
       "      <th>avg_temp</th>\n",
       "    </tr>\n",
       "    <tr>\n",
       "      <th>city</th>\n",
       "      <th></th>\n",
       "      <th></th>\n",
       "      <th></th>\n",
       "      <th></th>\n",
       "      <th></th>\n",
       "      <th></th>\n",
       "      <th></th>\n",
       "      <th></th>\n",
       "      <th></th>\n",
       "      <th></th>\n",
       "      <th></th>\n",
       "      <th></th>\n",
       "      <th></th>\n",
       "      <th></th>\n",
       "      <th></th>\n",
       "      <th></th>\n",
       "    </tr>\n",
       "  </thead>\n",
       "  <tbody>\n",
       "    <tr>\n",
       "      <th>Beijing</th>\n",
       "      <td>China</td>\n",
       "      <td>40.190632</td>\n",
       "      <td>116.412144</td>\n",
       "      <td>3.174105</td>\n",
       "      <td>7.372660</td>\n",
       "      <td>-3.827470</td>\n",
       "      <td>-3.670163</td>\n",
       "      <td>-6.172841</td>\n",
       "      <td>9.955631</td>\n",
       "      <td>7.413439</td>\n",
       "      <td>-0.598779</td>\n",
       "      <td>4.333658</td>\n",
       "      <td>-2.575694</td>\n",
       "      <td>1.660289</td>\n",
       "      <td>7.634195</td>\n",
       "      <td>2.058253</td>\n",
       "    </tr>\n",
       "    <tr>\n",
       "      <th>Berlin</th>\n",
       "      <td>Germany</td>\n",
       "      <td>52.510885</td>\n",
       "      <td>13.398937</td>\n",
       "      <td>-4.485354</td>\n",
       "      <td>3.479256</td>\n",
       "      <td>-8.842996</td>\n",
       "      <td>-10.816701</td>\n",
       "      <td>-9.200915</td>\n",
       "      <td>6.269232</td>\n",
       "      <td>5.830473</td>\n",
       "      <td>-6.162276</td>\n",
       "      <td>1.501301</td>\n",
       "      <td>-5.078390</td>\n",
       "      <td>-1.035091</td>\n",
       "      <td>0.135086</td>\n",
       "      <td>-2.367198</td>\n",
       "    </tr>\n",
       "    <tr>\n",
       "      <th>London</th>\n",
       "      <td>United Kingdom</td>\n",
       "      <td>51.489334</td>\n",
       "      <td>-0.144055</td>\n",
       "      <td>-3.072178</td>\n",
       "      <td>6.122173</td>\n",
       "      <td>-7.769411</td>\n",
       "      <td>-9.935819</td>\n",
       "      <td>-9.417952</td>\n",
       "      <td>4.573928</td>\n",
       "      <td>3.836374</td>\n",
       "      <td>-4.698490</td>\n",
       "      <td>3.517860</td>\n",
       "      <td>-8.324724</td>\n",
       "      <td>-4.353192</td>\n",
       "      <td>-0.161731</td>\n",
       "      <td>-2.473597</td>\n",
       "    </tr>\n",
       "    <tr>\n",
       "      <th>Moscow</th>\n",
       "      <td>Russia</td>\n",
       "      <td>55.625578</td>\n",
       "      <td>37.606392</td>\n",
       "      <td>-4.246676</td>\n",
       "      <td>3.241165</td>\n",
       "      <td>-9.333523</td>\n",
       "      <td>-12.065838</td>\n",
       "      <td>-13.194758</td>\n",
       "      <td>3.703921</td>\n",
       "      <td>1.035776</td>\n",
       "      <td>-7.982611</td>\n",
       "      <td>-0.834694</td>\n",
       "      <td>-7.523729</td>\n",
       "      <td>-3.991322</td>\n",
       "      <td>-1.371775</td>\n",
       "      <td>-4.380339</td>\n",
       "    </tr>\n",
       "    <tr>\n",
       "      <th>Ottawa</th>\n",
       "      <td>Canada</td>\n",
       "      <td>45.420878</td>\n",
       "      <td>-75.690111</td>\n",
       "      <td>0.164935</td>\n",
       "      <td>7.946559</td>\n",
       "      <td>-7.600876</td>\n",
       "      <td>-8.376349</td>\n",
       "      <td>-6.933135</td>\n",
       "      <td>7.725352</td>\n",
       "      <td>5.042333</td>\n",
       "      <td>-5.357196</td>\n",
       "      <td>2.677773</td>\n",
       "      <td>-5.479742</td>\n",
       "      <td>-0.043262</td>\n",
       "      <td>2.413993</td>\n",
       "      <td>-0.651635</td>\n",
       "    </tr>\n",
       "    <tr>\n",
       "      <th>Paris</th>\n",
       "      <td>France</td>\n",
       "      <td>48.858890</td>\n",
       "      <td>2.320041</td>\n",
       "      <td>-0.170893</td>\n",
       "      <td>3.607206</td>\n",
       "      <td>-10.292447</td>\n",
       "      <td>-7.167650</td>\n",
       "      <td>-9.336071</td>\n",
       "      <td>5.823601</td>\n",
       "      <td>4.163301</td>\n",
       "      <td>-7.436644</td>\n",
       "      <td>3.483581</td>\n",
       "      <td>-5.650428</td>\n",
       "      <td>-3.014573</td>\n",
       "      <td>4.303305</td>\n",
       "      <td>-1.807309</td>\n",
       "    </tr>\n",
       "    <tr>\n",
       "      <th>Tel-Aviv</th>\n",
       "      <td>Israel</td>\n",
       "      <td>32.085300</td>\n",
       "      <td>34.781806</td>\n",
       "      <td>3.268228</td>\n",
       "      <td>10.462299</td>\n",
       "      <td>-0.596780</td>\n",
       "      <td>-2.674324</td>\n",
       "      <td>-2.476982</td>\n",
       "      <td>12.797251</td>\n",
       "      <td>12.936923</td>\n",
       "      <td>-0.594114</td>\n",
       "      <td>9.988766</td>\n",
       "      <td>2.082339</td>\n",
       "      <td>4.393573</td>\n",
       "      <td>10.367604</td>\n",
       "      <td>4.996232</td>\n",
       "    </tr>\n",
       "    <tr>\n",
       "      <th>Tokyo</th>\n",
       "      <td>Japan</td>\n",
       "      <td>35.682194</td>\n",
       "      <td>139.762221</td>\n",
       "      <td>5.315523</td>\n",
       "      <td>9.721846</td>\n",
       "      <td>-2.698174</td>\n",
       "      <td>-2.278219</td>\n",
       "      <td>-3.645597</td>\n",
       "      <td>13.472659</td>\n",
       "      <td>8.948499</td>\n",
       "      <td>-0.106877</td>\n",
       "      <td>6.089017</td>\n",
       "      <td>1.012622</td>\n",
       "      <td>3.581652</td>\n",
       "      <td>8.992345</td>\n",
       "      <td>4.033775</td>\n",
       "    </tr>\n",
       "    <tr>\n",
       "      <th>Washington</th>\n",
       "      <td>United States</td>\n",
       "      <td>47.286835</td>\n",
       "      <td>-120.212613</td>\n",
       "      <td>0.177238</td>\n",
       "      <td>5.069308</td>\n",
       "      <td>-8.199901</td>\n",
       "      <td>-7.352636</td>\n",
       "      <td>-10.497922</td>\n",
       "      <td>8.992161</td>\n",
       "      <td>4.390930</td>\n",
       "      <td>-5.512892</td>\n",
       "      <td>4.606305</td>\n",
       "      <td>-5.790065</td>\n",
       "      <td>-0.830845</td>\n",
       "      <td>2.556185</td>\n",
       "      <td>-1.032678</td>\n",
       "    </tr>\n",
       "  </tbody>\n",
       "</table>\n",
       "</div>"
      ],
      "text/plain": [
       "                    country   latitude   longitude     April     August  \\\n",
       "city                                                                      \n",
       "Beijing               China  40.190632  116.412144  3.174105   7.372660   \n",
       "Berlin              Germany  52.510885   13.398937 -4.485354   3.479256   \n",
       "London       United Kingdom  51.489334   -0.144055 -3.072178   6.122173   \n",
       "Moscow               Russia  55.625578   37.606392 -4.246676   3.241165   \n",
       "Ottawa               Canada  45.420878  -75.690111  0.164935   7.946559   \n",
       "Paris                France  48.858890    2.320041 -0.170893   3.607206   \n",
       "Tel-Aviv             Israel  32.085300   34.781806  3.268228  10.462299   \n",
       "Tokyo                 Japan  35.682194  139.762221  5.315523   9.721846   \n",
       "Washington    United States  47.286835 -120.212613  0.177238   5.069308   \n",
       "\n",
       "             December   February    January       July       June     March  \\\n",
       "city                                                                          \n",
       "Beijing     -3.827470  -3.670163  -6.172841   9.955631   7.413439 -0.598779   \n",
       "Berlin      -8.842996 -10.816701  -9.200915   6.269232   5.830473 -6.162276   \n",
       "London      -7.769411  -9.935819  -9.417952   4.573928   3.836374 -4.698490   \n",
       "Moscow      -9.333523 -12.065838 -13.194758   3.703921   1.035776 -7.982611   \n",
       "Ottawa      -7.600876  -8.376349  -6.933135   7.725352   5.042333 -5.357196   \n",
       "Paris      -10.292447  -7.167650  -9.336071   5.823601   4.163301 -7.436644   \n",
       "Tel-Aviv    -0.596780  -2.674324  -2.476982  12.797251  12.936923 -0.594114   \n",
       "Tokyo       -2.698174  -2.278219  -3.645597  13.472659   8.948499 -0.106877   \n",
       "Washington  -8.199901  -7.352636 -10.497922   8.992161   4.390930 -5.512892   \n",
       "\n",
       "                 May  November   October  September  avg_temp  \n",
       "city                                                           \n",
       "Beijing     4.333658 -2.575694  1.660289   7.634195  2.058253  \n",
       "Berlin      1.501301 -5.078390 -1.035091   0.135086 -2.367198  \n",
       "London      3.517860 -8.324724 -4.353192  -0.161731 -2.473597  \n",
       "Moscow     -0.834694 -7.523729 -3.991322  -1.371775 -4.380339  \n",
       "Ottawa      2.677773 -5.479742 -0.043262   2.413993 -0.651635  \n",
       "Paris       3.483581 -5.650428 -3.014573   4.303305 -1.807309  \n",
       "Tel-Aviv    9.988766  2.082339  4.393573  10.367604  4.996232  \n",
       "Tokyo       6.089017  1.012622  3.581652   8.992345  4.033775  \n",
       "Washington  4.606305 -5.790065 -0.830845   2.556185 -1.032678  "
      ]
     },
     "execution_count": 1268,
     "metadata": {},
     "output_type": "execute_result"
    }
   ],
   "source": [
    "cmt = city_mon_temp\n",
    "cmt['avg_temp'] = cmt[months].mean(axis=1)\n",
    "cmt"
   ]
  },
  {
   "cell_type": "code",
   "execution_count": 1269,
   "metadata": {},
   "outputs": [
    {
     "name": "stdout",
     "output_type": "stream",
     "text": [
      "City with the highest average temperature of 5.00 is Tel-Aviv\n",
      "City with the lowest average temperature of -4.38 is Moscow\n"
     ]
    }
   ],
   "source": [
    "print(f'City with the highest average temperature of {cmt.loc[cmt.avg_temp.idxmax(), \"avg_temp\"]:.2f} '\n",
    "      f'is {cmt.avg_temp.idxmax()}')\n",
    "print(f'City with the lowest average temperature of {cmt.loc[cmt.avg_temp.idxmin(), \"avg_temp\"]:.2f} '\n",
    "      f'is {cmt.avg_temp.idxmin()}')"
   ]
  },
  {
   "cell_type": "code",
   "execution_count": 1271,
   "metadata": {},
   "outputs": [
    {
     "data": {
      "application/vnd.jupyter.widget-view+json": {
       "model_id": "62720e1b3b394054a50f3254896c3857",
       "version_major": 2,
       "version_minor": 0
      },
      "text/plain": [
       "VBox(children=(Dropdown(description='City:', options=('All', 'Tel-Aviv', 'London', 'Paris', 'Berlin', 'Tokyo',…"
      ]
     },
     "metadata": {},
     "output_type": "display_data"
    }
   ],
   "source": [
    "import plotly.graph_objects as go\n",
    "from ipywidgets import widgets\n",
    "from IPython.display import display\n",
    "import numpy as np\n",
    "\n",
    "\n",
    "fig = go.FigureWidget(go.Figure())\n",
    "\n",
    "city_val = widgets.Dropdown(\n",
    "    description='City:',\n",
    "    value='All',\n",
    "    options=np.append('All', city_temp.city.unique())\n",
    ")\n",
    "\n",
    "def update_plot(change):\n",
    "    city_name = city_val.value\n",
    "    if city_name == 'All':\n",
    "        temp_trends = city_temp\n",
    "    else:\n",
    "        temp_trends = city_temp[city_temp['city'] == city_name]\n",
    "\n",
    "    fig.data = []\n",
    "\n",
    "    for city in temp_trends.city.unique():\n",
    "        temp_trends_city = temp_trends[temp_trends.city==city]\n",
    "        fig.add_trace(go.Scatter(x=temp_trends_city.mon_num, y=temp_trends_city['temperature'], name=city, mode='lines', showlegend=True))\n",
    "    \n",
    "    # Add horizontal line for average temperature\n",
    "    avg_temp = temp_trends['temperature'].mean()\n",
    "    fig.add_trace(go.Scatter(x=[temp_trends.mon_num.min(), temp_trends.mon_num.max()], \n",
    "                             y=[avg_temp, avg_temp],\n",
    "                             name='Average', \n",
    "                             mode='lines', \n",
    "                             line=dict(color='black', dash='dash')))\n",
    "    fig.update_layout(\n",
    "        title=f'Temperature Trends in {city_name if city_name != \"All\" else \"All Cities\"}',\n",
    "        xaxis_title='Date',\n",
    "        yaxis_title='Temperature',\n",
    "        width=800, height=500\n",
    "    )\n",
    "\n",
    "\n",
    "city_val.observe(update_plot, names='value')\n",
    "\n",
    "# display(date_interval, fig)\n",
    "display(widgets.VBox([city_val, fig]))\n",
    "\n",
    "update_plot(None)"
   ]
  },
  {
   "cell_type": "code",
   "execution_count": null,
   "metadata": {},
   "outputs": [],
   "source": []
  }
 ],
 "metadata": {
  "kernelspec": {
   "display_name": "di_venv",
   "language": "python",
   "name": "python3"
  },
  "language_info": {
   "codemirror_mode": {
    "name": "ipython",
    "version": 3
   },
   "file_extension": ".py",
   "mimetype": "text/x-python",
   "name": "python",
   "nbconvert_exporter": "python",
   "pygments_lexer": "ipython3",
   "version": "3.12.3"
  }
 },
 "nbformat": 4,
 "nbformat_minor": 2
}
