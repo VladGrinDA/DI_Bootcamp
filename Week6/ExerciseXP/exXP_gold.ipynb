{
 "cells": [
  {
   "cell_type": "markdown",
   "metadata": {},
   "source": [
    "Ex 1. \\\n",
    "Create a 5x5 array with random values and find the minimum and maximum values.\n",
    "\n"
   ]
  },
  {
   "cell_type": "code",
   "execution_count": 2,
   "metadata": {},
   "outputs": [
    {
     "data": {
      "text/plain": [
       "array([[0.46214679, 0.45292294, 0.23464869, 0.39258112, 0.98629841],\n",
       "       [0.00121378, 0.75173258, 0.68622772, 0.42922597, 0.0204952 ],\n",
       "       [0.5372953 , 0.42792706, 0.11675174, 0.56553567, 0.05952796],\n",
       "       [0.26783224, 0.67627699, 0.47481997, 0.1308567 , 0.96371349],\n",
       "       [0.16044791, 0.68297142, 0.34524049, 0.16739662, 0.43500909]])"
      ]
     },
     "execution_count": 2,
     "metadata": {},
     "output_type": "execute_result"
    }
   ],
   "source": [
    "import numpy as np\n",
    "\n",
    "x = np.random.rand(5, 5)\n",
    "x"
   ]
  },
  {
   "cell_type": "code",
   "execution_count": 6,
   "metadata": {},
   "outputs": [
    {
     "name": "stdout",
     "output_type": "stream",
     "text": [
      "Min: 0.00, Max: 0.99\n"
     ]
    }
   ],
   "source": [
    "print(f'Min: {x.min():.2f}, Max: {x.max():.2f}')\n"
   ]
  },
  {
   "cell_type": "markdown",
   "metadata": {},
   "source": [
    "Ex 2. \\\n",
    "Normalize a 3x3 random matrix (subtract the mean and divide by the standard deviation of the matrix).\n"
   ]
  },
  {
   "cell_type": "code",
   "execution_count": 7,
   "metadata": {},
   "outputs": [
    {
     "data": {
      "text/plain": [
       "array([[0.07653903, 0.72726583, 0.84605712],\n",
       "       [0.239305  , 0.98366269, 0.67825359],\n",
       "       [0.90552956, 0.76005034, 0.90471919]])"
      ]
     },
     "execution_count": 7,
     "metadata": {},
     "output_type": "execute_result"
    }
   ],
   "source": [
    "x = np.random.rand(3, 3)\n",
    "x\n"
   ]
  },
  {
   "cell_type": "code",
   "execution_count": 8,
   "metadata": {},
   "outputs": [
    {
     "data": {
      "text/plain": [
       "array([[-2.22182159, -1.57109479, -1.4523035 ],\n",
       "       [-2.05905562, -1.31469793, -1.62010704],\n",
       "       [-1.39283106, -1.53831029, -1.39364143]])"
      ]
     },
     "execution_count": 8,
     "metadata": {},
     "output_type": "execute_result"
    }
   ],
   "source": [
    "x - x.mean() / x.std()\n"
   ]
  },
  {
   "cell_type": "markdown",
   "metadata": {},
   "source": [
    "Ex 3. \\\n",
    "Create a 1D array of 50 evenly spaced elements between 0 and 10, exclusive.\n",
    "\n"
   ]
  },
  {
   "cell_type": "code",
   "execution_count": 11,
   "metadata": {},
   "outputs": [
    {
     "data": {
      "text/plain": [
       "array([ 0.        ,  0.20408163,  0.40816327,  0.6122449 ,  0.81632653,\n",
       "        1.02040816,  1.2244898 ,  1.42857143,  1.63265306,  1.83673469,\n",
       "        2.04081633,  2.24489796,  2.44897959,  2.65306122,  2.85714286,\n",
       "        3.06122449,  3.26530612,  3.46938776,  3.67346939,  3.87755102,\n",
       "        4.08163265,  4.28571429,  4.48979592,  4.69387755,  4.89795918,\n",
       "        5.10204082,  5.30612245,  5.51020408,  5.71428571,  5.91836735,\n",
       "        6.12244898,  6.32653061,  6.53061224,  6.73469388,  6.93877551,\n",
       "        7.14285714,  7.34693878,  7.55102041,  7.75510204,  7.95918367,\n",
       "        8.16326531,  8.36734694,  8.57142857,  8.7755102 ,  8.97959184,\n",
       "        9.18367347,  9.3877551 ,  9.59183673,  9.79591837, 10.        ])"
      ]
     },
     "execution_count": 11,
     "metadata": {},
     "output_type": "execute_result"
    }
   ],
   "source": [
    "np.linspace(0, 10, 50)\n"
   ]
  },
  {
   "cell_type": "markdown",
   "metadata": {},
   "source": [
    "Ex 4. \\\n",
    "Multiply a 5x3 matrix by a 3x2 matrix (real matrix product).\n"
   ]
  },
  {
   "cell_type": "code",
   "execution_count": 14,
   "metadata": {},
   "outputs": [
    {
     "data": {
      "text/plain": [
       "array([[0.483127  , 0.94128345],\n",
       "       [0.75308418, 1.29567529],\n",
       "       [0.3511488 , 0.80175169],\n",
       "       [0.34428147, 1.06452973],\n",
       "       [0.47183587, 1.11462623]])"
      ]
     },
     "execution_count": 14,
     "metadata": {},
     "output_type": "execute_result"
    }
   ],
   "source": [
    "x = np.random.rand(5, 3)\n",
    "y = np.random.rand(3, 2)\n",
    "x @ y"
   ]
  },
  {
   "cell_type": "markdown",
   "metadata": {},
   "source": [
    "Ex 5. \\\n",
    "Utilize your understanding of matrix multiplication to solve this exercise. \\\n",
    "Create two matrices of compatible dimensions. \\\n",
    "Perform matrix multiplication on these matrices and display the result. \\\n",
    "Ensure the dimensions of the matrices allow for valid multiplication."
   ]
  },
  {
   "cell_type": "code",
   "execution_count": 15,
   "metadata": {},
   "outputs": [
    {
     "data": {
      "text/plain": [
       "array([[1.12290685, 0.75512229],\n",
       "       [1.43215623, 0.84567716],\n",
       "       [1.48330715, 0.90916802],\n",
       "       [1.73707301, 1.45221667],\n",
       "       [1.24746824, 0.79498934],\n",
       "       [1.65573877, 1.12870491],\n",
       "       [1.05883976, 0.65994512],\n",
       "       [0.94954709, 0.63512244],\n",
       "       [1.70156654, 1.40949674],\n",
       "       [1.70479874, 1.39072433]])"
      ]
     },
     "execution_count": 15,
     "metadata": {},
     "output_type": "execute_result"
    }
   ],
   "source": [
    "x = np.random.rand(10, 5)\n",
    "y = np.random.rand(5, 2)\n",
    "x @ y\n"
   ]
  },
  {
   "cell_type": "code",
   "execution_count": null,
   "metadata": {},
   "outputs": [],
   "source": []
  }
 ],
 "metadata": {
  "kernelspec": {
   "display_name": "di_venv",
   "language": "python",
   "name": "python3"
  },
  "language_info": {
   "codemirror_mode": {
    "name": "ipython",
    "version": 3
   },
   "file_extension": ".py",
   "mimetype": "text/x-python",
   "name": "python",
   "nbconvert_exporter": "python",
   "pygments_lexer": "ipython3",
   "version": "3.12.3"
  }
 },
 "nbformat": 4,
 "nbformat_minor": 2
}
