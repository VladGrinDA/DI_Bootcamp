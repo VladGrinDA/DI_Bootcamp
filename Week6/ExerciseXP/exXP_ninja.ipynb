{
 "cells": [
  {
   "cell_type": "markdown",
   "metadata": {},
   "source": [
    "### Exercise 1\n"
   ]
  },
  {
   "cell_type": "code",
   "execution_count": 3,
   "metadata": {},
   "outputs": [
    {
     "data": {
      "text/plain": [
       "array([[0.80452705, 0.78311735, 0.02762256, 0.47667638, 0.757802  ],\n",
       "       [0.57280419, 0.52237573, 0.13726328, 0.94635101, 0.57317493],\n",
       "       [0.34957884, 0.03949292, 0.29890833, 0.31533344, 0.54559521],\n",
       "       [0.8517556 , 0.65216768, 0.85109452, 0.20498837, 0.58436354],\n",
       "       [0.83888608, 0.75878797, 0.13302817, 0.08615401, 0.0493053 ]])"
      ]
     },
     "execution_count": 3,
     "metadata": {},
     "output_type": "execute_result"
    }
   ],
   "source": [
    "import numpy as np\n",
    "\n",
    "x = np.random.rand(5, 5)\n",
    "x\n"
   ]
  },
  {
   "cell_type": "code",
   "execution_count": 9,
   "metadata": {},
   "outputs": [
    {
     "data": {
      "text/plain": [
       "array([[0.80452705, 0.78311735, 0.02762256, 0.47667638, 0.757802  ],\n",
       "       [0.57280419, 0.52237573, 0.13726328, 0.        , 0.57317493],\n",
       "       [0.34957884, 0.03949292, 0.29890833, 0.31533344, 0.54559521],\n",
       "       [0.8517556 , 0.65216768, 0.85109452, 0.20498837, 0.58436354],\n",
       "       [0.83888608, 0.75878797, 0.13302817, 0.08615401, 0.0493053 ]])"
      ]
     },
     "execution_count": 9,
     "metadata": {},
     "output_type": "execute_result"
    }
   ],
   "source": [
    "x.flat[x.argmax()] = 0\n",
    "x"
   ]
  },
  {
   "cell_type": "markdown",
   "metadata": {},
   "source": [
    "\n",
    "### Exercise 2"
   ]
  },
  {
   "cell_type": "code",
   "execution_count": 10,
   "metadata": {},
   "outputs": [
    {
     "data": {
      "text/plain": [
       "(array([2, 7, 1, 4, 3], dtype=int32), array([9, 9, 9, 6, 8], dtype=int32))"
      ]
     },
     "execution_count": 10,
     "metadata": {},
     "output_type": "execute_result"
    }
   ],
   "source": [
    "x = np.random.randint(1, 10, 5)\n",
    "y = np.random.randint(1, 10, 5)\n",
    "\n",
    "x, y"
   ]
  },
  {
   "cell_type": "code",
   "execution_count": 35,
   "metadata": {},
   "outputs": [],
   "source": [
    "def f1(x, y):\n",
    "    x_vals = {x[i]: i for i in range(len(x))}\n",
    "    common_elements = []\n",
    "    for j in range(len(y)):\n",
    "        if y[j] in x_vals:\n",
    "            common_elements.append(y[j])\n",
    "            x_vals.pop(y[j])\n",
    "    return common_elements\n",
    "\n",
    "\n",
    "def f2(x, y):\n",
    "    x_set = set(x)\n",
    "    y_set = set(y)\n",
    "    common_elements = x_set.intersection(y_set)\n",
    "    return common_elements\n",
    "\n",
    "def f3(x, y):\n",
    "    return np.intersect1d(x, y)\n"
   ]
  },
  {
   "cell_type": "code",
   "execution_count": 34,
   "metadata": {},
   "outputs": [
    {
     "name": "stdout",
     "output_type": "stream",
     "text": [
      "5.65 ms ± 246 μs per loop (mean ± std. dev. of 7 runs, 100 loops each)\n",
      "2.99 ms ± 18.4 μs per loop (mean ± std. dev. of 7 runs, 100 loops each)\n",
      "423 μs ± 580 ns per loop (mean ± std. dev. of 7 runs, 1,000 loops each)\n"
     ]
    }
   ],
   "source": [
    "%timeit f1(x, y)\n",
    "%timeit f2(x, y)\n",
    "%timeit f3(x, y)\n"
   ]
  },
  {
   "cell_type": "markdown",
   "metadata": {},
   "source": [
    "### Exercise 3\n"
   ]
  },
  {
   "cell_type": "code",
   "execution_count": 36,
   "metadata": {},
   "outputs": [
    {
     "data": {
      "text/plain": [
       "array([0.44, 0.08, 0.99, 0.83, 0.18, 0.51, 0.91, 1.  , 0.11, 0.48])"
      ]
     },
     "execution_count": 36,
     "metadata": {},
     "output_type": "execute_result"
    }
   ],
   "source": [
    "x = np.random.rand(10).round(2)\n",
    "x"
   ]
  },
  {
   "cell_type": "code",
   "execution_count": 38,
   "metadata": {},
   "outputs": [
    {
     "data": {
      "text/plain": [
       "array([0.08, 0.11, 0.18, 0.44, 0.48, 0.51, 0.83, 0.91, 0.99, 1.  ])"
      ]
     },
     "execution_count": 38,
     "metadata": {},
     "output_type": "execute_result"
    }
   ],
   "source": [
    "# ascending order\n",
    "x.sort()\n",
    "x\n"
   ]
  },
  {
   "cell_type": "code",
   "execution_count": 39,
   "metadata": {},
   "outputs": [
    {
     "data": {
      "text/plain": [
       "array([1.  , 0.99, 0.91, 0.83, 0.51, 0.48, 0.44, 0.18, 0.11, 0.08])"
      ]
     },
     "execution_count": 39,
     "metadata": {},
     "output_type": "execute_result"
    }
   ],
   "source": [
    "# descending order\n",
    "y = x[::-1]\n",
    "y"
   ]
  },
  {
   "cell_type": "markdown",
   "metadata": {},
   "source": [
    "### Exercise 4\n"
   ]
  },
  {
   "cell_type": "code",
   "execution_count": 40,
   "metadata": {},
   "outputs": [
    {
     "data": {
      "text/plain": [
       "array([[3, 4, 2, 3],\n",
       "       [3, 2, 4, 1],\n",
       "       [4, 1, 3, 3],\n",
       "       [4, 4, 4, 3],\n",
       "       [1, 2, 3, 3],\n",
       "       [4, 4, 1, 3],\n",
       "       [1, 3, 4, 2],\n",
       "       [1, 3, 2, 3],\n",
       "       [3, 1, 2, 3],\n",
       "       [2, 1, 3, 4]], dtype=int32)"
      ]
     },
     "execution_count": 40,
     "metadata": {},
     "output_type": "execute_result"
    }
   ],
   "source": [
    "x = np.random.randint(1, 5, (10, 4))\n",
    "x"
   ]
  },
  {
   "cell_type": "code",
   "execution_count": 43,
   "metadata": {},
   "outputs": [
    {
     "name": "stdout",
     "output_type": "stream",
     "text": [
      "The rank is: 4\n"
     ]
    }
   ],
   "source": [
    "rank = np.linalg.matrix_rank(x)\n",
    "print(f\"The rank is: {rank}\")\n"
   ]
  },
  {
   "cell_type": "markdown",
   "metadata": {},
   "source": [
    "### Exercise 5\n"
   ]
  },
  {
   "cell_type": "code",
   "execution_count": 51,
   "metadata": {},
   "outputs": [
    {
     "data": {
      "text/plain": [
       "array([[1., 1., 1., 1., 1.],\n",
       "       [1., 1., 1., 1., 1.],\n",
       "       [1., 1., 1., 1., 1.],\n",
       "       [1., 1., 1., 1., 1.],\n",
       "       [1., 1., 1., 1., 1.]])"
      ]
     },
     "execution_count": 51,
     "metadata": {},
     "output_type": "execute_result"
    }
   ],
   "source": [
    "x = np.ones((5, 5))\n",
    "x"
   ]
  },
  {
   "cell_type": "code",
   "execution_count": 52,
   "metadata": {},
   "outputs": [
    {
     "data": {
      "text/plain": [
       "array([[1., 1., 1., 1., 1.],\n",
       "       [1., 0., 0., 0., 1.],\n",
       "       [1., 0., 0., 0., 1.],\n",
       "       [1., 0., 0., 0., 1.],\n",
       "       [1., 1., 1., 1., 1.]])"
      ]
     },
     "execution_count": 52,
     "metadata": {},
     "output_type": "execute_result"
    }
   ],
   "source": [
    "x[1:-1, 1:-1] = 0\n",
    "x"
   ]
  },
  {
   "cell_type": "code",
   "execution_count": null,
   "metadata": {},
   "outputs": [],
   "source": []
  }
 ],
 "metadata": {
  "kernelspec": {
   "display_name": "di_venv",
   "language": "python",
   "name": "python3"
  },
  "language_info": {
   "codemirror_mode": {
    "name": "ipython",
    "version": 3
   },
   "file_extension": ".py",
   "mimetype": "text/x-python",
   "name": "python",
   "nbconvert_exporter": "python",
   "pygments_lexer": "ipython3",
   "version": "3.12.3"
  }
 },
 "nbformat": 4,
 "nbformat_minor": 2
}
