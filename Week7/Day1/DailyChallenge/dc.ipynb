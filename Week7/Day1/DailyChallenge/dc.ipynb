{
 "cells": [
  {
   "cell_type": "code",
   "execution_count": 20,
   "metadata": {},
   "outputs": [],
   "source": [
    "import requests\n",
    "from bs4 import BeautifulSoup\n",
    "import pandas as pd\n"
   ]
  },
  {
   "cell_type": "code",
   "execution_count": 21,
   "metadata": {},
   "outputs": [
    {
     "data": {
      "text/plain": [
       "200"
      ]
     },
     "execution_count": 21,
     "metadata": {},
     "output_type": "execute_result"
    }
   ],
   "source": [
    "url = \"https://github.com/topics\"\n",
    "response = requests.get(url)\n",
    "\n",
    "response.status_code"
   ]
  },
  {
   "cell_type": "code",
   "execution_count": 22,
   "metadata": {},
   "outputs": [
    {
     "data": {
      "text/plain": [
       "'\\n\\n<!DOCTYPE html>\\n<html\\n  lang=\"en\"\\n  \\n  data-color-mode=\"auto\" data-light-theme=\"light\" data-dark-t'"
      ]
     },
     "execution_count": 22,
     "metadata": {},
     "output_type": "execute_result"
    }
   ],
   "source": [
    "response.text[:100]"
   ]
  },
  {
   "cell_type": "code",
   "execution_count": 23,
   "metadata": {},
   "outputs": [],
   "source": [
    "# Save contents to aa file\n",
    "with open(\"gitgub_topics.html\", \"w\", encoding=response.encoding) as file:\n",
    "    file.write(response.text)"
   ]
  },
  {
   "cell_type": "code",
   "execution_count": 30,
   "metadata": {},
   "outputs": [
    {
     "data": {
      "text/plain": [
       "'\\n\\n\\n\\n\\n\\n\\n\\n\\n\\n\\n\\n\\n\\n\\n\\n\\n\\n\\n\\n\\n\\n\\n\\n\\n\\n\\n\\n\\n\\n\\n\\n\\n\\n\\n\\n\\n\\n\\n\\n\\n\\n\\n\\n\\n\\n\\n\\n\\n\\n\\n\\n\\n\\n\\nTopics on GitHub · GitHub\\n\\n\\n\\n\\n\\n\\n\\n\\n\\n\\n\\n\\n\\n\\n\\n\\n\\n\\n\\n\\n\\n\\n\\n\\n\\n\\n\\n\\n\\n\\n\\n\\n\\n\\n\\n\\n\\n\\n\\n\\n\\n\\n\\n\\n\\n\\n\\n\\n\\n\\n\\n\\n\\n\\n\\n\\n\\n\\n\\n\\n\\n\\n\\n\\nSkip to content\\n\\n\\n\\n\\n\\n\\n\\n\\n\\n\\n\\n\\n\\n\\n\\n\\n\\n\\n\\n\\n\\nNavigation Menu\\n\\nT'"
      ]
     },
     "execution_count": 30,
     "metadata": {},
     "output_type": "execute_result"
    }
   ],
   "source": [
    "# Load file and parse with BS\n",
    "with open(\"gitgub_topics.html\", \"r\", encoding=response.encoding) as file:\n",
    "    soup = BeautifulSoup(file, 'html.parser')\n",
    "\n",
    "soup.text[:200]\n"
   ]
  },
  {
   "cell_type": "code",
   "execution_count": 25,
   "metadata": {},
   "outputs": [
    {
     "data": {
      "text/plain": [
       "<div class=\"py-4 border-bottom d-flex flex-justify-between\">\n",
       "<a class=\"no-underline flex-grow-0\" href=\"/topics/3d\">\n",
       "<div class=\"color-bg-accent f4 color-fg-muted text-bold rounded mr-3 flex-shrink-0 text-center\" style=\"width:64px; height:64px; line-height:64px;\">\n",
       "            #\n",
       "          </div>\n",
       "</a>\n",
       "<a class=\"no-underline flex-1 d-flex flex-column\" href=\"/topics/3d\">\n",
       "<p class=\"f3 lh-condensed mb-0 mt-1 Link--primary\">3D</p>\n",
       "<p class=\"f5 color-fg-muted mb-0 mt-1\">\n",
       "          3D refers to the use of three-dimensional graphics, modeling, and animation in various industries.\n",
       "        </p>\n",
       "</a>\n",
       "<div class=\"flex-grow-0\">\n",
       "<div class=\"d-block\" data-view-component=\"true\">\n",
       "<a aria-label=\"You must be signed in to star a repository\" class=\"tooltipped tooltipped-sw btn-sm btn\" data-hydro-click='{\"event_type\":\"authentication.click\",\"payload\":{\"location_in_page\":\"star button\",\"repository_id\":null,\"auth_type\":\"LOG_IN\",\"originating_url\":\"https://github.com/topics\",\"user_id\":null}}' data-hydro-click-hmac=\"7575b5082e2c3915281be9460d747ad48fe377ebd620d4e12e2387269c69459c\" data-view-component=\"true\" href=\"/login?return_to=%2Ftopic.3d\" rel=\"nofollow\"> <svg aria-hidden=\"true\" class=\"octicon octicon-star v-align-text-bottom d-inline-block mr-2\" data-view-component=\"true\" height=\"16\" version=\"1.1\" viewbox=\"0 0 16 16\" width=\"16\">\n",
       "<path d=\"M8 .25a.75.75 0 0 1 .673.418l1.882 3.815 4.21.612a.75.75 0 0 1 .416 1.279l-3.046 2.97.719 4.192a.751.751 0 0 1-1.088.791L8 12.347l-3.766 1.98a.75.75 0 0 1-1.088-.79l.72-4.194L.818 6.374a.75.75 0 0 1 .416-1.28l4.21-.611L7.327.668A.75.75 0 0 1 8 .25Zm0 2.445L6.615 5.5a.75.75 0 0 1-.564.41l-3.097.45 2.24 2.184a.75.75 0 0 1 .216.664l-.528 3.084 2.769-1.456a.75.75 0 0 1 .698 0l2.77 1.456-.53-3.084a.75.75 0 0 1 .216-.664l2.24-2.183-3.096-.45a.75.75 0 0 1-.564-.41L8 2.694Z\"></path>\n",
       "</svg><span class=\"d-inline\" data-view-component=\"true\">\n",
       "          Star\n",
       "</span>\n",
       "</a></div>\n",
       "</div>\n",
       "</div>"
      ]
     },
     "execution_count": 25,
     "metadata": {},
     "output_type": "execute_result"
    }
   ],
   "source": [
    "topics = soup.find_all('div', class_=\"py-4 border-bottom d-flex flex-justify-between\")\n",
    "topics[0]\n"
   ]
  },
  {
   "cell_type": "code",
   "execution_count": 26,
   "metadata": {},
   "outputs": [
    {
     "data": {
      "text/plain": [
       "'3D'"
      ]
     },
     "execution_count": 26,
     "metadata": {},
     "output_type": "execute_result"
    }
   ],
   "source": [
    "title = topics[0].find('p', class_=\"f3 lh-condensed mb-0 mt-1 Link--primary\").get_text(strip=True)\n",
    "title"
   ]
  },
  {
   "cell_type": "code",
   "execution_count": 27,
   "metadata": {},
   "outputs": [
    {
     "data": {
      "text/plain": [
       "'3D refers to the use of three-dimensional graphics, modeling, and animation in various industries.'"
      ]
     },
     "execution_count": 27,
     "metadata": {},
     "output_type": "execute_result"
    }
   ],
   "source": [
    "description = topics[0].find('p', class_=\"f5 color-fg-muted mb-0 mt-1\").get_text(strip=True)\n",
    "description"
   ]
  },
  {
   "cell_type": "code",
   "execution_count": 28,
   "metadata": {},
   "outputs": [
    {
     "data": {
      "text/plain": [
       "[{'title': '3D',\n",
       "  'description': '3D refers to the use of three-dimensional graphics, modeling, and animation in various industries.'},\n",
       " {'title': 'Ajax',\n",
       "  'description': 'Ajax is a technique for creating interactive web applications.'},\n",
       " {'title': 'Algorithm',\n",
       "  'description': 'Algorithms are self-contained sequences that carry out a variety of tasks.'},\n",
       " {'title': 'Amp',\n",
       "  'description': 'Amp is a non-blocking concurrency library for PHP.'},\n",
       " {'title': 'Android',\n",
       "  'description': 'Android is an operating system built by Google designed for mobile devices.'},\n",
       " {'title': 'Angular',\n",
       "  'description': 'Angular is an open source web application platform.'},\n",
       " {'title': 'Ansible',\n",
       "  'description': 'Ansible is a simple and powerful automation engine.'},\n",
       " {'title': 'API',\n",
       "  'description': 'An API (Application Programming Interface) is a collection of protocols and subroutines for building software.'},\n",
       " {'title': 'Arduino',\n",
       "  'description': 'Arduino is an open source platform for building electronic devices.'},\n",
       " {'title': 'ASP.NET',\n",
       "  'description': 'ASP.NET is a web framework for building modern web apps and services.'},\n",
       " {'title': 'Awesome Lists',\n",
       "  'description': 'An awesome list is a list of awesome things curated by the community.'},\n",
       " {'title': 'Amazon Web Services',\n",
       "  'description': 'Amazon Web Services provides on-demand cloud computing platforms on a subscription basis.'},\n",
       " {'title': 'Azure',\n",
       "  'description': 'Azure is a cloud computing service created by Microsoft.'},\n",
       " {'title': 'Babel',\n",
       "  'description': 'Babel is a compiler for writing next generation JavaScript, today.'},\n",
       " {'title': 'Bash',\n",
       "  'description': 'Bash is a shell and command language interpreter for the GNU operating system.'},\n",
       " {'title': 'Bitcoin',\n",
       "  'description': 'Bitcoin is a cryptocurrency developed by Satoshi Nakamoto.'},\n",
       " {'title': 'Bootstrap',\n",
       "  'description': 'Bootstrap is an HTML, CSS, and JavaScript framework.'},\n",
       " {'title': 'Bot',\n",
       "  'description': 'A bot is an application that runs automated tasks over the Internet.'},\n",
       " {'title': 'C',\n",
       "  'description': 'C is a general purpose programming language that first appeared in 1972.'},\n",
       " {'title': 'Chrome',\n",
       "  'description': 'Chrome is a web browser from the tech company Google.'},\n",
       " {'title': 'Chrome extension',\n",
       "  'description': 'Chrome extensions enable users to customize the Chrome browsing experience.'},\n",
       " {'title': 'Command-line interface',\n",
       "  'description': 'A CLI, or command-line interface, is a console that helps users issue commands to a program.'},\n",
       " {'title': 'Clojure',\n",
       "  'description': 'Clojure is a dynamic, general-purpose programming language.'},\n",
       " {'title': 'Code quality',\n",
       "  'description': 'Automate your code review with style, quality, security, and test‑coverage checks when you need them.'},\n",
       " {'title': 'Code review',\n",
       "  'description': 'Ensure your code meets quality standards and ship with confidence.'},\n",
       " {'title': 'Compiler',\n",
       "  'description': 'Compilers are software that translate higher-level programming languages to lower-level languages (e.g. machine code).'},\n",
       " {'title': 'Continuous integration',\n",
       "  'description': 'Automatically build and test your code as you push it upstream, preventing bugs from being deployed to production.'},\n",
       " {'title': 'C++',\n",
       "  'description': 'C++ is a general purpose and object-oriented programming language.'},\n",
       " {'title': 'Cryptocurrency',\n",
       "  'description': 'A cryptocurrency is a digital currency that uses cryptography.'},\n",
       " {'title': 'Crystal',\n",
       "  'description': 'Crystal is a self-hosted, general purpose programming language.'}]"
      ]
     },
     "execution_count": 28,
     "metadata": {},
     "output_type": "execute_result"
    }
   ],
   "source": [
    "topic_data = []\n",
    "for topic in topics:\n",
    "    title = topic.find('p', class_=\"f3 lh-condensed mb-0 mt-1 Link--primary\").get_text(strip=True)\n",
    "    description = topic.find('p', class_=\"f5 color-fg-muted mb-0 mt-1\").get_text(strip=True)\n",
    "    topic_data.append({'title': title, 'description': description})\n",
    "\n",
    "topic_data\n",
    "\n"
   ]
  },
  {
   "cell_type": "code",
   "execution_count": 29,
   "metadata": {},
   "outputs": [
    {
     "data": {
      "text/html": [
       "<div>\n",
       "<style scoped>\n",
       "    .dataframe tbody tr th:only-of-type {\n",
       "        vertical-align: middle;\n",
       "    }\n",
       "\n",
       "    .dataframe tbody tr th {\n",
       "        vertical-align: top;\n",
       "    }\n",
       "\n",
       "    .dataframe thead th {\n",
       "        text-align: right;\n",
       "    }\n",
       "</style>\n",
       "<table border=\"1\" class=\"dataframe\">\n",
       "  <thead>\n",
       "    <tr style=\"text-align: right;\">\n",
       "      <th></th>\n",
       "      <th>title</th>\n",
       "      <th>description</th>\n",
       "    </tr>\n",
       "  </thead>\n",
       "  <tbody>\n",
       "    <tr>\n",
       "      <th>0</th>\n",
       "      <td>3D</td>\n",
       "      <td>3D refers to the use of three-dimensional grap...</td>\n",
       "    </tr>\n",
       "    <tr>\n",
       "      <th>1</th>\n",
       "      <td>Ajax</td>\n",
       "      <td>Ajax is a technique for creating interactive w...</td>\n",
       "    </tr>\n",
       "    <tr>\n",
       "      <th>2</th>\n",
       "      <td>Algorithm</td>\n",
       "      <td>Algorithms are self-contained sequences that c...</td>\n",
       "    </tr>\n",
       "    <tr>\n",
       "      <th>3</th>\n",
       "      <td>Amp</td>\n",
       "      <td>Amp is a non-blocking concurrency library for ...</td>\n",
       "    </tr>\n",
       "    <tr>\n",
       "      <th>4</th>\n",
       "      <td>Android</td>\n",
       "      <td>Android is an operating system built by Google...</td>\n",
       "    </tr>\n",
       "    <tr>\n",
       "      <th>5</th>\n",
       "      <td>Angular</td>\n",
       "      <td>Angular is an open source web application plat...</td>\n",
       "    </tr>\n",
       "    <tr>\n",
       "      <th>6</th>\n",
       "      <td>Ansible</td>\n",
       "      <td>Ansible is a simple and powerful automation en...</td>\n",
       "    </tr>\n",
       "    <tr>\n",
       "      <th>7</th>\n",
       "      <td>API</td>\n",
       "      <td>An API (Application Programming Interface) is ...</td>\n",
       "    </tr>\n",
       "    <tr>\n",
       "      <th>8</th>\n",
       "      <td>Arduino</td>\n",
       "      <td>Arduino is an open source platform for buildin...</td>\n",
       "    </tr>\n",
       "    <tr>\n",
       "      <th>9</th>\n",
       "      <td>ASP.NET</td>\n",
       "      <td>ASP.NET is a web framework for building modern...</td>\n",
       "    </tr>\n",
       "    <tr>\n",
       "      <th>10</th>\n",
       "      <td>Awesome Lists</td>\n",
       "      <td>An awesome list is a list of awesome things cu...</td>\n",
       "    </tr>\n",
       "    <tr>\n",
       "      <th>11</th>\n",
       "      <td>Amazon Web Services</td>\n",
       "      <td>Amazon Web Services provides on-demand cloud c...</td>\n",
       "    </tr>\n",
       "    <tr>\n",
       "      <th>12</th>\n",
       "      <td>Azure</td>\n",
       "      <td>Azure is a cloud computing service created by ...</td>\n",
       "    </tr>\n",
       "    <tr>\n",
       "      <th>13</th>\n",
       "      <td>Babel</td>\n",
       "      <td>Babel is a compiler for writing next generatio...</td>\n",
       "    </tr>\n",
       "    <tr>\n",
       "      <th>14</th>\n",
       "      <td>Bash</td>\n",
       "      <td>Bash is a shell and command language interpret...</td>\n",
       "    </tr>\n",
       "    <tr>\n",
       "      <th>15</th>\n",
       "      <td>Bitcoin</td>\n",
       "      <td>Bitcoin is a cryptocurrency developed by Satos...</td>\n",
       "    </tr>\n",
       "    <tr>\n",
       "      <th>16</th>\n",
       "      <td>Bootstrap</td>\n",
       "      <td>Bootstrap is an HTML, CSS, and JavaScript fram...</td>\n",
       "    </tr>\n",
       "    <tr>\n",
       "      <th>17</th>\n",
       "      <td>Bot</td>\n",
       "      <td>A bot is an application that runs automated ta...</td>\n",
       "    </tr>\n",
       "    <tr>\n",
       "      <th>18</th>\n",
       "      <td>C</td>\n",
       "      <td>C is a general purpose programming language th...</td>\n",
       "    </tr>\n",
       "    <tr>\n",
       "      <th>19</th>\n",
       "      <td>Chrome</td>\n",
       "      <td>Chrome is a web browser from the tech company ...</td>\n",
       "    </tr>\n",
       "    <tr>\n",
       "      <th>20</th>\n",
       "      <td>Chrome extension</td>\n",
       "      <td>Chrome extensions enable users to customize th...</td>\n",
       "    </tr>\n",
       "    <tr>\n",
       "      <th>21</th>\n",
       "      <td>Command-line interface</td>\n",
       "      <td>A CLI, or command-line interface, is a console...</td>\n",
       "    </tr>\n",
       "    <tr>\n",
       "      <th>22</th>\n",
       "      <td>Clojure</td>\n",
       "      <td>Clojure is a dynamic, general-purpose programm...</td>\n",
       "    </tr>\n",
       "    <tr>\n",
       "      <th>23</th>\n",
       "      <td>Code quality</td>\n",
       "      <td>Automate your code review with style, quality,...</td>\n",
       "    </tr>\n",
       "    <tr>\n",
       "      <th>24</th>\n",
       "      <td>Code review</td>\n",
       "      <td>Ensure your code meets quality standards and s...</td>\n",
       "    </tr>\n",
       "    <tr>\n",
       "      <th>25</th>\n",
       "      <td>Compiler</td>\n",
       "      <td>Compilers are software that translate higher-l...</td>\n",
       "    </tr>\n",
       "    <tr>\n",
       "      <th>26</th>\n",
       "      <td>Continuous integration</td>\n",
       "      <td>Automatically build and test your code as you ...</td>\n",
       "    </tr>\n",
       "    <tr>\n",
       "      <th>27</th>\n",
       "      <td>C++</td>\n",
       "      <td>C++ is a general purpose and object-oriented p...</td>\n",
       "    </tr>\n",
       "    <tr>\n",
       "      <th>28</th>\n",
       "      <td>Cryptocurrency</td>\n",
       "      <td>A cryptocurrency is a digital currency that us...</td>\n",
       "    </tr>\n",
       "    <tr>\n",
       "      <th>29</th>\n",
       "      <td>Crystal</td>\n",
       "      <td>Crystal is a self-hosted, general purpose prog...</td>\n",
       "    </tr>\n",
       "  </tbody>\n",
       "</table>\n",
       "</div>"
      ],
      "text/plain": [
       "                     title                                        description\n",
       "0                       3D  3D refers to the use of three-dimensional grap...\n",
       "1                     Ajax  Ajax is a technique for creating interactive w...\n",
       "2                Algorithm  Algorithms are self-contained sequences that c...\n",
       "3                      Amp  Amp is a non-blocking concurrency library for ...\n",
       "4                  Android  Android is an operating system built by Google...\n",
       "5                  Angular  Angular is an open source web application plat...\n",
       "6                  Ansible  Ansible is a simple and powerful automation en...\n",
       "7                      API  An API (Application Programming Interface) is ...\n",
       "8                  Arduino  Arduino is an open source platform for buildin...\n",
       "9                  ASP.NET  ASP.NET is a web framework for building modern...\n",
       "10           Awesome Lists  An awesome list is a list of awesome things cu...\n",
       "11     Amazon Web Services  Amazon Web Services provides on-demand cloud c...\n",
       "12                   Azure  Azure is a cloud computing service created by ...\n",
       "13                   Babel  Babel is a compiler for writing next generatio...\n",
       "14                    Bash  Bash is a shell and command language interpret...\n",
       "15                 Bitcoin  Bitcoin is a cryptocurrency developed by Satos...\n",
       "16               Bootstrap  Bootstrap is an HTML, CSS, and JavaScript fram...\n",
       "17                     Bot  A bot is an application that runs automated ta...\n",
       "18                       C  C is a general purpose programming language th...\n",
       "19                  Chrome  Chrome is a web browser from the tech company ...\n",
       "20        Chrome extension  Chrome extensions enable users to customize th...\n",
       "21  Command-line interface  A CLI, or command-line interface, is a console...\n",
       "22                 Clojure  Clojure is a dynamic, general-purpose programm...\n",
       "23            Code quality  Automate your code review with style, quality,...\n",
       "24             Code review  Ensure your code meets quality standards and s...\n",
       "25                Compiler  Compilers are software that translate higher-l...\n",
       "26  Continuous integration  Automatically build and test your code as you ...\n",
       "27                     C++  C++ is a general purpose and object-oriented p...\n",
       "28          Cryptocurrency  A cryptocurrency is a digital currency that us...\n",
       "29                 Crystal  Crystal is a self-hosted, general purpose prog..."
      ]
     },
     "execution_count": 29,
     "metadata": {},
     "output_type": "execute_result"
    }
   ],
   "source": [
    "import pandas as pd\n",
    "df = pd.DataFrame(topic_data)\n",
    "df"
   ]
  },
  {
   "cell_type": "code",
   "execution_count": null,
   "metadata": {},
   "outputs": [],
   "source": []
  }
 ],
 "metadata": {
  "kernelspec": {
   "display_name": "di_venv",
   "language": "python",
   "name": "python3"
  },
  "language_info": {
   "codemirror_mode": {
    "name": "ipython",
    "version": 3
   },
   "file_extension": ".py",
   "mimetype": "text/x-python",
   "name": "python",
   "nbconvert_exporter": "python",
   "pygments_lexer": "ipython3",
   "version": "3.12.3"
  }
 },
 "nbformat": 4,
 "nbformat_minor": 2
}
