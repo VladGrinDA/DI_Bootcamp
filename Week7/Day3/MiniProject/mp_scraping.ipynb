{
 "cells": [
  {
   "cell_type": "markdown",
   "metadata": {},
   "source": [
    "### Initial imports"
   ]
  },
  {
   "cell_type": "code",
   "execution_count": 72,
   "metadata": {},
   "outputs": [],
   "source": [
    "from selenium import webdriver\n",
    "from selenium.webdriver.common.keys import Keys\n",
    "from selenium.webdriver.common.by import By\n",
    "from selenium.webdriver.support.ui import WebDriverWait\n",
    "from selenium.webdriver.support import expected_conditions as EC\n",
    "from pprint import pprint  # To tidy up\n",
    "from bs4 import BeautifulSoup\n",
    "import bs4\n",
    "import time\n",
    "\n",
    "options = webdriver.ChromeOptions()\n",
    "options.add_argument('--headless')  # Run Chrome in headless mode\n",
    "options.add_argument(\"--no-sandbox\")  # Bypass OS security model\n",
    "options.add_argument(\"--disable-dev-shm-usage\")  # Overcome limited resource problems"
   ]
  },
  {
   "cell_type": "code",
   "execution_count": 142,
   "metadata": {},
   "outputs": [
    {
     "name": "stdout",
     "output_type": "stream",
     "text": [
      "Page loaded successfully\n"
     ]
    }
   ],
   "source": [
    "# driver.quit()\n",
    "driver = webdriver.Chrome(options=options)\n",
    "main_url = \"https://www.inmotionhosting.com/\"\n",
    "driver.get(main_url)\n",
    "\n",
    "wait = WebDriverWait(driver, 10)\n",
    "\n",
    "try:\n",
    "    wait.until(\n",
    "        EC.presence_of_element_located((By.CSS_SELECTOR, \"h2.hero-title.color-neutral-color\"))\n",
    "    )\n",
    "    print(\"Page loaded successfully\")\n",
    "except Exception as e:\n",
    "    print(\"Error loading page:\", e)\n",
    "    driver.quit()\n",
    "    exit()"
   ]
  },
  {
   "cell_type": "code",
   "execution_count": 284,
   "metadata": {},
   "outputs": [],
   "source": [
    "if driver.current_url != main_url:\n",
    "    driver.get(main_url)\n",
    "    wait.until(\n",
    "        EC.presence_of_element_located((By.CSS_SELECTOR, \"h2.hero-title.color-neutral-color\"))\n",
    "    )\n",
    "driver.page_source\n",
    "soup_main = BeautifulSoup(driver.page_source, 'html.parser')"
   ]
  },
  {
   "cell_type": "markdown",
   "metadata": {},
   "source": [
    "### Section for a debugging"
   ]
  },
  {
   "cell_type": "code",
   "execution_count": 285,
   "metadata": {},
   "outputs": [],
   "source": [
    "plan_link = [link.get_attribute('href') for link in driver.find_elements(By.LINK_TEXT, \"Compare Plans\")]\n"
   ]
  },
  {
   "cell_type": "code",
   "execution_count": 286,
   "metadata": {},
   "outputs": [
    {
     "data": {
      "text/plain": [
       "'https://www.inmotionhosting.com/shared-hosting'"
      ]
     },
     "execution_count": 286,
     "metadata": {},
     "output_type": "execute_result"
    }
   ],
   "source": [
    "driver.get(plan_link[0])\n",
    "driver.current_url\n"
   ]
  },
  {
   "cell_type": "code",
   "execution_count": 287,
   "metadata": {},
   "outputs": [
    {
     "name": "stdout",
     "output_type": "stream",
     "text": [
      "1 Year\n"
     ]
    }
   ],
   "source": [
    "# btn_1_year = wait.until(EC.element_to_be_clickable((By.XPATH, \"//button[contains(@class, 'imh-term-selector') and text()='6 Month']\")))\n",
    "period_string = '1 Year'\n",
    "period_btn = driver.find_element(By.XPATH, f\"//button[contains(@class, 'imh-term-selector') and text()='{period_string}']\")\n",
    "print(period_btn.text)\n",
    "driver.execute_script(\"arguments[0].click();\", period_btn)"
   ]
  },
  {
   "cell_type": "code",
   "execution_count": 288,
   "metadata": {},
   "outputs": [
    {
     "data": {
      "text/plain": [
       "True"
      ]
     },
     "execution_count": 288,
     "metadata": {},
     "output_type": "execute_result"
    }
   ],
   "source": [
    "wait.until(EC.text_to_be_present_in_element(\n",
    "    (By.CSS_SELECTOR, \"div.imh-term-selector > button.imh-term-selector.active\"),\n",
    "    period_string\n",
    "))"
   ]
  },
  {
   "cell_type": "code",
   "execution_count": 289,
   "metadata": {},
   "outputs": [
    {
     "data": {
      "text/plain": [
       "'1 Year'"
      ]
     },
     "execution_count": 289,
     "metadata": {},
     "output_type": "execute_result"
    }
   ],
   "source": [
    "driver.find_element(By.CSS_SELECTOR, \"button.imh-term-selector.active\").text"
   ]
  },
  {
   "cell_type": "code",
   "execution_count": 290,
   "metadata": {},
   "outputs": [
    {
     "data": {
      "text/plain": [
       "<div class=\"imh-rostrum-container\"><div class=\"imh-rostrum-card\"><h3 class=\"h3 imh-rostrum-card-title\">Core</h3><div class=\"imh-rostrum-sub-title\">Suitable for simple sites, with everything you need included.</div><div class=\"imh-pricing-container connected-switcher\"><div class=\"imh-switcher\"><div class=\"imh-rostrum-save-ribbon\">You Save <span class=\"dnt\">68%</span></div><span class=\"imh-starting-at-text\">Starting at</span><div class=\"imh-rostrum-starting-at-price-discounted\"><span class=\"rostrum-price\">$3.19</span><span class=\"rostrum-per-price\"><small>/mo</small></span></div><div class=\"imh-rostrum-starting-at-price-normal\" style=\"margin-top: 5px;\">Renews at <span class=\"rostrum-price\">$9.99</span><span class=\"rostrum-per-price\">/mo</span></div><button class=\"atc btn-primary\" data-action=\"entered-cart\" data-button='{\"campaignhandle\": \"standard_all_products\",\"productid\": \"11494\",\"packageid\": \"847\",\"irid\":\"\",\"affiliate\":\"\",\"sirid\": \"\", \"opc\": \"\"}' data-click=\"primary-cta\" data-location=\"/shared-hosting\" data-presentation-price=\"114.84\" data-product=\"first\" data-property=\"mktg\" data-standard-price=\"359.64\" data-term=\"36\" type=\"button\"> Select </button></div><div class=\"imh-switcher active\"><div class=\"imh-rostrum-save-ribbon\">You Save <span class=\"dnt\">73%</span></div><span class=\"imh-starting-at-text\">Starting at</span><div class=\"imh-rostrum-starting-at-price-discounted\"><span class=\"rostrum-price\">$2.99</span><span class=\"rostrum-per-price\"><small>/mo</small></span></div><div class=\"imh-rostrum-starting-at-price-normal\" style=\"margin-top: 5px;\">Renews at <span class=\"rostrum-price\">$10.99</span><span class=\"rostrum-per-price\">/mo</span></div><button class=\"atc btn-primary\" data-action=\"entered-cart\" data-button='{\"campaignhandle\": \"standard_all_products\",\"productid\": \"11493\",\"packageid\": \"847\",\"irid\":\"\",\"affiliate\":\"\",\"sirid\": \"\", \"opc\": \"\"}' data-click=\"primary-cta\" data-location=\"/shared-hosting\" data-presentation-price=\"35.88\" data-product=\"second\" data-property=\"mktg\" data-standard-price=\"131.88\" data-term=\"12\" type=\"button\"> Select </button></div><div class=\"imh-switcher imh-not-available\"><div><small>Only available for</small></div>3 year, and 1 year terms</div></div><ul class=\"imh-rostrum-details-list\"><li class=\"fa fa-imh-arrow-right tooltips-rostrum\"><div class=\"imh-rostrum-detail connected-switcher\"><div class=\"imh-switcher\"><strong>Free domain &amp; SSL</strong></div><div class=\"imh-switcher active\"><strong>Free domain &amp; SSL</strong></div><div class=\"imh-switcher\"><strong>Free domain &amp; SSL</strong></div><div class=\"imh-switcher\"><strong><span class=\"tooltip\" imh-tooltip-id=\"imh-tt-free-ssl\" imh-tooltip-text=\"Protect your website with our free 2048-bit encryption Secure Sockets Layer (SSL) certificates.\">Free SSL</span></strong></div></div></li><li class=\"fa fa-imh-arrow-right tooltips-rostrum\"><span class=\"imh-rostrum-detail\"><strong>2</strong> Websites</span></li><li class=\"fa fa-imh-arrow-right tooltips-rostrum\"><span class=\"imh-rostrum-detail\"><strong>100GB </strong>SSD</span></li><li class=\"fa fa-imh-arrow-right tooltips-rostrum\"><span class=\"imh-rostrum-detail\"><strong><span class=\"tooltip\" imh-tooltip-id=\"imh-tt-unlimited\" imh-tooltip-text=\"Unlimited means you are not charged based on how much you use the feature described. Read our &lt;a href='https://www.inmotionhosting.com/legal/'&gt;Terms of Service&lt;/a&gt;.\">Unlimited</span></strong> Bandwidth</span></li><li class=\"fa fa-imh-arrow-right tooltips-rostrum\"><span class=\"imh-rostrum-detail\"><strong>2x</strong> Speed &amp; Performance</span></li><li class=\"fa fa-imh-arrow-right tooltips-rostrum\"><span class=\"imh-rostrum-detail\"><strong>10</strong> Email Addresses</span></li><li class=\"fa fa-imh-arrow-right tooltips-rostrum\"><div class=\"imh-accordion-container imh-rostrum-detail\"><a class=\"imh-accordion\"><span class=\"imh-rostrum-detail\">Security Suite</span><span class=\"imh-ds-icon chevron down\"><i class=\"fa fa-imh-chevron-down toggle-chevron\"></i></span></a><div class=\"imh-accordion-content\"><ul><li class=\"fa fa-imh-arrow-right tooltips-rostrum\"><span class=\"imh-rostrum-detail\"><span class=\"tooltip\" imh-tooltip-id=\"imh-tt-free-ssl\" imh-tooltip-text=\"Protect your website with our free 2048-bit encryption Secure Sockets Layer (SSL) certificates.\">Free SSL</span></span></li><li class=\"fa fa-imh-arrow-right tooltips-rostrum\"><span class=\"imh-rostrum-detail\">Hack &amp;  <span class=\"tooltip\" imh-tooltip-id=\"imh-tt-malware-protection\" imh-tooltip-text=\"Malware protection software scans and patches your website files for any vulnerabilities.\">Malware Protection</span></span></li><li class=\"fa fa-imh-arrow-right tooltips-rostrum\"><span class=\"imh-rostrum-detail\">DDoS Protection</span></li><li class=\"fa fa-imh-arrow-right tooltips-rostrum\"><span class=\"imh-rostrum-detail\">Automatic Backups Available</span></li><li class=\"fa fa-imh-arrow-right tooltips-rostrum\"><span class=\"imh-rostrum-detail\"><strong>Monarx Security</strong><br/><span class=\"small-text\">($19.99 Value)</span></span></li></ul></div></div></li><li class=\"fa fa-imh-arrow-right tooltips-rostrum\"><div class=\"imh-accordion-container imh-rostrum-detail\"><a class=\"imh-accordion\"><span class=\"imh-rostrum-detail\"><span class=\"tooltip\" imh-tooltip-id=\"imh-tt-marketing-tools\" imh-tooltip-text=\"Free marketing tools to help you promote your business and services online.\">Marketing Tools</span></span><span class=\"imh-ds-icon chevron down\"><i class=\"fa fa-imh-chevron-down toggle-chevron\"></i></span></a><div class=\"imh-accordion-content\"><ul><li class=\"fa fa-imh-arrow-right tooltips-rostrum\"><span class=\"imh-rostrum-detail\">Website Builder</span></li><li class=\"fa fa-imh-arrow-right tooltips-rostrum\"><span class=\"imh-rostrum-detail\">Email on Any Device</span></li><li class=\"fa fa-imh-arrow-right tooltips-rostrum\"><span class=\"imh-rostrum-detail\">Free Advertising Credits</span></li><li class=\"fa fa-imh-arrow-right tooltips-rostrum\"><span class=\"imh-rostrum-detail\">Customer Management Tools</span></li></ul></div></div></li><li class=\"fa fa-imh-arrow-right tooltips-rostrum\"><span class=\"imh-rostrum-detail\"><strong>Hosting Plus</strong><br/><span class=\"small-text\">Python,  Node.JS,   Ruby and GIT version control.</span></span></li><li class=\"fa fa-imh-arrow-right tooltips-rostrum\"><span class=\"imh-rostrum-detail\"><strong>Choice of Data Center Location</strong><br/><span class=\"small-text\">Includes US and EU Locations</span></span></li><li class=\"fa fa-imh-arrow-right tooltips-rostrum\"><span class=\"imh-rostrum-detail\">Live Chat Support from Helpful Humans</span></li></ul></div><div class=\"imh-rostrum-card\"><h3 class=\"h3 imh-rostrum-card-title\">Launch</h3><div class=\"imh-rostrum-sub-title\">Designed for seamless multi-site management &amp; enhanced performance.</div><div class=\"imh-pricing-container connected-switcher\"><div class=\"imh-switcher\"><div class=\"imh-rostrum-save-ribbon\">You Save <span class=\"dnt\">62%</span></div><span class=\"imh-starting-at-text\">Starting at</span><div class=\"imh-rostrum-starting-at-price-discounted\"><span class=\"rostrum-price\">$4.99</span><span class=\"rostrum-per-price\"><small>/mo</small></span></div><div class=\"imh-rostrum-starting-at-price-normal\" style=\"margin-top: 5px;\">Renews at <span class=\"rostrum-price\">$12.99</span><span class=\"rostrum-per-price\">/mo</span></div><button class=\"atc btn-primary\" data-action=\"entered-cart\" data-button='{\"campaignhandle\": \"standard_all_products\",\"productid\": \"11485\",\"packageid\": \"847\",\"irid\":\"\",\"affiliate\":\"\",\"sirid\": \"\", \"opc\": \"\"}' data-click=\"primary-cta\" data-location=\"/shared-hosting\" data-presentation-price=\"179.64\" data-product=\"third\" data-property=\"mktg\" data-standard-price=\"467.64\" data-term=\"36\" type=\"button\"> Select </button></div><div class=\"imh-switcher active\"><div class=\"imh-rostrum-save-ribbon\">You Save <span class=\"dnt\">66%</span></div><span class=\"imh-starting-at-text\">Starting at</span><div class=\"imh-rostrum-starting-at-price-discounted\"><span class=\"rostrum-price\">$4.79</span><span class=\"rostrum-per-price\"><small>/mo</small></span></div><div class=\"imh-rostrum-starting-at-price-normal\" style=\"margin-top: 5px;\">Renews at <span class=\"rostrum-price\">$13.99</span><span class=\"rostrum-per-price\">/mo</span></div><button class=\"atc btn-primary\" data-action=\"entered-cart\" data-button='{\"campaignhandle\": \"standard_all_products\",\"productid\": \"11484\",\"packageid\": \"847\",\"irid\":\"\",\"affiliate\":\"\",\"sirid\": \"\", \"opc\": \"\"}' data-click=\"primary-cta\" data-location=\"/shared-hosting\" data-presentation-price=\"57.48\" data-product=\"fourth\" data-property=\"mktg\" data-standard-price=\"167.88\" data-term=\"12\" type=\"button\"> Select </button></div><div class=\"imh-switcher\"><div class=\"imh-rostrum-save-ribbon\">You Save <span class=\"dnt\">0%</span></div><span class=\"imh-starting-at-text\">Starting at</span><div class=\"imh-rostrum-starting-at-price-discounted\"><span class=\"rostrum-price\">$15.99</span><span class=\"rostrum-per-price\"><small>/mo</small></span></div><div class=\"imh-rostrum-starting-at-price-normal\" style=\"margin-top: 5px;\">Renews at <span class=\"rostrum-price\">$15.99</span><span class=\"rostrum-per-price\">/mo</span></div><button class=\"atc btn-primary\" data-action=\"entered-cart\" data-button='{\"campaignhandle\": \"standard_all_products\",\"productid\": \"11483\",\"packageid\": \"847\",\"irid\":\"\",\"affiliate\":\"\",\"sirid\": \"\", \"opc\": \"\"}' data-click=\"primary-cta\" data-location=\"/shared-hosting\" data-presentation-price=\"15.99\" data-product=\"fifth\" data-property=\"mktg\" data-standard-price=\"15.99\" data-term=\"1\" type=\"button\"> Select </button></div></div><ul class=\"imh-rostrum-details-list\"><li class=\"fa fa-imh-arrow-right tooltips-rostrum\"><div class=\"imh-rostrum-detail connected-switcher\"><div class=\"imh-switcher\"><strong>Free domain &amp; SSL</strong></div><div class=\"imh-switcher active\"><strong>Free domain &amp; SSL</strong></div><div class=\"imh-switcher\"><strong>Free domain &amp; SSL</strong></div><div class=\"imh-switcher\"><strong><span class=\"tooltip\" imh-tooltip-id=\"imh-tt-free-ssl\" imh-tooltip-text=\"Protect your website with our free 2048-bit encryption Secure Sockets Layer (SSL) certificates.\">Free SSL</span></strong></div></div></li><li class=\"fa fa-imh-arrow-right tooltips-rostrum\"><span class=\"imh-rostrum-detail\"><strong>25</strong> Websites</span></li><li class=\"fa fa-imh-arrow-right tooltips-rostrum\"><span class=\"imh-rostrum-detail\"><strong><span class=\"tooltip\" imh-tooltip-id=\"imh-tt-unlimited\" imh-tooltip-text=\"Unlimited means you are not charged based on how much you use the feature described. Read our &lt;a href='https://www.inmotionhosting.com/legal/'&gt;Terms of Service&lt;/a&gt;.\">Unlimited</span> </strong>NVMe SSD <img alt=\"Green Speed Icon\" class=\"green-icon\" decoding=\"async\" height=\"33\" loading=\"lazy\" src=\"https://design.inmotionhosting.com/assets/icons/custom/green-speed.svg\" width=\"33\"/></span></li><li class=\"fa fa-imh-arrow-right tooltips-rostrum\"><span class=\"imh-rostrum-detail\"><strong><span class=\"tooltip\" imh-tooltip-id=\"imh-tt-unlimited\" imh-tooltip-text=\"Unlimited means you are not charged based on how much you use the feature described. Read our &lt;a href='https://www.inmotionhosting.com/legal/'&gt;Terms of Service&lt;/a&gt;.\">Unlimited</span></strong> Bandwidth</span></li><li class=\"fa fa-imh-arrow-right tooltips-rostrum\"><span class=\"imh-rostrum-detail\"><strong>6x</strong> <span class=\"tooltip\" imh-tooltip-id=\"imh-tt-ultrastack\" imh-tooltip-text=\"UltraStack is a custom technology stack with advanced layered caching that is fine-tuned for speed.\">UltraStack</span> Speed &amp; Performance</span></li><li class=\"fa fa-imh-arrow-right tooltips-rostrum\"><span class=\"imh-rostrum-detail\"><strong><span class=\"tooltip\" imh-tooltip-id=\"imh-tt-unlimited\" imh-tooltip-text=\"Unlimited means you are not charged based on how much you use the feature described. Read our &lt;a href='https://www.inmotionhosting.com/legal/'&gt;Terms of Service&lt;/a&gt;.\">Unlimited</span></strong> Email Addresses</span></li><li class=\"fa fa-imh-arrow-right tooltips-rostrum\"><div class=\"imh-accordion-container imh-rostrum-detail\"><a class=\"imh-accordion\"><span class=\"imh-rostrum-detail\">Security Suite</span><span class=\"imh-ds-icon chevron down\"><i class=\"fa fa-imh-chevron-down toggle-chevron\"></i></span></a><div class=\"imh-accordion-content\"><ul><li class=\"fa fa-imh-arrow-right tooltips-rostrum\"><span class=\"imh-rostrum-detail\"><span class=\"tooltip\" imh-tooltip-id=\"imh-tt-free-ssl\" imh-tooltip-text=\"Protect your website with our free 2048-bit encryption Secure Sockets Layer (SSL) certificates.\">Free SSL</span></span></li><li class=\"fa fa-imh-arrow-right tooltips-rostrum\"><span class=\"imh-rostrum-detail\">Hack &amp;  <span class=\"tooltip\" imh-tooltip-id=\"imh-tt-malware-protection\" imh-tooltip-text=\"Malware protection software scans and patches your website files for any vulnerabilities.\">Malware Protection</span></span></li><li class=\"fa fa-imh-arrow-right tooltips-rostrum\"><span class=\"imh-rostrum-detail\">DDoS Protection</span></li><li class=\"fa fa-imh-arrow-right tooltips-rostrum\"><span class=\"imh-rostrum-detail\">Automatic Backups Available</span></li><li class=\"fa fa-imh-arrow-right tooltips-rostrum\"><span class=\"imh-rostrum-detail\"><strong>Monarx Security</strong><br/><span class=\"small-text\">($19.99 Value)</span></span></li></ul></div></div></li><li class=\"fa fa-imh-arrow-right tooltips-rostrum\"><div class=\"imh-accordion-container imh-rostrum-detail\"><a class=\"imh-accordion\"><span class=\"imh-rostrum-detail\"><span class=\"tooltip\" imh-tooltip-id=\"imh-tt-marketing-tools\" imh-tooltip-text=\"Free marketing tools to help you promote your business and services online.\">Marketing Tools</span></span><span class=\"imh-ds-icon chevron down\"><i class=\"fa fa-imh-chevron-down toggle-chevron\"></i></span></a><div class=\"imh-accordion-content\"><ul><li class=\"fa fa-imh-arrow-right tooltips-rostrum\"><span class=\"imh-rostrum-detail\">Website Builder</span></li><li class=\"fa fa-imh-arrow-right tooltips-rostrum\"><span class=\"imh-rostrum-detail\">Email on Any Device</span></li><li class=\"fa fa-imh-arrow-right tooltips-rostrum\"><span class=\"imh-rostrum-detail\">Free Advertising Credits</span></li><li class=\"fa fa-imh-arrow-right tooltips-rostrum\"><span class=\"imh-rostrum-detail\">Customer Management Tools</span></li></ul></div></div></li><li class=\"fa fa-imh-arrow-right tooltips-rostrum\"><span class=\"imh-rostrum-detail\"><strong>Hosting Plus</strong><br/><span class=\"small-text\">Python,   Node.JS,   Ruby and GIT version control.</span></span></li><li class=\"fa fa-imh-arrow-right tooltips-rostrum\"><span class=\"imh-rostrum-detail\"><strong>Choice of Data Center Location</strong><br/><span class=\"small-text\">Includes US and EU Locations</span></span></li><li class=\"fa fa-imh-arrow-right tooltips-rostrum\"><span class=\"imh-rostrum-detail\"><strong><span class=\"tooltip\" imh-tooltip-id=\"imh-tt-pro-support\" imh-tooltip-text=\"Pro Level Support gives you a service level agreement (SLA) that guarantees 99.99% uptime for your website.\">Pro Support</span> SLA</strong></span></li><li class=\"fa fa-imh-arrow-right tooltips-rostrum\"><span class=\"imh-rostrum-detail\">Live Chat Support from Helpful Humans</span></li></ul></div><div class=\"imh-rostrum-card rostrum-badge\"><span class=\"rostrum-product-badge\">Best Value</span><h3 class=\"h3 imh-rostrum-card-title\">Power</h3><div class=\"imh-rostrum-sub-title\">Powerful resources perfect for larger sites &amp; managing clients.</div><div class=\"imh-pricing-container connected-switcher\"><div class=\"imh-switcher\"><div class=\"imh-rostrum-save-ribbon\">You Save <span class=\"dnt\">71%</span></div><span class=\"imh-starting-at-text\">Starting at</span><div class=\"imh-rostrum-starting-at-price-discounted\"><span class=\"rostrum-price\">$4.99</span><span class=\"rostrum-per-price\"><small>/mo</small></span></div><div class=\"imh-rostrum-starting-at-price-normal\" style=\"margin-top: 5px;\">Renews at <span class=\"rostrum-price\">$16.99</span><span class=\"rostrum-per-price\">/mo</span></div><button class=\"atc btn-primary\" data-action=\"entered-cart\" data-button='{\"campaignhandle\": \"standard_all_products\",\"productid\": \"11488\",\"packageid\": \"847\",\"irid\":\"\",\"affiliate\":\"\",\"sirid\": \"\", \"opc\": \"\"}' data-click=\"primary-cta\" data-location=\"/shared-hosting\" data-presentation-price=\"179.64\" data-product=\"sixth\" data-property=\"mktg\" data-standard-price=\"611.64\" data-term=\"36\" type=\"button\"> Select </button></div><div class=\"imh-switcher active\"><div class=\"imh-rostrum-save-ribbon\">You Save <span class=\"dnt\">73%</span></div><span class=\"imh-starting-at-text\">Starting at</span><div class=\"imh-rostrum-starting-at-price-discounted\"><span class=\"rostrum-price\">$4.79</span><span class=\"rostrum-per-price\"><small>/mo</small></span></div><div class=\"imh-rostrum-starting-at-price-normal\" style=\"margin-top: 5px;\">Renews at <span class=\"rostrum-price\">$17.99</span><span class=\"rostrum-per-price\">/mo</span></div><button class=\"atc btn-primary\" data-action=\"entered-cart\" data-button='{\"campaignhandle\": \"standard_all_products\",\"productid\": \"11487\",\"packageid\": \"847\",\"irid\":\"\",\"affiliate\":\"\",\"sirid\": \"\", \"opc\": \"\"}' data-click=\"primary-cta\" data-location=\"/shared-hosting\" data-presentation-price=\"57.48\" data-product=\"seventh\" data-property=\"mktg\" data-standard-price=\"215.88\" data-term=\"12\" type=\"button\"> Select </button></div><div class=\"imh-switcher\"><div class=\"imh-rostrum-save-ribbon\">You Save <span class=\"dnt\">20%</span></div><span class=\"imh-starting-at-text\">Starting at</span><div class=\"imh-rostrum-starting-at-price-discounted\"><span class=\"rostrum-price\">$15.99</span><span class=\"rostrum-per-price\"><small>/mo</small></span></div><div class=\"imh-rostrum-starting-at-price-normal\" style=\"margin-top: 5px;\">Renews at <span class=\"rostrum-price\">$19.99</span><span class=\"rostrum-per-price\">/mo</span></div><button class=\"atc btn-primary\" data-action=\"entered-cart\" data-button='{\"campaignhandle\": \"standard_all_products\",\"productid\": \"11486\",\"packageid\": \"847\",\"irid\":\"\",\"affiliate\":\"\",\"sirid\": \"\", \"opc\": \"\"}' data-click=\"primary-cta\" data-location=\"/shared-hosting\" data-presentation-price=\"15.99\" data-product=\"eighth\" data-property=\"mktg\" data-standard-price=\"19.99\" data-term=\"1\" type=\"button\"> Select </button></div></div><ul class=\"imh-rostrum-details-list\"><li class=\"fa fa-imh-arrow-right tooltips-rostrum\"><div class=\"imh-rostrum-detail connected-switcher\"><div class=\"imh-switcher\"><strong>Free domain &amp; SSL</strong></div><div class=\"imh-switcher active\"><strong>Free domain &amp; SSL</strong></div><div class=\"imh-switcher\"><strong>Free domain &amp; SSL</strong></div><div class=\"imh-switcher\"><strong><span class=\"tooltip\" imh-tooltip-id=\"imh-tt-free-ssl\" imh-tooltip-text=\"Protect your website with our free 2048-bit encryption Secure Sockets Layer (SSL) certificates.\">Free SSL</span></strong></div></div></li><li class=\"fa fa-imh-arrow-right tooltips-rostrum\"><span class=\"imh-rostrum-detail\"><strong><span class=\"tooltip\" imh-tooltip-id=\"imh-tt-unlimited\" imh-tooltip-text=\"Unlimited means you are not charged based on how much you use the feature described. Read our &lt;a href='https://www.inmotionhosting.com/legal/'&gt;Terms of Service&lt;/a&gt;.\">Unlimited</span></strong> Websites</span></li><li class=\"fa fa-imh-arrow-right tooltips-rostrum\"><span class=\"imh-rostrum-detail\"><strong><span class=\"tooltip\" imh-tooltip-id=\"imh-tt-unlimited\" imh-tooltip-text=\"Unlimited means you are not charged based on how much you use the feature described. Read our &lt;a href='https://www.inmotionhosting.com/legal/'&gt;Terms of Service&lt;/a&gt;.\">Unlimited</span> </strong>NVMe SSD <img alt=\"Green Speed Icon\" class=\"green-icon\" decoding=\"async\" height=\"33\" loading=\"lazy\" src=\"https://design.inmotionhosting.com/assets/icons/custom/green-speed.svg\" width=\"33\"/></span></li><li class=\"fa fa-imh-arrow-right tooltips-rostrum\"><span class=\"imh-rostrum-detail\"><strong><span class=\"tooltip\" imh-tooltip-id=\"imh-tt-unlimited\" imh-tooltip-text=\"Unlimited means you are not charged based on how much you use the feature described. Read our &lt;a href='https://www.inmotionhosting.com/legal/'&gt;Terms of Service&lt;/a&gt;.\">Unlimited</span></strong> Bandwidth</span></li><li class=\"fa fa-imh-arrow-right tooltips-rostrum\"><span class=\"imh-rostrum-detail\"><strong>12x</strong> <span class=\"tooltip\" imh-tooltip-id=\"imh-tt-ultrastack\" imh-tooltip-text=\"UltraStack is a custom technology stack with advanced layered caching that is fine-tuned for speed.\">UltraStack</span> Speed &amp; Performance</span></li><li class=\"fa fa-imh-arrow-right tooltips-rostrum\"><span class=\"imh-rostrum-detail\"><strong><span class=\"tooltip\" imh-tooltip-id=\"imh-tt-unlimited\" imh-tooltip-text=\"Unlimited means you are not charged based on how much you use the feature described. Read our &lt;a href='https://www.inmotionhosting.com/legal/'&gt;Terms of Service&lt;/a&gt;.\">Unlimited</span></strong> Email Addresses</span></li><li class=\"fa fa-imh-arrow-right tooltips-rostrum\"><div class=\"imh-accordion-container imh-rostrum-detail\"><a class=\"imh-accordion\"><span class=\"imh-rostrum-detail\">Security Suite</span><span class=\"imh-ds-icon chevron down\"><i class=\"fa fa-imh-chevron-down toggle-chevron\"></i></span></a><div class=\"imh-accordion-content\"><ul><li class=\"fa fa-imh-arrow-right tooltips-rostrum\"><span class=\"imh-rostrum-detail\"><span class=\"tooltip\" imh-tooltip-id=\"imh-tt-free-ssl\" imh-tooltip-text=\"Protect your website with our free 2048-bit encryption Secure Sockets Layer (SSL) certificates.\">Free SSL</span></span></li><li class=\"fa fa-imh-arrow-right tooltips-rostrum\"><span class=\"imh-rostrum-detail\">Hack &amp;  <span class=\"tooltip\" imh-tooltip-id=\"imh-tt-malware-protection\" imh-tooltip-text=\"Malware protection software scans and patches your website files for any vulnerabilities.\">Malware Protection</span></span></li><li class=\"fa fa-imh-arrow-right tooltips-rostrum\"><span class=\"imh-rostrum-detail\">DDoS Protection</span></li><li class=\"fa fa-imh-arrow-right tooltips-rostrum\"><span class=\"imh-rostrum-detail\">Automatic Backups Available</span></li><li class=\"fa fa-imh-arrow-right tooltips-rostrum\"><span class=\"imh-rostrum-detail\"><strong>Monarx Security</strong><br/><span class=\"small-text\">($19.99 Value)</span></span></li></ul></div></div></li><li class=\"fa fa-imh-arrow-right tooltips-rostrum\"><div class=\"imh-accordion-container imh-rostrum-detail\"><a class=\"imh-accordion\"><span class=\"imh-rostrum-detail\"><span class=\"tooltip\" imh-tooltip-id=\"imh-tt-marketing-tools\" imh-tooltip-text=\"Free marketing tools to help you promote your business and services online.\">Marketing Tools</span></span><span class=\"imh-ds-icon chevron down\"><i class=\"fa fa-imh-chevron-down toggle-chevron\"></i></span></a><div class=\"imh-accordion-content\"><ul><li class=\"fa fa-imh-arrow-right tooltips-rostrum\"><span class=\"imh-rostrum-detail\">Website Builder</span></li><li class=\"fa fa-imh-arrow-right tooltips-rostrum\"><span class=\"imh-rostrum-detail\">Email on Any Device</span></li><li class=\"fa fa-imh-arrow-right tooltips-rostrum\"><span class=\"imh-rostrum-detail\">Free Advertising Credits</span></li><li class=\"fa fa-imh-arrow-right tooltips-rostrum\"><span class=\"imh-rostrum-detail\">Customer Management Tools</span></li></ul></div></div></li><li class=\"fa fa-imh-arrow-right tooltips-rostrum\"><span class=\"imh-rostrum-detail\"><strong>Advanced Caching</strong></span></li><li class=\"fa fa-imh-arrow-right tooltips-rostrum\"><span class=\"imh-rostrum-detail\"><strong>Hosting Plus</strong><br/><span class=\"small-text\">Python,   Node.JS,   Ruby and GIT version control.</span></span></li><li class=\"fa fa-imh-arrow-right tooltips-rostrum\"><span class=\"imh-rostrum-detail\"><strong>Choice of Data Center Location</strong><br/><span class=\"small-text\">Includes US and EU Locations</span></span></li><li class=\"fa fa-imh-arrow-right tooltips-rostrum\"><span class=\"imh-rostrum-detail\"><strong><span class=\"tooltip\" imh-tooltip-id=\"imh-tt-pro-support\" imh-tooltip-text=\"Pro Level Support gives you a service level agreement (SLA) that guarantees 99.99% uptime for your website.\">Pro Support</span> SLA</strong></span></li><li class=\"fa fa-imh-arrow-right tooltips-rostrum\"><span class=\"imh-rostrum-detail\">Live Phone and Chat Support from Helpful Humans</span></li></ul></div><div class=\"imh-rostrum-card\"><h3 class=\"h3 imh-rostrum-card-title\">Pro</h3><div class=\"imh-rostrum-sub-title\">Ideal for high-traffic or eCommerce sites with boosted power.</div><div class=\"imh-pricing-container connected-switcher\"><div class=\"imh-switcher\"><div class=\"imh-rostrum-save-ribbon\">You Save <span class=\"dnt\">54%</span></div><span class=\"imh-starting-at-text\">Starting at</span><div class=\"imh-rostrum-starting-at-price-discounted\"><span class=\"rostrum-price\">$10.99</span><span class=\"rostrum-per-price\"><small>/mo</small></span></div><div class=\"imh-rostrum-starting-at-price-normal\" style=\"margin-top: 5px;\">Renews at <span class=\"rostrum-price\">$23.99</span><span class=\"rostrum-per-price\">/mo</span></div><button class=\"atc btn-primary\" data-action=\"entered-cart\" data-button='{\"campaignhandle\": \"standard_all_products\",\"productid\": \"11491\",\"packageid\": \"847\",\"irid\":\"\",\"affiliate\":\"\",\"sirid\": \"\", \"opc\": \"\"}' data-click=\"primary-cta\" data-location=\"/shared-hosting\" data-presentation-price=\"395.64\" data-product=\"ninth\" data-property=\"mktg\" data-standard-price=\"863.64\" data-term=\"36\" type=\"button\"> Select </button></div><div class=\"imh-switcher active\"><div class=\"imh-rostrum-save-ribbon\">You Save <span class=\"dnt\">57%</span></div><span class=\"imh-starting-at-text\">Starting at</span><div class=\"imh-rostrum-starting-at-price-discounted\"><span class=\"rostrum-price\">$10.79</span><span class=\"rostrum-per-price\"><small>/mo</small></span></div><div class=\"imh-rostrum-starting-at-price-normal\" style=\"margin-top: 5px;\">Renews at <span class=\"rostrum-price\">$24.99</span><span class=\"rostrum-per-price\">/mo</span></div><button class=\"atc btn-primary\" data-action=\"entered-cart\" data-button='{\"campaignhandle\": \"standard_all_products\",\"productid\": \"11490\",\"packageid\": \"847\",\"irid\":\"\",\"affiliate\":\"\",\"sirid\": \"\", \"opc\": \"\"}' data-click=\"primary-cta\" data-location=\"/shared-hosting\" data-presentation-price=\"129.48\" data-product=\"tenth\" data-property=\"mktg\" data-standard-price=\"299.88\" data-term=\"12\" type=\"button\"> Select </button></div><div class=\"imh-switcher\"><div class=\"imh-rostrum-save-ribbon\">You Save <span class=\"dnt\">26%</span></div><span class=\"imh-starting-at-text\">Starting at</span><div class=\"imh-rostrum-starting-at-price-discounted\"><span class=\"rostrum-price\">$19.99</span><span class=\"rostrum-per-price\"><small>/mo</small></span></div><div class=\"imh-rostrum-starting-at-price-normal\" style=\"margin-top: 5px;\">Renews at <span class=\"rostrum-price\">$26.99</span><span class=\"rostrum-per-price\">/mo</span></div><button class=\"atc btn-primary\" data-action=\"entered-cart\" data-button='{\"campaignhandle\": \"standard_all_products\",\"productid\": \"11489\",\"packageid\": \"847\",\"irid\":\"\",\"affiliate\":\"\",\"sirid\": \"\", \"opc\": \"\"}' data-click=\"primary-cta\" data-location=\"/shared-hosting\" data-presentation-price=\"19.99\" data-product=\"eleventh\" data-property=\"mktg\" data-standard-price=\"26.99\" data-term=\"1\" type=\"button\"> Select </button></div></div><ul class=\"imh-rostrum-details-list\"><li class=\"fa fa-imh-arrow-right tooltips-rostrum\"><div class=\"imh-rostrum-detail connected-switcher\"><div class=\"imh-switcher\"><strong>Free domain &amp; SSL</strong></div><div class=\"imh-switcher active\"><strong>Free domain &amp; SSL</strong></div><div class=\"imh-switcher\"><strong>Free domain &amp; SSL</strong></div><div class=\"imh-switcher\"><strong><span class=\"tooltip\" imh-tooltip-id=\"imh-tt-free-ssl\" imh-tooltip-text=\"Protect your website with our free 2048-bit encryption Secure Sockets Layer (SSL) certificates.\">Free SSL</span></strong></div></div></li><li class=\"fa fa-imh-arrow-right tooltips-rostrum\"><span class=\"imh-rostrum-detail\"><strong><span class=\"tooltip\" imh-tooltip-id=\"imh-tt-unlimited\" imh-tooltip-text=\"Unlimited means you are not charged based on how much you use the feature described. Read our &lt;a href='https://www.inmotionhosting.com/legal/'&gt;Terms of Service&lt;/a&gt;.\">Unlimited</span></strong> Websites</span></li><li class=\"fa fa-imh-arrow-right tooltips-rostrum\"><span class=\"imh-rostrum-detail\"><strong><span class=\"tooltip\" imh-tooltip-id=\"imh-tt-unlimited\" imh-tooltip-text=\"Unlimited means you are not charged based on how much you use the feature described. Read our &lt;a href='https://www.inmotionhosting.com/legal/'&gt;Terms of Service&lt;/a&gt;.\">Unlimited</span> </strong>NVMe SSD <img alt=\"Green Speed Icon\" class=\"green-icon\" decoding=\"async\" height=\"33\" loading=\"lazy\" src=\"https://design.inmotionhosting.com/assets/icons/custom/green-speed.svg\" width=\"33\"/></span></li><li class=\"fa fa-imh-arrow-right tooltips-rostrum\"><span class=\"imh-rostrum-detail\"><strong><span class=\"tooltip\" imh-tooltip-id=\"imh-tt-unlimited\" imh-tooltip-text=\"Unlimited means you are not charged based on how much you use the feature described. Read our &lt;a href='https://www.inmotionhosting.com/legal/'&gt;Terms of Service&lt;/a&gt;.\">Unlimited</span></strong> Bandwidth</span></li><li class=\"fa fa-imh-arrow-right tooltips-rostrum\"><span class=\"imh-rostrum-detail\"><strong>20x</strong> <span class=\"tooltip\" imh-tooltip-id=\"imh-tt-ultrastack\" imh-tooltip-text=\"UltraStack is a custom technology stack with advanced layered caching that is fine-tuned for speed.\">UltraStack</span> Speed &amp; Performance</span></li><li class=\"fa fa-imh-arrow-right tooltips-rostrum\"><span class=\"imh-rostrum-detail\"><strong><span class=\"tooltip\" imh-tooltip-id=\"imh-tt-unlimited\" imh-tooltip-text=\"Unlimited means you are not charged based on how much you use the feature described. Read our &lt;a href='https://www.inmotionhosting.com/legal/'&gt;Terms of Service&lt;/a&gt;.\">Unlimited</span></strong> Email Addresses</span></li><li class=\"fa fa-imh-arrow-right tooltips-rostrum\"><div class=\"imh-accordion-container imh-rostrum-detail\"><a class=\"imh-accordion\"><span class=\"imh-rostrum-detail\">Security Suite</span><span class=\"imh-ds-icon chevron down\"><i class=\"fa fa-imh-chevron-down toggle-chevron\"></i></span></a><div class=\"imh-accordion-content\"><ul><li class=\"fa fa-imh-arrow-right tooltips-rostrum\"><span class=\"imh-rostrum-detail\"><span class=\"tooltip\" imh-tooltip-id=\"imh-tt-free-ssl\" imh-tooltip-text=\"Protect your website with our free 2048-bit encryption Secure Sockets Layer (SSL) certificates.\">Free SSL</span></span></li><li class=\"fa fa-imh-arrow-right tooltips-rostrum\"><span class=\"imh-rostrum-detail\">Hack &amp;  <span class=\"tooltip\" imh-tooltip-id=\"imh-tt-malware-protection\" imh-tooltip-text=\"Malware protection software scans and patches your website files for any vulnerabilities.\">Malware Protection</span></span></li><li class=\"fa fa-imh-arrow-right tooltips-rostrum\"><span class=\"imh-rostrum-detail\">DDoS Protection</span></li><li class=\"fa fa-imh-arrow-right tooltips-rostrum\"><span class=\"imh-rostrum-detail\">Automatic Backups Available</span></li><li class=\"fa fa-imh-arrow-right tooltips-rostrum\"><span class=\"imh-rostrum-detail\"><strong>Monarx Security</strong><br/><span class=\"small-text\">($19.99 Value)</span></span></li></ul></div></div></li><li class=\"fa fa-imh-arrow-right tooltips-rostrum\"><div class=\"imh-accordion-container imh-rostrum-detail\"><a class=\"imh-accordion\"><span class=\"imh-rostrum-detail\"><span class=\"tooltip\" imh-tooltip-id=\"imh-tt-marketing-tools\" imh-tooltip-text=\"Free marketing tools to help you promote your business and services online.\">Marketing Tools</span></span><span class=\"imh-ds-icon chevron down\"><i class=\"fa fa-imh-chevron-down toggle-chevron\"></i></span></a><div class=\"imh-accordion-content\"><ul><li class=\"fa fa-imh-arrow-right tooltips-rostrum\"><span class=\"imh-rostrum-detail\">Website Builder</span></li><li class=\"fa fa-imh-arrow-right tooltips-rostrum\"><span class=\"imh-rostrum-detail\">Email on Any Device</span></li><li class=\"fa fa-imh-arrow-right tooltips-rostrum\"><span class=\"imh-rostrum-detail\">Free Advertising Credits</span></li><li class=\"fa fa-imh-arrow-right tooltips-rostrum\"><span class=\"imh-rostrum-detail\">Customer Management Tools</span></li></ul></div></div></li><li class=\"fa fa-imh-arrow-right tooltips-rostrum\"><span class=\"imh-rostrum-detail\"><strong>Advanced Caching</strong></span></li><li class=\"fa fa-imh-arrow-right tooltips-rostrum\"><span class=\"imh-rostrum-detail\"><strong>Hosting Plus</strong><br/><span class=\"small-text\">Python,   Node.JS,   Ruby and GIT version control.</span></span></li><li class=\"fa fa-imh-arrow-right tooltips-rostrum\"><span class=\"imh-rostrum-detail\"><strong>Choice of Data Center Location</strong><br/><span class=\"small-text\">Includes US and EU Locations</span></span></li><li class=\"fa fa-imh-arrow-right tooltips-rostrum\"><span class=\"imh-rostrum-detail\"><strong><span class=\"tooltip\" imh-tooltip-id=\"imh-tt-pro-support\" imh-tooltip-text=\"Pro Level Support gives you a service level agreement (SLA) that guarantees 99.99% uptime for your website.\">Pro Support</span> SLA</strong></span></li><li class=\"fa fa-imh-arrow-right tooltips-rostrum\"><span class=\"imh-rostrum-detail\"><strong>Dedicated IP</strong></span></li><li class=\"fa fa-imh-arrow-right tooltips-rostrum\"><span class=\"imh-rostrum-detail\">Live Phone and Chat Support from Helpful Humans</span></li></ul></div></div>"
      ]
     },
     "execution_count": 290,
     "metadata": {},
     "output_type": "execute_result"
    }
   ],
   "source": [
    "plans_container_all = BeautifulSoup(driver.page_source, 'html.parser')\n",
    "plans_container_all.find('div', class_='imh-rostrum-container')"
   ]
  },
  {
   "cell_type": "code",
   "execution_count": 291,
   "metadata": {},
   "outputs": [
    {
     "data": {
      "text/plain": [
       "<div class=\"imh-rostrum-card\"><h3 class=\"h3 imh-rostrum-card-title\">Core</h3><div class=\"imh-rostrum-sub-title\">Suitable for simple sites, with everything you need included.</div><div class=\"imh-pricing-container connected-switcher\"><div class=\"imh-switcher\"><div class=\"imh-rostrum-save-ribbon\">You Save <span class=\"dnt\">68%</span></div><span class=\"imh-starting-at-text\">Starting at</span><div class=\"imh-rostrum-starting-at-price-discounted\"><span class=\"rostrum-price\">$3.19</span><span class=\"rostrum-per-price\"><small>/mo</small></span></div><div class=\"imh-rostrum-starting-at-price-normal\" style=\"margin-top: 5px;\">Renews at <span class=\"rostrum-price\">$9.99</span><span class=\"rostrum-per-price\">/mo</span></div><button class=\"atc btn-primary\" data-action=\"entered-cart\" data-button='{\"campaignhandle\": \"standard_all_products\",\"productid\": \"11494\",\"packageid\": \"847\",\"irid\":\"\",\"affiliate\":\"\",\"sirid\": \"\", \"opc\": \"\"}' data-click=\"primary-cta\" data-location=\"/shared-hosting\" data-presentation-price=\"114.84\" data-product=\"first\" data-property=\"mktg\" data-standard-price=\"359.64\" data-term=\"36\" type=\"button\"> Select </button></div><div class=\"imh-switcher active\"><div class=\"imh-rostrum-save-ribbon\">You Save <span class=\"dnt\">73%</span></div><span class=\"imh-starting-at-text\">Starting at</span><div class=\"imh-rostrum-starting-at-price-discounted\"><span class=\"rostrum-price\">$2.99</span><span class=\"rostrum-per-price\"><small>/mo</small></span></div><div class=\"imh-rostrum-starting-at-price-normal\" style=\"margin-top: 5px;\">Renews at <span class=\"rostrum-price\">$10.99</span><span class=\"rostrum-per-price\">/mo</span></div><button class=\"atc btn-primary\" data-action=\"entered-cart\" data-button='{\"campaignhandle\": \"standard_all_products\",\"productid\": \"11493\",\"packageid\": \"847\",\"irid\":\"\",\"affiliate\":\"\",\"sirid\": \"\", \"opc\": \"\"}' data-click=\"primary-cta\" data-location=\"/shared-hosting\" data-presentation-price=\"35.88\" data-product=\"second\" data-property=\"mktg\" data-standard-price=\"131.88\" data-term=\"12\" type=\"button\"> Select </button></div><div class=\"imh-switcher imh-not-available\"><div><small>Only available for</small></div>3 year, and 1 year terms</div></div><ul class=\"imh-rostrum-details-list\"><li class=\"fa fa-imh-arrow-right tooltips-rostrum\"><div class=\"imh-rostrum-detail connected-switcher\"><div class=\"imh-switcher\"><strong>Free domain &amp; SSL</strong></div><div class=\"imh-switcher active\"><strong>Free domain &amp; SSL</strong></div><div class=\"imh-switcher\"><strong>Free domain &amp; SSL</strong></div><div class=\"imh-switcher\"><strong><span class=\"tooltip\" imh-tooltip-id=\"imh-tt-free-ssl\" imh-tooltip-text=\"Protect your website with our free 2048-bit encryption Secure Sockets Layer (SSL) certificates.\">Free SSL</span></strong></div></div></li><li class=\"fa fa-imh-arrow-right tooltips-rostrum\"><span class=\"imh-rostrum-detail\"><strong>2</strong> Websites</span></li><li class=\"fa fa-imh-arrow-right tooltips-rostrum\"><span class=\"imh-rostrum-detail\"><strong>100GB </strong>SSD</span></li><li class=\"fa fa-imh-arrow-right tooltips-rostrum\"><span class=\"imh-rostrum-detail\"><strong><span class=\"tooltip\" imh-tooltip-id=\"imh-tt-unlimited\" imh-tooltip-text=\"Unlimited means you are not charged based on how much you use the feature described. Read our &lt;a href='https://www.inmotionhosting.com/legal/'&gt;Terms of Service&lt;/a&gt;.\">Unlimited</span></strong> Bandwidth</span></li><li class=\"fa fa-imh-arrow-right tooltips-rostrum\"><span class=\"imh-rostrum-detail\"><strong>2x</strong> Speed &amp; Performance</span></li><li class=\"fa fa-imh-arrow-right tooltips-rostrum\"><span class=\"imh-rostrum-detail\"><strong>10</strong> Email Addresses</span></li><li class=\"fa fa-imh-arrow-right tooltips-rostrum\"><div class=\"imh-accordion-container imh-rostrum-detail\"><a class=\"imh-accordion\"><span class=\"imh-rostrum-detail\">Security Suite</span><span class=\"imh-ds-icon chevron down\"><i class=\"fa fa-imh-chevron-down toggle-chevron\"></i></span></a><div class=\"imh-accordion-content\"><ul><li class=\"fa fa-imh-arrow-right tooltips-rostrum\"><span class=\"imh-rostrum-detail\"><span class=\"tooltip\" imh-tooltip-id=\"imh-tt-free-ssl\" imh-tooltip-text=\"Protect your website with our free 2048-bit encryption Secure Sockets Layer (SSL) certificates.\">Free SSL</span></span></li><li class=\"fa fa-imh-arrow-right tooltips-rostrum\"><span class=\"imh-rostrum-detail\">Hack &amp;  <span class=\"tooltip\" imh-tooltip-id=\"imh-tt-malware-protection\" imh-tooltip-text=\"Malware protection software scans and patches your website files for any vulnerabilities.\">Malware Protection</span></span></li><li class=\"fa fa-imh-arrow-right tooltips-rostrum\"><span class=\"imh-rostrum-detail\">DDoS Protection</span></li><li class=\"fa fa-imh-arrow-right tooltips-rostrum\"><span class=\"imh-rostrum-detail\">Automatic Backups Available</span></li><li class=\"fa fa-imh-arrow-right tooltips-rostrum\"><span class=\"imh-rostrum-detail\"><strong>Monarx Security</strong><br/><span class=\"small-text\">($19.99 Value)</span></span></li></ul></div></div></li><li class=\"fa fa-imh-arrow-right tooltips-rostrum\"><div class=\"imh-accordion-container imh-rostrum-detail\"><a class=\"imh-accordion\"><span class=\"imh-rostrum-detail\"><span class=\"tooltip\" imh-tooltip-id=\"imh-tt-marketing-tools\" imh-tooltip-text=\"Free marketing tools to help you promote your business and services online.\">Marketing Tools</span></span><span class=\"imh-ds-icon chevron down\"><i class=\"fa fa-imh-chevron-down toggle-chevron\"></i></span></a><div class=\"imh-accordion-content\"><ul><li class=\"fa fa-imh-arrow-right tooltips-rostrum\"><span class=\"imh-rostrum-detail\">Website Builder</span></li><li class=\"fa fa-imh-arrow-right tooltips-rostrum\"><span class=\"imh-rostrum-detail\">Email on Any Device</span></li><li class=\"fa fa-imh-arrow-right tooltips-rostrum\"><span class=\"imh-rostrum-detail\">Free Advertising Credits</span></li><li class=\"fa fa-imh-arrow-right tooltips-rostrum\"><span class=\"imh-rostrum-detail\">Customer Management Tools</span></li></ul></div></div></li><li class=\"fa fa-imh-arrow-right tooltips-rostrum\"><span class=\"imh-rostrum-detail\"><strong>Hosting Plus</strong><br/><span class=\"small-text\">Python,  Node.JS,   Ruby and GIT version control.</span></span></li><li class=\"fa fa-imh-arrow-right tooltips-rostrum\"><span class=\"imh-rostrum-detail\"><strong>Choice of Data Center Location</strong><br/><span class=\"small-text\">Includes US and EU Locations</span></span></li><li class=\"fa fa-imh-arrow-right tooltips-rostrum\"><span class=\"imh-rostrum-detail\">Live Chat Support from Helpful Humans</span></li></ul></div>"
      ]
     },
     "execution_count": 291,
     "metadata": {},
     "output_type": "execute_result"
    }
   ],
   "source": [
    "plans = plans_container_all.find_all('div', class_='imh-rostrum-card')\n",
    "plan = plans[0]\n",
    "plan\n"
   ]
  },
  {
   "cell_type": "code",
   "execution_count": 292,
   "metadata": {},
   "outputs": [
    {
     "data": {
      "text/plain": [
       "[<div class=\"imh-rostrum-card\"><h3 class=\"h3 imh-rostrum-card-title\">Core</h3><div class=\"imh-rostrum-sub-title\">Suitable for simple sites, with everything you need included.</div><div class=\"imh-pricing-container connected-switcher\"><div class=\"imh-switcher\"><div class=\"imh-rostrum-save-ribbon\">You Save <span class=\"dnt\">68%</span></div><span class=\"imh-starting-at-text\">Starting at</span><div class=\"imh-rostrum-starting-at-price-discounted\"><span class=\"rostrum-price\">$3.19</span><span class=\"rostrum-per-price\"><small>/mo</small></span></div><div class=\"imh-rostrum-starting-at-price-normal\" style=\"margin-top: 5px;\">Renews at <span class=\"rostrum-price\">$9.99</span><span class=\"rostrum-per-price\">/mo</span></div><button class=\"atc btn-primary\" data-action=\"entered-cart\" data-button='{\"campaignhandle\": \"standard_all_products\",\"productid\": \"11494\",\"packageid\": \"847\",\"irid\":\"\",\"affiliate\":\"\",\"sirid\": \"\", \"opc\": \"\"}' data-click=\"primary-cta\" data-location=\"/shared-hosting\" data-presentation-price=\"114.84\" data-product=\"first\" data-property=\"mktg\" data-standard-price=\"359.64\" data-term=\"36\" type=\"button\"> Select </button></div><div class=\"imh-switcher active\"><div class=\"imh-rostrum-save-ribbon\">You Save <span class=\"dnt\">73%</span></div><span class=\"imh-starting-at-text\">Starting at</span><div class=\"imh-rostrum-starting-at-price-discounted\"><span class=\"rostrum-price\">$2.99</span><span class=\"rostrum-per-price\"><small>/mo</small></span></div><div class=\"imh-rostrum-starting-at-price-normal\" style=\"margin-top: 5px;\">Renews at <span class=\"rostrum-price\">$10.99</span><span class=\"rostrum-per-price\">/mo</span></div><button class=\"atc btn-primary\" data-action=\"entered-cart\" data-button='{\"campaignhandle\": \"standard_all_products\",\"productid\": \"11493\",\"packageid\": \"847\",\"irid\":\"\",\"affiliate\":\"\",\"sirid\": \"\", \"opc\": \"\"}' data-click=\"primary-cta\" data-location=\"/shared-hosting\" data-presentation-price=\"35.88\" data-product=\"second\" data-property=\"mktg\" data-standard-price=\"131.88\" data-term=\"12\" type=\"button\"> Select </button></div><div class=\"imh-switcher imh-not-available\"><div><small>Only available for</small></div>3 year, and 1 year terms</div></div><ul class=\"imh-rostrum-details-list\"><li class=\"fa fa-imh-arrow-right tooltips-rostrum\"><div class=\"imh-rostrum-detail connected-switcher\"><div class=\"imh-switcher\"><strong>Free domain &amp; SSL</strong></div><div class=\"imh-switcher active\"><strong>Free domain &amp; SSL</strong></div><div class=\"imh-switcher\"><strong>Free domain &amp; SSL</strong></div><div class=\"imh-switcher\"><strong><span class=\"tooltip\" imh-tooltip-id=\"imh-tt-free-ssl\" imh-tooltip-text=\"Protect your website with our free 2048-bit encryption Secure Sockets Layer (SSL) certificates.\">Free SSL</span></strong></div></div></li><li class=\"fa fa-imh-arrow-right tooltips-rostrum\"><span class=\"imh-rostrum-detail\"><strong>2</strong> Websites</span></li><li class=\"fa fa-imh-arrow-right tooltips-rostrum\"><span class=\"imh-rostrum-detail\"><strong>100GB </strong>SSD</span></li><li class=\"fa fa-imh-arrow-right tooltips-rostrum\"><span class=\"imh-rostrum-detail\"><strong><span class=\"tooltip\" imh-tooltip-id=\"imh-tt-unlimited\" imh-tooltip-text=\"Unlimited means you are not charged based on how much you use the feature described. Read our &lt;a href='https://www.inmotionhosting.com/legal/'&gt;Terms of Service&lt;/a&gt;.\">Unlimited</span></strong> Bandwidth</span></li><li class=\"fa fa-imh-arrow-right tooltips-rostrum\"><span class=\"imh-rostrum-detail\"><strong>2x</strong> Speed &amp; Performance</span></li><li class=\"fa fa-imh-arrow-right tooltips-rostrum\"><span class=\"imh-rostrum-detail\"><strong>10</strong> Email Addresses</span></li><li class=\"fa fa-imh-arrow-right tooltips-rostrum\"><div class=\"imh-accordion-container imh-rostrum-detail\"><a class=\"imh-accordion\"><span class=\"imh-rostrum-detail\">Security Suite</span><span class=\"imh-ds-icon chevron down\"><i class=\"fa fa-imh-chevron-down toggle-chevron\"></i></span></a><div class=\"imh-accordion-content\"><ul><li class=\"fa fa-imh-arrow-right tooltips-rostrum\"><span class=\"imh-rostrum-detail\"><span class=\"tooltip\" imh-tooltip-id=\"imh-tt-free-ssl\" imh-tooltip-text=\"Protect your website with our free 2048-bit encryption Secure Sockets Layer (SSL) certificates.\">Free SSL</span></span></li><li class=\"fa fa-imh-arrow-right tooltips-rostrum\"><span class=\"imh-rostrum-detail\">Hack &amp;  <span class=\"tooltip\" imh-tooltip-id=\"imh-tt-malware-protection\" imh-tooltip-text=\"Malware protection software scans and patches your website files for any vulnerabilities.\">Malware Protection</span></span></li><li class=\"fa fa-imh-arrow-right tooltips-rostrum\"><span class=\"imh-rostrum-detail\">DDoS Protection</span></li><li class=\"fa fa-imh-arrow-right tooltips-rostrum\"><span class=\"imh-rostrum-detail\">Automatic Backups Available</span></li><li class=\"fa fa-imh-arrow-right tooltips-rostrum\"><span class=\"imh-rostrum-detail\"><strong>Monarx Security</strong><br/><span class=\"small-text\">($19.99 Value)</span></span></li></ul></div></div></li><li class=\"fa fa-imh-arrow-right tooltips-rostrum\"><div class=\"imh-accordion-container imh-rostrum-detail\"><a class=\"imh-accordion\"><span class=\"imh-rostrum-detail\"><span class=\"tooltip\" imh-tooltip-id=\"imh-tt-marketing-tools\" imh-tooltip-text=\"Free marketing tools to help you promote your business and services online.\">Marketing Tools</span></span><span class=\"imh-ds-icon chevron down\"><i class=\"fa fa-imh-chevron-down toggle-chevron\"></i></span></a><div class=\"imh-accordion-content\"><ul><li class=\"fa fa-imh-arrow-right tooltips-rostrum\"><span class=\"imh-rostrum-detail\">Website Builder</span></li><li class=\"fa fa-imh-arrow-right tooltips-rostrum\"><span class=\"imh-rostrum-detail\">Email on Any Device</span></li><li class=\"fa fa-imh-arrow-right tooltips-rostrum\"><span class=\"imh-rostrum-detail\">Free Advertising Credits</span></li><li class=\"fa fa-imh-arrow-right tooltips-rostrum\"><span class=\"imh-rostrum-detail\">Customer Management Tools</span></li></ul></div></div></li><li class=\"fa fa-imh-arrow-right tooltips-rostrum\"><span class=\"imh-rostrum-detail\"><strong>Hosting Plus</strong><br/><span class=\"small-text\">Python,  Node.JS,   Ruby and GIT version control.</span></span></li><li class=\"fa fa-imh-arrow-right tooltips-rostrum\"><span class=\"imh-rostrum-detail\"><strong>Choice of Data Center Location</strong><br/><span class=\"small-text\">Includes US and EU Locations</span></span></li><li class=\"fa fa-imh-arrow-right tooltips-rostrum\"><span class=\"imh-rostrum-detail\">Live Chat Support from Helpful Humans</span></li></ul></div>,\n",
       " <div class=\"imh-rostrum-card\"><h3 class=\"h3 imh-rostrum-card-title\">Launch</h3><div class=\"imh-rostrum-sub-title\">Designed for seamless multi-site management &amp; enhanced performance.</div><div class=\"imh-pricing-container connected-switcher\"><div class=\"imh-switcher\"><div class=\"imh-rostrum-save-ribbon\">You Save <span class=\"dnt\">62%</span></div><span class=\"imh-starting-at-text\">Starting at</span><div class=\"imh-rostrum-starting-at-price-discounted\"><span class=\"rostrum-price\">$4.99</span><span class=\"rostrum-per-price\"><small>/mo</small></span></div><div class=\"imh-rostrum-starting-at-price-normal\" style=\"margin-top: 5px;\">Renews at <span class=\"rostrum-price\">$12.99</span><span class=\"rostrum-per-price\">/mo</span></div><button class=\"atc btn-primary\" data-action=\"entered-cart\" data-button='{\"campaignhandle\": \"standard_all_products\",\"productid\": \"11485\",\"packageid\": \"847\",\"irid\":\"\",\"affiliate\":\"\",\"sirid\": \"\", \"opc\": \"\"}' data-click=\"primary-cta\" data-location=\"/shared-hosting\" data-presentation-price=\"179.64\" data-product=\"third\" data-property=\"mktg\" data-standard-price=\"467.64\" data-term=\"36\" type=\"button\"> Select </button></div><div class=\"imh-switcher active\"><div class=\"imh-rostrum-save-ribbon\">You Save <span class=\"dnt\">66%</span></div><span class=\"imh-starting-at-text\">Starting at</span><div class=\"imh-rostrum-starting-at-price-discounted\"><span class=\"rostrum-price\">$4.79</span><span class=\"rostrum-per-price\"><small>/mo</small></span></div><div class=\"imh-rostrum-starting-at-price-normal\" style=\"margin-top: 5px;\">Renews at <span class=\"rostrum-price\">$13.99</span><span class=\"rostrum-per-price\">/mo</span></div><button class=\"atc btn-primary\" data-action=\"entered-cart\" data-button='{\"campaignhandle\": \"standard_all_products\",\"productid\": \"11484\",\"packageid\": \"847\",\"irid\":\"\",\"affiliate\":\"\",\"sirid\": \"\", \"opc\": \"\"}' data-click=\"primary-cta\" data-location=\"/shared-hosting\" data-presentation-price=\"57.48\" data-product=\"fourth\" data-property=\"mktg\" data-standard-price=\"167.88\" data-term=\"12\" type=\"button\"> Select </button></div><div class=\"imh-switcher\"><div class=\"imh-rostrum-save-ribbon\">You Save <span class=\"dnt\">0%</span></div><span class=\"imh-starting-at-text\">Starting at</span><div class=\"imh-rostrum-starting-at-price-discounted\"><span class=\"rostrum-price\">$15.99</span><span class=\"rostrum-per-price\"><small>/mo</small></span></div><div class=\"imh-rostrum-starting-at-price-normal\" style=\"margin-top: 5px;\">Renews at <span class=\"rostrum-price\">$15.99</span><span class=\"rostrum-per-price\">/mo</span></div><button class=\"atc btn-primary\" data-action=\"entered-cart\" data-button='{\"campaignhandle\": \"standard_all_products\",\"productid\": \"11483\",\"packageid\": \"847\",\"irid\":\"\",\"affiliate\":\"\",\"sirid\": \"\", \"opc\": \"\"}' data-click=\"primary-cta\" data-location=\"/shared-hosting\" data-presentation-price=\"15.99\" data-product=\"fifth\" data-property=\"mktg\" data-standard-price=\"15.99\" data-term=\"1\" type=\"button\"> Select </button></div></div><ul class=\"imh-rostrum-details-list\"><li class=\"fa fa-imh-arrow-right tooltips-rostrum\"><div class=\"imh-rostrum-detail connected-switcher\"><div class=\"imh-switcher\"><strong>Free domain &amp; SSL</strong></div><div class=\"imh-switcher active\"><strong>Free domain &amp; SSL</strong></div><div class=\"imh-switcher\"><strong>Free domain &amp; SSL</strong></div><div class=\"imh-switcher\"><strong><span class=\"tooltip\" imh-tooltip-id=\"imh-tt-free-ssl\" imh-tooltip-text=\"Protect your website with our free 2048-bit encryption Secure Sockets Layer (SSL) certificates.\">Free SSL</span></strong></div></div></li><li class=\"fa fa-imh-arrow-right tooltips-rostrum\"><span class=\"imh-rostrum-detail\"><strong>25</strong> Websites</span></li><li class=\"fa fa-imh-arrow-right tooltips-rostrum\"><span class=\"imh-rostrum-detail\"><strong><span class=\"tooltip\" imh-tooltip-id=\"imh-tt-unlimited\" imh-tooltip-text=\"Unlimited means you are not charged based on how much you use the feature described. Read our &lt;a href='https://www.inmotionhosting.com/legal/'&gt;Terms of Service&lt;/a&gt;.\">Unlimited</span> </strong>NVMe SSD <img alt=\"Green Speed Icon\" class=\"green-icon\" decoding=\"async\" height=\"33\" loading=\"lazy\" src=\"https://design.inmotionhosting.com/assets/icons/custom/green-speed.svg\" width=\"33\"/></span></li><li class=\"fa fa-imh-arrow-right tooltips-rostrum\"><span class=\"imh-rostrum-detail\"><strong><span class=\"tooltip\" imh-tooltip-id=\"imh-tt-unlimited\" imh-tooltip-text=\"Unlimited means you are not charged based on how much you use the feature described. Read our &lt;a href='https://www.inmotionhosting.com/legal/'&gt;Terms of Service&lt;/a&gt;.\">Unlimited</span></strong> Bandwidth</span></li><li class=\"fa fa-imh-arrow-right tooltips-rostrum\"><span class=\"imh-rostrum-detail\"><strong>6x</strong> <span class=\"tooltip\" imh-tooltip-id=\"imh-tt-ultrastack\" imh-tooltip-text=\"UltraStack is a custom technology stack with advanced layered caching that is fine-tuned for speed.\">UltraStack</span> Speed &amp; Performance</span></li><li class=\"fa fa-imh-arrow-right tooltips-rostrum\"><span class=\"imh-rostrum-detail\"><strong><span class=\"tooltip\" imh-tooltip-id=\"imh-tt-unlimited\" imh-tooltip-text=\"Unlimited means you are not charged based on how much you use the feature described. Read our &lt;a href='https://www.inmotionhosting.com/legal/'&gt;Terms of Service&lt;/a&gt;.\">Unlimited</span></strong> Email Addresses</span></li><li class=\"fa fa-imh-arrow-right tooltips-rostrum\"><div class=\"imh-accordion-container imh-rostrum-detail\"><a class=\"imh-accordion\"><span class=\"imh-rostrum-detail\">Security Suite</span><span class=\"imh-ds-icon chevron down\"><i class=\"fa fa-imh-chevron-down toggle-chevron\"></i></span></a><div class=\"imh-accordion-content\"><ul><li class=\"fa fa-imh-arrow-right tooltips-rostrum\"><span class=\"imh-rostrum-detail\"><span class=\"tooltip\" imh-tooltip-id=\"imh-tt-free-ssl\" imh-tooltip-text=\"Protect your website with our free 2048-bit encryption Secure Sockets Layer (SSL) certificates.\">Free SSL</span></span></li><li class=\"fa fa-imh-arrow-right tooltips-rostrum\"><span class=\"imh-rostrum-detail\">Hack &amp;  <span class=\"tooltip\" imh-tooltip-id=\"imh-tt-malware-protection\" imh-tooltip-text=\"Malware protection software scans and patches your website files for any vulnerabilities.\">Malware Protection</span></span></li><li class=\"fa fa-imh-arrow-right tooltips-rostrum\"><span class=\"imh-rostrum-detail\">DDoS Protection</span></li><li class=\"fa fa-imh-arrow-right tooltips-rostrum\"><span class=\"imh-rostrum-detail\">Automatic Backups Available</span></li><li class=\"fa fa-imh-arrow-right tooltips-rostrum\"><span class=\"imh-rostrum-detail\"><strong>Monarx Security</strong><br/><span class=\"small-text\">($19.99 Value)</span></span></li></ul></div></div></li><li class=\"fa fa-imh-arrow-right tooltips-rostrum\"><div class=\"imh-accordion-container imh-rostrum-detail\"><a class=\"imh-accordion\"><span class=\"imh-rostrum-detail\"><span class=\"tooltip\" imh-tooltip-id=\"imh-tt-marketing-tools\" imh-tooltip-text=\"Free marketing tools to help you promote your business and services online.\">Marketing Tools</span></span><span class=\"imh-ds-icon chevron down\"><i class=\"fa fa-imh-chevron-down toggle-chevron\"></i></span></a><div class=\"imh-accordion-content\"><ul><li class=\"fa fa-imh-arrow-right tooltips-rostrum\"><span class=\"imh-rostrum-detail\">Website Builder</span></li><li class=\"fa fa-imh-arrow-right tooltips-rostrum\"><span class=\"imh-rostrum-detail\">Email on Any Device</span></li><li class=\"fa fa-imh-arrow-right tooltips-rostrum\"><span class=\"imh-rostrum-detail\">Free Advertising Credits</span></li><li class=\"fa fa-imh-arrow-right tooltips-rostrum\"><span class=\"imh-rostrum-detail\">Customer Management Tools</span></li></ul></div></div></li><li class=\"fa fa-imh-arrow-right tooltips-rostrum\"><span class=\"imh-rostrum-detail\"><strong>Hosting Plus</strong><br/><span class=\"small-text\">Python,   Node.JS,   Ruby and GIT version control.</span></span></li><li class=\"fa fa-imh-arrow-right tooltips-rostrum\"><span class=\"imh-rostrum-detail\"><strong>Choice of Data Center Location</strong><br/><span class=\"small-text\">Includes US and EU Locations</span></span></li><li class=\"fa fa-imh-arrow-right tooltips-rostrum\"><span class=\"imh-rostrum-detail\"><strong><span class=\"tooltip\" imh-tooltip-id=\"imh-tt-pro-support\" imh-tooltip-text=\"Pro Level Support gives you a service level agreement (SLA) that guarantees 99.99% uptime for your website.\">Pro Support</span> SLA</strong></span></li><li class=\"fa fa-imh-arrow-right tooltips-rostrum\"><span class=\"imh-rostrum-detail\">Live Chat Support from Helpful Humans</span></li></ul></div>,\n",
       " <div class=\"imh-rostrum-card rostrum-badge\"><span class=\"rostrum-product-badge\">Best Value</span><h3 class=\"h3 imh-rostrum-card-title\">Power</h3><div class=\"imh-rostrum-sub-title\">Powerful resources perfect for larger sites &amp; managing clients.</div><div class=\"imh-pricing-container connected-switcher\"><div class=\"imh-switcher\"><div class=\"imh-rostrum-save-ribbon\">You Save <span class=\"dnt\">71%</span></div><span class=\"imh-starting-at-text\">Starting at</span><div class=\"imh-rostrum-starting-at-price-discounted\"><span class=\"rostrum-price\">$4.99</span><span class=\"rostrum-per-price\"><small>/mo</small></span></div><div class=\"imh-rostrum-starting-at-price-normal\" style=\"margin-top: 5px;\">Renews at <span class=\"rostrum-price\">$16.99</span><span class=\"rostrum-per-price\">/mo</span></div><button class=\"atc btn-primary\" data-action=\"entered-cart\" data-button='{\"campaignhandle\": \"standard_all_products\",\"productid\": \"11488\",\"packageid\": \"847\",\"irid\":\"\",\"affiliate\":\"\",\"sirid\": \"\", \"opc\": \"\"}' data-click=\"primary-cta\" data-location=\"/shared-hosting\" data-presentation-price=\"179.64\" data-product=\"sixth\" data-property=\"mktg\" data-standard-price=\"611.64\" data-term=\"36\" type=\"button\"> Select </button></div><div class=\"imh-switcher active\"><div class=\"imh-rostrum-save-ribbon\">You Save <span class=\"dnt\">73%</span></div><span class=\"imh-starting-at-text\">Starting at</span><div class=\"imh-rostrum-starting-at-price-discounted\"><span class=\"rostrum-price\">$4.79</span><span class=\"rostrum-per-price\"><small>/mo</small></span></div><div class=\"imh-rostrum-starting-at-price-normal\" style=\"margin-top: 5px;\">Renews at <span class=\"rostrum-price\">$17.99</span><span class=\"rostrum-per-price\">/mo</span></div><button class=\"atc btn-primary\" data-action=\"entered-cart\" data-button='{\"campaignhandle\": \"standard_all_products\",\"productid\": \"11487\",\"packageid\": \"847\",\"irid\":\"\",\"affiliate\":\"\",\"sirid\": \"\", \"opc\": \"\"}' data-click=\"primary-cta\" data-location=\"/shared-hosting\" data-presentation-price=\"57.48\" data-product=\"seventh\" data-property=\"mktg\" data-standard-price=\"215.88\" data-term=\"12\" type=\"button\"> Select </button></div><div class=\"imh-switcher\"><div class=\"imh-rostrum-save-ribbon\">You Save <span class=\"dnt\">20%</span></div><span class=\"imh-starting-at-text\">Starting at</span><div class=\"imh-rostrum-starting-at-price-discounted\"><span class=\"rostrum-price\">$15.99</span><span class=\"rostrum-per-price\"><small>/mo</small></span></div><div class=\"imh-rostrum-starting-at-price-normal\" style=\"margin-top: 5px;\">Renews at <span class=\"rostrum-price\">$19.99</span><span class=\"rostrum-per-price\">/mo</span></div><button class=\"atc btn-primary\" data-action=\"entered-cart\" data-button='{\"campaignhandle\": \"standard_all_products\",\"productid\": \"11486\",\"packageid\": \"847\",\"irid\":\"\",\"affiliate\":\"\",\"sirid\": \"\", \"opc\": \"\"}' data-click=\"primary-cta\" data-location=\"/shared-hosting\" data-presentation-price=\"15.99\" data-product=\"eighth\" data-property=\"mktg\" data-standard-price=\"19.99\" data-term=\"1\" type=\"button\"> Select </button></div></div><ul class=\"imh-rostrum-details-list\"><li class=\"fa fa-imh-arrow-right tooltips-rostrum\"><div class=\"imh-rostrum-detail connected-switcher\"><div class=\"imh-switcher\"><strong>Free domain &amp; SSL</strong></div><div class=\"imh-switcher active\"><strong>Free domain &amp; SSL</strong></div><div class=\"imh-switcher\"><strong>Free domain &amp; SSL</strong></div><div class=\"imh-switcher\"><strong><span class=\"tooltip\" imh-tooltip-id=\"imh-tt-free-ssl\" imh-tooltip-text=\"Protect your website with our free 2048-bit encryption Secure Sockets Layer (SSL) certificates.\">Free SSL</span></strong></div></div></li><li class=\"fa fa-imh-arrow-right tooltips-rostrum\"><span class=\"imh-rostrum-detail\"><strong><span class=\"tooltip\" imh-tooltip-id=\"imh-tt-unlimited\" imh-tooltip-text=\"Unlimited means you are not charged based on how much you use the feature described. Read our &lt;a href='https://www.inmotionhosting.com/legal/'&gt;Terms of Service&lt;/a&gt;.\">Unlimited</span></strong> Websites</span></li><li class=\"fa fa-imh-arrow-right tooltips-rostrum\"><span class=\"imh-rostrum-detail\"><strong><span class=\"tooltip\" imh-tooltip-id=\"imh-tt-unlimited\" imh-tooltip-text=\"Unlimited means you are not charged based on how much you use the feature described. Read our &lt;a href='https://www.inmotionhosting.com/legal/'&gt;Terms of Service&lt;/a&gt;.\">Unlimited</span> </strong>NVMe SSD <img alt=\"Green Speed Icon\" class=\"green-icon\" decoding=\"async\" height=\"33\" loading=\"lazy\" src=\"https://design.inmotionhosting.com/assets/icons/custom/green-speed.svg\" width=\"33\"/></span></li><li class=\"fa fa-imh-arrow-right tooltips-rostrum\"><span class=\"imh-rostrum-detail\"><strong><span class=\"tooltip\" imh-tooltip-id=\"imh-tt-unlimited\" imh-tooltip-text=\"Unlimited means you are not charged based on how much you use the feature described. Read our &lt;a href='https://www.inmotionhosting.com/legal/'&gt;Terms of Service&lt;/a&gt;.\">Unlimited</span></strong> Bandwidth</span></li><li class=\"fa fa-imh-arrow-right tooltips-rostrum\"><span class=\"imh-rostrum-detail\"><strong>12x</strong> <span class=\"tooltip\" imh-tooltip-id=\"imh-tt-ultrastack\" imh-tooltip-text=\"UltraStack is a custom technology stack with advanced layered caching that is fine-tuned for speed.\">UltraStack</span> Speed &amp; Performance</span></li><li class=\"fa fa-imh-arrow-right tooltips-rostrum\"><span class=\"imh-rostrum-detail\"><strong><span class=\"tooltip\" imh-tooltip-id=\"imh-tt-unlimited\" imh-tooltip-text=\"Unlimited means you are not charged based on how much you use the feature described. Read our &lt;a href='https://www.inmotionhosting.com/legal/'&gt;Terms of Service&lt;/a&gt;.\">Unlimited</span></strong> Email Addresses</span></li><li class=\"fa fa-imh-arrow-right tooltips-rostrum\"><div class=\"imh-accordion-container imh-rostrum-detail\"><a class=\"imh-accordion\"><span class=\"imh-rostrum-detail\">Security Suite</span><span class=\"imh-ds-icon chevron down\"><i class=\"fa fa-imh-chevron-down toggle-chevron\"></i></span></a><div class=\"imh-accordion-content\"><ul><li class=\"fa fa-imh-arrow-right tooltips-rostrum\"><span class=\"imh-rostrum-detail\"><span class=\"tooltip\" imh-tooltip-id=\"imh-tt-free-ssl\" imh-tooltip-text=\"Protect your website with our free 2048-bit encryption Secure Sockets Layer (SSL) certificates.\">Free SSL</span></span></li><li class=\"fa fa-imh-arrow-right tooltips-rostrum\"><span class=\"imh-rostrum-detail\">Hack &amp;  <span class=\"tooltip\" imh-tooltip-id=\"imh-tt-malware-protection\" imh-tooltip-text=\"Malware protection software scans and patches your website files for any vulnerabilities.\">Malware Protection</span></span></li><li class=\"fa fa-imh-arrow-right tooltips-rostrum\"><span class=\"imh-rostrum-detail\">DDoS Protection</span></li><li class=\"fa fa-imh-arrow-right tooltips-rostrum\"><span class=\"imh-rostrum-detail\">Automatic Backups Available</span></li><li class=\"fa fa-imh-arrow-right tooltips-rostrum\"><span class=\"imh-rostrum-detail\"><strong>Monarx Security</strong><br/><span class=\"small-text\">($19.99 Value)</span></span></li></ul></div></div></li><li class=\"fa fa-imh-arrow-right tooltips-rostrum\"><div class=\"imh-accordion-container imh-rostrum-detail\"><a class=\"imh-accordion\"><span class=\"imh-rostrum-detail\"><span class=\"tooltip\" imh-tooltip-id=\"imh-tt-marketing-tools\" imh-tooltip-text=\"Free marketing tools to help you promote your business and services online.\">Marketing Tools</span></span><span class=\"imh-ds-icon chevron down\"><i class=\"fa fa-imh-chevron-down toggle-chevron\"></i></span></a><div class=\"imh-accordion-content\"><ul><li class=\"fa fa-imh-arrow-right tooltips-rostrum\"><span class=\"imh-rostrum-detail\">Website Builder</span></li><li class=\"fa fa-imh-arrow-right tooltips-rostrum\"><span class=\"imh-rostrum-detail\">Email on Any Device</span></li><li class=\"fa fa-imh-arrow-right tooltips-rostrum\"><span class=\"imh-rostrum-detail\">Free Advertising Credits</span></li><li class=\"fa fa-imh-arrow-right tooltips-rostrum\"><span class=\"imh-rostrum-detail\">Customer Management Tools</span></li></ul></div></div></li><li class=\"fa fa-imh-arrow-right tooltips-rostrum\"><span class=\"imh-rostrum-detail\"><strong>Advanced Caching</strong></span></li><li class=\"fa fa-imh-arrow-right tooltips-rostrum\"><span class=\"imh-rostrum-detail\"><strong>Hosting Plus</strong><br/><span class=\"small-text\">Python,   Node.JS,   Ruby and GIT version control.</span></span></li><li class=\"fa fa-imh-arrow-right tooltips-rostrum\"><span class=\"imh-rostrum-detail\"><strong>Choice of Data Center Location</strong><br/><span class=\"small-text\">Includes US and EU Locations</span></span></li><li class=\"fa fa-imh-arrow-right tooltips-rostrum\"><span class=\"imh-rostrum-detail\"><strong><span class=\"tooltip\" imh-tooltip-id=\"imh-tt-pro-support\" imh-tooltip-text=\"Pro Level Support gives you a service level agreement (SLA) that guarantees 99.99% uptime for your website.\">Pro Support</span> SLA</strong></span></li><li class=\"fa fa-imh-arrow-right tooltips-rostrum\"><span class=\"imh-rostrum-detail\">Live Phone and Chat Support from Helpful Humans</span></li></ul></div>,\n",
       " <div class=\"imh-rostrum-card\"><h3 class=\"h3 imh-rostrum-card-title\">Pro</h3><div class=\"imh-rostrum-sub-title\">Ideal for high-traffic or eCommerce sites with boosted power.</div><div class=\"imh-pricing-container connected-switcher\"><div class=\"imh-switcher\"><div class=\"imh-rostrum-save-ribbon\">You Save <span class=\"dnt\">54%</span></div><span class=\"imh-starting-at-text\">Starting at</span><div class=\"imh-rostrum-starting-at-price-discounted\"><span class=\"rostrum-price\">$10.99</span><span class=\"rostrum-per-price\"><small>/mo</small></span></div><div class=\"imh-rostrum-starting-at-price-normal\" style=\"margin-top: 5px;\">Renews at <span class=\"rostrum-price\">$23.99</span><span class=\"rostrum-per-price\">/mo</span></div><button class=\"atc btn-primary\" data-action=\"entered-cart\" data-button='{\"campaignhandle\": \"standard_all_products\",\"productid\": \"11491\",\"packageid\": \"847\",\"irid\":\"\",\"affiliate\":\"\",\"sirid\": \"\", \"opc\": \"\"}' data-click=\"primary-cta\" data-location=\"/shared-hosting\" data-presentation-price=\"395.64\" data-product=\"ninth\" data-property=\"mktg\" data-standard-price=\"863.64\" data-term=\"36\" type=\"button\"> Select </button></div><div class=\"imh-switcher active\"><div class=\"imh-rostrum-save-ribbon\">You Save <span class=\"dnt\">57%</span></div><span class=\"imh-starting-at-text\">Starting at</span><div class=\"imh-rostrum-starting-at-price-discounted\"><span class=\"rostrum-price\">$10.79</span><span class=\"rostrum-per-price\"><small>/mo</small></span></div><div class=\"imh-rostrum-starting-at-price-normal\" style=\"margin-top: 5px;\">Renews at <span class=\"rostrum-price\">$24.99</span><span class=\"rostrum-per-price\">/mo</span></div><button class=\"atc btn-primary\" data-action=\"entered-cart\" data-button='{\"campaignhandle\": \"standard_all_products\",\"productid\": \"11490\",\"packageid\": \"847\",\"irid\":\"\",\"affiliate\":\"\",\"sirid\": \"\", \"opc\": \"\"}' data-click=\"primary-cta\" data-location=\"/shared-hosting\" data-presentation-price=\"129.48\" data-product=\"tenth\" data-property=\"mktg\" data-standard-price=\"299.88\" data-term=\"12\" type=\"button\"> Select </button></div><div class=\"imh-switcher\"><div class=\"imh-rostrum-save-ribbon\">You Save <span class=\"dnt\">26%</span></div><span class=\"imh-starting-at-text\">Starting at</span><div class=\"imh-rostrum-starting-at-price-discounted\"><span class=\"rostrum-price\">$19.99</span><span class=\"rostrum-per-price\"><small>/mo</small></span></div><div class=\"imh-rostrum-starting-at-price-normal\" style=\"margin-top: 5px;\">Renews at <span class=\"rostrum-price\">$26.99</span><span class=\"rostrum-per-price\">/mo</span></div><button class=\"atc btn-primary\" data-action=\"entered-cart\" data-button='{\"campaignhandle\": \"standard_all_products\",\"productid\": \"11489\",\"packageid\": \"847\",\"irid\":\"\",\"affiliate\":\"\",\"sirid\": \"\", \"opc\": \"\"}' data-click=\"primary-cta\" data-location=\"/shared-hosting\" data-presentation-price=\"19.99\" data-product=\"eleventh\" data-property=\"mktg\" data-standard-price=\"26.99\" data-term=\"1\" type=\"button\"> Select </button></div></div><ul class=\"imh-rostrum-details-list\"><li class=\"fa fa-imh-arrow-right tooltips-rostrum\"><div class=\"imh-rostrum-detail connected-switcher\"><div class=\"imh-switcher\"><strong>Free domain &amp; SSL</strong></div><div class=\"imh-switcher active\"><strong>Free domain &amp; SSL</strong></div><div class=\"imh-switcher\"><strong>Free domain &amp; SSL</strong></div><div class=\"imh-switcher\"><strong><span class=\"tooltip\" imh-tooltip-id=\"imh-tt-free-ssl\" imh-tooltip-text=\"Protect your website with our free 2048-bit encryption Secure Sockets Layer (SSL) certificates.\">Free SSL</span></strong></div></div></li><li class=\"fa fa-imh-arrow-right tooltips-rostrum\"><span class=\"imh-rostrum-detail\"><strong><span class=\"tooltip\" imh-tooltip-id=\"imh-tt-unlimited\" imh-tooltip-text=\"Unlimited means you are not charged based on how much you use the feature described. Read our &lt;a href='https://www.inmotionhosting.com/legal/'&gt;Terms of Service&lt;/a&gt;.\">Unlimited</span></strong> Websites</span></li><li class=\"fa fa-imh-arrow-right tooltips-rostrum\"><span class=\"imh-rostrum-detail\"><strong><span class=\"tooltip\" imh-tooltip-id=\"imh-tt-unlimited\" imh-tooltip-text=\"Unlimited means you are not charged based on how much you use the feature described. Read our &lt;a href='https://www.inmotionhosting.com/legal/'&gt;Terms of Service&lt;/a&gt;.\">Unlimited</span> </strong>NVMe SSD <img alt=\"Green Speed Icon\" class=\"green-icon\" decoding=\"async\" height=\"33\" loading=\"lazy\" src=\"https://design.inmotionhosting.com/assets/icons/custom/green-speed.svg\" width=\"33\"/></span></li><li class=\"fa fa-imh-arrow-right tooltips-rostrum\"><span class=\"imh-rostrum-detail\"><strong><span class=\"tooltip\" imh-tooltip-id=\"imh-tt-unlimited\" imh-tooltip-text=\"Unlimited means you are not charged based on how much you use the feature described. Read our &lt;a href='https://www.inmotionhosting.com/legal/'&gt;Terms of Service&lt;/a&gt;.\">Unlimited</span></strong> Bandwidth</span></li><li class=\"fa fa-imh-arrow-right tooltips-rostrum\"><span class=\"imh-rostrum-detail\"><strong>20x</strong> <span class=\"tooltip\" imh-tooltip-id=\"imh-tt-ultrastack\" imh-tooltip-text=\"UltraStack is a custom technology stack with advanced layered caching that is fine-tuned for speed.\">UltraStack</span> Speed &amp; Performance</span></li><li class=\"fa fa-imh-arrow-right tooltips-rostrum\"><span class=\"imh-rostrum-detail\"><strong><span class=\"tooltip\" imh-tooltip-id=\"imh-tt-unlimited\" imh-tooltip-text=\"Unlimited means you are not charged based on how much you use the feature described. Read our &lt;a href='https://www.inmotionhosting.com/legal/'&gt;Terms of Service&lt;/a&gt;.\">Unlimited</span></strong> Email Addresses</span></li><li class=\"fa fa-imh-arrow-right tooltips-rostrum\"><div class=\"imh-accordion-container imh-rostrum-detail\"><a class=\"imh-accordion\"><span class=\"imh-rostrum-detail\">Security Suite</span><span class=\"imh-ds-icon chevron down\"><i class=\"fa fa-imh-chevron-down toggle-chevron\"></i></span></a><div class=\"imh-accordion-content\"><ul><li class=\"fa fa-imh-arrow-right tooltips-rostrum\"><span class=\"imh-rostrum-detail\"><span class=\"tooltip\" imh-tooltip-id=\"imh-tt-free-ssl\" imh-tooltip-text=\"Protect your website with our free 2048-bit encryption Secure Sockets Layer (SSL) certificates.\">Free SSL</span></span></li><li class=\"fa fa-imh-arrow-right tooltips-rostrum\"><span class=\"imh-rostrum-detail\">Hack &amp;  <span class=\"tooltip\" imh-tooltip-id=\"imh-tt-malware-protection\" imh-tooltip-text=\"Malware protection software scans and patches your website files for any vulnerabilities.\">Malware Protection</span></span></li><li class=\"fa fa-imh-arrow-right tooltips-rostrum\"><span class=\"imh-rostrum-detail\">DDoS Protection</span></li><li class=\"fa fa-imh-arrow-right tooltips-rostrum\"><span class=\"imh-rostrum-detail\">Automatic Backups Available</span></li><li class=\"fa fa-imh-arrow-right tooltips-rostrum\"><span class=\"imh-rostrum-detail\"><strong>Monarx Security</strong><br/><span class=\"small-text\">($19.99 Value)</span></span></li></ul></div></div></li><li class=\"fa fa-imh-arrow-right tooltips-rostrum\"><div class=\"imh-accordion-container imh-rostrum-detail\"><a class=\"imh-accordion\"><span class=\"imh-rostrum-detail\"><span class=\"tooltip\" imh-tooltip-id=\"imh-tt-marketing-tools\" imh-tooltip-text=\"Free marketing tools to help you promote your business and services online.\">Marketing Tools</span></span><span class=\"imh-ds-icon chevron down\"><i class=\"fa fa-imh-chevron-down toggle-chevron\"></i></span></a><div class=\"imh-accordion-content\"><ul><li class=\"fa fa-imh-arrow-right tooltips-rostrum\"><span class=\"imh-rostrum-detail\">Website Builder</span></li><li class=\"fa fa-imh-arrow-right tooltips-rostrum\"><span class=\"imh-rostrum-detail\">Email on Any Device</span></li><li class=\"fa fa-imh-arrow-right tooltips-rostrum\"><span class=\"imh-rostrum-detail\">Free Advertising Credits</span></li><li class=\"fa fa-imh-arrow-right tooltips-rostrum\"><span class=\"imh-rostrum-detail\">Customer Management Tools</span></li></ul></div></div></li><li class=\"fa fa-imh-arrow-right tooltips-rostrum\"><span class=\"imh-rostrum-detail\"><strong>Advanced Caching</strong></span></li><li class=\"fa fa-imh-arrow-right tooltips-rostrum\"><span class=\"imh-rostrum-detail\"><strong>Hosting Plus</strong><br/><span class=\"small-text\">Python,   Node.JS,   Ruby and GIT version control.</span></span></li><li class=\"fa fa-imh-arrow-right tooltips-rostrum\"><span class=\"imh-rostrum-detail\"><strong>Choice of Data Center Location</strong><br/><span class=\"small-text\">Includes US and EU Locations</span></span></li><li class=\"fa fa-imh-arrow-right tooltips-rostrum\"><span class=\"imh-rostrum-detail\"><strong><span class=\"tooltip\" imh-tooltip-id=\"imh-tt-pro-support\" imh-tooltip-text=\"Pro Level Support gives you a service level agreement (SLA) that guarantees 99.99% uptime for your website.\">Pro Support</span> SLA</strong></span></li><li class=\"fa fa-imh-arrow-right tooltips-rostrum\"><span class=\"imh-rostrum-detail\"><strong>Dedicated IP</strong></span></li><li class=\"fa fa-imh-arrow-right tooltips-rostrum\"><span class=\"imh-rostrum-detail\">Live Phone and Chat Support from Helpful Humans</span></li></ul></div>]"
      ]
     },
     "execution_count": 292,
     "metadata": {},
     "output_type": "execute_result"
    }
   ],
   "source": [
    "plans"
   ]
  },
  {
   "cell_type": "code",
   "execution_count": 295,
   "metadata": {},
   "outputs": [
    {
     "data": {
      "text/plain": [
       "(5, 'Core', 'Suitable for simple sites, with everything you need included.')"
      ]
     },
     "execution_count": 295,
     "metadata": {},
     "output_type": "execute_result"
    }
   ],
   "source": [
    "\n",
    "title = plan.find('h3', class_='imh-rostrum-card-title').get_text(strip=True)\n",
    "description = plan.find('div', class_='imh-rostrum-sub-title').get_text(strip=True)\n",
    "\n",
    "pricing_container = plan.find('div', class_='imh-pricing-container')\n",
    "if 'switcher' in ' '.join(pricing_container['class']):\n",
    "    pricing_container = pricing_container.find('div', class_='active')\n",
    "\n",
    "pricing_container\n",
    "\n",
    "(\n",
    "    len(pricing_container),\n",
    "    title,\n",
    "    description\n",
    ")"
   ]
  },
  {
   "cell_type": "code",
   "execution_count": 296,
   "metadata": {},
   "outputs": [
    {
     "data": {
      "text/plain": [
       "('$2.99', '$10.99', '73%')"
      ]
     },
     "execution_count": 296,
     "metadata": {},
     "output_type": "execute_result"
    }
   ],
   "source": [
    "\n",
    "discounted_price = pricing_container.find('div', class_='imh-rostrum-starting-at-price-discounted').find('span', class_='rostrum-price').get_text(strip=True)\n",
    "normal_price = pricing_container.find('div', class_='imh-rostrum-starting-at-price-normal').find('span', class_='rostrum-price').get_text(strip=True)\n",
    "\n",
    "discount = pricing_container.find('div', class_='imh-rostrum-save-ribbon').find('span', class_='dnt').get_text(strip=True)\n",
    "\n",
    "discounted_price, normal_price, discount\n"
   ]
  },
  {
   "cell_type": "code",
   "execution_count": 297,
   "metadata": {},
   "outputs": [
    {
     "data": {
      "text/plain": [
       "11"
      ]
     },
     "execution_count": 297,
     "metadata": {},
     "output_type": "execute_result"
    }
   ],
   "source": [
    "\n",
    "feature_container = plan.find('ul', class_='imh-rostrum-details-list')\n",
    "features = feature_container.find_all('li', class_='fa fa-imh-arrow-right tooltips-rostrum', recursive=False)\n",
    "len(features)"
   ]
  },
  {
   "cell_type": "code",
   "execution_count": 298,
   "metadata": {},
   "outputs": [
    {
     "data": {
      "text/plain": [
       "['2', 'Websites']"
      ]
     },
     "execution_count": 298,
     "metadata": {},
     "output_type": "execute_result"
    }
   ],
   "source": [
    "# If just use get_text and strip=True, then text will sometimes be concatenated without whitespace.\n",
    "# It happens when part of a text is inside a tag and other is not.\n",
    "# So this function gets all text recursively and separates into a list\n",
    "def get_all_children_text(soup):\n",
    "    text = []\n",
    "    for child in soup.children:\n",
    "        if isinstance(child, str):\n",
    "            child_text = child.get_text(strip=True)\n",
    "            if child_text != '':\n",
    "                text.append(child_text)\n",
    "        elif isinstance(child, bs4.element.Tag):\n",
    "            text.extend(get_all_children_text(child))\n",
    "    return text\n",
    "\n",
    "get_all_children_text(features[1])\n"
   ]
  },
  {
   "cell_type": "code",
   "execution_count": 139,
   "metadata": {},
   "outputs": [
    {
     "name": "stdout",
     "output_type": "stream",
     "text": [
      "['Free domain & SSL',\n",
      " '2 Websites',\n",
      " '100GB SSD',\n",
      " 'Unlimited Bandwidth',\n",
      " '2x Speed & Performance',\n",
      " '10 Email Addresses',\n",
      " 'Security Suite',\n",
      " 'Marketing Tools',\n",
      " 'Hosting Plus Python, Node.JS,  Ruby and GIT version control.',\n",
      " 'Choice of Data Center Location Includes US and EU Locations',\n",
      " 'Live Chat Support from Helpful Humans']\n"
     ]
    }
   ],
   "source": [
    "feature_data = []\n",
    "\n",
    "for feature in features:\n",
    "    feature_detail = feature.find(class_='imh-rostrum-detail')\n",
    "    if 'switcher' in ' '.join(feature_detail['class']):\n",
    "        feature_detail = feature_detail.find(class_='active')\n",
    "    if feature_detail.find(class_='imh-rostrum-detail'):\n",
    "        feature_detail = feature_detail.find(class_='imh-rostrum-detail')\n",
    "    # print('-------------------- New feature')\n",
    "    # print(feature_detail)\n",
    "    all_features = get_all_children_text(feature_detail)\n",
    "    feature_data.append(' '.join(all_features).replace('\\xa0', ''))\n",
    "    \n",
    "pprint(feature_data)\n"
   ]
  },
  {
   "cell_type": "code",
   "execution_count": 277,
   "metadata": {},
   "outputs": [],
   "source": [
    "def check_none(element):\n",
    "    return element.get_text(strip=True) if element else ''\n",
    "\n",
    "def get_plan_features(plan):\n",
    "    feature_container = plan.find('ul', class_='imh-rostrum-details-list')\n",
    "    features = feature_container.find_all('li', class_='fa fa-imh-arrow-right tooltips-rostrum', recursive=False)\n",
    "    \n",
    "    feature_data = []\n",
    "    for feature in features:\n",
    "        feature_detail = feature.find(class_='imh-rostrum-detail')\n",
    "        if 'switcher' in ' '.join(feature_detail['class']):\n",
    "            feature_detail = feature_detail.find(class_='active')\n",
    "            \n",
    "        if feature_detail.find(class_='imh-rostrum-detail'):\n",
    "            feature_detail = feature_detail.find(class_='imh-rostrum-detail')\n",
    "            \n",
    "        all_features = get_all_children_text(feature_detail)\n",
    "        feature_data.append(' '.join(all_features).replace('\\xa0', ''))\n",
    "    \n",
    "    return feature_data\n",
    "\n",
    "def get_plan_data(plan):\n",
    "    title = plan.find('h3', class_='imh-rostrum-card-title').get_text(strip=True)\n",
    "    description = check_none(plan.find('div', class_='imh-rostrum-sub-title'))\n",
    "    print('plan-title', title)\n",
    "    pricing_container = plan.find('div', class_='imh-pricing-container')\n",
    "    if 'switcher' in ' '.join(pricing_container['class']):\n",
    "        pricing_container = pricing_container.find('div', class_='active')\n",
    "\n",
    "    discounted_price = check_none(pricing_container.find('div', class_='imh-rostrum-starting-at-price-discounted').find('span', class_='rostrum-price'))\n",
    "    normal_price = check_none(pricing_container.find('div', class_='imh-rostrum-starting-at-price-normal').find('span', class_='rostrum-price'))\n",
    "    \n",
    "    # discount = check_none(pricing_container.find('div', class_='imh-rostrum-save-ribbon').find('span', class_='dnt'))\n",
    "    # Sometimes discount is not specified\n",
    "    discount = check_none(pricing_container.select_one('div.imh-rostrum-save-ribbon > span.dnt'))\n",
    "\n",
    "    features = get_plan_features(plan)\n",
    "    \n",
    "    return title, description, discounted_price, normal_price, discount, features\n"
   ]
  },
  {
   "cell_type": "markdown",
   "metadata": {},
   "source": [
    "### Web site scraping script"
   ]
  },
  {
   "cell_type": "code",
   "execution_count": 282,
   "metadata": {},
   "outputs": [
    {
     "name": "stdout",
     "output_type": "stream",
     "text": [
      "main url https://www.inmotionhosting.com/\n",
      "period 1 Year\n",
      "Shared Hosting https://www.inmotionhosting.com/shared-hosting\n",
      "1 Year\n",
      "plan-title Core\n",
      "plan-title Launch\n",
      "plan-title Power\n",
      "plan-title Pro\n",
      "WordPress Hosting https://www.inmotionhosting.com/wordpress-hosting\n",
      "1 Year\n",
      "plan-title WP Core\n",
      "plan-title WP Launch\n",
      "plan-title WP Power\n",
      "plan-title WP Pro\n",
      "VPS Hosting https://www.inmotionhosting.com/vps-hosting\n",
      "1 Year\n",
      "plan-title VPS 4 vCPU\n",
      "plan-title VPS 8 vCPU\n",
      "plan-title VPS 12 vCPU\n",
      "plan-title VPS 16 vCPU\n",
      "Dedicated Hosting https://www.inmotionhosting.com/dedicated-servers\n",
      "Standard\n",
      "Affordable Dedicated Hosting\n",
      "plan-title Aspire\n",
      "plan-title Essential\n",
      "plan-title Advanced\n",
      "plan-title Elite\n",
      "plan-title Extreme\n",
      "[{'description': 'Suitable for simple sites, with everything you need '\n",
      "                 'included.',\n",
      "  'discount': '73%',\n",
      "  'discounted_price': '$2.99',\n",
      "  'features': ['Free domain & SSL',\n",
      "               '2 Websites',\n",
      "               '100GB SSD',\n",
      "               'Unlimited Bandwidth',\n",
      "               '2x Speed & Performance',\n",
      "               '10 Email Addresses',\n",
      "               'Security Suite',\n",
      "               'Marketing Tools',\n",
      "               'Hosting Plus Python, Node.JS,  Ruby and GIT version control.',\n",
      "               'Choice of Data Center Location Includes US and EU Locations',\n",
      "               'Live Chat Support from Helpful Humans'],\n",
      "  'normal_price': '$10.99',\n",
      "  'period': '1 Year',\n",
      "  'service_link': 'https://www.inmotionhosting.com/shared-hosting',\n",
      "  'service_title': 'Core',\n",
      "  'title': 'Core'},\n",
      " {'description': 'Designed for seamless multi-site management & enhanced '\n",
      "                 'performance.',\n",
      "  'discount': '66%',\n",
      "  'discounted_price': '$4.79',\n",
      "  'features': ['Free domain & SSL',\n",
      "               '25 Websites',\n",
      "               'Unlimited NVMe SSD',\n",
      "               'Unlimited Bandwidth',\n",
      "               '6x UltraStack Speed & Performance',\n",
      "               'Unlimited Email Addresses',\n",
      "               'Security Suite',\n",
      "               'Marketing Tools',\n",
      "               'Hosting Plus Python,  Node.JS,  Ruby and GIT version control.',\n",
      "               'Choice of Data Center Location Includes US and EU Locations',\n",
      "               'Pro Support SLA',\n",
      "               'Live Chat Support from Helpful Humans'],\n",
      "  'normal_price': '$13.99',\n",
      "  'period': '1 Year',\n",
      "  'service_link': 'https://www.inmotionhosting.com/shared-hosting',\n",
      "  'service_title': 'Launch',\n",
      "  'title': 'Launch'},\n",
      " {'description': 'Powerful resources perfect for larger sites & managing '\n",
      "                 'clients.',\n",
      "  'discount': '73%',\n",
      "  'discounted_price': '$4.79',\n",
      "  'features': ['Free domain & SSL',\n",
      "               'Unlimited Websites',\n",
      "               'Unlimited NVMe SSD',\n",
      "               'Unlimited Bandwidth',\n",
      "               '12x UltraStack Speed & Performance',\n",
      "               'Unlimited Email Addresses',\n",
      "               'Security Suite',\n",
      "               'Marketing Tools',\n",
      "               'Advanced Caching',\n",
      "               'Hosting Plus Python,  Node.JS,  Ruby and GIT version control.',\n",
      "               'Choice of Data Center Location Includes US and EU Locations',\n",
      "               'Pro Support SLA',\n",
      "               'Live Phone and Chat Support from Helpful Humans'],\n",
      "  'normal_price': '$17.99',\n",
      "  'period': '1 Year',\n",
      "  'service_link': 'https://www.inmotionhosting.com/shared-hosting',\n",
      "  'service_title': 'Power',\n",
      "  'title': 'Power'},\n",
      " {'description': 'Ideal for high-traffic or eCommerce sites with boosted '\n",
      "                 'power.',\n",
      "  'discount': '57%',\n",
      "  'discounted_price': '$10.79',\n",
      "  'features': ['Free domain & SSL',\n",
      "               'Unlimited Websites',\n",
      "               'Unlimited NVMe SSD',\n",
      "               'Unlimited Bandwidth',\n",
      "               '20x UltraStack Speed & Performance',\n",
      "               'Unlimited Email Addresses',\n",
      "               'Security Suite',\n",
      "               'Marketing Tools',\n",
      "               'Advanced Caching',\n",
      "               'Hosting Plus Python,  Node.JS,  Ruby and GIT version control.',\n",
      "               'Choice of Data Center Location Includes US and EU Locations',\n",
      "               'Pro Support SLA',\n",
      "               'Dedicated IP',\n",
      "               'Live Phone and Chat Support from Helpful Humans'],\n",
      "  'normal_price': '$24.99',\n",
      "  'period': '1 Year',\n",
      "  'service_link': 'https://www.inmotionhosting.com/shared-hosting',\n",
      "  'service_title': 'Pro',\n",
      "  'title': 'Pro'},\n",
      " {'description': '',\n",
      "  'discount': '70%',\n",
      "  'discounted_price': '$3.49',\n",
      "  'features': ['Free domain & SSL',\n",
      "               '2 Websites',\n",
      "               '100GB NVMe SSD',\n",
      "               '10x WP Performance',\n",
      "               'Unlimited Bandwidth',\n",
      "               '10 Email Addresses',\n",
      "               'Security Suite',\n",
      "               'Marketing Tools',\n",
      "               'Native Backups and Migrations',\n",
      "               '2 PHP Workers per Site',\n",
      "               'Hosting Plus Python, Node.JS,  Ruby and GIT version control.',\n",
      "               'Choice of Data Center Location Includes US and EU Locations',\n",
      "               'Live Chat Support from Helpful Humans'],\n",
      "  'normal_price': '$11.49',\n",
      "  'period': '1 Year',\n",
      "  'service_link': 'https://www.inmotionhosting.com/wordpress-hosting',\n",
      "  'service_title': 'WP Core',\n",
      "  'title': 'WP Core'},\n",
      " {'description': '',\n",
      "  'discount': '63%',\n",
      "  'discounted_price': '$5.29',\n",
      "  'features': ['Free domain & SSL',\n",
      "               '25 Websites',\n",
      "               'Unlimited NVMe SSD',\n",
      "               '20x WP Performance',\n",
      "               'Unlimited Bandwidth',\n",
      "               'Unlimited Email Addresses',\n",
      "               'Security Suite',\n",
      "               'Marketing Tools',\n",
      "               'Native Backups and Migrations',\n",
      "               '3 PHP Workers per Site',\n",
      "               'Advanced Caching',\n",
      "               'Hosting Plus Python, Node.JS,  Ruby and GIT version control.',\n",
      "               'WordPress Multisite',\n",
      "               'WordPress Staging Tool',\n",
      "               'Choice of Data Center Location Includes US and EU Locations',\n",
      "               'Live Chat Support from Helpful Humans'],\n",
      "  'normal_price': '$14.49',\n",
      "  'period': '1 Year',\n",
      "  'service_link': 'https://www.inmotionhosting.com/wordpress-hosting',\n",
      "  'service_title': 'WP Launch',\n",
      "  'title': 'WP Launch'},\n",
      " {'description': '',\n",
      "  'discount': '71%',\n",
      "  'discounted_price': '$5.29',\n",
      "  'features': ['Free domain & SSL',\n",
      "               'Unlimited Websites',\n",
      "               'Unlimited NVMe SSD',\n",
      "               '30x WP Performance',\n",
      "               'Unlimited Bandwidth',\n",
      "               'Unlimited Email Addresses',\n",
      "               'Security Suite',\n",
      "               'Marketing Tools',\n",
      "               'Native Backups and Migrations',\n",
      "               '4 PHP Workers per Site',\n",
      "               'Advanced Caching',\n",
      "               'Dedicated Opcode Cache Pool',\n",
      "               'Hosting Plus Python, Node.JS,  Ruby and GIT version control.',\n",
      "               'WordPress Multisite',\n",
      "               'WordPress Staging Tool',\n",
      "               'Choice of Data Center Location Includes US and EU Locations',\n",
      "               'Live Phone and Chat Support from Helpful Humans'],\n",
      "  'normal_price': '$18.49',\n",
      "  'period': '1 Year',\n",
      "  'service_link': 'https://www.inmotionhosting.com/wordpress-hosting',\n",
      "  'service_title': 'WP Power',\n",
      "  'title': 'WP Power'},\n",
      " {'description': '',\n",
      "  'discount': '56%',\n",
      "  'discounted_price': '$11.29',\n",
      "  'features': ['Free domain & SSL',\n",
      "               'Unlimited Websites',\n",
      "               'Unlimited NVMe SSD',\n",
      "               '40x WP Performance',\n",
      "               'Unlimited Bandwidth',\n",
      "               'Unlimited Email Addresses',\n",
      "               'Security Suite',\n",
      "               'Marketing Tools',\n",
      "               'Native Backups and Migrations',\n",
      "               '6 PHP Workers per Site',\n",
      "               'Advanced Caching',\n",
      "               'Dedicated Opcode Cache Pool',\n",
      "               'Pro Level Support',\n",
      "               'Dedicated IP',\n",
      "               'Hosting Plus Python, Node.JS,  Ruby and GIT version control.',\n",
      "               'WordPress Multisite',\n",
      "               'WordPress Staging Tool',\n",
      "               'Choice of Data Center Location Includes US and EU Locations',\n",
      "               'Live Phone and Chat Support from Helpful Humans'],\n",
      "  'normal_price': '$25.49',\n",
      "  'period': '1 Year',\n",
      "  'service_link': 'https://www.inmotionhosting.com/wordpress-hosting',\n",
      "  'service_title': 'WP Pro',\n",
      "  'title': 'WP Pro'},\n",
      " {'description': '',\n",
      "  'discount': '48%',\n",
      "  'discounted_price': '$13.99',\n",
      "  'features': ['4 vCPU Cores',\n",
      "               '8GB RAM',\n",
      "               '160GB SSD',\n",
      "               '5TB Bandwidth',\n",
      "               '2 Dedicated IPs',\n",
      "               'Free SSL',\n",
      "               'DDoS Protection',\n",
      "               'Free Website Transfers & Server Setup',\n",
      "               'Choice of Control Panel',\n",
      "               'Live Chat Support from Helpful Humans'],\n",
      "  'normal_price': '$26.99',\n",
      "  'period': '1 Year',\n",
      "  'service_link': 'https://www.inmotionhosting.com/vps-hosting',\n",
      "  'service_title': 'VPS 4 vCPU',\n",
      "  'title': 'VPS 4 vCPU'},\n",
      " {'description': '',\n",
      "  'discount': '61%',\n",
      "  'discounted_price': '$21.99',\n",
      "  'features': ['8 vCPU Cores',\n",
      "               '16GB RAM',\n",
      "               '260GB SSD',\n",
      "               'Unlimited Bandwidth',\n",
      "               '3 Dedicated IPs',\n",
      "               'Free SSL',\n",
      "               'DDoS Protection',\n",
      "               'Free Website Transfers & Server Setup',\n",
      "               'Choice of Control Panel',\n",
      "               'Choice of Data Center Location Includes US and EU Locations',\n",
      "               'Live Phone and Chat Support from Helpful Humans'],\n",
      "  'normal_price': '$56.99',\n",
      "  'period': '1 Year',\n",
      "  'service_link': 'https://www.inmotionhosting.com/vps-hosting',\n",
      "  'service_title': 'VPS 8 vCPU',\n",
      "  'title': 'VPS 8 vCPU'},\n",
      " {'description': '',\n",
      "  'discount': '57%',\n",
      "  'discounted_price': '$36.99',\n",
      "  'features': ['12 vCPU Cores',\n",
      "               '24GB RAM',\n",
      "               '360GB SSD',\n",
      "               'Unlimited Bandwidth',\n",
      "               '5 Dedicated IPs',\n",
      "               'Free SSL',\n",
      "               'DDoS Protection',\n",
      "               'Free Website Transfers & Server Setup',\n",
      "               'Choice of Control Panel',\n",
      "               '10GB Free Backup Storage',\n",
      "               'Choice of Data Center Location Includes US and EU Locations',\n",
      "               'Live Phone and Chat Support from Helpful Humans'],\n",
      "  'normal_price': '$86.99',\n",
      "  'period': '1 Year',\n",
      "  'service_link': 'https://www.inmotionhosting.com/vps-hosting',\n",
      "  'service_title': 'VPS 12 vCPU',\n",
      "  'title': 'VPS 12 vCPU'},\n",
      " {'description': '',\n",
      "  'discount': '60%',\n",
      "  'discounted_price': '$48.99',\n",
      "  'features': ['16 vCPU Cores',\n",
      "               '32GB RAM',\n",
      "               '460GB NVMe SSD',\n",
      "               'Unlimited Bandwidth',\n",
      "               '10 Dedicated IPs',\n",
      "               'Free SSL',\n",
      "               'DDoS Protection',\n",
      "               'Free Website Transfers & Server Setup',\n",
      "               'Choice of Control Panel',\n",
      "               '10GB Free Backup Storage',\n",
      "               'Docker Available',\n",
      "               'Choice of Data Center Location Includes US and EU Locations',\n",
      "               'Live Phone and Chat Support from Helpful Humans'],\n",
      "  'normal_price': '$121.99',\n",
      "  'period': '1 Year',\n",
      "  'service_link': 'https://www.inmotionhosting.com/vps-hosting',\n",
      "  'service_title': 'VPS 16 vCPU',\n",
      "  'title': 'VPS 16 vCPU'},\n",
      " {'description': '',\n",
      "  'discount': '',\n",
      "  'discounted_price': '$35.00',\n",
      "  'features': ['16GB DDR3 RAM',\n",
      "               '1TB SSD',\n",
      "               'Xeon® E3-1246 v3*',\n",
      "               '4 Core / 8 Thread',\n",
      "               '1 Dedicated IPs',\n",
      "               '10GB Free Backup Storage',\n",
      "               'Choice of Data Center Location Includes US and EU Locations'],\n",
      "  'normal_price': '$69.99',\n",
      "  'period': '1 Year',\n",
      "  'service_link': 'https://www.inmotionhosting.com/dedicated-servers',\n",
      "  'service_title': 'Aspire',\n",
      "  'title': 'Aspire'},\n",
      " {'description': '',\n",
      "  'discount': '',\n",
      "  'discounted_price': '$99.99',\n",
      "  'features': ['32GB DDR4 RAM',\n",
      "               '2TB SSD',\n",
      "               'Xeon® E-2134*',\n",
      "               '4 Core / 8 Thread',\n",
      "               '5 Dedicated IPs',\n",
      "               '50GB Free Backup Storage',\n",
      "               'Choice of Data Center Location Includes US and EU Locations'],\n",
      "  'normal_price': '$99.99',\n",
      "  'period': '1 Year',\n",
      "  'service_link': 'https://www.inmotionhosting.com/dedicated-servers',\n",
      "  'service_title': 'Essential',\n",
      "  'title': 'Essential'},\n",
      " {'description': '',\n",
      "  'discount': '',\n",
      "  'discounted_price': '$169.99',\n",
      "  'features': ['64GB DDR4 RAM',\n",
      "               '2x1TB SSD Software RAID -1',\n",
      "               'Xeon® E-2176G*',\n",
      "               '6 Core / 12 Thread',\n",
      "               '10 Dedicated IPs',\n",
      "               '100GB Free Backup Storage',\n",
      "               'Choice of Data Center Location Includes US and EU Locations'],\n",
      "  'normal_price': '$169.99',\n",
      "  'period': '1 Year',\n",
      "  'service_link': 'https://www.inmotionhosting.com/dedicated-servers',\n",
      "  'service_title': 'Advanced',\n",
      "  'title': 'Advanced'},\n",
      " {'description': '',\n",
      "  'discount': '',\n",
      "  'discounted_price': '$219.99',\n",
      "  'features': ['128GB DDR4 RAM',\n",
      "               '2x2TB Storage Software RAID -1',\n",
      "               'NVMe SSD',\n",
      "               'Xeon® E-2388G*',\n",
      "               '8 Core / 16 Thread',\n",
      "               '16 Dedicated IPs',\n",
      "               '250GB Free Backup Storage',\n",
      "               'Choice of Data Center Location Includes US and EU Locations'],\n",
      "  'normal_price': '$219.99',\n",
      "  'period': '1 Year',\n",
      "  'service_link': 'https://www.inmotionhosting.com/dedicated-servers',\n",
      "  'service_title': 'Elite',\n",
      "  'title': 'Elite'},\n",
      " {'description': '',\n",
      "  'discount': '',\n",
      "  'discounted_price': '$249.99',\n",
      "  'features': ['128GB DDR4 RAM',\n",
      "               '2x4TB Storage Software RAID -1',\n",
      "               'NVMe SSD',\n",
      "               'Xeon® E-2388G*',\n",
      "               '8 Core / 16 Thread',\n",
      "               '32 Dedicated IPs',\n",
      "               '500GB Free Backup Storage',\n",
      "               'Choice of Data Center Location Includes US and EU Locations'],\n",
      "  'normal_price': '$249.99',\n",
      "  'period': '1 Year',\n",
      "  'service_link': 'https://www.inmotionhosting.com/dedicated-servers',\n",
      "  'service_title': 'Extreme',\n",
      "  'title': 'Extreme'}]\n"
     ]
    }
   ],
   "source": [
    "main_url = \"https://www.inmotionhosting.com/\"\n",
    "\n",
    "driver.get(main_url)\n",
    "print('main url', driver.current_url)\n",
    "period_string = '1 Year'\n",
    "print('period', period_string)\n",
    "\n",
    "wait.until(\n",
    "    EC.presence_of_element_located((By.CSS_SELECTOR, \"div.imh-rostrum-container\"))\n",
    ")\n",
    "\n",
    "service_cards = driver.find_element(By.ID, \"home-rostrum-2\").find_elements(By.CLASS_NAME,\n",
    "                                                                           \"imh-rostrum-card.imh-clickable-card\")\n",
    "\n",
    "# So the elements won't become stale\n",
    "card_info = list(zip(\n",
    "    map(lambda x: x.find_element(By.CLASS_NAME, \"h3.imh-rostrum-card-title\").text, service_cards),\n",
    "    map(lambda x: x.find_element(By.LINK_TEXT, \"Compare Plans\").get_attribute('href'), service_cards)\n",
    "))\n",
    "\n",
    "service_plan_data = []\n",
    "for title, link in card_info:\n",
    "    print(title, link)\n",
    "    driver.get(link)\n",
    "    wait.until(\n",
    "        EC.presence_of_element_located((By.CSS_SELECTOR, \"div.imh-rostrum-container\"))\n",
    "    )\n",
    "    \n",
    "    # There are different plans for different billing periods\n",
    "    # So this code is to ensure the annual plan is selected\n",
    "    period_btn = driver.find_element(\n",
    "        By.XPATH, \n",
    "        f\"//button[contains(@class, 'imh-term-selector') and text()='{period_string}']\"\n",
    "    )\n",
    "    driver.execute_script(\"arguments[0].click();\", period_btn)\n",
    "    print(driver.find_element(By.CSS_SELECTOR, \"button.imh-term-selector.active\").text)\n",
    "    \n",
    "    # Make sure that data is updated\n",
    "    wait.until(EC.text_to_be_present_in_element(\n",
    "        (By.CSS_SELECTOR, \"div.imh-term-selector > button.imh-term-selector.active\"),\n",
    "        period_string\n",
    "    ))\n",
    "    \n",
    "    plans_container_all = BeautifulSoup(driver.page_source, 'html.parser')\n",
    "    plans = plans_container_all.find('div', class_='imh-rostrum-container').find_all('div', class_='imh-rostrum-card')\n",
    "    for plan in plans:\n",
    "        title, description, discounted_price, normal_price, discount, features = get_plan_data(plan)\n",
    "        service_plan_dict = {\n",
    "            'service_title': title,\n",
    "            'service_link': link,\n",
    "            'period': period_string,\n",
    "            'title': title,\n",
    "            'description': description,\n",
    "            'discounted_price': discounted_price,\n",
    "            'normal_price': normal_price,\n",
    "            'discount': discount,\n",
    "            'features': features\n",
    "        }\n",
    "        \n",
    "        service_plan_data.append(service_plan_dict)\n",
    "        \n",
    "    time.sleep(2)\n",
    "    \n",
    "pprint(service_plan_data)"
   ]
  },
  {
   "cell_type": "code",
   "execution_count": 283,
   "metadata": {},
   "outputs": [
    {
     "data": {
      "text/html": [
       "<div>\n",
       "<style scoped>\n",
       "    .dataframe tbody tr th:only-of-type {\n",
       "        vertical-align: middle;\n",
       "    }\n",
       "\n",
       "    .dataframe tbody tr th {\n",
       "        vertical-align: top;\n",
       "    }\n",
       "\n",
       "    .dataframe thead th {\n",
       "        text-align: right;\n",
       "    }\n",
       "</style>\n",
       "<table border=\"1\" class=\"dataframe\">\n",
       "  <thead>\n",
       "    <tr style=\"text-align: right;\">\n",
       "      <th></th>\n",
       "      <th>service_title</th>\n",
       "      <th>service_link</th>\n",
       "      <th>period</th>\n",
       "      <th>title</th>\n",
       "      <th>description</th>\n",
       "      <th>discounted_price</th>\n",
       "      <th>normal_price</th>\n",
       "      <th>discount</th>\n",
       "      <th>features</th>\n",
       "    </tr>\n",
       "  </thead>\n",
       "  <tbody>\n",
       "    <tr>\n",
       "      <th>0</th>\n",
       "      <td>Core</td>\n",
       "      <td>https://www.inmotionhosting.com/shared-hosting</td>\n",
       "      <td>1 Year</td>\n",
       "      <td>Core</td>\n",
       "      <td>Suitable for simple sites, with everything you...</td>\n",
       "      <td>$2.99</td>\n",
       "      <td>$10.99</td>\n",
       "      <td>73%</td>\n",
       "      <td>[Free domain &amp; SSL, 2 Websites, 100GB SSD, Unl...</td>\n",
       "    </tr>\n",
       "    <tr>\n",
       "      <th>1</th>\n",
       "      <td>Launch</td>\n",
       "      <td>https://www.inmotionhosting.com/shared-hosting</td>\n",
       "      <td>1 Year</td>\n",
       "      <td>Launch</td>\n",
       "      <td>Designed for seamless multi-site management &amp; ...</td>\n",
       "      <td>$4.79</td>\n",
       "      <td>$13.99</td>\n",
       "      <td>66%</td>\n",
       "      <td>[Free domain &amp; SSL, 25 Websites, Unlimited NVM...</td>\n",
       "    </tr>\n",
       "    <tr>\n",
       "      <th>2</th>\n",
       "      <td>Power</td>\n",
       "      <td>https://www.inmotionhosting.com/shared-hosting</td>\n",
       "      <td>1 Year</td>\n",
       "      <td>Power</td>\n",
       "      <td>Powerful resources perfect for larger sites &amp; ...</td>\n",
       "      <td>$4.79</td>\n",
       "      <td>$17.99</td>\n",
       "      <td>73%</td>\n",
       "      <td>[Free domain &amp; SSL, Unlimited Websites, Unlimi...</td>\n",
       "    </tr>\n",
       "    <tr>\n",
       "      <th>3</th>\n",
       "      <td>Pro</td>\n",
       "      <td>https://www.inmotionhosting.com/shared-hosting</td>\n",
       "      <td>1 Year</td>\n",
       "      <td>Pro</td>\n",
       "      <td>Ideal for high-traffic or eCommerce sites with...</td>\n",
       "      <td>$10.79</td>\n",
       "      <td>$24.99</td>\n",
       "      <td>57%</td>\n",
       "      <td>[Free domain &amp; SSL, Unlimited Websites, Unlimi...</td>\n",
       "    </tr>\n",
       "    <tr>\n",
       "      <th>4</th>\n",
       "      <td>WP Core</td>\n",
       "      <td>https://www.inmotionhosting.com/wordpress-hosting</td>\n",
       "      <td>1 Year</td>\n",
       "      <td>WP Core</td>\n",
       "      <td></td>\n",
       "      <td>$3.49</td>\n",
       "      <td>$11.49</td>\n",
       "      <td>70%</td>\n",
       "      <td>[Free domain &amp; SSL, 2 Websites, 100GB NVMe SSD...</td>\n",
       "    </tr>\n",
       "  </tbody>\n",
       "</table>\n",
       "</div>"
      ],
      "text/plain": [
       "  service_title                                       service_link  period  \\\n",
       "0          Core     https://www.inmotionhosting.com/shared-hosting  1 Year   \n",
       "1        Launch     https://www.inmotionhosting.com/shared-hosting  1 Year   \n",
       "2         Power     https://www.inmotionhosting.com/shared-hosting  1 Year   \n",
       "3           Pro     https://www.inmotionhosting.com/shared-hosting  1 Year   \n",
       "4       WP Core  https://www.inmotionhosting.com/wordpress-hosting  1 Year   \n",
       "\n",
       "     title                                        description  \\\n",
       "0     Core  Suitable for simple sites, with everything you...   \n",
       "1   Launch  Designed for seamless multi-site management & ...   \n",
       "2    Power  Powerful resources perfect for larger sites & ...   \n",
       "3      Pro  Ideal for high-traffic or eCommerce sites with...   \n",
       "4  WP Core                                                      \n",
       "\n",
       "  discounted_price normal_price discount  \\\n",
       "0            $2.99       $10.99      73%   \n",
       "1            $4.79       $13.99      66%   \n",
       "2            $4.79       $17.99      73%   \n",
       "3           $10.79       $24.99      57%   \n",
       "4            $3.49       $11.49      70%   \n",
       "\n",
       "                                            features  \n",
       "0  [Free domain & SSL, 2 Websites, 100GB SSD, Unl...  \n",
       "1  [Free domain & SSL, 25 Websites, Unlimited NVM...  \n",
       "2  [Free domain & SSL, Unlimited Websites, Unlimi...  \n",
       "3  [Free domain & SSL, Unlimited Websites, Unlimi...  \n",
       "4  [Free domain & SSL, 2 Websites, 100GB NVMe SSD...  "
      ]
     },
     "execution_count": 283,
     "metadata": {},
     "output_type": "execute_result"
    }
   ],
   "source": [
    "import pandas as pd\n",
    "\n",
    "df = pd.DataFrame(service_plan_data)\n",
    "df.to_csv('service_plan_data.csv', index=False)\n",
    "\n",
    "df.head()\n"
   ]
  }
 ],
 "metadata": {
  "kernelspec": {
   "display_name": "di_venv",
   "language": "python",
   "name": "python3"
  },
  "language_info": {
   "codemirror_mode": {
    "name": "ipython",
    "version": 3
   },
   "file_extension": ".py",
   "mimetype": "text/x-python",
   "name": "python",
   "nbconvert_exporter": "python",
   "pygments_lexer": "ipython3",
   "version": "3.12.3"
  }
 },
 "nbformat": 4,
 "nbformat_minor": 2
}
