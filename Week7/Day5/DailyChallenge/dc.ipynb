{
 "cells": [
  {
   "cell_type": "code",
   "execution_count": 68,
   "metadata": {},
   "outputs": [],
   "source": [
    "import openpyxl\n",
    "from openpyxl import Workbook\n",
    "\n",
    "wb = Workbook()\n",
    "\n",
    "ws = wb.active\n",
    "ws.title = \"Grades\""
   ]
  },
  {
   "cell_type": "code",
   "execution_count": 69,
   "metadata": {},
   "outputs": [],
   "source": [
    "# Adding header\n",
    "subjects = ['Math', 'Science', 'English', 'History', 'Geography', 'Art', 'Music', 'Physical Education']\n",
    "ws.append(['Name', *subjects])"
   ]
  },
  {
   "cell_type": "code",
   "execution_count": 70,
   "metadata": {},
   "outputs": [
    {
     "data": {
      "text/plain": [
       "(array([-1.8346006 , -0.3685844 , -0.55362199,  0.06582382, -0.64394952,\n",
       "         0.72515999, -0.2271025 ,  1.84414129, -0.45066605,  0.74259457]),\n",
       " array([[0.        ],\n",
       "        [0.        ],\n",
       "        [0.        ],\n",
       "        [0.06582382],\n",
       "        [0.        ],\n",
       "        [0.72515999],\n",
       "        [0.        ],\n",
       "        [1.84414129],\n",
       "        [0.        ],\n",
       "        [0.74259457]]))"
      ]
     },
     "execution_count": 70,
     "metadata": {},
     "output_type": "execute_result"
    }
   ],
   "source": [
    "x = np.random.randn(10, 1)\n",
    "\n",
    "x.flatten(), np.max(x, axis=-1, initial=0, keepdims=True)\n"
   ]
  },
  {
   "cell_type": "code",
   "execution_count": 71,
   "metadata": {},
   "outputs": [
    {
     "data": {
      "text/plain": [
       "array([100,   0,   0,  41,   0,  73,  90, 100])"
      ]
     },
     "execution_count": 71,
     "metadata": {},
     "output_type": "execute_result"
    }
   ],
   "source": [
    "import numpy as np\n",
    "\n",
    "# Here we generated grades with normal distribution capped at 0 and 100 for list of subjects\n",
    "# I guess it would be easier to make function for single subject and then apply it for list\n",
    "# but it was interesting to figure out how to do it in vectorized manner using numpy\n",
    "def generate_grades(mean, std, num_subjects, g_min=0, g_max=100):\n",
    "    grades = np.random.normal(mean, std, (num_subjects, 1))\n",
    "    return np.min(np.max(grades, axis=-1, initial=g_min, keepdims=True), axis=-1, initial=g_max).round().astype(int)\n",
    "\n",
    "generate_grades(50, 100, len(subjects))"
   ]
  },
  {
   "cell_type": "code",
   "execution_count": null,
   "metadata": {},
   "outputs": [],
   "source": [
    "from faker import Faker\n",
    "\n",
    "fake = Faker()\n",
    "\n",
    "n_students = 20\n",
    "for i in range(1, n_students + 1):\n",
    "    ws.append([fake.name(), *generate_grades(50, 20, len(subjects))])\n"
   ]
  },
  {
   "cell_type": "code",
   "execution_count": 75,
   "metadata": {},
   "outputs": [],
   "source": [
    "\n",
    "wb.save(\"grades.xlsx\")\n"
   ]
  },
  {
   "cell_type": "code",
   "execution_count": 76,
   "metadata": {},
   "outputs": [
    {
     "data": {
      "text/html": [
       "<div>\n",
       "<style scoped>\n",
       "    .dataframe tbody tr th:only-of-type {\n",
       "        vertical-align: middle;\n",
       "    }\n",
       "\n",
       "    .dataframe tbody tr th {\n",
       "        vertical-align: top;\n",
       "    }\n",
       "\n",
       "    .dataframe thead th {\n",
       "        text-align: right;\n",
       "    }\n",
       "</style>\n",
       "<table border=\"1\" class=\"dataframe\">\n",
       "  <thead>\n",
       "    <tr style=\"text-align: right;\">\n",
       "      <th></th>\n",
       "      <th>Name</th>\n",
       "      <th>Math</th>\n",
       "      <th>Science</th>\n",
       "      <th>English</th>\n",
       "      <th>History</th>\n",
       "      <th>Geography</th>\n",
       "      <th>Art</th>\n",
       "      <th>Music</th>\n",
       "      <th>Physical Education</th>\n",
       "    </tr>\n",
       "  </thead>\n",
       "  <tbody>\n",
       "    <tr>\n",
       "      <th>0</th>\n",
       "      <td>Teresa Hutchinson</td>\n",
       "      <td>14</td>\n",
       "      <td>52</td>\n",
       "      <td>83</td>\n",
       "      <td>61</td>\n",
       "      <td>16</td>\n",
       "      <td>50</td>\n",
       "      <td>44</td>\n",
       "      <td>41</td>\n",
       "    </tr>\n",
       "    <tr>\n",
       "      <th>1</th>\n",
       "      <td>Pedro Walker</td>\n",
       "      <td>57</td>\n",
       "      <td>54</td>\n",
       "      <td>37</td>\n",
       "      <td>35</td>\n",
       "      <td>32</td>\n",
       "      <td>63</td>\n",
       "      <td>85</td>\n",
       "      <td>46</td>\n",
       "    </tr>\n",
       "    <tr>\n",
       "      <th>2</th>\n",
       "      <td>Miss Shannon Morris</td>\n",
       "      <td>57</td>\n",
       "      <td>34</td>\n",
       "      <td>63</td>\n",
       "      <td>70</td>\n",
       "      <td>31</td>\n",
       "      <td>42</td>\n",
       "      <td>43</td>\n",
       "      <td>64</td>\n",
       "    </tr>\n",
       "    <tr>\n",
       "      <th>3</th>\n",
       "      <td>John Simpson</td>\n",
       "      <td>61</td>\n",
       "      <td>53</td>\n",
       "      <td>55</td>\n",
       "      <td>64</td>\n",
       "      <td>61</td>\n",
       "      <td>78</td>\n",
       "      <td>63</td>\n",
       "      <td>26</td>\n",
       "    </tr>\n",
       "    <tr>\n",
       "      <th>4</th>\n",
       "      <td>Charles Allen Jr.</td>\n",
       "      <td>63</td>\n",
       "      <td>82</td>\n",
       "      <td>92</td>\n",
       "      <td>31</td>\n",
       "      <td>35</td>\n",
       "      <td>50</td>\n",
       "      <td>55</td>\n",
       "      <td>50</td>\n",
       "    </tr>\n",
       "  </tbody>\n",
       "</table>\n",
       "</div>"
      ],
      "text/plain": [
       "                  Name  Math  Science  English  History  Geography  Art  \\\n",
       "0    Teresa Hutchinson    14       52       83       61         16   50   \n",
       "1         Pedro Walker    57       54       37       35         32   63   \n",
       "2  Miss Shannon Morris    57       34       63       70         31   42   \n",
       "3         John Simpson    61       53       55       64         61   78   \n",
       "4    Charles Allen Jr.    63       82       92       31         35   50   \n",
       "\n",
       "   Music  Physical Education  \n",
       "0     44                  41  \n",
       "1     85                  46  \n",
       "2     43                  64  \n",
       "3     63                  26  \n",
       "4     55                  50  "
      ]
     },
     "execution_count": 76,
     "metadata": {},
     "output_type": "execute_result"
    }
   ],
   "source": [
    "import pandas as pd\n",
    "\n",
    "ws_values = list(ws.values)\n",
    "\n",
    "# Just to check generated data\n",
    "df = pd.DataFrame(ws_values[1:], columns=ws_values[0])\n",
    "\n",
    "df.head()"
   ]
  },
  {
   "cell_type": "code",
   "execution_count": 77,
   "metadata": {},
   "outputs": [
    {
     "data": {
      "text/plain": [
       "'ABCDEFGHIJKLMNOPQRSTUVWXYZ'"
      ]
     },
     "execution_count": 77,
     "metadata": {},
     "output_type": "execute_result"
    }
   ],
   "source": [
    "from string import ascii_uppercase\n",
    "\n",
    "au = ascii_uppercase\n",
    "au\n"
   ]
  },
  {
   "cell_type": "code",
   "execution_count": 78,
   "metadata": {},
   "outputs": [],
   "source": [
    "ws.append(['Average', *[f'=AVERAGE({au[i]}{2}:{au[i]}{n_students + 1})' for i in range(1, len(subjects) + 1)]])"
   ]
  },
  {
   "cell_type": "code",
   "execution_count": 79,
   "metadata": {},
   "outputs": [
    {
     "data": {
      "text/plain": [
       "['Average',\n",
       " '=AVERAGE(B2:B21)',\n",
       " '=AVERAGE(C2:C21)',\n",
       " '=AVERAGE(D2:D21)',\n",
       " '=AVERAGE(E2:E21)',\n",
       " '=AVERAGE(F2:F21)',\n",
       " '=AVERAGE(G2:G21)',\n",
       " '=AVERAGE(H2:H21)',\n",
       " '=AVERAGE(I2:I21)']"
      ]
     },
     "execution_count": 79,
     "metadata": {},
     "output_type": "execute_result"
    }
   ],
   "source": [
    "[cell.value for cell in list(ws.rows)[-1]]"
   ]
  },
  {
   "cell_type": "code",
   "execution_count": 80,
   "metadata": {},
   "outputs": [],
   "source": [
    "wb.save(\"grades.xlsx\")"
   ]
  }
 ],
 "metadata": {
  "kernelspec": {
   "display_name": "di_venv",
   "language": "python",
   "name": "python3"
  },
  "language_info": {
   "codemirror_mode": {
    "name": "ipython",
    "version": 3
   },
   "file_extension": ".py",
   "mimetype": "text/x-python",
   "name": "python",
   "nbconvert_exporter": "python",
   "pygments_lexer": "ipython3",
   "version": "3.12.3"
  }
 },
 "nbformat": 4,
 "nbformat_minor": 2
}
