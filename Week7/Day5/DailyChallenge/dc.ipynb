{
 "cells": [
  {
   "cell_type": "code",
   "execution_count": 8,
   "metadata": {},
   "outputs": [],
   "source": [
    "import openpyxl\n",
    "from openpyxl import Workbook\n",
    "\n",
    "wb = Workbook()\n",
    "\n",
    "ws = wb.active\n",
    "ws.title = \"Grades\""
   ]
  },
  {
   "cell_type": "code",
   "execution_count": 9,
   "metadata": {},
   "outputs": [],
   "source": [
    "# Adding header\n",
    "subjects = ['Math', 'Science', 'English', 'History', 'Geography', 'Art', 'Music', 'Physical Education']\n",
    "ws.append(['Name', *subjects])"
   ]
  },
  {
   "cell_type": "code",
   "execution_count": 10,
   "metadata": {},
   "outputs": [
    {
     "data": {
      "text/plain": [
       "(array([-0.27431475, -0.03988255,  0.1977965 , -0.21004098,  1.31807076,\n",
       "         1.62013609, -0.01014858, -0.62412356,  2.91359987,  1.4142792 ]),\n",
       " array([[0.        ],\n",
       "        [0.        ],\n",
       "        [0.1977965 ],\n",
       "        [0.        ],\n",
       "        [1.31807076],\n",
       "        [1.62013609],\n",
       "        [0.        ],\n",
       "        [0.        ],\n",
       "        [2.91359987],\n",
       "        [1.4142792 ]]))"
      ]
     },
     "execution_count": 10,
     "metadata": {},
     "output_type": "execute_result"
    }
   ],
   "source": [
    "import numpy as np\n",
    "\n",
    "x = np.random.randn(10, 1)\n",
    "x.flatten(), np.max(x, axis=-1, initial=0, keepdims=True)\n"
   ]
  },
  {
   "cell_type": "code",
   "execution_count": 11,
   "metadata": {},
   "outputs": [
    {
     "data": {
      "text/plain": [
       "array([ 43,  37,  93, 100,  56,   0,   0, 100])"
      ]
     },
     "execution_count": 11,
     "metadata": {},
     "output_type": "execute_result"
    }
   ],
   "source": [
    "# Here we generated grades with normal distribution capped at 0 and 100 for list of subjects\n",
    "# I guess it would be easier to make function for single subject and then apply it for list\n",
    "# but it was interesting to figure out how to do it in vectorized manner using numpy\n",
    "def generate_grades(mean, std, num_subjects, g_min=0, g_max=100):\n",
    "    grades = np.random.normal(mean, std, (num_subjects, 1))\n",
    "    return np.min(np.max(grades, axis=-1, initial=g_min, keepdims=True), axis=-1, initial=g_max).round().astype(int)\n",
    "\n",
    "generate_grades(50, 100, len(subjects))"
   ]
  },
  {
   "cell_type": "code",
   "execution_count": 12,
   "metadata": {},
   "outputs": [],
   "source": [
    "from faker import Faker\n",
    "\n",
    "fake = Faker()\n",
    "\n",
    "n_students = 20\n",
    "for i in range(1, n_students + 1):\n",
    "    ws.append([fake.name(), *generate_grades(50, 20, len(subjects))])\n"
   ]
  },
  {
   "cell_type": "code",
   "execution_count": 13,
   "metadata": {},
   "outputs": [],
   "source": [
    "\n",
    "wb.save(\"grades.xlsx\")\n"
   ]
  },
  {
   "cell_type": "code",
   "execution_count": 14,
   "metadata": {},
   "outputs": [
    {
     "data": {
      "text/html": [
       "<div>\n",
       "<style scoped>\n",
       "    .dataframe tbody tr th:only-of-type {\n",
       "        vertical-align: middle;\n",
       "    }\n",
       "\n",
       "    .dataframe tbody tr th {\n",
       "        vertical-align: top;\n",
       "    }\n",
       "\n",
       "    .dataframe thead th {\n",
       "        text-align: right;\n",
       "    }\n",
       "</style>\n",
       "<table border=\"1\" class=\"dataframe\">\n",
       "  <thead>\n",
       "    <tr style=\"text-align: right;\">\n",
       "      <th></th>\n",
       "      <th>Name</th>\n",
       "      <th>Math</th>\n",
       "      <th>Science</th>\n",
       "      <th>English</th>\n",
       "      <th>History</th>\n",
       "      <th>Geography</th>\n",
       "      <th>Art</th>\n",
       "      <th>Music</th>\n",
       "      <th>Physical Education</th>\n",
       "    </tr>\n",
       "  </thead>\n",
       "  <tbody>\n",
       "    <tr>\n",
       "      <th>0</th>\n",
       "      <td>Andrew Washington</td>\n",
       "      <td>44</td>\n",
       "      <td>39</td>\n",
       "      <td>67</td>\n",
       "      <td>53</td>\n",
       "      <td>59</td>\n",
       "      <td>38</td>\n",
       "      <td>9</td>\n",
       "      <td>24</td>\n",
       "    </tr>\n",
       "    <tr>\n",
       "      <th>1</th>\n",
       "      <td>Joseph Davenport</td>\n",
       "      <td>60</td>\n",
       "      <td>59</td>\n",
       "      <td>17</td>\n",
       "      <td>98</td>\n",
       "      <td>57</td>\n",
       "      <td>36</td>\n",
       "      <td>73</td>\n",
       "      <td>68</td>\n",
       "    </tr>\n",
       "    <tr>\n",
       "      <th>2</th>\n",
       "      <td>Mrs. Hannah Mitchell</td>\n",
       "      <td>60</td>\n",
       "      <td>52</td>\n",
       "      <td>7</td>\n",
       "      <td>25</td>\n",
       "      <td>34</td>\n",
       "      <td>38</td>\n",
       "      <td>39</td>\n",
       "      <td>32</td>\n",
       "    </tr>\n",
       "    <tr>\n",
       "      <th>3</th>\n",
       "      <td>Joseph Smith</td>\n",
       "      <td>33</td>\n",
       "      <td>57</td>\n",
       "      <td>66</td>\n",
       "      <td>48</td>\n",
       "      <td>67</td>\n",
       "      <td>83</td>\n",
       "      <td>34</td>\n",
       "      <td>63</td>\n",
       "    </tr>\n",
       "    <tr>\n",
       "      <th>4</th>\n",
       "      <td>Amanda Hoover</td>\n",
       "      <td>62</td>\n",
       "      <td>0</td>\n",
       "      <td>48</td>\n",
       "      <td>55</td>\n",
       "      <td>55</td>\n",
       "      <td>25</td>\n",
       "      <td>39</td>\n",
       "      <td>73</td>\n",
       "    </tr>\n",
       "  </tbody>\n",
       "</table>\n",
       "</div>"
      ],
      "text/plain": [
       "                   Name  Math  Science  English  History  Geography  Art  \\\n",
       "0     Andrew Washington    44       39       67       53         59   38   \n",
       "1      Joseph Davenport    60       59       17       98         57   36   \n",
       "2  Mrs. Hannah Mitchell    60       52        7       25         34   38   \n",
       "3          Joseph Smith    33       57       66       48         67   83   \n",
       "4         Amanda Hoover    62        0       48       55         55   25   \n",
       "\n",
       "   Music  Physical Education  \n",
       "0      9                  24  \n",
       "1     73                  68  \n",
       "2     39                  32  \n",
       "3     34                  63  \n",
       "4     39                  73  "
      ]
     },
     "execution_count": 14,
     "metadata": {},
     "output_type": "execute_result"
    }
   ],
   "source": [
    "import pandas as pd\n",
    "\n",
    "ws_values = list(ws.values)\n",
    "\n",
    "# Just to check generated data\n",
    "df = pd.DataFrame(ws_values[1:], columns=ws_values[0])\n",
    "\n",
    "df.head()"
   ]
  },
  {
   "cell_type": "code",
   "execution_count": 15,
   "metadata": {},
   "outputs": [
    {
     "data": {
      "text/plain": [
       "'ABCDEFGHIJKLMNOPQRSTUVWXYZ'"
      ]
     },
     "execution_count": 15,
     "metadata": {},
     "output_type": "execute_result"
    }
   ],
   "source": [
    "from string import ascii_uppercase\n",
    "\n",
    "au = ascii_uppercase\n",
    "au\n"
   ]
  },
  {
   "cell_type": "code",
   "execution_count": 16,
   "metadata": {},
   "outputs": [],
   "source": [
    "ws.append(['Average', *[f'=AVERAGE({au[i]}{2}:{au[i]}{n_students + 1})' for i in range(1, len(subjects) + 1)]])"
   ]
  },
  {
   "cell_type": "code",
   "execution_count": 17,
   "metadata": {},
   "outputs": [
    {
     "data": {
      "text/plain": [
       "['Average',\n",
       " '=AVERAGE(B2:B21)',\n",
       " '=AVERAGE(C2:C21)',\n",
       " '=AVERAGE(D2:D21)',\n",
       " '=AVERAGE(E2:E21)',\n",
       " '=AVERAGE(F2:F21)',\n",
       " '=AVERAGE(G2:G21)',\n",
       " '=AVERAGE(H2:H21)',\n",
       " '=AVERAGE(I2:I21)']"
      ]
     },
     "execution_count": 17,
     "metadata": {},
     "output_type": "execute_result"
    }
   ],
   "source": [
    "[cell.value for cell in list(ws.rows)[-1]]"
   ]
  },
  {
   "cell_type": "code",
   "execution_count": 19,
   "metadata": {},
   "outputs": [],
   "source": [
    "from openpyxl.styles import Font, PatternFill\n",
    "\n",
    "header_font = Font(bold=True, color=\"FFFFFF\")\n",
    "header_fill = PatternFill(start_color=\"0000FF\", end_color=\"0000FF\", fill_type=\"solid\")\n",
    "\n",
    "for cell in ws[1]:\n",
    "    cell.font = header_font\n",
    "    cell.fill = header_fill\n"
   ]
  },
  {
   "cell_type": "code",
   "execution_count": 20,
   "metadata": {},
   "outputs": [],
   "source": [
    "wb.save(\"grades.xlsx\")"
   ]
  }
 ],
 "metadata": {
  "kernelspec": {
   "display_name": "di_venv",
   "language": "python",
   "name": "python3"
  },
  "language_info": {
   "codemirror_mode": {
    "name": "ipython",
    "version": 3
   },
   "file_extension": ".py",
   "mimetype": "text/x-python",
   "name": "python",
   "nbconvert_exporter": "python",
   "pygments_lexer": "ipython3",
   "version": "3.12.3"
  }
 },
 "nbformat": 4,
 "nbformat_minor": 2
}
