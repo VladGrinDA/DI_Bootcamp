{
 "cells": [
  {
   "cell_type": "code",
   "execution_count": 2,
   "metadata": {},
   "outputs": [
    {
     "data": {
      "text/plain": [
       "'example_workbook.xlsx'"
      ]
     },
     "execution_count": 2,
     "metadata": {},
     "output_type": "execute_result"
    }
   ],
   "source": [
    "from openpyxl import Workbook\n",
    "from openpyxl.utils.dataframe import dataframe_to_rows\n",
    "from openpyxl.styles import Alignment, PatternFill\n",
    "import pandas as pd\n",
    "\n",
    "wb = Workbook()\n",
    "\n",
    "data_sheet = wb.active\n",
    "data_sheet.title = \"DataSheet\"\n",
    "summary_sheet = wb.create_sheet(title=\"SummarySheet\")\n",
    "\n",
    "data_sheet.append([\"ID\", \"Name\", \"Age\"])\n",
    "data_sheet.append([1, \"Alice\", 30])\n",
    "data_sheet.append([2, \"Bob\", 24])\n",
    "\n",
    "data_sheet.merge_cells(\"B1:D1\")\n",
    "data_sheet[\"B1\"].value = \"Merged Header\"\n",
    "data_sheet[\"B1\"].alignment = Alignment(horizontal=\"center\", vertical=\"center\")\n",
    "\n",
    "blue_fill = PatternFill(start_color=\"0000FF\", end_color=\"0000FF\", fill_type=\"solid\")\n",
    "data_sheet[\"B1\"].fill = blue_fill\n",
    "\n",
    "df = pd.DataFrame({\n",
    "    \"Product\": [\"Laptop\", \"Phone\", \"Tablet\"],\n",
    "    \"Price\": [1000, 500, 300],\n",
    "    \"Quantity\": [10, 20, 15]\n",
    "})\n",
    "\n",
    "for r_idx, row in enumerate(dataframe_to_rows(df, index=False, header=True), 1):\n",
    "    for c_idx, value in enumerate(row, 1):\n",
    "        summary_sheet.cell(row=r_idx, column=c_idx, value=value)\n",
    "\n",
    "file_path = \"example_workbook.xlsx\"\n",
    "wb.save(file_path)\n",
    "\n",
    "file_path"
   ]
  },
  {
   "cell_type": "code",
   "execution_count": null,
   "metadata": {},
   "outputs": [],
   "source": []
  }
 ],
 "metadata": {
  "kernelspec": {
   "display_name": "di_venv",
   "language": "python",
   "name": "python3"
  },
  "language_info": {
   "codemirror_mode": {
    "name": "ipython",
    "version": 3
   },
   "file_extension": ".py",
   "mimetype": "text/x-python",
   "name": "python",
   "nbconvert_exporter": "python",
   "pygments_lexer": "ipython3",
   "version": "3.12.3"
  }
 },
 "nbformat": 4,
 "nbformat_minor": 2
}
