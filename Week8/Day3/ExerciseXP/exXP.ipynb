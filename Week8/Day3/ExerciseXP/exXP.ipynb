{
  "cells": [
    {
      "cell_type": "markdown",
      "metadata": {
        "id": "DeHt0ZK0kkpI"
      },
      "source": [
        "The AB test is a randomized experiment that is used by most large companies to evaluate the launch of new functionality. Various difficulties may arise in the analysis and conduct of the experiment. Several typical problematic cases from real life are given in this dataset and analysis."
      ]
    },
    {
      "cell_type": "markdown",
      "metadata": {
        "id": "Zm0ogtm1kkpI"
      },
      "source": [
        "### Content\n",
        "1. [Loading and processing data](#Loading)\n",
        "2. [Statistical Analysis](#Statistical)\n",
        "3. [Conclusions](#Conclusions)"
      ]
    },
    {
      "cell_type": "markdown",
      "metadata": {
        "id": "bn40N7ilkkpJ"
      },
      "source": [
        "### Loading and processing data <a name=\"Loading\"/>"
      ]
    },
    {
      "cell_type": "markdown",
      "metadata": {
        "id": "fh03NWZxkkpJ"
      },
      "source": [
        "Let's import the necessary libraries and load the data"
      ]
    },
    {
      "cell_type": "code",
      "execution_count": 274,
      "metadata": {
        "execution": {
          "iopub.execute_input": "2022-09-16T18:23:22.571662Z",
          "iopub.status.busy": "2022-09-16T18:23:22.571234Z",
          "iopub.status.idle": "2022-09-16T18:23:22.579386Z",
          "shell.execute_reply": "2022-09-16T18:23:22.577863Z",
          "shell.execute_reply.started": "2022-09-16T18:23:22.571624Z"
        },
        "id": "jKi9SDP2kkpJ",
        "trusted": true
      },
      "outputs": [],
      "source": [
        "import numpy as np\n",
        "import pandas as pd\n",
        "from scipy.stats import mannwhitneyu\n",
        "from scipy.stats import ttest_ind\n",
        "from scipy.stats import norm\n",
        "import matplotlib.pyplot as plt\n",
        "import seaborn as sns\n",
        "from tqdm.auto import tqdm\n",
        "import seaborn as sns\n",
        "from scipy.stats import pearsonr\n",
        "from scipy.stats import shapiro\n",
        "\n",
        "# Set display options to limit the number of rows shown in pandas output\n",
        "pd.set_option('display.max_rows', 15)\n",
        "pd.set_option('display.max_columns', None)\n",
        "pd.set_option('display.width', None)\n"
      ]
    },
    {
      "cell_type": "code",
      "execution_count": 236,
      "metadata": {
        "execution": {
          "iopub.execute_input": "2022-09-16T18:23:22.584216Z",
          "iopub.status.busy": "2022-09-16T18:23:22.582829Z",
          "iopub.status.idle": "2022-09-16T18:23:22.604701Z",
          "shell.execute_reply": "2022-09-16T18:23:22.603788Z",
          "shell.execute_reply.started": "2022-09-16T18:23:22.584166Z"
        },
        "id": "5CAgSuFlkkpJ",
        "trusted": true
      },
      "outputs": [
        {
          "data": {
            "text/html": [
              "<div>\n",
              "<style scoped>\n",
              "    .dataframe tbody tr th:only-of-type {\n",
              "        vertical-align: middle;\n",
              "    }\n",
              "\n",
              "    .dataframe tbody tr th {\n",
              "        vertical-align: top;\n",
              "    }\n",
              "\n",
              "    .dataframe thead th {\n",
              "        text-align: right;\n",
              "    }\n",
              "</style>\n",
              "<table border=\"1\" class=\"dataframe\">\n",
              "  <thead>\n",
              "    <tr style=\"text-align: right;\">\n",
              "      <th></th>\n",
              "      <th>USER_ID</th>\n",
              "      <th>VARIANT_NAME</th>\n",
              "      <th>REVENUE</th>\n",
              "    </tr>\n",
              "  </thead>\n",
              "  <tbody>\n",
              "    <tr>\n",
              "      <th>0</th>\n",
              "      <td>737</td>\n",
              "      <td>variant</td>\n",
              "      <td>0.0</td>\n",
              "    </tr>\n",
              "    <tr>\n",
              "      <th>1</th>\n",
              "      <td>2423</td>\n",
              "      <td>control</td>\n",
              "      <td>0.0</td>\n",
              "    </tr>\n",
              "    <tr>\n",
              "      <th>2</th>\n",
              "      <td>9411</td>\n",
              "      <td>control</td>\n",
              "      <td>0.0</td>\n",
              "    </tr>\n",
              "    <tr>\n",
              "      <th>3</th>\n",
              "      <td>7311</td>\n",
              "      <td>control</td>\n",
              "      <td>0.0</td>\n",
              "    </tr>\n",
              "    <tr>\n",
              "      <th>4</th>\n",
              "      <td>6174</td>\n",
              "      <td>variant</td>\n",
              "      <td>0.0</td>\n",
              "    </tr>\n",
              "  </tbody>\n",
              "</table>\n",
              "</div>"
            ],
            "text/plain": [
              "   USER_ID VARIANT_NAME  REVENUE\n",
              "0      737      variant      0.0\n",
              "1     2423      control      0.0\n",
              "2     9411      control      0.0\n",
              "3     7311      control      0.0\n",
              "4     6174      variant      0.0"
            ]
          },
          "execution_count": 236,
          "metadata": {},
          "output_type": "execute_result"
        }
      ],
      "source": [
        "df = pd.read_csv('AB_Test_Results.csv')\n",
        "df.head()"
      ]
    },
    {
      "cell_type": "code",
      "execution_count": 237,
      "metadata": {},
      "outputs": [],
      "source": [
        "df.columns = ['user_id', 'variant_name', 'revenue']"
      ]
    },
    {
      "cell_type": "code",
      "execution_count": 238,
      "metadata": {},
      "outputs": [],
      "source": [
        "df.user_id = df.user_id.astype(str)"
      ]
    },
    {
      "cell_type": "code",
      "execution_count": 239,
      "metadata": {
        "execution": {
          "iopub.execute_input": "2022-09-16T18:23:22.607393Z",
          "iopub.status.busy": "2022-09-16T18:23:22.606556Z",
          "iopub.status.idle": "2022-09-16T18:23:22.621022Z",
          "shell.execute_reply": "2022-09-16T18:23:22.619749Z",
          "shell.execute_reply.started": "2022-09-16T18:23:22.607349Z"
        },
        "id": "1nvLy1dIkkpK",
        "trusted": true
      },
      "outputs": [
        {
          "name": "stdout",
          "output_type": "stream",
          "text": [
            "<class 'pandas.core.frame.DataFrame'>\n",
            "RangeIndex: 10000 entries, 0 to 9999\n",
            "Data columns (total 3 columns):\n",
            " #   Column        Non-Null Count  Dtype  \n",
            "---  ------        --------------  -----  \n",
            " 0   user_id       10000 non-null  object \n",
            " 1   variant_name  10000 non-null  object \n",
            " 2   revenue       10000 non-null  float64\n",
            "dtypes: float64(1), object(2)\n",
            "memory usage: 234.5+ KB\n"
          ]
        }
      ],
      "source": [
        "df.info()"
      ]
    },
    {
      "cell_type": "code",
      "execution_count": 240,
      "metadata": {},
      "outputs": [
        {
          "data": {
            "text/html": [
              "<div>\n",
              "<style scoped>\n",
              "    .dataframe tbody tr th:only-of-type {\n",
              "        vertical-align: middle;\n",
              "    }\n",
              "\n",
              "    .dataframe tbody tr th {\n",
              "        vertical-align: top;\n",
              "    }\n",
              "\n",
              "    .dataframe thead th {\n",
              "        text-align: right;\n",
              "    }\n",
              "</style>\n",
              "<table border=\"1\" class=\"dataframe\">\n",
              "  <thead>\n",
              "    <tr style=\"text-align: right;\">\n",
              "      <th></th>\n",
              "      <th>revenue</th>\n",
              "    </tr>\n",
              "  </thead>\n",
              "  <tbody>\n",
              "    <tr>\n",
              "      <th>count</th>\n",
              "      <td>10000.000000</td>\n",
              "    </tr>\n",
              "    <tr>\n",
              "      <th>mean</th>\n",
              "      <td>0.099447</td>\n",
              "    </tr>\n",
              "    <tr>\n",
              "      <th>std</th>\n",
              "      <td>2.318529</td>\n",
              "    </tr>\n",
              "    <tr>\n",
              "      <th>min</th>\n",
              "      <td>0.000000</td>\n",
              "    </tr>\n",
              "    <tr>\n",
              "      <th>25%</th>\n",
              "      <td>0.000000</td>\n",
              "    </tr>\n",
              "    <tr>\n",
              "      <th>50%</th>\n",
              "      <td>0.000000</td>\n",
              "    </tr>\n",
              "    <tr>\n",
              "      <th>75%</th>\n",
              "      <td>0.000000</td>\n",
              "    </tr>\n",
              "    <tr>\n",
              "      <th>max</th>\n",
              "      <td>196.010000</td>\n",
              "    </tr>\n",
              "  </tbody>\n",
              "</table>\n",
              "</div>"
            ],
            "text/plain": [
              "            revenue\n",
              "count  10000.000000\n",
              "mean       0.099447\n",
              "std        2.318529\n",
              "min        0.000000\n",
              "25%        0.000000\n",
              "50%        0.000000\n",
              "75%        0.000000\n",
              "max      196.010000"
            ]
          },
          "execution_count": 240,
          "metadata": {},
          "output_type": "execute_result"
        }
      ],
      "source": [
        "df.describe()"
      ]
    },
    {
      "cell_type": "code",
      "execution_count": 241,
      "metadata": {},
      "outputs": [
        {
          "data": {
            "text/html": [
              "<div>\n",
              "<style scoped>\n",
              "    .dataframe tbody tr th:only-of-type {\n",
              "        vertical-align: middle;\n",
              "    }\n",
              "\n",
              "    .dataframe tbody tr th {\n",
              "        vertical-align: top;\n",
              "    }\n",
              "\n",
              "    .dataframe thead th {\n",
              "        text-align: right;\n",
              "    }\n",
              "</style>\n",
              "<table border=\"1\" class=\"dataframe\">\n",
              "  <thead>\n",
              "    <tr style=\"text-align: right;\">\n",
              "      <th></th>\n",
              "      <th>user_id</th>\n",
              "      <th>variant_name</th>\n",
              "    </tr>\n",
              "  </thead>\n",
              "  <tbody>\n",
              "    <tr>\n",
              "      <th>count</th>\n",
              "      <td>10000</td>\n",
              "      <td>10000</td>\n",
              "    </tr>\n",
              "    <tr>\n",
              "      <th>unique</th>\n",
              "      <td>6324</td>\n",
              "      <td>2</td>\n",
              "    </tr>\n",
              "    <tr>\n",
              "      <th>top</th>\n",
              "      <td>4879</td>\n",
              "      <td>variant</td>\n",
              "    </tr>\n",
              "    <tr>\n",
              "      <th>freq</th>\n",
              "      <td>6</td>\n",
              "      <td>5016</td>\n",
              "    </tr>\n",
              "  </tbody>\n",
              "</table>\n",
              "</div>"
            ],
            "text/plain": [
              "       user_id variant_name\n",
              "count    10000        10000\n",
              "unique    6324            2\n",
              "top       4879      variant\n",
              "freq         6         5016"
            ]
          },
          "execution_count": 241,
          "metadata": {},
          "output_type": "execute_result"
        }
      ],
      "source": [
        "df.describe(include='object')"
      ]
    },
    {
      "cell_type": "markdown",
      "metadata": {
        "id": "gvcmP9L5kkpL"
      },
      "source": [
        "Let's see if there are users who have two A/B test groups"
      ]
    },
    {
      "cell_type": "code",
      "execution_count": 242,
      "metadata": {},
      "outputs": [
        {
          "data": {
            "text/plain": [
              "variant_name\n",
              "variant    5016\n",
              "control    4984\n",
              "Name: count, dtype: int64"
            ]
          },
          "execution_count": 242,
          "metadata": {},
          "output_type": "execute_result"
        }
      ],
      "source": [
        "df.variant_name.value_counts()"
      ]
    },
    {
      "cell_type": "code",
      "execution_count": 243,
      "metadata": {
        "execution": {
          "iopub.execute_input": "2022-09-16T18:23:22.660468Z",
          "iopub.status.busy": "2022-09-16T18:23:22.659897Z",
          "iopub.status.idle": "2022-09-16T18:23:22.673751Z",
          "shell.execute_reply": "2022-09-16T18:23:22.672845Z",
          "shell.execute_reply.started": "2022-09-16T18:23:22.660438Z"
        },
        "id": "sQfYwAcWkkpL",
        "trusted": true
      },
      "outputs": [
        {
          "data": {
            "image/png": "[encoded data removed]",
            "text/plain": [
              "<Figure size 1000x600 with 1 Axes>"
            ]
          },
          "metadata": {},
          "output_type": "display_data"
        }
      ],
      "source": [
        "user_group_counts = df.groupby('user_id')['variant_name'].nunique()\n",
        "\n",
        "\n",
        "plt.figure(figsize=(10, 6))\n",
        "counts = user_group_counts.value_counts().sort_index()\n",
        "ax = counts.plot(kind='bar')\n",
        "plt.title('Distribution of Unique A/B Test Groups per User')\n",
        "plt.xlabel('Number of Unique Groups')\n",
        "plt.ylabel('Count of Users')\n",
        "plt.xticks(rotation=0)\n",
        "\n",
        "for i, v in enumerate(counts):\n",
        "    ax.text(i, v, str(v), ha='center', va='bottom')\n",
        "\n",
        "plt.show()\n"
      ]
    },
    {
      "cell_type": "code",
      "execution_count": 244,
      "metadata": {
        "execution": {
          "iopub.execute_input": "2022-09-16T18:23:22.675698Z",
          "iopub.status.busy": "2022-09-16T18:23:22.675099Z",
          "iopub.status.idle": "2022-09-16T18:23:22.683077Z",
          "shell.execute_reply": "2022-09-16T18:23:22.682019Z",
          "shell.execute_reply.started": "2022-09-16T18:23:22.675666Z"
        },
        "id": "X7D5HpjdkkpM",
        "trusted": true
      },
      "outputs": [
        {
          "name": "stdout",
          "output_type": "stream",
          "text": [
            "Persentage of users in both categories: 24.37 %\n"
          ]
        }
      ],
      "source": [
        "user_both_groups = user_group_counts[user_group_counts > 1]\n",
        "print(f'Persentage of users in both categories: {float(len(user_both_groups) / len(user_group_counts)) * 100:.2f} %')"
      ]
    },
    {
      "cell_type": "markdown",
      "metadata": {
        "id": "gyhapbJkkkpM"
      },
      "source": [
        "What can you observe ? Should we exclude these users ? Why ?"
      ]
    },
    {
      "cell_type": "code",
      "execution_count": 245,
      "metadata": {},
      "outputs": [],
      "source": [
        "df_old = df.copy()"
      ]
    },
    {
      "cell_type": "code",
      "execution_count": 246,
      "metadata": {
        "execution": {
          "iopub.execute_input": "2022-09-16T18:23:22.68523Z",
          "iopub.status.busy": "2022-09-16T18:23:22.684621Z",
          "iopub.status.idle": "2022-09-16T18:23:22.704635Z",
          "shell.execute_reply": "2022-09-16T18:23:22.70344Z",
          "shell.execute_reply.started": "2022-09-16T18:23:22.685198Z"
        },
        "id": "MNRylCuikkpM",
        "trusted": true
      },
      "outputs": [
        {
          "data": {
            "text/html": [
              "<div>\n",
              "<style scoped>\n",
              "    .dataframe tbody tr th:only-of-type {\n",
              "        vertical-align: middle;\n",
              "    }\n",
              "\n",
              "    .dataframe tbody tr th {\n",
              "        vertical-align: top;\n",
              "    }\n",
              "\n",
              "    .dataframe thead th {\n",
              "        text-align: right;\n",
              "    }\n",
              "</style>\n",
              "<table border=\"1\" class=\"dataframe\">\n",
              "  <thead>\n",
              "    <tr style=\"text-align: right;\">\n",
              "      <th></th>\n",
              "      <th>user_id</th>\n",
              "      <th>variant_name</th>\n",
              "      <th>revenue</th>\n",
              "    </tr>\n",
              "  </thead>\n",
              "  <tbody>\n",
              "    <tr>\n",
              "      <th>0</th>\n",
              "      <td>737</td>\n",
              "      <td>variant</td>\n",
              "      <td>0.0</td>\n",
              "    </tr>\n",
              "    <tr>\n",
              "      <th>1</th>\n",
              "      <td>2423</td>\n",
              "      <td>control</td>\n",
              "      <td>0.0</td>\n",
              "    </tr>\n",
              "    <tr>\n",
              "      <th>2</th>\n",
              "      <td>9411</td>\n",
              "      <td>control</td>\n",
              "      <td>0.0</td>\n",
              "    </tr>\n",
              "    <tr>\n",
              "      <th>3</th>\n",
              "      <td>7311</td>\n",
              "      <td>control</td>\n",
              "      <td>0.0</td>\n",
              "    </tr>\n",
              "    <tr>\n",
              "      <th>4</th>\n",
              "      <td>6174</td>\n",
              "      <td>variant</td>\n",
              "      <td>0.0</td>\n",
              "    </tr>\n",
              "    <tr>\n",
              "      <th>...</th>\n",
              "      <td>...</td>\n",
              "      <td>...</td>\n",
              "      <td>...</td>\n",
              "    </tr>\n",
              "    <tr>\n",
              "      <th>9994</th>\n",
              "      <td>3129</td>\n",
              "      <td>control</td>\n",
              "      <td>0.0</td>\n",
              "    </tr>\n",
              "    <tr>\n",
              "      <th>9995</th>\n",
              "      <td>1981</td>\n",
              "      <td>control</td>\n",
              "      <td>0.0</td>\n",
              "    </tr>\n",
              "    <tr>\n",
              "      <th>9996</th>\n",
              "      <td>502</td>\n",
              "      <td>variant</td>\n",
              "      <td>0.0</td>\n",
              "    </tr>\n",
              "    <tr>\n",
              "      <th>9998</th>\n",
              "      <td>7741</td>\n",
              "      <td>control</td>\n",
              "      <td>0.0</td>\n",
              "    </tr>\n",
              "    <tr>\n",
              "      <th>9999</th>\n",
              "      <td>9468</td>\n",
              "      <td>control</td>\n",
              "      <td>0.0</td>\n",
              "    </tr>\n",
              "  </tbody>\n",
              "</table>\n",
              "<p>8028 rows × 3 columns</p>\n",
              "</div>"
            ],
            "text/plain": [
              "     user_id variant_name  revenue\n",
              "0        737      variant      0.0\n",
              "1       2423      control      0.0\n",
              "2       9411      control      0.0\n",
              "3       7311      control      0.0\n",
              "4       6174      variant      0.0\n",
              "...      ...          ...      ...\n",
              "9994    3129      control      0.0\n",
              "9995    1981      control      0.0\n",
              "9996     502      variant      0.0\n",
              "9998    7741      control      0.0\n",
              "9999    9468      control      0.0\n",
              "\n",
              "[8028 rows x 3 columns]"
            ]
          },
          "execution_count": 246,
          "metadata": {},
          "output_type": "execute_result"
        }
      ],
      "source": [
        "df = df[~((df.user_id.isin(user_both_groups.index)) & (df.variant_name == 'variant'))]\n",
        "df"
      ]
    },
    {
      "cell_type": "code",
      "execution_count": 247,
      "metadata": {},
      "outputs": [
        {
          "data": {
            "text/plain": [
              "True"
            ]
          },
          "execution_count": 247,
          "metadata": {},
          "output_type": "execute_result"
        }
      ],
      "source": [
        "df.user_id.nunique() ==  df_old.user_id.nunique()"
      ]
    },
    {
      "cell_type": "code",
      "execution_count": 248,
      "metadata": {},
      "outputs": [
        {
          "data": {
            "text/plain": [
              "variant_name\n",
              "control    4984\n",
              "variant    3044\n",
              "Name: count, dtype: int64"
            ]
          },
          "execution_count": 248,
          "metadata": {},
          "output_type": "execute_result"
        }
      ],
      "source": [
        "df.variant_name.value_counts()"
      ]
    },
    {
      "cell_type": "markdown",
      "metadata": {
        "id": "Vpvcse3pkkpM"
      },
      "source": [
        "Let's see how the data is distributed"
      ]
    },
    {
      "cell_type": "code",
      "execution_count": 249,
      "metadata": {},
      "outputs": [
        {
          "data": {
            "text/html": [
              "<div>\n",
              "<style scoped>\n",
              "    .dataframe tbody tr th:only-of-type {\n",
              "        vertical-align: middle;\n",
              "    }\n",
              "\n",
              "    .dataframe tbody tr th {\n",
              "        vertical-align: top;\n",
              "    }\n",
              "\n",
              "    .dataframe thead th {\n",
              "        text-align: right;\n",
              "    }\n",
              "</style>\n",
              "<table border=\"1\" class=\"dataframe\">\n",
              "  <thead>\n",
              "    <tr style=\"text-align: right;\">\n",
              "      <th></th>\n",
              "      <th>revenue</th>\n",
              "    </tr>\n",
              "  </thead>\n",
              "  <tbody>\n",
              "    <tr>\n",
              "      <th>count</th>\n",
              "      <td>8028.000000</td>\n",
              "    </tr>\n",
              "    <tr>\n",
              "      <th>mean</th>\n",
              "      <td>0.102431</td>\n",
              "    </tr>\n",
              "    <tr>\n",
              "      <th>std</th>\n",
              "      <td>2.415657</td>\n",
              "    </tr>\n",
              "    <tr>\n",
              "      <th>min</th>\n",
              "      <td>0.000000</td>\n",
              "    </tr>\n",
              "    <tr>\n",
              "      <th>25%</th>\n",
              "      <td>0.000000</td>\n",
              "    </tr>\n",
              "    <tr>\n",
              "      <th>50%</th>\n",
              "      <td>0.000000</td>\n",
              "    </tr>\n",
              "    <tr>\n",
              "      <th>75%</th>\n",
              "      <td>0.000000</td>\n",
              "    </tr>\n",
              "    <tr>\n",
              "      <th>max</th>\n",
              "      <td>196.010000</td>\n",
              "    </tr>\n",
              "  </tbody>\n",
              "</table>\n",
              "</div>"
            ],
            "text/plain": [
              "           revenue\n",
              "count  8028.000000\n",
              "mean      0.102431\n",
              "std       2.415657\n",
              "min       0.000000\n",
              "25%       0.000000\n",
              "50%       0.000000\n",
              "75%       0.000000\n",
              "max     196.010000"
            ]
          },
          "execution_count": 249,
          "metadata": {},
          "output_type": "execute_result"
        }
      ],
      "source": [
        "df.describe()"
      ]
    },
    {
      "cell_type": "code",
      "execution_count": 250,
      "metadata": {},
      "outputs": [
        {
          "name": "stdout",
          "output_type": "stream",
          "text": [
            "Percentage of observations with 0 revenue: 98.47 % (7905)\n"
          ]
        }
      ],
      "source": [
        "print(f'Percentage of observations with 0 revenue: {(df.revenue == 0).mean() * 100:.2f} % ({(df.revenue == 0).sum()})')"
      ]
    },
    {
      "cell_type": "code",
      "execution_count": 251,
      "metadata": {
        "execution": {
          "iopub.execute_input": "2022-09-16T18:23:22.723766Z",
          "iopub.status.busy": "2022-09-16T18:23:22.722862Z",
          "iopub.status.idle": "2022-09-16T18:23:22.98119Z",
          "shell.execute_reply": "2022-09-16T18:23:22.980008Z",
          "shell.execute_reply.started": "2022-09-16T18:23:22.723732Z"
        },
        "id": "EW1ZGmsukkpN",
        "trusted": true
      },
      "outputs": [
        {
          "data": {
            "image/png": "[encoded data removed]",
            "text/plain": [
              "<Figure size 1000x600 with 1 Axes>"
            ]
          },
          "metadata": {},
          "output_type": "display_data"
        }
      ],
      "source": [
        "plt.figure(figsize=(10, 6))\n",
        "sns.histplot(df.loc[df.revenue > 0, 'revenue'], bins=50, log_scale=True)\n",
        "plt.title('Distribution of Revenue')\n",
        "plt.xlabel('Revenue (Log)')\n",
        "plt.ylabel('Count')\n",
        "plt.show()\n"
      ]
    },
    {
      "cell_type": "markdown",
      "metadata": {
        "id": "Hlp3psWykkpN"
      },
      "source": [
        "It can be seen that there is a strong outlier in the data - we will find it by sorting these revenue values in descending order"
      ]
    },
    {
      "cell_type": "code",
      "execution_count": 252,
      "metadata": {
        "execution": {
          "iopub.execute_input": "2022-09-16T18:23:22.987116Z",
          "iopub.status.busy": "2022-09-16T18:23:22.986753Z",
          "iopub.status.idle": "2022-09-16T18:23:23.005356Z",
          "shell.execute_reply": "2022-09-16T18:23:23.004381Z",
          "shell.execute_reply.started": "2022-09-16T18:23:22.987087Z"
        },
        "id": "9O6xaJmOkkpN",
        "trusted": true
      },
      "outputs": [
        {
          "data": {
            "text/html": [
              "<div>\n",
              "<style scoped>\n",
              "    .dataframe tbody tr th:only-of-type {\n",
              "        vertical-align: middle;\n",
              "    }\n",
              "\n",
              "    .dataframe tbody tr th {\n",
              "        vertical-align: top;\n",
              "    }\n",
              "\n",
              "    .dataframe thead th {\n",
              "        text-align: right;\n",
              "    }\n",
              "</style>\n",
              "<table border=\"1\" class=\"dataframe\">\n",
              "  <thead>\n",
              "    <tr style=\"text-align: right;\">\n",
              "      <th></th>\n",
              "      <th>user_id</th>\n",
              "      <th>variant_name</th>\n",
              "      <th>revenue</th>\n",
              "    </tr>\n",
              "  </thead>\n",
              "  <tbody>\n",
              "    <tr>\n",
              "      <th>1437</th>\n",
              "      <td>3342</td>\n",
              "      <td>control</td>\n",
              "      <td>196.01</td>\n",
              "    </tr>\n",
              "    <tr>\n",
              "      <th>9421</th>\n",
              "      <td>6792</td>\n",
              "      <td>control</td>\n",
              "      <td>41.53</td>\n",
              "    </tr>\n",
              "    <tr>\n",
              "      <th>8168</th>\n",
              "      <td>2166</td>\n",
              "      <td>control</td>\n",
              "      <td>29.32</td>\n",
              "    </tr>\n",
              "    <tr>\n",
              "      <th>9125</th>\n",
              "      <td>831</td>\n",
              "      <td>control</td>\n",
              "      <td>25.98</td>\n",
              "    </tr>\n",
              "    <tr>\n",
              "      <th>2482</th>\n",
              "      <td>7356</td>\n",
              "      <td>variant</td>\n",
              "      <td>23.04</td>\n",
              "    </tr>\n",
              "    <tr>\n",
              "      <th>...</th>\n",
              "      <td>...</td>\n",
              "      <td>...</td>\n",
              "      <td>...</td>\n",
              "    </tr>\n",
              "    <tr>\n",
              "      <th>9994</th>\n",
              "      <td>3129</td>\n",
              "      <td>control</td>\n",
              "      <td>0.00</td>\n",
              "    </tr>\n",
              "    <tr>\n",
              "      <th>9995</th>\n",
              "      <td>1981</td>\n",
              "      <td>control</td>\n",
              "      <td>0.00</td>\n",
              "    </tr>\n",
              "    <tr>\n",
              "      <th>9996</th>\n",
              "      <td>502</td>\n",
              "      <td>variant</td>\n",
              "      <td>0.00</td>\n",
              "    </tr>\n",
              "    <tr>\n",
              "      <th>9998</th>\n",
              "      <td>7741</td>\n",
              "      <td>control</td>\n",
              "      <td>0.00</td>\n",
              "    </tr>\n",
              "    <tr>\n",
              "      <th>12</th>\n",
              "      <td>7165</td>\n",
              "      <td>control</td>\n",
              "      <td>0.00</td>\n",
              "    </tr>\n",
              "  </tbody>\n",
              "</table>\n",
              "<p>8028 rows × 3 columns</p>\n",
              "</div>"
            ],
            "text/plain": [
              "     user_id variant_name  revenue\n",
              "1437    3342      control   196.01\n",
              "9421    6792      control    41.53\n",
              "8168    2166      control    29.32\n",
              "9125     831      control    25.98\n",
              "2482    7356      variant    23.04\n",
              "...      ...          ...      ...\n",
              "9994    3129      control     0.00\n",
              "9995    1981      control     0.00\n",
              "9996     502      variant     0.00\n",
              "9998    7741      control     0.00\n",
              "12      7165      control     0.00\n",
              "\n",
              "[8028 rows x 3 columns]"
            ]
          },
          "execution_count": 252,
          "metadata": {},
          "output_type": "execute_result"
        }
      ],
      "source": [
        "df.sort_values(by='revenue', ascending=False)"
      ]
    },
    {
      "cell_type": "code",
      "execution_count": 253,
      "metadata": {},
      "outputs": [
        {
          "data": {
            "text/html": [
              "<div>\n",
              "<style scoped>\n",
              "    .dataframe tbody tr th:only-of-type {\n",
              "        vertical-align: middle;\n",
              "    }\n",
              "\n",
              "    .dataframe tbody tr th {\n",
              "        vertical-align: top;\n",
              "    }\n",
              "\n",
              "    .dataframe thead th {\n",
              "        text-align: right;\n",
              "    }\n",
              "</style>\n",
              "<table border=\"1\" class=\"dataframe\">\n",
              "  <thead>\n",
              "    <tr style=\"text-align: right;\">\n",
              "      <th></th>\n",
              "      <th>user_id</th>\n",
              "      <th>variant_name</th>\n",
              "      <th>revenue</th>\n",
              "    </tr>\n",
              "  </thead>\n",
              "  <tbody>\n",
              "    <tr>\n",
              "      <th>1437</th>\n",
              "      <td>3342</td>\n",
              "      <td>control</td>\n",
              "      <td>196.01</td>\n",
              "    </tr>\n",
              "  </tbody>\n",
              "</table>\n",
              "</div>"
            ],
            "text/plain": [
              "     user_id variant_name  revenue\n",
              "1437    3342      control   196.01"
            ]
          },
          "execution_count": 253,
          "metadata": {},
          "output_type": "execute_result"
        }
      ],
      "source": [
        "df[df.user_id == '3342']"
      ]
    },
    {
      "cell_type": "markdown",
      "metadata": {
        "id": "rvfqeZW6kkpN"
      },
      "source": [
        "We see that there is only one outlier - in conditions of limited information, we will remove this entry and look at the distribution of data again"
      ]
    },
    {
      "cell_type": "code",
      "execution_count": 254,
      "metadata": {
        "execution": {
          "iopub.execute_input": "2022-09-16T18:23:23.024763Z",
          "iopub.status.busy": "2022-09-16T18:23:23.024282Z",
          "iopub.status.idle": "2022-09-16T18:23:23.031917Z",
          "shell.execute_reply": "2022-09-16T18:23:23.030566Z",
          "shell.execute_reply.started": "2022-09-16T18:23:23.024711Z"
        },
        "id": "9VHXOhaVkkpO",
        "trusted": true
      },
      "outputs": [
        {
          "data": {
            "image/png": "[encoded data removed]",
            "text/plain": [
              "<Figure size 1000x600 with 1 Axes>"
            ]
          },
          "metadata": {},
          "output_type": "display_data"
        }
      ],
      "source": [
        "df = df[df.user_id != '3342']\n",
        "\n",
        "plt.figure(figsize=(10, 6))\n",
        "# sns.histplot(df.loc[df.revenue > 0, 'revenue'], bins=50)\n",
        "sns.histplot(df['revenue'], bins=50)\n",
        "\n",
        "plt.title('Distribution of Revenue')\n",
        "plt.xlabel('Revenue')\n",
        "plt.ylabel('Count')\n",
        "plt.yscale('log') \n",
        "plt.show()"
      ]
    },
    {
      "cell_type": "markdown",
      "metadata": {
        "id": "r8pN_6oekkpO"
      },
      "source": [
        "\n",
        "What can you say about the users and their purchases ?"
      ]
    },
    {
      "cell_type": "code",
      "execution_count": 313,
      "metadata": {},
      "outputs": [],
      "source": [
        "statistics = [ 'mean', 'median', 'std', 'min', 'max', 'count', 'sum',\n",
        "              lambda x: x.quantile(0.25), lambda x: x.quantile(0.5),\n",
        "              lambda x: x.quantile(0.75), lambda x: x.skew(),\n",
        "              lambda x: x.kurtosis()\n",
        "]\n",
        "\n",
        "statistics_name = ['mean', 'median', 'std', 'min', 'max', 'count', 'sum',\n",
        "                   '25th quantile', '50th quantile', '75th quantile',\n",
        "                   'skewness', 'kurtosis']\n"
      ]
    },
    {
      "cell_type": "code",
      "execution_count": 306,
      "metadata": {
        "execution": {
          "iopub.execute_input": "2022-09-16T18:23:23.397266Z",
          "iopub.status.busy": "2022-09-16T18:23:23.396475Z",
          "iopub.status.idle": "2022-09-16T18:23:23.4091Z",
          "shell.execute_reply": "2022-09-16T18:23:23.407843Z",
          "shell.execute_reply.started": "2022-09-16T18:23:23.397231Z"
        },
        "id": "VZ3v8TeekkpO",
        "trusted": true
      },
      "outputs": [
        {
          "data": {
            "text/html": [
              "<div>\n",
              "<style scoped>\n",
              "    .dataframe tbody tr th:only-of-type {\n",
              "        vertical-align: middle;\n",
              "    }\n",
              "\n",
              "    .dataframe tbody tr th {\n",
              "        vertical-align: top;\n",
              "    }\n",
              "\n",
              "    .dataframe thead th {\n",
              "        text-align: right;\n",
              "    }\n",
              "</style>\n",
              "<table border=\"1\" class=\"dataframe\">\n",
              "  <thead>\n",
              "    <tr style=\"text-align: right;\">\n",
              "      <th></th>\n",
              "      <th>user_id</th>\n",
              "      <th>variant_name</th>\n",
              "      <th>revenue</th>\n",
              "    </tr>\n",
              "  </thead>\n",
              "  <tbody>\n",
              "  </tbody>\n",
              "</table>\n",
              "</div>"
            ],
            "text/plain": [
              "Empty DataFrame\n",
              "Columns: [user_id, variant_name, revenue]\n",
              "Index: []"
            ]
          },
          "execution_count": 306,
          "metadata": {},
          "output_type": "execute_result"
        }
      ],
      "source": [
        "df[df.user_id.isin(df.user_id[df.revenue == 0]) & df.revenue > 0]"
      ]
    },
    {
      "cell_type": "code",
      "execution_count": 321,
      "metadata": {},
      "outputs": [
        {
          "data": {
            "text/html": [
              "<div>\n",
              "<style scoped>\n",
              "    .dataframe tbody tr th:only-of-type {\n",
              "        vertical-align: middle;\n",
              "    }\n",
              "\n",
              "    .dataframe tbody tr th {\n",
              "        vertical-align: top;\n",
              "    }\n",
              "\n",
              "    .dataframe thead th {\n",
              "        text-align: right;\n",
              "    }\n",
              "</style>\n",
              "<table border=\"1\" class=\"dataframe\">\n",
              "  <thead>\n",
              "    <tr style=\"text-align: right;\">\n",
              "      <th></th>\n",
              "      <th>mean</th>\n",
              "      <th>median</th>\n",
              "      <th>std</th>\n",
              "      <th>min</th>\n",
              "      <th>max</th>\n",
              "      <th>count</th>\n",
              "      <th>sum</th>\n",
              "      <th>&lt;lambda&gt;</th>\n",
              "      <th>&lt;lambda&gt;</th>\n",
              "      <th>&lt;lambda&gt;</th>\n",
              "      <th>&lt;lambda&gt;</th>\n",
              "      <th>&lt;lambda&gt;</th>\n",
              "    </tr>\n",
              "  </thead>\n",
              "  <tbody>\n",
              "    <tr>\n",
              "      <th>revenue</th>\n",
              "      <td>0.099053</td>\n",
              "      <td>0.0</td>\n",
              "      <td>1.156008</td>\n",
              "      <td>0.0</td>\n",
              "      <td>41.53</td>\n",
              "      <td>6323.0</td>\n",
              "      <td>626.31</td>\n",
              "      <td>0.0</td>\n",
              "      <td>0.0</td>\n",
              "      <td>0.0</td>\n",
              "      <td>19.200296</td>\n",
              "      <td>472.636946</td>\n",
              "    </tr>\n",
              "  </tbody>\n",
              "</table>\n",
              "</div>"
            ],
            "text/plain": [
              "             mean  median       std  min    max   count     sum  <lambda>  \\\n",
              "revenue  0.099053     0.0  1.156008  0.0  41.53  6323.0  626.31       0.0   \n",
              "\n",
              "         <lambda>  <lambda>   <lambda>    <lambda>  \n",
              "revenue       0.0       0.0  19.200296  472.636946  "
            ]
          },
          "execution_count": 321,
          "metadata": {},
          "output_type": "execute_result"
        }
      ],
      "source": [
        "df[['revenue']].apply(lambda x: x.agg(statistics), axis=0).T"
      ]
    },
    {
      "cell_type": "markdown",
      "metadata": {
        "id": "u_G7PRphkkpO"
      },
      "source": [
        "Can a user have records with both zero and positive revenue ?\n",
        "\n",
        "Let's make the assumption that the records are user visits to the service, and the experimental unit is users.\n"
      ]
    },
    {
      "cell_type": "code",
      "execution_count": 258,
      "metadata": {
        "execution": {
          "iopub.execute_input": "2022-09-16T18:23:23.411317Z",
          "iopub.status.busy": "2022-09-16T18:23:23.410519Z",
          "iopub.status.idle": "2022-09-16T18:23:23.425157Z",
          "shell.execute_reply": "2022-09-16T18:23:23.423982Z",
          "shell.execute_reply.started": "2022-09-16T18:23:23.411275Z"
        },
        "id": "R5GdAtTXkkpP",
        "trusted": true
      },
      "outputs": [
        {
          "data": {
            "text/html": [
              "<div>\n",
              "<style scoped>\n",
              "    .dataframe tbody tr th:only-of-type {\n",
              "        vertical-align: middle;\n",
              "    }\n",
              "\n",
              "    .dataframe tbody tr th {\n",
              "        vertical-align: top;\n",
              "    }\n",
              "\n",
              "    .dataframe thead th {\n",
              "        text-align: right;\n",
              "    }\n",
              "</style>\n",
              "<table border=\"1\" class=\"dataframe\">\n",
              "  <thead>\n",
              "    <tr style=\"text-align: right;\">\n",
              "      <th></th>\n",
              "      <th>user_id</th>\n",
              "      <th>variant_name</th>\n",
              "      <th>revenue</th>\n",
              "    </tr>\n",
              "  </thead>\n",
              "  <tbody>\n",
              "  </tbody>\n",
              "</table>\n",
              "</div>"
            ],
            "text/plain": [
              "Empty DataFrame\n",
              "Columns: [user_id, variant_name, revenue]\n",
              "Index: []"
            ]
          },
          "execution_count": 258,
          "metadata": {},
          "output_type": "execute_result"
        }
      ],
      "source": [
        "df = df.groupby(['user_id', 'variant_name'], as_index=False).sum()\n",
        "df[df.user_id.isin(df.user_id[df.revenue == 0]) & df.revenue > 0]"
      ]
    },
    {
      "cell_type": "code",
      "execution_count": 259,
      "metadata": {},
      "outputs": [
        {
          "name": "stdout",
          "output_type": "stream",
          "text": [
            "Percentage of observations with 0 revenue: 98.09 % (6202)\n"
          ]
        }
      ],
      "source": [
        "print(f'Percentage of observations with 0 revenue: {(df.revenue == 0).mean() * 100:.2f} % ({(df.revenue == 0).sum()})')"
      ]
    },
    {
      "cell_type": "code",
      "execution_count": 260,
      "metadata": {
        "execution": {
          "iopub.execute_input": "2022-09-16T18:23:23.428999Z",
          "iopub.status.busy": "2022-09-16T18:23:23.428689Z",
          "iopub.status.idle": "2022-09-16T18:23:23.783807Z",
          "shell.execute_reply": "2022-09-16T18:23:23.782679Z",
          "shell.execute_reply.started": "2022-09-16T18:23:23.428972Z"
        },
        "id": "Q7H93ZwNkkpP",
        "trusted": true
      },
      "outputs": [
        {
          "data": {
            "image/png": "[encoded data removed]",
            "text/plain": [
              "<Figure size 1000x600 with 1 Axes>"
            ]
          },
          "metadata": {},
          "output_type": "display_data"
        }
      ],
      "source": [
        "plt.figure(figsize=(10, 6))\n",
        "sns.histplot(df['revenue'], bins=50)\n",
        "\n",
        "plt.title('Distribution of Revenue')\n",
        "plt.xlabel('Revenue')\n",
        "plt.ylabel('Count')\n",
        "plt.yscale('log') \n",
        "plt.show()"
      ]
    },
    {
      "cell_type": "markdown",
      "metadata": {
        "id": "_NTyRweHkkpP"
      },
      "source": [
        "It should be noted that during the transformation, the quantiles in the test group increased\n",
        "\n",
        "It can be seen that in the test group, almost all quantile statistics, except for the minimum, are at a slightly lower level.\n",
        "\n",
        "Let's look at various statistics in the context of AB test groups for all users"
      ]
    },
    {
      "cell_type": "code",
      "execution_count": 261,
      "metadata": {},
      "outputs": [
        {
          "data": {
            "text/plain": [
              "variant_name\n",
              "control    3930\n",
              "variant    2393\n",
              "Name: count, dtype: int64"
            ]
          },
          "execution_count": 261,
          "metadata": {},
          "output_type": "execute_result"
        }
      ],
      "source": [
        "df.variant_name.value_counts()"
      ]
    },
    {
      "cell_type": "markdown",
      "metadata": {
        "id": "-FEgWEXckkpP"
      },
      "source": [
        "What can you see in the test group about the total amount of revenue, the average check per user, and the number of orders per user slightly increased ?\n",
        "\n",
        "Let's also see how paying users behave :"
      ]
    },
    {
      "cell_type": "code",
      "execution_count": 308,
      "metadata": {
        "execution": {
          "iopub.execute_input": "2022-09-16T18:23:23.814781Z",
          "iopub.status.busy": "2022-09-16T18:23:23.814201Z",
          "iopub.status.idle": "2022-09-16T18:23:23.842362Z",
          "shell.execute_reply": "2022-09-16T18:23:23.841593Z",
          "shell.execute_reply.started": "2022-09-16T18:23:23.814749Z"
        },
        "id": "ZM1LQ1VrkkpQ",
        "trusted": true
      },
      "outputs": [
        {
          "data": {
            "text/html": [
              "<div>\n",
              "<style scoped>\n",
              "    .dataframe tbody tr th:only-of-type {\n",
              "        vertical-align: middle;\n",
              "    }\n",
              "\n",
              "    .dataframe tbody tr th {\n",
              "        vertical-align: top;\n",
              "    }\n",
              "\n",
              "    .dataframe thead th {\n",
              "        text-align: right;\n",
              "    }\n",
              "</style>\n",
              "<table border=\"1\" class=\"dataframe\">\n",
              "  <thead>\n",
              "    <tr style=\"text-align: right;\">\n",
              "      <th></th>\n",
              "      <th>mean</th>\n",
              "      <th>median</th>\n",
              "      <th>std</th>\n",
              "      <th>min</th>\n",
              "      <th>max</th>\n",
              "      <th>count</th>\n",
              "      <th>sum</th>\n",
              "      <th>25th quantile</th>\n",
              "      <th>50th quantile</th>\n",
              "      <th>75th quantile</th>\n",
              "      <th>skewness</th>\n",
              "      <th>kurtosis</th>\n",
              "    </tr>\n",
              "    <tr>\n",
              "      <th>variant_name</th>\n",
              "      <th></th>\n",
              "      <th></th>\n",
              "      <th></th>\n",
              "      <th></th>\n",
              "      <th></th>\n",
              "      <th></th>\n",
              "      <th></th>\n",
              "      <th></th>\n",
              "      <th></th>\n",
              "      <th></th>\n",
              "      <th></th>\n",
              "      <th></th>\n",
              "    </tr>\n",
              "  </thead>\n",
              "  <tbody>\n",
              "    <tr>\n",
              "      <th>control</th>\n",
              "      <td>0.113738</td>\n",
              "      <td>0.0</td>\n",
              "      <td>1.304342</td>\n",
              "      <td>0.0</td>\n",
              "      <td>41.53</td>\n",
              "      <td>3930</td>\n",
              "      <td>446.99</td>\n",
              "      <td>0.0</td>\n",
              "      <td>0.0</td>\n",
              "      <td>0.0</td>\n",
              "      <td>18.393539</td>\n",
              "      <td>424.731352</td>\n",
              "    </tr>\n",
              "    <tr>\n",
              "      <th>variant</th>\n",
              "      <td>0.074935</td>\n",
              "      <td>0.0</td>\n",
              "      <td>0.858207</td>\n",
              "      <td>0.0</td>\n",
              "      <td>23.04</td>\n",
              "      <td>2393</td>\n",
              "      <td>179.32</td>\n",
              "      <td>0.0</td>\n",
              "      <td>0.0</td>\n",
              "      <td>0.0</td>\n",
              "      <td>17.875768</td>\n",
              "      <td>384.227460</td>\n",
              "    </tr>\n",
              "  </tbody>\n",
              "</table>\n",
              "</div>"
            ],
            "text/plain": [
              "                  mean  median       std  min    max  count     sum  \\\n",
              "variant_name                                                          \n",
              "control       0.113738     0.0  1.304342  0.0  41.53   3930  446.99   \n",
              "variant       0.074935     0.0  0.858207  0.0  23.04   2393  179.32   \n",
              "\n",
              "              25th quantile  50th quantile  75th quantile   skewness  \\\n",
              "variant_name                                                           \n",
              "control                 0.0            0.0            0.0  18.393539   \n",
              "variant                 0.0            0.0            0.0  17.875768   \n",
              "\n",
              "                kurtosis  \n",
              "variant_name              \n",
              "control       424.731352  \n",
              "variant       384.227460  "
            ]
          },
          "execution_count": 308,
          "metadata": {},
          "output_type": "execute_result"
        }
      ],
      "source": [
        "\n",
        "get_df_stat(df.groupby('variant_name')['revenue'])"
      ]
    },
    {
      "cell_type": "markdown",
      "metadata": {
        "id": "RozYt1eZkkpQ"
      },
      "source": [
        "Let's look at the distributions of all and only paying users"
      ]
    },
    {
      "cell_type": "code",
      "execution_count": 264,
      "metadata": {
        "execution": {
          "iopub.execute_input": "2022-09-16T18:23:23.844477Z",
          "iopub.status.busy": "2022-09-16T18:23:23.843826Z",
          "iopub.status.idle": "2022-09-16T18:23:24.587221Z",
          "shell.execute_reply": "2022-09-16T18:23:24.585887Z",
          "shell.execute_reply.started": "2022-09-16T18:23:23.844435Z"
        },
        "id": "Xmm-HM-ZkkpQ",
        "trusted": true
      },
      "outputs": [
        {
          "ename": "KeyError",
          "evalue": "'VARIANT_NAME'",
          "output_type": "error",
          "traceback": [
            "\u001b[1;31m---------------------------------------------------------------------------\u001b[0m",
            "\u001b[1;31mKeyError\u001b[0m                                  Traceback (most recent call last)",
            "File \u001b[1;32mc:\\Users\\Vlad\\developers_institute\\practice\\di_venv\\Lib\\site-packages\\pandas\\core\\indexes\\base.py:3805\u001b[0m, in \u001b[0;36mIndex.get_loc\u001b[1;34m(self, key)\u001b[0m\n\u001b[0;32m   3804\u001b[0m \u001b[38;5;28;01mtry\u001b[39;00m:\n\u001b[1;32m-> 3805\u001b[0m     \u001b[38;5;28;01mreturn\u001b[39;00m \u001b[38;5;28;43mself\u001b[39;49m\u001b[38;5;241;43m.\u001b[39;49m\u001b[43m_engine\u001b[49m\u001b[38;5;241;43m.\u001b[39;49m\u001b[43mget_loc\u001b[49m\u001b[43m(\u001b[49m\u001b[43mcasted_key\u001b[49m\u001b[43m)\u001b[49m\n\u001b[0;32m   3806\u001b[0m \u001b[38;5;28;01mexcept\u001b[39;00m \u001b[38;5;167;01mKeyError\u001b[39;00m \u001b[38;5;28;01mas\u001b[39;00m err:\n",
            "File \u001b[1;32mindex.pyx:167\u001b[0m, in \u001b[0;36mpandas._libs.index.IndexEngine.get_loc\u001b[1;34m()\u001b[0m\n",
            "File \u001b[1;32mindex.pyx:196\u001b[0m, in \u001b[0;36mpandas._libs.index.IndexEngine.get_loc\u001b[1;34m()\u001b[0m\n",
            "File \u001b[1;32mpandas\\\\_libs\\\\hashtable_class_helper.pxi:7081\u001b[0m, in \u001b[0;36mpandas._libs.hashtable.PyObjectHashTable.get_item\u001b[1;34m()\u001b[0m\n",
            "File \u001b[1;32mpandas\\\\_libs\\\\hashtable_class_helper.pxi:7089\u001b[0m, in \u001b[0;36mpandas._libs.hashtable.PyObjectHashTable.get_item\u001b[1;34m()\u001b[0m\n",
            "\u001b[1;31mKeyError\u001b[0m: 'VARIANT_NAME'",
            "\nThe above exception was the direct cause of the following exception:\n",
            "\u001b[1;31mKeyError\u001b[0m                                  Traceback (most recent call last)",
            "Cell \u001b[1;32mIn[264], line 3\u001b[0m\n\u001b[0;32m      1\u001b[0m f, axes \u001b[38;5;241m=\u001b[39m plt\u001b[38;5;241m.\u001b[39msubplots(\u001b[38;5;241m2\u001b[39m, figsize\u001b[38;5;241m=\u001b[39m(\u001b[38;5;241m10\u001b[39m,\u001b[38;5;241m8\u001b[39m))\n\u001b[0;32m      2\u001b[0m \u001b[38;5;66;03m# build graphs of distributions of all users\u001b[39;00m\n\u001b[1;32m----> 3\u001b[0m sns\u001b[38;5;241m.\u001b[39mdistplot(df\u001b[38;5;241m.\u001b[39mloc[\u001b[43mdf\u001b[49m\u001b[43m[\u001b[49m\u001b[38;5;124;43m'\u001b[39;49m\u001b[38;5;124;43mVARIANT_NAME\u001b[39;49m\u001b[38;5;124;43m'\u001b[39;49m\u001b[43m]\u001b[49m \u001b[38;5;241m==\u001b[39m \u001b[38;5;124m'\u001b[39m\u001b[38;5;124mcontrol\u001b[39m\u001b[38;5;124m'\u001b[39m, \u001b[38;5;124m'\u001b[39m\u001b[38;5;124mREVENUE\u001b[39m\u001b[38;5;124m'\u001b[39m], ax \u001b[38;5;241m=\u001b[39m axes[\u001b[38;5;241m0\u001b[39m], label\u001b[38;5;241m=\u001b[39m\u001b[38;5;124m'\u001b[39m\u001b[38;5;124mcontrol\u001b[39m\u001b[38;5;124m'\u001b[39m)\n\u001b[0;32m      4\u001b[0m sns\u001b[38;5;241m.\u001b[39mdistplot(df\u001b[38;5;241m.\u001b[39mloc[df[\u001b[38;5;124m'\u001b[39m\u001b[38;5;124mVARIANT_NAME\u001b[39m\u001b[38;5;124m'\u001b[39m] \u001b[38;5;241m==\u001b[39m \u001b[38;5;124m'\u001b[39m\u001b[38;5;124mvariant\u001b[39m\u001b[38;5;124m'\u001b[39m, \u001b[38;5;124m'\u001b[39m\u001b[38;5;124mREVENUE\u001b[39m\u001b[38;5;124m'\u001b[39m], ax \u001b[38;5;241m=\u001b[39m axes[\u001b[38;5;241m0\u001b[39m], label\u001b[38;5;241m=\u001b[39m\u001b[38;5;124m'\u001b[39m\u001b[38;5;124mvariant\u001b[39m\u001b[38;5;124m'\u001b[39m)\n\u001b[0;32m      5\u001b[0m axes[\u001b[38;5;241m0\u001b[39m]\u001b[38;5;241m.\u001b[39mset_title(\u001b[38;5;124m'\u001b[39m\u001b[38;5;124mDistribution of revenue of all users\u001b[39m\u001b[38;5;124m'\u001b[39m)\n",
            "File \u001b[1;32mc:\\Users\\Vlad\\developers_institute\\practice\\di_venv\\Lib\\site-packages\\pandas\\core\\frame.py:4102\u001b[0m, in \u001b[0;36mDataFrame.__getitem__\u001b[1;34m(self, key)\u001b[0m\n\u001b[0;32m   4100\u001b[0m \u001b[38;5;28;01mif\u001b[39;00m \u001b[38;5;28mself\u001b[39m\u001b[38;5;241m.\u001b[39mcolumns\u001b[38;5;241m.\u001b[39mnlevels \u001b[38;5;241m>\u001b[39m \u001b[38;5;241m1\u001b[39m:\n\u001b[0;32m   4101\u001b[0m     \u001b[38;5;28;01mreturn\u001b[39;00m \u001b[38;5;28mself\u001b[39m\u001b[38;5;241m.\u001b[39m_getitem_multilevel(key)\n\u001b[1;32m-> 4102\u001b[0m indexer \u001b[38;5;241m=\u001b[39m \u001b[38;5;28;43mself\u001b[39;49m\u001b[38;5;241;43m.\u001b[39;49m\u001b[43mcolumns\u001b[49m\u001b[38;5;241;43m.\u001b[39;49m\u001b[43mget_loc\u001b[49m\u001b[43m(\u001b[49m\u001b[43mkey\u001b[49m\u001b[43m)\u001b[49m\n\u001b[0;32m   4103\u001b[0m \u001b[38;5;28;01mif\u001b[39;00m is_integer(indexer):\n\u001b[0;32m   4104\u001b[0m     indexer \u001b[38;5;241m=\u001b[39m [indexer]\n",
            "File \u001b[1;32mc:\\Users\\Vlad\\developers_institute\\practice\\di_venv\\Lib\\site-packages\\pandas\\core\\indexes\\base.py:3812\u001b[0m, in \u001b[0;36mIndex.get_loc\u001b[1;34m(self, key)\u001b[0m\n\u001b[0;32m   3807\u001b[0m     \u001b[38;5;28;01mif\u001b[39;00m \u001b[38;5;28misinstance\u001b[39m(casted_key, \u001b[38;5;28mslice\u001b[39m) \u001b[38;5;129;01mor\u001b[39;00m (\n\u001b[0;32m   3808\u001b[0m         \u001b[38;5;28misinstance\u001b[39m(casted_key, abc\u001b[38;5;241m.\u001b[39mIterable)\n\u001b[0;32m   3809\u001b[0m         \u001b[38;5;129;01mand\u001b[39;00m \u001b[38;5;28many\u001b[39m(\u001b[38;5;28misinstance\u001b[39m(x, \u001b[38;5;28mslice\u001b[39m) \u001b[38;5;28;01mfor\u001b[39;00m x \u001b[38;5;129;01min\u001b[39;00m casted_key)\n\u001b[0;32m   3810\u001b[0m     ):\n\u001b[0;32m   3811\u001b[0m         \u001b[38;5;28;01mraise\u001b[39;00m InvalidIndexError(key)\n\u001b[1;32m-> 3812\u001b[0m     \u001b[38;5;28;01mraise\u001b[39;00m \u001b[38;5;167;01mKeyError\u001b[39;00m(key) \u001b[38;5;28;01mfrom\u001b[39;00m \u001b[38;5;21;01merr\u001b[39;00m\n\u001b[0;32m   3813\u001b[0m \u001b[38;5;28;01mexcept\u001b[39;00m \u001b[38;5;167;01mTypeError\u001b[39;00m:\n\u001b[0;32m   3814\u001b[0m     \u001b[38;5;66;03m# If we have a listlike key, _check_indexing_error will raise\u001b[39;00m\n\u001b[0;32m   3815\u001b[0m     \u001b[38;5;66;03m#  InvalidIndexError. Otherwise we fall through and re-raise\u001b[39;00m\n\u001b[0;32m   3816\u001b[0m     \u001b[38;5;66;03m#  the TypeError.\u001b[39;00m\n\u001b[0;32m   3817\u001b[0m     \u001b[38;5;28mself\u001b[39m\u001b[38;5;241m.\u001b[39m_check_indexing_error(key)\n",
            "\u001b[1;31mKeyError\u001b[0m: 'VARIANT_NAME'"
          ]
        },
        {
          "data": {
            "image/png": "[encoded data removed]",
            "text/plain": [
              "<Figure size 1000x800 with 2 Axes>"
            ]
          },
          "metadata": {},
          "output_type": "display_data"
        }
      ],
      "source": [
        "f, axes = plt.subplots(2, figsize=(10,8))\n",
        "# build graphs of distributions of all users\n",
        "sns.distplot(df.loc[df['VARIANT_NAME'] == 'control', 'REVENUE'], ax = axes[0], label='control')\n",
        "sns.distplot(df.loc[df['VARIANT_NAME'] == 'variant', 'REVENUE'], ax = axes[0], label='variant')\n",
        "axes[0].set_title('Distribution of revenue of all users')\n",
        "\n",
        "# build graphs of distributions of paying users\n",
        "sns.distplot(df.loc[(df['VARIANT_NAME'] == 'control') & (df['REVENUE'] > 0), 'REVENUE'], ax = axes[1], label='control' )\n",
        "sns.distplot(df.loc[(df['VARIANT_NAME'] == 'variant') & (df['REVENUE'] > 0), 'REVENUE'], ax = axes[1], label='variant' )\n",
        "axes[1].set_title('Paying user revenue distribution')\n",
        "plt.legend()\n",
        "plt.subplots_adjust(hspace = 0.3)"
      ]
    },
    {
      "cell_type": "markdown",
      "metadata": {
        "id": "5vwsQSeVkkpQ"
      },
      "source": [
        "### Statistical Analysis <a name=\"Statistical\"/>"
      ]
    },
    {
      "cell_type": "markdown",
      "metadata": {
        "id": "lJP78Hc_kkpQ"
      },
      "source": [
        "#### Checking if the distribution is normal"
      ]
    },
    {
      "cell_type": "markdown",
      "metadata": {
        "id": "BVRKdz3WkkpQ"
      },
      "source": [
        "Based on their previous graph, we see that the data is not normally distributed."
      ]
    },
    {
      "cell_type": "code",
      "execution_count": null,
      "metadata": {
        "execution": {
          "iopub.execute_input": "2022-09-16T18:23:24.589024Z",
          "iopub.status.busy": "2022-09-16T18:23:24.588685Z",
          "iopub.status.idle": "2022-09-16T18:23:24.597871Z",
          "shell.execute_reply": "2022-09-16T18:23:24.596794Z",
          "shell.execute_reply.started": "2022-09-16T18:23:24.588995Z"
        },
        "id": "je2NXscMkkpQ",
        "trusted": true
      },
      "outputs": [],
      "source": [
        "# TODO : Use the Shapiro-Wilk criterion to confirm it"
      ]
    },
    {
      "cell_type": "markdown",
      "metadata": {
        "id": "Pq-RbAERkkpR"
      },
      "source": [
        "Is the null hypothesis about the normal distribution of the data rejected ?"
      ]
    },
    {
      "cell_type": "markdown",
      "metadata": {
        "id": "nYxHXTxpkkpR"
      },
      "source": [
        "#### Mann-Whitney test"
      ]
    },
    {
      "cell_type": "markdown",
      "metadata": {
        "id": "eGKBrlFnkkpR"
      },
      "source": [
        "Let's check the value of the statistics of the Mann-Whitney test. Some sources have a limitation of applicability in case of duplicate data. There are a lot of repetitions in our sample, and especially a lot of zero values, so in this case we need to be careful about this criterion."
      ]
    },
    {
      "cell_type": "code",
      "execution_count": null,
      "metadata": {
        "execution": {
          "iopub.execute_input": "2022-09-16T18:23:24.600052Z",
          "iopub.status.busy": "2022-09-16T18:23:24.599408Z",
          "iopub.status.idle": "2022-09-16T18:23:24.609697Z",
          "shell.execute_reply": "2022-09-16T18:23:24.608442Z",
          "shell.execute_reply.started": "2022-09-16T18:23:24.600019Z"
        },
        "id": "ftj_LlaZkkpR",
        "trusted": true
      },
      "outputs": [],
      "source": [
        "(df['REVENUE'] == 0).value_counts()"
      ]
    },
    {
      "cell_type": "code",
      "execution_count": null,
      "metadata": {
        "execution": {
          "iopub.execute_input": "2022-09-16T18:23:24.611478Z",
          "iopub.status.busy": "2022-09-16T18:23:24.611079Z",
          "iopub.status.idle": "2022-09-16T18:23:24.627499Z",
          "shell.execute_reply": "2022-09-16T18:23:24.626266Z",
          "shell.execute_reply.started": "2022-09-16T18:23:24.611448Z"
        },
        "id": "liLsCl00kkpR",
        "trusted": true
      },
      "outputs": [],
      "source": [
        "# TODO : Check on the data of all users the value of the statistics of the Mann-Whitney test"
      ]
    },
    {
      "cell_type": "code",
      "execution_count": null,
      "metadata": {
        "execution": {
          "iopub.execute_input": "2022-09-16T18:23:24.632496Z",
          "iopub.status.busy": "2022-09-16T18:23:24.632144Z",
          "iopub.status.idle": "2022-09-16T18:23:24.644752Z",
          "shell.execute_reply": "2022-09-16T18:23:24.643569Z",
          "shell.execute_reply.started": "2022-09-16T18:23:24.632466Z"
        },
        "id": "tCCcVEM4kkpS",
        "trusted": true
      },
      "outputs": [],
      "source": [
        "# TODO : Check on the data of only the users that pay, the value of the statistics of the Mann-Whitney test"
      ]
    },
    {
      "cell_type": "markdown",
      "metadata": {
        "execution": {
          "iopub.execute_input": "2022-09-16T17:49:10.365079Z",
          "iopub.status.busy": "2022-09-16T17:49:10.3638Z",
          "iopub.status.idle": "2022-09-16T17:49:10.369587Z",
          "shell.execute_reply": "2022-09-16T17:49:10.368719Z",
          "shell.execute_reply.started": "2022-09-16T17:49:10.365037Z"
        },
        "id": "XBp259a8kkpS"
      },
      "source": [
        "#### Bootstrap"
      ]
    },
    {
      "cell_type": "markdown",
      "metadata": {
        "id": "0xpO-CmekkpS"
      },
      "source": [
        "In order to get more complete information about the differences between the average values of the ab test groups, we will use bootstap.\n",
        "\n",
        "Let's create a function to get back samples and get a confidence interval, and then look at the sample statistics"
      ]
    },
    {
      "cell_type": "code",
      "execution_count": null,
      "metadata": {
        "execution": {
          "iopub.execute_input": "2022-09-16T18:23:24.646134Z",
          "iopub.status.busy": "2022-09-16T18:23:24.645844Z",
          "iopub.status.idle": "2022-09-16T18:23:24.653955Z",
          "shell.execute_reply": "2022-09-16T18:23:24.652612Z",
          "shell.execute_reply.started": "2022-09-16T18:23:24.646108Z"
        },
        "id": "3yLh1toVkkpS",
        "trusted": true
      },
      "outputs": [],
      "source": [
        "def get_bootstrap_samples(data, n_samples=1000):\n",
        "    indices = np.random.randint(0, len(data), (n_samples, len(data)))\n",
        "    samples = data[indices]\n",
        "    return samples\n",
        "\n",
        "def stat_intervals(stat, alpha=0.05):\n",
        "    boundaries = np.percentile(stat, [100 * alpha / 2., 100 * (1 - alpha / 2.)])\n",
        "    return boundaries"
      ]
    },
    {
      "cell_type": "code",
      "execution_count": null,
      "metadata": {
        "execution": {
          "iopub.execute_input": "2022-09-16T18:23:24.656775Z",
          "iopub.status.busy": "2022-09-16T18:23:24.656318Z",
          "iopub.status.idle": "2022-09-16T18:23:25.935543Z",
          "shell.execute_reply": "2022-09-16T18:23:25.934505Z",
          "shell.execute_reply.started": "2022-09-16T18:23:24.656733Z"
        },
        "id": "vAgJqb7lkkpS",
        "trusted": true
      },
      "outputs": [],
      "source": [
        "# TODO : Generate samples for all users"
      ]
    },
    {
      "cell_type": "code",
      "execution_count": null,
      "metadata": {
        "execution": {
          "iopub.execute_input": "2022-09-16T18:23:25.937087Z",
          "iopub.status.busy": "2022-09-16T18:23:25.936759Z",
          "iopub.status.idle": "2022-09-16T18:23:25.964331Z",
          "shell.execute_reply": "2022-09-16T18:23:25.96321Z",
          "shell.execute_reply.started": "2022-09-16T18:23:25.937057Z"
        },
        "id": "pwXNe9H4kkpS",
        "trusted": true
      },
      "outputs": [],
      "source": [
        "# TODO : Generate samples for only paying users"
      ]
    },
    {
      "cell_type": "markdown",
      "metadata": {
        "id": "7OsUPGxnkkpT"
      },
      "source": [
        "Let's look at the distribution of means in the ab test groups"
      ]
    },
    {
      "cell_type": "code",
      "execution_count": null,
      "metadata": {
        "execution": {
          "iopub.execute_input": "2022-09-16T18:23:25.96576Z",
          "iopub.status.busy": "2022-09-16T18:23:25.965453Z",
          "iopub.status.idle": "2022-09-16T18:23:26.299852Z",
          "shell.execute_reply": "2022-09-16T18:23:26.298725Z",
          "shell.execute_reply.started": "2022-09-16T18:23:25.965732Z"
        },
        "id": "CvNnX2ALkkpT",
        "trusted": true
      },
      "outputs": [],
      "source": [
        "f, ax = plt.subplots()\n",
        "# plt.figure(figsize=(20,5))\n",
        "sns.kdeplot(np.mean(control, axis=1), shade=True, label='control')\n",
        "sns.kdeplot(np.mean(variant, axis=1), shade=True, label='variant')\n",
        "plt.title('Sample mean distribution for all users')"
      ]
    },
    {
      "cell_type": "code",
      "execution_count": null,
      "metadata": {
        "execution": {
          "iopub.execute_input": "2022-09-16T18:23:26.301641Z",
          "iopub.status.busy": "2022-09-16T18:23:26.301272Z",
          "iopub.status.idle": "2022-09-16T18:23:26.62483Z",
          "shell.execute_reply": "2022-09-16T18:23:26.623431Z",
          "shell.execute_reply.started": "2022-09-16T18:23:26.301609Z"
        },
        "id": "v4_qUms4kkpT",
        "trusted": true
      },
      "outputs": [],
      "source": [
        "f, ax = plt.subplots()\n",
        "# plt.figure(figsize=(20,5))\n",
        "sns.kdeplot(np.mean(control_paid, axis=1), shade=True, label='control')\n",
        "sns.kdeplot(np.mean(variant_paid, axis=1), shade=True, label='variant')\n",
        "plt.title('Sample mean distribution for paying users')"
      ]
    },
    {
      "cell_type": "markdown",
      "metadata": {
        "id": "8MXUz0CEkkpT"
      },
      "source": [
        "Do you see any difference ? What about the confidence intervals ? Conclude.\n",
        "\n",
        "Let's evaluate the difference between the groups: look at the distribution of the mean difference and build confidence intervals for it. To do this, we will create a function for visualization"
      ]
    },
    {
      "cell_type": "code",
      "execution_count": null,
      "metadata": {
        "execution": {
          "iopub.execute_input": "2022-09-16T18:23:26.628052Z",
          "iopub.status.busy": "2022-09-16T18:23:26.62643Z",
          "iopub.status.idle": "2022-09-16T18:23:26.639469Z",
          "shell.execute_reply": "2022-09-16T18:23:26.638694Z",
          "shell.execute_reply.started": "2022-09-16T18:23:26.628017Z"
        },
        "id": "bBIz3jkCkkpT",
        "trusted": true
      },
      "outputs": [],
      "source": [
        "def plot_distribution_and_stat_intervals(variant, control, title, alpha=0.05):\n",
        "    \"\"\" Plot the distribution of the mean difference and return the confidence intervals \"\"\"\n",
        "    f, ax = plt.subplots()\n",
        "    # get data for coloring confidence intervals\n",
        "    points = sns.kdeplot(variant - control, shade=True).get_lines()[0].get_data()\n",
        "    x = points[0]\n",
        "    y = points[1]\n",
        "    ymin, ymax = plt.ylim()\n",
        "    # highlight the zero value and the bounds of the confidence interval\n",
        "    plt.vlines(0, 0, ymax, label='0', color='gray')\n",
        "    plt.vlines(stat_intervals(variant - control, alpha)[0], 0, ymax, linestyles=\"dashed\")\n",
        "    plt.vlines(stat_intervals(variant - control, alpha)[1], 0, ymax, linestyles=\"dashed\")\n",
        "    # color the confidence interval and zones outside it\n",
        "    plt.fill_between(x,y,\n",
        "                     where = (x >= stat_intervals(variant - control, alpha)[1]),\n",
        "                     color='gainsboro')\n",
        "    plt.fill_between(x,y,\n",
        "                     where = (x <= stat_intervals(variant - control, alpha)[0]),\n",
        "                     color='gainsboro')\n",
        "    plt.fill_between(x,y,\n",
        "                     where = ((x >= stat_intervals(variant - control, alpha)[0])\n",
        "                              & (x <= stat_intervals(variant - control, alpha)[1])),\n",
        "                     color='red',\n",
        "                     label = '95% confidence interval')\n",
        "    plt.title(f'Distribution of difference between means (variant - control) {title}; {100*(1-alpha)}% Confidence interval for difference of means: {stat_intervals(variant - control, alpha)}')\n",
        "    plt.legend(prop={'size':13})\n",
        "    # return confidence interval data\n",
        "    return stat_intervals(variant - control)"
      ]
    },
    {
      "cell_type": "markdown",
      "metadata": {
        "id": "ZIUmqXtHkkpT"
      },
      "source": [
        "Let's build a graph of the distribution of the difference in the means and get a confidence interval\n",
        "\n",
        "For all users"
      ]
    },
    {
      "cell_type": "code",
      "execution_count": null,
      "metadata": {
        "execution": {
          "iopub.execute_input": "2022-09-16T18:23:26.641004Z",
          "iopub.status.busy": "2022-09-16T18:23:26.640692Z",
          "iopub.status.idle": "2022-09-16T18:23:26.655336Z",
          "shell.execute_reply": "2022-09-16T18:23:26.654163Z",
          "shell.execute_reply.started": "2022-09-16T18:23:26.640977Z"
        },
        "id": "eQq8UewNkkpT",
        "trusted": true
      },
      "outputs": [],
      "source": [
        "plot_distribution_and_stat_intervals(np.mean(variant, axis=1),\n",
        "                                     np.mean(control, axis=1),\n",
        "                                     title='all users')"
      ]
    },
    {
      "cell_type": "code",
      "execution_count": null,
      "metadata": {
        "execution": {
          "iopub.execute_input": "2022-09-16T18:23:26.657231Z",
          "iopub.status.busy": "2022-09-16T18:23:26.656914Z",
          "iopub.status.idle": "2022-09-16T18:23:26.666176Z",
          "shell.execute_reply": "2022-09-16T18:23:26.664922Z",
          "shell.execute_reply.started": "2022-09-16T18:23:26.65719Z"
        },
        "id": "mOb8VkPAkkpT",
        "trusted": true
      },
      "outputs": [],
      "source": [
        "plot_distribution_and_stat_intervals(np.mean(variant_paid, axis=1),\n",
        "                                     np.mean(control_paid, axis=1),\n",
        "                                     title='paying users')"
      ]
    },
    {
      "cell_type": "markdown",
      "metadata": {
        "id": "5KFSGNjOkkpU"
      },
      "source": [
        "What can you observe ? Conclude about the statistical change in average revenue between A/B test groups.\n"
      ]
    }
  ],
  "metadata": {
    "colab": {
      "provenance": []
    },
    "kaggle": {
      "accelerator": "none",
      "dataSources": [
        {
          "datasetId": 2479030,
          "sourceId": 4213024,
          "sourceType": "datasetVersion"
        }
      ],
      "dockerImageVersionId": 30235,
      "isGpuEnabled": false,
      "isInternetEnabled": false,
      "language": "python",
      "sourceType": "notebook"
    },
    "kernelspec": {
      "display_name": "Python 3",
      "language": "python",
      "name": "python3"
    },
    "language_info": {
      "codemirror_mode": {
        "name": "ipython",
        "version": 3
      },
      "file_extension": ".py",
      "mimetype": "text/x-python",
      "name": "python",
      "nbconvert_exporter": "python",
      "pygments_lexer": "ipython3",
      "version": "3.12.3"
    }
  },
  "nbformat": 4,
  "nbformat_minor": 0
}
